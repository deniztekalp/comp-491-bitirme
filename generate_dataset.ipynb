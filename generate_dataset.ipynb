{
 "cells": [
  {
   "cell_type": "code",
   "execution_count": 1,
   "metadata": {},
   "outputs": [],
   "source": [
    "using Knet, Images, Colors"
   ]
  },
  {
   "cell_type": "code",
   "execution_count": 2,
   "metadata": {},
   "outputs": [
    {
     "data": {
      "text/plain": [
       "w2i (generic function with 1 method)"
      ]
     },
     "execution_count": 2,
     "metadata": {},
     "output_type": "execute_result"
    }
   ],
   "source": [
    "wdict = Knet.load(\"dictionary.jld2\", \"dict\")\n",
    "UNK = wdict[\"<unk>\"]\n",
    "w2i(x) = get(wdict, x, UNK)"
   ]
  },
  {
   "cell_type": "code",
   "execution_count": 3,
   "metadata": {},
   "outputs": [
    {
     "data": {
      "text/plain": [
       "\"11532-element Array{Tuple{NTuple{4,Array{Normed{UInt8,8},3}},String},1}\""
      ]
     },
     "execution_count": 3,
     "metadata": {},
     "output_type": "execute_result"
    }
   ],
   "source": [
    "dataset4 = Knet.load(\"4dataset_total.jld2\", \"dataset\")\n",
    "summary(dataset4)"
   ]
  },
  {
   "cell_type": "code",
   "execution_count": 4,
   "metadata": {},
   "outputs": [
    {
     "ename": "UndefVarError",
     "evalue": "UndefVarError: images4 not defined",
     "output_type": "error",
     "traceback": [
      "UndefVarError: images4 not defined",
      "",
      "Stacktrace:",
      " [1] top-level scope at In[4]:1"
     ]
    }
   ],
   "source": [
    "summary(images4)"
   ]
  },
  {
   "cell_type": "code",
   "execution_count": 3,
   "metadata": {},
   "outputs": [
    {
     "data": {
      "text/plain": [
       "0-element Array{Any,1}"
      ]
     },
     "execution_count": 3,
     "metadata": {},
     "output_type": "execute_result"
    }
   ],
   "source": [
    "images4 = []\n",
    "images2 = []\n",
    "images1 = []\n",
    "labels = []"
   ]
  },
  {
   "cell_type": "code",
   "execution_count": 4,
   "metadata": {},
   "outputs": [
    {
     "data": {
      "text/plain": [
       "35-element Array{Any,1}:\n",
       " [3, 4, 5, 6, 3, 4, 5, 6]      \n",
       " [3, 4, 5, 6, 3, 4, 5, 6]      \n",
       " [12, 15, 5, 22, 21, 17, 5, 18]\n",
       " [24, 15, 5, 25, 24, 15, 5, 25]\n",
       " [3, 4, 5, 6, 3, 4, 5, 6]      \n",
       " [12, 15, 5, 19, 17, 5, 18, 19]\n",
       " [12, 15, 5, 19, 17, 5, 18, 19]\n",
       " [12, 15, 5, 19, 17, 5, 18, 19]\n",
       " [12, 15, 5, 20, 21, 17, 5, 18]\n",
       " [12, 15, 5, 20, 21, 17, 5, 18]\n",
       " [3, 4, 5, 6, 3, 4, 5, 6]      \n",
       " [3, 4, 5, 6, 3, 4, 5, 6]      \n",
       " [12, 15, 5, 22, 21, 17, 5, 18]\n",
       " ⋮                             \n",
       " [3, 7, 5, 6, 3, 7, 5, 6]      \n",
       " [8, 5, 9, 8, 5, 9, 8, 9]      \n",
       " [3, 4, 5, 6, 3, 4, 5, 6]      \n",
       " [3, 4, 5, 6, 3, 4, 5, 6]      \n",
       " [12, 15, 5, 19, 17, 5, 18, 19]\n",
       " [12, 15, 5, 19, 17, 5, 18, 19]\n",
       " [12, 15, 5, 22, 21, 17, 5, 18]\n",
       " [12, 15, 5, 22, 21, 17, 5, 18]\n",
       " [3, 7, 5, 6, 3, 7, 5, 6]      \n",
       " [3, 7, 5, 6, 3, 7, 5, 6]      \n",
       " [24, 15, 5, 25, 24, 15, 5, 25]\n",
       " [24, 15, 5, 25, 24, 15, 5, 25]"
      ]
     },
     "execution_count": 4,
     "metadata": {},
     "output_type": "execute_result"
    }
   ],
   "source": [
    "sentence1 = w2i.(split(\"Climb down the ladder Climb down the ladder\"))\n",
    "    sentence2 = w2i.(split(\"Climb down the ladder Climb down the ladder\"))\n",
    "    sentence3 = w2i.(split(\"Go to the right side of the room\"))\n",
    "    sentence4 = w2i.(split(\"Jump to the rope Jump to the rope\"))\n",
    "    sentence5 = w2i.(split(\"Climb down the ladder Climb down the ladder\"))\n",
    "    sentence6 = w2i.(split(\"Climb down the ladder Climb down the ladder\"))\n",
    "    sentence6 = w2i.(split(\"Go to the center of the room center\"))\n",
    "    sentence7 = w2i.(split(\"Go to the center of the room center\"))\n",
    "    sentence8 = w2i.(split(\"Go to the center of the room center\"))\n",
    "    sentence9 = w2i.(split(\"Go to the left side of the room \"))\n",
    "    sentence10 = w2i.(split(\"Go to the left side of the room \"))\n",
    "    \n",
    "    \n",
    "    \n",
    "\n",
    "    sentence11 = w2i.(split(\"Climb up the ladder Climb up the ladder\"))\n",
    "    sentence12 = w2i.(split(\"Climb up the ladder Climb up the ladder\"))\n",
    "    sentence13 = w2i.(split(\"Get the key Get the key Get key\"))\n",
    "    sentence14 = w2i.(split(\"Climb down the ladder Climb down the ladder\"))\n",
    "    sentence15 = w2i.(split(\"Climb down the ladder Climb down the ladder\"))\n",
    "    sentence16 = w2i.(split(\"Go to the center of the room center\"))\n",
    "    sentence17 = w2i.(split(\"Go to the center of the room center\"))\n",
    "    sentence18 = w2i.(split(\"Go to the right side of the room\"))\n",
    "    sentence19 = w2i.(split(\"Go to the right side of the room\"))\n",
    "    sentence20 = w2i.(split(\"Climb up the ladder Climb up the ladder\"))\n",
    "    sentence21 = w2i.(split(\"Climb up the ladder Climb up the ladder\"))\n",
    "    sentence22 = w2i.(split(\"Jump to the rope Jump to the rope\"))\n",
    "    sentence23 = w2i.(split(\"Jump to the rope Jump to the rope\"))\n",
    "    sentence24 = w2i.(split(\"Go to the left side of the room\"))\n",
    "    sentence25 = w2i.(split(\"Go to the left side of the room\"))\n",
    "    \n",
    "    \n",
    "    dont_do_sentence = w2i.(split(\"Jump in place Jump in place Jump place\"))\n",
    "    dont_do_sentence2 = w2i.(split(\"Fall down Fall down Fall down Fall down\"))\n",
    "    \n",
    "    sentences = []\n",
    "    push!(sentences, sentence1, sentence2, sentence3, sentence4, sentence5, sentence6, sentence7, sentence8, sentence9, sentence10,sentence1, sentence2, sentence3, sentence4, sentence5, sentence6, sentence7, sentence8, sentence9, sentence10, sentence24, sentence25, sentence11, sentence12, sentence13, sentence14, sentence15, sentence16, sentence17, sentence18, sentence19, sentence20, sentence21, sentence22, sentence23)\n"
   ]
  },
  {
   "cell_type": "code",
   "execution_count": null,
   "metadata": {},
   "outputs": [
    {
     "name": "stdout",
     "output_type": "stream",
     "text": [
      "2187\n"
     ]
    }
   ],
   "source": [
    "i=1\n",
    "for data in dataset4\n",
    "#     data = dataset4[i]\n",
    "    IJulia.clear_output(true)\n",
    "    (f1,f2, f3, f4), sent = data\n",
    "#     f1 = Float32.(Gray.(colorview(RGB, permutedims(f1, (3,1,2)))))\n",
    "#     f2 = Float32.(Gray.(colorview(RGB, permutedims(f2, (3,1,2)))))\n",
    "    f3 = Float32.(Gray.(colorview(RGB, permutedims(f3, (3,1,2)))))\n",
    "    f4 = Float32.(Gray.(colorview(RGB, permutedims(f4, (3,1,2)))))\n",
    "#     four_frames = cat(f1, f2, f3, f4; dims=3)\n",
    "    both_frames = cat(f3, f4; dims=3)\n",
    "#     last_frame = f4\n",
    "    wordids = w2i.(split(sent))\n",
    "    push!(labels, wordids)\n",
    "#     push!(images4,four_frames)\n",
    "    push!(images2,both_frames)\n",
    "#     push!(images1,last_frame)\n",
    "    println(i)\n",
    "    i+=1\n",
    "end"
   ]
  },
  {
   "cell_type": "code",
   "execution_count": null,
   "metadata": {},
   "outputs": [],
   "source": [
    "for data in dataset4\n",
    "    IJulia.clear_output(true)\n",
    "    (f1,f2,f3,f4) = data\n",
    "    f3 = Float32.(Gray.(colorview(RGB, permutedims(f3, (3,1,2)))))\n",
    "    f4 = Float32.(Gray.(colorview(RGB, permutedims(f4, (3,1,2)))))\n",
    "    both_frames = cat(f3, f4; dims=3)\n",
    "    last_frame = f4\n",
    "    push!(images2,both_frames)\n",
    "    push!(images1,last_frame)    \n",
    "    \n",
    "end"
   ]
  },
  {
   "cell_type": "code",
   "execution_count": 11,
   "metadata": {},
   "outputs": [
    {
     "ename": "OutOfMemoryError",
     "evalue": "OutOfMemoryError()",
     "output_type": "error",
     "traceback": [
      "OutOfMemoryError()",
      "",
      "Stacktrace:",
      " [1] Type at ./boot.jl:404 [inlined]",
      " [2] similar at ./array.jl:317 [inlined]",
      " [3] _cat1d(::Array{Float32,3}, ::Vararg{Array{Float32,3},N} where N) at /home/okolukisa/.julia/packages/AutoGrad/pTNVv/src/cat.jl:160",
      " [4] cat1d(::Array{Float32,3}, ::Vararg{Array{Float32,3},N} where N) at /home/okolukisa/.julia/packages/AutoGrad/pTNVv/src/cat.jl:152",
      " [5] top-level scope at In[11]:1"
     ]
    }
   ],
   "source": [
    "image_batch4 = reshape(cat1d(images4...), (210,160,4,length(images4)))\n",
    "summary(image_batch4)"
   ]
  },
  {
   "cell_type": "code",
   "execution_count": null,
   "metadata": {},
   "outputs": [],
   "source": [
    "image_batch2 = reshape(cat1d(images2...), (210,160,2,length(dataset4)))\n",
    "summary(image_batch2)"
   ]
  },
  {
   "cell_type": "code",
   "execution_count": 7,
   "metadata": {},
   "outputs": [
    {
     "data": {
      "text/plain": [
       "\"210×160×1×9763 Array{Float32,4}\""
      ]
     },
     "execution_count": 7,
     "metadata": {},
     "output_type": "execute_result"
    }
   ],
   "source": [
    "image_batch1 = reshape(cat1d(images1...), (210,160,1,length(dataset4)))\n",
    "summary(image_batch1)"
   ]
  },
  {
   "cell_type": "code",
   "execution_count": null,
   "metadata": {},
   "outputs": [],
   "source": [
    "summary(labels)"
   ]
  },
  {
   "cell_type": "code",
   "execution_count": null,
   "metadata": {},
   "outputs": [],
   "source": [
    "function seqbatch(sentences)\n",
    "    batchsize = size(sentences, 1)\n",
    "    maxlength = findmaxlength(sentences)\n",
    "    for sent in sentences\n",
    "        if(length(sent) < maxlength)\n",
    "            for i = 1:maxlength-length(sent)\n",
    "                push!(sent, 2)\n",
    "            end\n",
    "        end\n",
    "    end\n",
    "    reshape(cat1d(sentences...), (maxlength,length(labels)))\n",
    "end"
   ]
  },
  {
   "cell_type": "code",
   "execution_count": null,
   "metadata": {},
   "outputs": [],
   "source": [
    "function findmaxlength(sentences)\n",
    "    maxsize = 0\n",
    "    count = 0\n",
    "    for sent in sentences\n",
    "        count = count + 1\n",
    "        if(length(sent) > maxsize)\n",
    "            maxsize = length(sent)\n",
    "        end\n",
    "    end\n",
    "    return maxsize\n",
    "end"
   ]
  },
  {
   "cell_type": "code",
   "execution_count": null,
   "metadata": {},
   "outputs": [],
   "source": [
    "labels = seqbatch(labels)\n",
    "summary(labels)"
   ]
  },
  {
   "cell_type": "code",
   "execution_count": null,
   "metadata": {},
   "outputs": [],
   "source": [
    "data4 = Tuple{Array{Float32,3},Array{Int32,1}}[]\n",
    "for i = 1:length(labels[1,:])\n",
    "    x1 = image_batch4[:,:,:,i]\n",
    "    x2 = labels[:,i]\n",
    "    push!(data4, (x1,x2))\n",
    "end\n",
    "summary(data4)"
   ]
  },
  {
   "cell_type": "code",
   "execution_count": 11,
   "metadata": {},
   "outputs": [
    {
     "data": {
      "text/plain": [
       "\"9763-element Array{Tuple{Array{Float32,3},Array{Int32,1}},1}\""
      ]
     },
     "execution_count": 11,
     "metadata": {},
     "output_type": "execute_result"
    }
   ],
   "source": [
    "data2 = Tuple{Array{Float32,3},Array{Int32,1}}[]\n",
    "for i = 1:length(dataset4)\n",
    "    x1 = image_batch2[:,:,:,i]\n",
    "    x2 = labels[:,i]\n",
    "    push!(data2, (x1,x2))\n",
    "    println(i)\n",
    "end\n",
    "summary(data2)\n",
    "    "
   ]
  },
  {
   "cell_type": "code",
   "execution_count": 12,
   "metadata": {},
   "outputs": [
    {
     "data": {
      "text/plain": [
       "\"9763-element Array{Tuple{Array{Float32,3},Array{Int32,1}},1}\""
      ]
     },
     "execution_count": 12,
     "metadata": {},
     "output_type": "execute_result"
    }
   ],
   "source": [
    "data1 = Tuple{Array{Float32,3},Array{Int32,1}}[]\n",
    "for i = 1:length(dataset4)\n",
    "    x1 = image_batch1[:,:,:,i]\n",
    "    x2 = labels[:,i]\n",
    "    push!(data1, (x1,x2))\n",
    "end\n",
    "summary(data1)\n",
    "    "
   ]
  },
  {
   "cell_type": "code",
   "execution_count": null,
   "metadata": {},
   "outputs": [],
   "source": [
    "Knet.save(\"data4.jld2\", \"dataset\", data4)"
   ]
  },
  {
   "cell_type": "code",
   "execution_count": 12,
   "metadata": {},
   "outputs": [],
   "source": [
    "Knet.save(\"data2.jld2\", \"dataset\", data2)"
   ]
  },
  {
   "cell_type": "code",
   "execution_count": 13,
   "metadata": {},
   "outputs": [],
   "source": [
    "Knet.save(\"data1.jld2\", \"dataset\", data1)"
   ]
  },
  {
   "cell_type": "code",
   "execution_count": null,
   "metadata": {},
   "outputs": [],
   "source": []
  }
 ],
 "metadata": {
  "kernelspec": {
   "display_name": "Julia 1.2.0",
   "language": "julia",
   "name": "julia-1.2"
  },
  "language_info": {
   "file_extension": ".jl",
   "mimetype": "application/julia",
   "name": "julia",
   "version": "1.2.0"
  }
 },
 "nbformat": 4,
 "nbformat_minor": 4
}
