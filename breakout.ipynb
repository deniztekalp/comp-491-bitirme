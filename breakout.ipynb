{
 "cells": [
  {
   "cell_type": "code",
   "execution_count": 1,
   "metadata": {},
   "outputs": [
    {
     "name": "stdout",
     "output_type": "stream",
     "text": [
      "\u001b[32m\u001b[1m  Updating\u001b[22m\u001b[39m registry at `~/.julia/registries/General`\n",
      "\u001b[32m\u001b[1m  Updating\u001b[22m\u001b[39m git-repo `https://github.com/JuliaRegistries/General.git`\n",
      "\u001b[2K\u001b[?25h[1mFetching:\u001b[22m\u001b[39m [========================================>]  100.0 %.0 %\u001b[32m\u001b[1m Resolving\u001b[22m\u001b[39m package versions...\n",
      "\u001b[32m\u001b[1m  Updating\u001b[22m\u001b[39m `~/.julia/environments/v1.2/Project.toml`\n",
      "\u001b[90m [no changes]\u001b[39m\n",
      "\u001b[32m\u001b[1m  Updating\u001b[22m\u001b[39m `~/.julia/environments/v1.2/Manifest.toml`\n",
      "\u001b[90m [no changes]\u001b[39m\n",
      "\u001b[32m\u001b[1m  Building\u001b[22m\u001b[39m Conda ─→ `~/.julia/packages/Conda/kLXeC/deps/build.log`\n",
      "\u001b[32m\u001b[1m  Building\u001b[22m\u001b[39m PyCall → `~/.julia/packages/PyCall/ttONZ/deps/build.log`\n",
      "\u001b[32m\u001b[1m  Building\u001b[22m\u001b[39m Conda ─→ `~/.julia/packages/Conda/kLXeC/deps/build.log`\n",
      "\u001b[32m\u001b[1m  Building\u001b[22m\u001b[39m PyCall → `~/.julia/packages/PyCall/ttONZ/deps/build.log`\n",
      "\u001b[32m\u001b[1m  Building\u001b[22m\u001b[39m Gym ───→ `~/.julia/packages/Gym/QZ2GY/deps/build.log`\n"
     ]
    },
    {
     "data": {
      "text/plain": [
       "PyObject <module 'numpy' from '/usr/local/lib/python3.7/site-packages/numpy/__init__.py'>"
      ]
     },
     "execution_count": 1,
     "metadata": {},
     "output_type": "execute_result"
    }
   ],
   "source": [
    "using Pkg; for p in (\"Gym\",\"Plots\"); haskey(Pkg.installed(),p) || Pkg.add(p); end\n",
    "Pkg.add(\"PyCall\")\n",
    "ENV[\"GYM_ENVS\"]=\"atari:classic_control:box2d\"\n",
    "ENV[\"PYTHON\"]=\"/usr/local/bin/python3\"\n",
    "Pkg.build(\"PyCall\"); Pkg.build(\"Gym\")\n",
    "using Gym, PyCall, Knet, Base.Iterators\n",
    "np = pyimport(\"numpy\")"
   ]
  },
  {
   "cell_type": "code",
   "execution_count": 2,
   "metadata": {},
   "outputs": [
    {
     "name": "stdout",
     "output_type": "stream",
     "text": [
      "\u001b[32m\u001b[1m Resolving\u001b[22m\u001b[39m package versions...\n",
      "\u001b[32m\u001b[1m  Updating\u001b[22m\u001b[39m `~/.julia/environments/v1.2/Project.toml`\n",
      "\u001b[90m [no changes]\u001b[39m\n",
      "\u001b[32m\u001b[1m  Updating\u001b[22m\u001b[39m `~/.julia/environments/v1.2/Manifest.toml`\n",
      "\u001b[90m [no changes]\u001b[39m\n",
      "\u001b[32m\u001b[1m Resolving\u001b[22m\u001b[39m package versions...\n",
      "\u001b[32m\u001b[1m  Updating\u001b[22m\u001b[39m `~/.julia/environments/v1.2/Project.toml`\n",
      "\u001b[90m [no changes]\u001b[39m\n",
      "\u001b[32m\u001b[1m  Updating\u001b[22m\u001b[39m `~/.julia/environments/v1.2/Manifest.toml`\n",
      "\u001b[90m [no changes]\u001b[39m\n",
      "\u001b[32m\u001b[1m Resolving\u001b[22m\u001b[39m package versions...\n",
      "\u001b[32m\u001b[1m  Updating\u001b[22m\u001b[39m `~/.julia/environments/v1.2/Project.toml`\n",
      "\u001b[90m [no changes]\u001b[39m\n",
      "\u001b[32m\u001b[1m  Updating\u001b[22m\u001b[39m `~/.julia/environments/v1.2/Manifest.toml`\n",
      "\u001b[90m [no changes]\u001b[39m\n"
     ]
    }
   ],
   "source": [
    "Pkg.add(\"Images\"); using Images; Pkg.add(\"Colors\"); using Colors\n",
    "Pkg.add(\"ImageTransformations\"); using ImageTransformations"
   ]
  },
  {
   "cell_type": "code",
   "execution_count": 3,
   "metadata": {},
   "outputs": [],
   "source": [
    "mutable struct Linear; w; b; end\n",
    "\n",
    "function Linear(inputsize::Int, outputsize::Int)\n",
    "    w = param(outputsize, inputsize)\n",
    "    b = param0(outputsize)\n",
    "    Linear(w,b)\n",
    "end\n",
    "function (l::Linear)(x)\n",
    "    l.w * x .+ l.b\n",
    "end"
   ]
  },
  {
   "cell_type": "code",
   "execution_count": 4,
   "metadata": {},
   "outputs": [],
   "source": [
    "mutable struct Projection; w; end\n",
    "\n",
    "function Projection(inputsize::Int, outputsize::Int)\n",
    "    w = param(outputsize, inputsize)\n",
    "    Projection(w)\n",
    "end\n",
    "function (p::Projection)(x)\n",
    "    p.w * x\n",
    "end"
   ]
  },
  {
   "cell_type": "code",
   "execution_count": 5,
   "metadata": {},
   "outputs": [
    {
     "data": {
      "text/plain": [
       "mse_loss (generic function with 1 method)"
      ]
     },
     "execution_count": 5,
     "metadata": {},
     "output_type": "execute_result"
    }
   ],
   "source": [
    "function mse_loss(arr1, arr2)\n",
    "    sum((arr1'-arr2).^2)/length(arr1)\n",
    "end"
   ]
  },
  {
   "cell_type": "code",
   "execution_count": 43,
   "metadata": {},
   "outputs": [],
   "source": [
    "mutable struct DQN\n",
    "    fc1\n",
    "    fc2\n",
    "    output\n",
    "end\n",
    "\n",
    "function DQN(img_height::Int, img_width::Int, input_channels::Int, hidden_size1::Int, hidden_size2::Int, action_space_size::Int)\n",
    "    fc1 = Linear(img_height*img_width*input_channels, hidden_size1)\n",
    "    fc2 = Linear(hidden_size1, hidden_size2)\n",
    "    output = Projection(hidden_size2, action_space_size)    \n",
    "    DQN(fc1, fc2, output)\n",
    "end\n",
    "\n",
    "function (model::DQN)(x)\n",
    "    model.output(relu.(model.fc2(relu.(model.fc1(x)))))\n",
    "end\n",
    "\n",
    "\n",
    "function (model::DQN)(x, indexes, q_star)\n",
    "    mse_loss(model.output(relu.(model.fc2(relu.(model.fc1(x)))))[indexes],q_star)\n",
    "end"
   ]
  },
  {
   "cell_type": "code",
   "execution_count": 7,
   "metadata": {},
   "outputs": [
    {
     "data": {
      "text/plain": [
       "Sample (generic function with 1 method)"
      ]
     },
     "execution_count": 7,
     "metadata": {},
     "output_type": "execute_result"
    }
   ],
   "source": [
    "mutable struct ReplayMemory\n",
    "    capacity\n",
    "    memory\n",
    "    push_count\n",
    "    batchsize\n",
    "end\n",
    "\n",
    "\n",
    "function ReplayMemory(capacity::Int, batchsize::Int)\n",
    "    push_count = 0\n",
    "    memory = []\n",
    "    ReplayMemory(capacity, memory, push_count, batchsize)\n",
    "end\n",
    "\n",
    "\n",
    "function PushToReplayMemory!(r::ReplayMemory, e)\n",
    "    r.push_count += 1\n",
    "    if(length(r.memory) < r.capacity)\n",
    "        push!(r.memory, e)\n",
    "    else\n",
    "        r.memory[r.push_count%r.capacity] = e\n",
    "    end\n",
    "    \n",
    "end\n",
    "\n",
    "function CanProvideSample(r::ReplayMemory)\n",
    "    return r.push_count >= r.batchsize\n",
    "end\n",
    "\n",
    "function Sample(r::ReplayMemory)\n",
    "    return r.memory[rand(1:min(r.push_count, r.capacity),r.batchsize)]\n",
    "end"
   ]
  },
  {
   "cell_type": "code",
   "execution_count": 8,
   "metadata": {},
   "outputs": [
    {
     "data": {
      "text/plain": [
       "GetExplorationRate (generic function with 1 method)"
      ]
     },
     "execution_count": 8,
     "metadata": {},
     "output_type": "execute_result"
    }
   ],
   "source": [
    "struct EpsilonGreedyStrategy\n",
    "    max\n",
    "    min\n",
    "    decay\n",
    "end\n",
    "\n",
    "function GetExplorationRate(e::EpsilonGreedyStrategy, current_step::Int)\n",
    "    e.min + (e.max-e.min) * exp(-1*current_step*e.decay)\n",
    "end"
   ]
  },
  {
   "cell_type": "code",
   "execution_count": 44,
   "metadata": {},
   "outputs": [
    {
     "data": {
      "text/plain": [
       "GetAction (generic function with 1 method)"
      ]
     },
     "execution_count": 44,
     "metadata": {},
     "output_type": "execute_result"
    }
   ],
   "source": [
    "mutable struct Agent\n",
    "    current_step\n",
    "    strategy\n",
    "    num_actions\n",
    "end\n",
    "\n",
    "function Agent(strategy::EpsilonGreedyStrategy, num_actions::Int)\n",
    "    current_step = 0\n",
    "    return Agent(current_step, strategy, num_actions)\n",
    "end\n",
    "\n",
    "function GetAction(a::Agent, state, policy_net, env)\n",
    "    a.current_step += 1\n",
    "    ϵ = GetExplorationRate(a.strategy, a.current_step)\n",
    "    \n",
    "    if(ϵ > rand())\n",
    "        return rand(0:env.action_space.n-1)\n",
    "    else\n",
    "        return argmax(policy_net(state))-1\n",
    "    end \n",
    "end"
   ]
  },
  {
   "cell_type": "code",
   "execution_count": 58,
   "metadata": {},
   "outputs": [
    {
     "data": {
      "text/plain": [
       "1"
      ]
     },
     "execution_count": 58,
     "metadata": {},
     "output_type": "execute_result"
    }
   ],
   "source": [
    "reward = 0\n",
    "num_episodes = 1000\n",
    "batch_size = 25 #\n",
    "γ = 0.999\n",
    "ϵ_start = 1\n",
    "ϵ_decay = 0.001\n",
    "ϵ_end = 0.01\n",
    "target_update = 10\n",
    "memory_size = 100000\n",
    "lr = 0.1 #\n",
    "image_height = 40 \n",
    "image_width = 90 \n",
    "input_channels = 1\n",
    "hidden_size1 = 24\n",
    "hidden_size2 = 32\n",
    "moving_average_length = 1 #"
   ]
  },
  {
   "cell_type": "code",
   "execution_count": 11,
   "metadata": {},
   "outputs": [
    {
     "data": {
      "text/plain": [
       "90"
      ]
     },
     "execution_count": 11,
     "metadata": {},
     "output_type": "execute_result"
    }
   ],
   "source": [
    "cropfromtop = 0.4\n",
    "cropfrombottom = 0.2\n",
    "target_height = 40\n",
    "target_width = 90"
   ]
  },
  {
   "cell_type": "code",
   "execution_count": 12,
   "metadata": {},
   "outputs": [
    {
     "data": {
      "text/plain": [
       "GetPreProcessedImageArray (generic function with 1 method)"
      ]
     },
     "execution_count": 12,
     "metadata": {},
     "output_type": "execute_result"
    }
   ],
   "source": [
    "function GetPreProcessedImageArray(env, cropfromtop::Float64, cropfrombottom::Float64, target_height::Int, target_width::Int)\n",
    "    state_pyobject = np.ascontiguousarray(render(env, mode=\"rgb_array\"), dtype = np.float64)/255\n",
    "    height, width, channels = size(state_pyobject)\n",
    "    state_image = permutedims(state_pyobject,(3,1,2))\n",
    "    state_image2 = (state_image[:,Int(height*cropfromtop):Int((1-cropfrombottom)*height)-1,:])\n",
    "    grayscale = Gray.(state_image2)\n",
    "    reshape(Float64.(imresize(grayscale, (1,target_height, target_width))), target_width*target_height)\n",
    "end\n",
    "    "
   ]
  },
  {
   "cell_type": "code",
   "execution_count": 13,
   "metadata": {},
   "outputs": [
    {
     "data": {
      "text/plain": [
       "extract_tensors (generic function with 1 method)"
      ]
     },
     "execution_count": 13,
     "metadata": {},
     "output_type": "execute_result"
    }
   ],
   "source": [
    "function extract_tensors(experiences, inputsize, batchsize)\n",
    "    tensors = reshape(collect(flatten(experiences)), (4,batchsize))\n",
    "    states = reshape(collect(flatten(tensors[1,:])), (inputsize, batchsize))\n",
    "    actions = tensors[2,:]\n",
    "    next_states = reshape(collect(flatten(tensors[3,:])), (inputsize, batchsize))\n",
    "    rewards = tensors[4,:]\n",
    "    return states, actions, next_states, rewards\n",
    "end"
   ]
  },
  {
   "cell_type": "code",
   "execution_count": 14,
   "metadata": {},
   "outputs": [
    {
     "data": {
      "text/plain": [
       "GetMovingAverage (generic function with 1 method)"
      ]
     },
     "execution_count": 14,
     "metadata": {},
     "output_type": "execute_result"
    }
   ],
   "source": [
    "function GetMovingAverage(collection, n)\n",
    "    len = length(collection)\n",
    "    if(n>len)\n",
    "        return 0\n",
    "    else\n",
    "        return sum(collection[len-n+1:end])/n\n",
    "    end\n",
    "end"
   ]
  },
  {
   "cell_type": "code",
   "execution_count": 59,
   "metadata": {},
   "outputs": [
    {
     "name": "stdout",
     "output_type": "stream",
     "text": [
      "episode: 1 100MA: 0\n",
      "episode: 2 100MA: 14.0\n",
      "episode: 3 100MA: 9.0\n",
      "before: T(1.1820595925540396)\n",
      "after: 0.7999420127717701\n",
      "before: T(0.8683968466423625)\n",
      "after: 0.7412921750896868\n",
      "before: T(0.6675459609243337)\n",
      "after: 0.5875022966800014\n",
      "before: T(0.8203835379414621)\n",
      "after: 0.781307652659242\n",
      "before: T(0.7585250559625671)\n",
      "after: 0.7705175404456268\n",
      "before: T(0.6152861973848964)\n",
      "after: 0.6020382231761651\n",
      "before: T(4.121925114053096)\n",
      "after: 4.071208571672255\n",
      "before: T(2.6087203834786656)\n",
      "after: 2.561502421004492\n",
      "before: T(3.2890496915648235)\n",
      "after: 3.249753910007606\n",
      "before: T(3.2877429752491567)\n",
      "after: 3.2527718297476986\n",
      "before: T(1.9881597671776348)\n",
      "after: 1.9746614558579236\n",
      "before: T(3.7624895801021485)\n",
      "after: 3.753036408998357\n",
      "before: T(1.8078382075471444)\n",
      "after: 1.7908062336587987\n",
      "before: T(2.517909897299717)\n",
      "after: 2.502608983347966\n",
      "before: T(2.4396388947881085)\n",
      "after: 2.4202527949220554\n",
      "before: T(2.156380136593468)\n",
      "after: 2.149331304754159\n",
      "before: T(1.8668134116929336)\n",
      "after: 1.8668992476526562\n",
      "before: T(2.2128537317235533)\n",
      "after: 2.208550378866042\n",
      "episode: 4 100MA: 19.0\n",
      "before: T(2.404589988572033)\n",
      "after: 2.400493409177273\n",
      "before: T(1.8631882996980165)\n",
      "after: 1.8572043122008455\n",
      "before: T(2.3464545662578966)\n",
      "after: 2.3379255838891964\n",
      "before: T(1.4602707980137613)\n",
      "after: 1.4453112867888984\n",
      "before: T(2.743573675001751)\n",
      "after: 2.7223687360903126\n",
      "before: T(2.6612660419747582)\n",
      "after: 2.643649364066019\n",
      "before: T(1.9453907421453556)\n",
      "after: 1.926209628504474\n",
      "before: T(1.800341651020663)\n",
      "after: 1.788950681725239\n",
      "before: T(2.4967313343167215)\n",
      "after: 2.4755967145085718\n",
      "before: T(2.581807533954641)\n",
      "after: 2.560989938605984\n",
      "before: T(1.6726587475437182)\n",
      "after: 1.6608490149759407\n",
      "before: T(2.1029578064485923)\n",
      "after: 2.0882800838548765\n",
      "before: T(1.9827392817222218)\n",
      "after: 1.962901990166826\n",
      "before: T(1.0609921750686482)\n",
      "after: 1.0526935187457511\n",
      "before: T(2.3220794277659333)\n",
      "after: 2.310574795621843\n",
      "before: T(1.2974432181374567)\n",
      "after: 1.2865256441513748\n",
      "before: T(1.88873094718696)\n",
      "after: 1.8728698469557463\n",
      "before: T(1.2544343200972623)\n",
      "after: 1.2454086499590777\n",
      "before: T(1.785464334442632)\n",
      "after: 1.774003219693651\n",
      "before: T(1.2718125700615754)\n",
      "after: 1.2626843174986604\n",
      "before: T(2.2061713944080252)\n",
      "after: 2.1891049135084875\n",
      "episode: 5 100MA: 21.0\n",
      "before: T(1.3713119358473307)\n",
      "after: 1.3565688318546774\n",
      "before: T(1.7533632736408378)\n",
      "after: 1.7377876202850706\n",
      "before: T(3.1357506601245344)\n",
      "after: 3.10114681948378\n",
      "before: T(1.9076339924717383)\n",
      "after: 1.8919843469655522\n",
      "before: T(1.9149424730846016)\n",
      "after: 1.89447993402769\n",
      "before: T(1.5917793841728258)\n",
      "after: 1.573984465859969\n",
      "before: T(2.7235931088654)\n",
      "after: 2.6932618779589372\n",
      "before: T(3.3299648627832443)\n",
      "after: 3.297346132186184\n",
      "before: T(2.3809577528012578)\n",
      "after: 2.3541967738676015\n",
      "before: T(1.6903361129754493)\n",
      "after: 1.6685502694697294\n",
      "before: T(1.3730119612666343)\n",
      "after: 1.3553803728743923\n",
      "before: T(2.194113773086576)\n",
      "after: 2.1603867034114543\n",
      "before: T(1.979648437203763)\n",
      "after: 1.9521317740444102\n",
      "before: T(1.380445276017096)\n",
      "after: 1.353325520269952\n",
      "before: T(2.0421965048596102)\n",
      "after: 2.007924411953856\n",
      "before: T(1.9679983116942161)\n",
      "after: 1.9301887523845733\n",
      "before: T(1.8465632708227253)\n",
      "after: 1.8170416228361577\n",
      "before: T(2.605536787023813)\n",
      "after: 2.568619354118998\n",
      "before: T(2.889332437064165)\n",
      "after: 2.8422819126717305\n",
      "before: T(2.252270846348562)\n",
      "after: 2.207068281966369\n",
      "before: T(2.3032234019123923)\n",
      "after: 2.22855601681088\n",
      "before: T(0.9691100228639415)\n",
      "after: 0.9313856510576182\n",
      "before: T(1.8746887815075965)\n",
      "after: 1.8256275004825213\n",
      "before: T(2.428052602206756)\n",
      "after: 2.3831949892294118\n",
      "before: T(1.884811255872755)\n",
      "after: 1.8255182924172053\n",
      "before: T(2.191472784636377)\n",
      "after: 2.1343857115304075\n",
      "episode: 6 100MA: 26.0\n",
      "before: T(1.5776359483063973)\n",
      "after: 1.5394186082611063\n",
      "before: T(1.965837321211835)\n",
      "after: 1.9225965682876645\n",
      "before: T(1.7294549277597095)\n",
      "after: 1.6311524174053031\n",
      "before: T(2.4458637350453647)\n",
      "after: 2.3522080517115413\n",
      "before: T(2.1291681459097442)\n",
      "after: 2.0921012536046097\n",
      "before: T(2.0772910535320745)\n",
      "after: 2.0322925039376103\n",
      "before: T(1.6915834141869786)\n",
      "after: 1.62420800600768\n",
      "before: T(1.8427839636290773)\n",
      "after: 1.7971543537462984\n",
      "before: T(1.3595263193549167)\n",
      "after: 1.317087386138911\n",
      "before: T(0.9418455783207481)\n",
      "after: 0.9067314698381932\n",
      "before: T(1.3152457352837106)\n",
      "after: 1.2728799149958672\n",
      "before: T(2.06527756096184)\n",
      "after: 1.9827616959687009\n",
      "before: T(1.675802871322213)\n",
      "after: 1.4441965180986522\n",
      "episode: 7 100MA: 13.0\n",
      "before: T(2.49817834626241)\n",
      "after: 2.4600721416565943\n",
      "before: T(2.320980861423214)\n",
      "after: 2.285556991433393\n",
      "before: T(1.4066866137712333)\n",
      "after: 1.3553384031073121\n",
      "before: T(2.3176662620331534)\n",
      "after: 2.2999412365019793\n",
      "before: T(1.8417942170033998)\n",
      "after: 1.7969632883434428\n",
      "before: T(1.6159757694495565)\n",
      "after: 1.5345505448102623\n",
      "before: T(1.6656869011125135)\n",
      "after: 1.6167408175124944\n",
      "before: T(1.9995090789555128)\n",
      "after: 1.964866698510945\n",
      "before: T(3.175150931696377)\n",
      "after: 3.1635868635365587\n",
      "before: T(2.6417761991173228)\n",
      "after: 2.588610870517655\n",
      "before: T(2.6632363189076127)\n",
      "after: 2.595401402373439\n",
      "before: T(1.8917976174457705)\n",
      "after: 1.7849872737381884\n",
      "before: T(2.1707582126304072)\n",
      "after: 2.0370550132680627\n",
      "before: T(2.4887223721364484)\n",
      "after: 2.482002600810225\n",
      "before: T(2.3053623484273915)\n",
      "after: 2.2769610317196145\n",
      "before: T(2.355020983818044)\n",
      "after: 2.3223614263328596\n",
      "before: T(3.0031825358788784)\n",
      "after: 2.962359841584103\n",
      "before: T(2.3421376162359926)\n",
      "after: 2.286944172196604\n",
      "before: T(4.141423948416817)\n",
      "after: 4.051819089023346\n",
      "before: T(3.5975244951255987)\n",
      "after: 3.450394623547643\n",
      "before: T(4.177175903771348)\n",
      "after: 4.115625692968261\n",
      "before: T(3.7526575397943507)\n",
      "after: 3.6853604436985163\n",
      "episode: 8 100MA: 22.0\n"
     ]
    },
    {
     "ename": "InterruptException",
     "evalue": "InterruptException:",
     "output_type": "error",
     "traceback": [
      "InterruptException:",
      "",
      "Stacktrace:",
      " [1] sigatomic_end at ./c.jl:425 [inlined]",
      " [2] __pycall!(::PyObject, ::Ptr{PyCall.PyObject_struct}, ::PyObject, ::PyObject) at /Users/deniz/.julia/packages/PyCall/ttONZ/src/pyfncall.jl:49",
      " [3] _pycall!(::PyObject, ::PyObject, ::Tuple{PyObject}, ::Int64, ::PyObject) at /Users/deniz/.julia/packages/PyCall/ttONZ/src/pyfncall.jl:29",
      " [4] _pycall!(::PyObject, ::PyObject, ::Tuple{PyObject}, ::Base.Iterators.Pairs{Symbol,PyObject,Tuple{Symbol},NamedTuple{(:dtype,),Tuple{PyObject}}}) at /Users/deniz/.julia/packages/PyCall/ttONZ/src/pyfncall.jl:11",
      " [5] #call#111 at /Users/deniz/.julia/packages/PyCall/ttONZ/src/pyfncall.jl:89 [inlined]",
      " [6] (::getfield(PyCall, Symbol(\"#kw#PyObject\")))(::NamedTuple{(:dtype,),Tuple{PyObject}}, ::PyObject, ::PyObject) at ./none:0",
      " [7] GetPreProcessedImageArray(::GymEnv, ::Float64, ::Float64, ::Int64, ::Int64) at ./In[12]:2",
      " [8] top-level scope at In[59]:24"
     ]
    }
   ],
   "source": [
    "env = GymEnv(\"CartPole-v1\")\n",
    "episode_rewards = []\n",
    "replay_memory = ReplayMemory(memory_size, batch_size)\n",
    "policy_network = DQN(image_height, image_width, input_channels, hidden_size1, hidden_size2, env.action_space.n)\n",
    "target_network = deepcopy(policy_network)\n",
    "strategy = EpsilonGreedyStrategy(ϵ_start, ϵ_end, ϵ_decay)\n",
    "agent = Agent(strategy, env.action_space.n)\n",
    "total_reward_per_episode = 0\n",
    "\n",
    "for i = 1:num_episodes\n",
    "    done = false\n",
    "    reset!(env) \n",
    "    current_state = zeros(target_width*target_height)\n",
    "    println(\"episode: \", i, \" 100MA: \", GetMovingAverage(episode_rewards,moving_average_length))\n",
    "    total_reward_per_episode = 0\n",
    "    time_step = 0\n",
    "    while(!done) \n",
    "        time_step += 1\n",
    "        action = GetAction(agent, current_state, policy_network, env)\n",
    "        observation, reward, done, information = step!(env, action) \n",
    "        if(done)\n",
    "            next_state = zeros(target_width*target_height)\n",
    "        else\n",
    "            next_state = GetPreProcessedImageArray(env, cropfromtop, cropfrombottom, target_height, target_width) - current_state\n",
    "        end\n",
    "        \n",
    "        total_reward_per_episode += reward\n",
    "        PushToReplayMemory!(replay_memory, [current_state, action, next_state, reward])\n",
    "        current_state = next_state\n",
    "        if(CanProvideSample(replay_memory))\n",
    "            experiences = Sample(replay_memory)\n",
    "            states, actions, next_states, rewards = extract_tensors(experiences, image_height*image_width*input_channels, batch_size)\n",
    "            indexes = collect(0:batch_size-1)*env.action_space.n + actions .+ 1\n",
    "            q_star = maximum(target_network(next_states), dims=1) * γ + rewards'  \n",
    "            loss = @diff mse_loss(policy_network(states)[indexes], q_star)\n",
    "        \n",
    "            println(\"before: \", loss)\n",
    "            #for p in params(loss)\n",
    "            #    p = p - lr * grad(loss, p)\n",
    "            #end\n",
    "            \n",
    "            before = sum(policy_network.fc1.w)\n",
    "            tup = (states, indexes, q_star)\n",
    "            list = [tup]\n",
    "            adam!(policy_network, take(cycle(list),1))\n",
    "            #progress!(a)\n",
    "            println(\"after: \", mse_loss(policy_network(states)[indexes], q_star))\n",
    "            after = sum(policy_network.fc1.w)\n",
    "            #println(\"before: \", before)\n",
    "            #println(\"after: \", after)\n",
    "        end\n",
    "        \n",
    "        if(done)\n",
    "            push!(episode_rewards, total_reward_per_episode)\n",
    "        end\n",
    "        if(agent.current_step%target_update == 0)\n",
    "            target_network = deepcopy(policy_network)\n",
    "        end\n",
    "    end\n",
    "    \n",
    "end"
   ]
  },
  {
   "cell_type": "code",
   "execution_count": null,
   "metadata": {},
   "outputs": [],
   "source": []
  }
 ],
 "metadata": {
  "kernelspec": {
   "display_name": "Julia 1.2.0",
   "language": "julia",
   "name": "julia-1.2"
  },
  "language_info": {
   "file_extension": ".jl",
   "mimetype": "application/julia",
   "name": "julia",
   "version": "1.2.0"
  }
 },
 "nbformat": 4,
 "nbformat_minor": 4
}
