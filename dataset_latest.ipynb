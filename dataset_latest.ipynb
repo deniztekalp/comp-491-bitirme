{
 "cells": [
  {
   "cell_type": "code",
   "execution_count": 1,
   "metadata": {},
   "outputs": [],
   "source": [
    "using Pkg\n",
    "using Knet"
   ]
  },
  {
   "cell_type": "code",
   "execution_count": 2,
   "metadata": {},
   "outputs": [
    {
     "name": "stdout",
     "output_type": "stream",
     "text": [
      "\u001b[32m\u001b[1m  Updating\u001b[22m\u001b[39m registry at `~/.julia/registries/General`\n",
      "\u001b[32m\u001b[1m  Updating\u001b[22m\u001b[39m git-repo `https://github.com/JuliaRegistries/General.git`\n",
      "\u001b[2K\u001b[?25h\u001b[32m\u001b[1m Resolving\u001b[22m\u001b[39m package versions...\n",
      "\u001b[32m\u001b[1m Installed\u001b[22m\u001b[39m DiffResults ────── v1.0.1\n",
      "\u001b[32m\u001b[1m Installed\u001b[22m\u001b[39m ColorVectorSpace ─ v0.8.1\n",
      "\u001b[32m\u001b[1m Installed\u001b[22m\u001b[39m ForwardDiff ────── v0.10.8\n",
      "\u001b[32m\u001b[1m Installed\u001b[22m\u001b[39m ColorTypes ─────── v0.8.1\n",
      "\u001b[32m\u001b[1m Installed\u001b[22m\u001b[39m Plots ──────────── v0.28.4\n",
      "\u001b[32m\u001b[1m  Updating\u001b[22m\u001b[39m `~/.julia/environments/v1.2/Project.toml`\n",
      " \u001b[90m [91a5bcdd]\u001b[39m\u001b[93m ↑ Plots v0.28.3 ⇒ v0.28.4\u001b[39m\n",
      "\u001b[32m\u001b[1m  Updating\u001b[22m\u001b[39m `~/.julia/environments/v1.2/Manifest.toml`\n",
      " \u001b[90m [3da002f7]\u001b[39m\u001b[93m ↑ ColorTypes v0.8.0 ⇒ v0.8.1\u001b[39m\n",
      " \u001b[90m [c3611d14]\u001b[39m\u001b[93m ↑ ColorVectorSpace v0.8.0 ⇒ v0.8.1\u001b[39m\n",
      " \u001b[90m [163ba53b]\u001b[39m\u001b[93m ↑ DiffResults v0.0.4 ⇒ v1.0.1\u001b[39m\n",
      " \u001b[90m [f6369f11]\u001b[39m\u001b[93m ↑ ForwardDiff v0.10.7 ⇒ v0.10.8\u001b[39m\n",
      " \u001b[90m [91a5bcdd]\u001b[39m\u001b[93m ↑ Plots v0.28.3 ⇒ v0.28.4\u001b[39m\n",
      "\u001b[32m\u001b[1m  Building\u001b[22m\u001b[39m Plots → `~/.julia/packages/Plots/qZHsp/deps/build.log`\n",
      "\u001b[32m\u001b[1m Resolving\u001b[22m\u001b[39m package versions...\n",
      "\u001b[32m\u001b[1m  Updating\u001b[22m\u001b[39m `~/.julia/environments/v1.2/Project.toml`\n",
      "\u001b[90m [no changes]\u001b[39m\n",
      "\u001b[32m\u001b[1m  Updating\u001b[22m\u001b[39m `~/.julia/environments/v1.2/Manifest.toml`\n",
      "\u001b[90m [no changes]\u001b[39m\n",
      "\u001b[32m\u001b[1m Resolving\u001b[22m\u001b[39m package versions...\n",
      "\u001b[32m\u001b[1m  Updating\u001b[22m\u001b[39m `~/.julia/environments/v1.2/Project.toml`\n",
      "\u001b[90m [no changes]\u001b[39m\n",
      "\u001b[32m\u001b[1m  Updating\u001b[22m\u001b[39m `~/.julia/environments/v1.2/Manifest.toml`\n",
      "\u001b[90m [no changes]\u001b[39m\n",
      "\u001b[32m\u001b[1m Resolving\u001b[22m\u001b[39m package versions...\n",
      "\u001b[32m\u001b[1m  Updating\u001b[22m\u001b[39m `~/.julia/environments/v1.2/Project.toml`\n",
      "\u001b[90m [no changes]\u001b[39m\n",
      "\u001b[32m\u001b[1m  Updating\u001b[22m\u001b[39m `~/.julia/environments/v1.2/Manifest.toml`\n",
      "\u001b[90m [no changes]\u001b[39m\n",
      "\u001b[32m\u001b[1m Resolving\u001b[22m\u001b[39m package versions...\n",
      "\u001b[32m\u001b[1m  Updating\u001b[22m\u001b[39m `~/.julia/environments/v1.2/Project.toml`\n",
      "\u001b[90m [no changes]\u001b[39m\n",
      "\u001b[32m\u001b[1m  Updating\u001b[22m\u001b[39m `~/.julia/environments/v1.2/Manifest.toml`\n",
      "\u001b[90m [no changes]\u001b[39m\n",
      "\u001b[32m\u001b[1m Resolving\u001b[22m\u001b[39m package versions...\n",
      "\u001b[32m\u001b[1m  Updating\u001b[22m\u001b[39m `~/.julia/environments/v1.2/Project.toml`\n",
      "\u001b[90m [no changes]\u001b[39m\n",
      "\u001b[32m\u001b[1m  Updating\u001b[22m\u001b[39m `~/.julia/environments/v1.2/Manifest.toml`\n",
      "\u001b[90m [no changes]\u001b[39m\n"
     ]
    },
    {
     "name": "stderr",
     "output_type": "stream",
     "text": [
      "┌ Info: Recompiling stale cache file /home/okolukisa/.julia/compiled/v1.2/Images/H8Vxc.ji for Images [916415d5-f1e6-5110-898d-aaa5f9f070e0]\n",
      "└ @ Base loading.jl:1240\n"
     ]
    },
    {
     "name": "stdout",
     "output_type": "stream",
     "text": [
      "\u001b[32m\u001b[1m Resolving\u001b[22m\u001b[39m package versions...\n",
      "\u001b[32m\u001b[1m  Updating\u001b[22m\u001b[39m `~/.julia/environments/v1.2/Project.toml`\n",
      "\u001b[90m [no changes]\u001b[39m\n",
      "\u001b[32m\u001b[1m  Updating\u001b[22m\u001b[39m `~/.julia/environments/v1.2/Manifest.toml`\n",
      "\u001b[90m [no changes]\u001b[39m\n",
      "695-element Array{Int32,1}\n",
      "695-element Array{Tuple{Tuple{Array{UInt8,3},Array{UInt8,3}},String},1}\n"
     ]
    },
    {
     "data": {
      "text/plain": [
       "trans_nll (generic function with 1 method)"
      ]
     },
     "execution_count": 2,
     "metadata": {},
     "output_type": "execute_result"
    }
   ],
   "source": [
    "# using NBInclude\n",
    "# @nbinclude(\"Bimodal_Embedding.ipynb\")\n",
    "include(\"Bimodal_Embedding.jl\")"
   ]
  },
  {
   "cell_type": "code",
   "execution_count": 3,
   "metadata": {},
   "outputs": [
    {
     "data": {
      "text/plain": [
       "\"String\""
      ]
     },
     "execution_count": 3,
     "metadata": {},
     "output_type": "execute_result"
    }
   ],
   "source": [
    "dataset_instructions = []\n",
    "\n",
    "open(\"instructions_unique.txt\") do file\n",
    "    for f in eachline(file)\n",
    "    push!(dataset_instructions,f)    \n",
    "    end\n",
    "end\n",
    "# if (gpu()>=0)\n",
    "#     dataset_instructions = KnetArray(dataset_instructions)\n",
    "# end\n",
    "summary(dataset_instructions[1])\n"
   ]
  },
  {
   "cell_type": "code",
   "execution_count": 4,
   "metadata": {},
   "outputs": [
    {
     "name": "stdout",
     "output_type": "stream",
     "text": [
      "\u001b[32m\u001b[1m Resolving\u001b[22m\u001b[39m package versions...\n",
      "\u001b[32m\u001b[1m  Updating\u001b[22m\u001b[39m `~/.julia/environments/v1.2/Project.toml`\n",
      "\u001b[90m [no changes]\u001b[39m\n",
      "\u001b[32m\u001b[1m  Updating\u001b[22m\u001b[39m `~/.julia/environments/v1.2/Manifest.toml`\n",
      "\u001b[90m [no changes]\u001b[39m\n"
     ]
    },
    {
     "name": "stderr",
     "output_type": "stream",
     "text": [
      "┌ Info: Recompiling stale cache file /home/okolukisa/.julia/compiled/v1.2/VideoIO/tZxJ7.ji for VideoIO [d6d074c3-1acf-5d4c-9a43-ef38773959a2]\n",
      "└ @ Base loading.jl:1240\n"
     ]
    }
   ],
   "source": [
    "Pkg.add(\"VideoIO\"); using VideoIO"
   ]
  },
  {
   "cell_type": "code",
   "execution_count": 5,
   "metadata": {},
   "outputs": [
    {
     "name": "stdout",
     "output_type": "stream",
     "text": [
      "\u001b[32m\u001b[1m Resolving\u001b[22m\u001b[39m package versions...\n",
      "\u001b[32m\u001b[1m  Updating\u001b[22m\u001b[39m `~/.julia/environments/v1.2/Project.toml`\n",
      "\u001b[90m [no changes]\u001b[39m\n",
      "\u001b[32m\u001b[1m  Updating\u001b[22m\u001b[39m `~/.julia/environments/v1.2/Manifest.toml`\n",
      "\u001b[90m [no changes]\u001b[39m\n",
      "\u001b[32m\u001b[1m Resolving\u001b[22m\u001b[39m package versions...\n",
      "\u001b[32m\u001b[1m  Updating\u001b[22m\u001b[39m `~/.julia/environments/v1.2/Project.toml`\n",
      "\u001b[90m [no changes]\u001b[39m\n",
      "\u001b[32m\u001b[1m  Updating\u001b[22m\u001b[39m `~/.julia/environments/v1.2/Manifest.toml`\n",
      "\u001b[90m [no changes]\u001b[39m\n"
     ]
    }
   ],
   "source": [
    "Pkg.add(\"Images\"); using Images; Pkg.add(\"Colors\"); using Colors"
   ]
  },
  {
   "cell_type": "code",
   "execution_count": 6,
   "metadata": {},
   "outputs": [
    {
     "data": {
      "text/plain": [
       "GetPreProcessedImageArrayDataset (generic function with 1 method)"
      ]
     },
     "execution_count": 6,
     "metadata": {},
     "output_type": "execute_result"
    }
   ],
   "source": [
    "function GetPreProcessedImageArrayDataset(img, cropfromleft::Float64, cropfromright::Float64, cropfromtop::Float64, cropfrombottom::Float64, target_height::Int, target_width::Int)\n",
    "    channels, height, width = size(img)\n",
    "    img = img[:,Int(round(height*cropfromtop))+1:Int(round((1-cropfrombottom)*height)), Int(round(width*cropfromleft))+1:Int(round((1-cropfromright)*width))]\n",
    "    img = imresize(img, (channels, target_height, target_width))\n",
    "    permutedims(img, (2,3,1))\n",
    "end"
   ]
  },
  {
   "cell_type": "code",
   "execution_count": 7,
   "metadata": {},
   "outputs": [
    {
     "data": {
      "text/plain": [
       "\"2936-element Array{Any,1}\""
      ]
     },
     "execution_count": 7,
     "metadata": {},
     "output_type": "execute_result"
    }
   ],
   "source": [
    "io = VideoIO.open(\"stupid_vid.webm\")\n",
    "f = VideoIO.openvideo(io)\n",
    "target_width = 160\n",
    "target_height = 210\n",
    "crop_from_top = 0.1\n",
    "crop_from_bottom = 0.12\n",
    "crop_from_left = 0.15\n",
    "crop_from_right = 0.15\n",
    "\n",
    "frames = []\n",
    "history = []\n",
    "\n",
    "for i = 1:9\n",
    "    img = read(f)\n",
    "    img = GetPreProcessedImageArrayDataset(channelview(img), crop_from_left, crop_from_right, crop_from_top, crop_from_bottom, target_height, target_width)\n",
    "    push!(history, img)\n",
    "end\n",
    "\n",
    "\n",
    "\n",
    "while !eof(f)\n",
    "    global current_frame\n",
    "    \n",
    "    prev_9_frame = history[1]\n",
    "    prev_4_frame = history[6]\n",
    "    prev_frame = history[8]\n",
    "    current_frame = history[9]\n",
    "    push!(frames, (prev_9_frame, prev_4_frame, prev_frame, current_frame))\n",
    "    \n",
    "    current_frame = read(f)\n",
    "    current_frame = GetPreProcessedImageArrayDataset(channelview(current_frame), crop_from_left, crop_from_right, crop_from_top, crop_from_bottom,target_height, target_width)\n",
    "\n",
    "    push!(history, current_frame)\n",
    "    deleteat!(history, 1)\n",
    "end\n",
    "\n",
    "close(f)\n",
    "summary(frames)"
   ]
  },
  {
   "cell_type": "code",
   "execution_count": 8,
   "metadata": {},
   "outputs": [],
   "source": [
    "# io = VideoIO.open(\"montezuma2.mp4\")\n",
    "# f = VideoIO.openvideo(io)\n",
    "# target_width = 160\n",
    "# target_height = 210\n",
    "# crop_from_top = 0.1\n",
    "# crop_from_bottom = 0.12\n",
    "# crop_from_left = 0.15\n",
    "# crop_from_right = 0.15\n",
    "# img = read(f)\n",
    "# img = GetPreProcessedImageArrayDataset(channelview(img), crop_from_left, crop_from_right, crop_from_top, crop_from_bottom, target_height, target_width)\n",
    "# # img = reinterpret.(UInt8,img)\n",
    "# frame_pairs = []\n",
    "# println(summary(img))\n",
    "# current_frame = img\n",
    "\n",
    "# while !eof(f)\n",
    "#     global current_frame\n",
    "#     prev_frame = current_frame\n",
    "#     current_frame = read(f)\n",
    "#     current_frame = GetPreProcessedImageArrayDataset(channelview(current_frame), crop_from_left, crop_from_right, crop_from_top, crop_from_bottom,target_height, target_width)\n",
    "# #     current_frame = reinterpret.(UInt8,current_frame)\n",
    "# #     current_frame = UInt8.(current_frame)\n",
    "#     push!(frame_pairs, (prev_frame, current_frame))\n",
    "\n",
    "# end\n",
    "\n",
    "# # if (gpu()>=0)\n",
    "# #     frame_pairs = KnetArray(frame_pairs)\n",
    "# # end\n",
    "# close(f)\n",
    "# summary(frame_pairs)"
   ]
  },
  {
   "cell_type": "code",
   "execution_count": 9,
   "metadata": {},
   "outputs": [
    {
     "data": {
      "text/plain": [
       "\"2936-element Array{Any,1}\""
      ]
     },
     "execution_count": 9,
     "metadata": {},
     "output_type": "execute_result"
    }
   ],
   "source": [
    "check_dataset = frames\n",
    "summary(check_dataset)"
   ]
  },
  {
   "cell_type": "code",
   "execution_count": 10,
   "metadata": {},
   "outputs": [],
   "source": [
    "Knet.save(\"empty_frames.jld2\", \"dataset\",check_dataset)\n",
    "# summary(b)"
   ]
  },
  {
   "cell_type": "code",
   "execution_count": 15,
   "metadata": {},
   "outputs": [
    {
     "name": "stdout",
     "output_type": "stream",
     "text": [
      "3480-element Array{Any,1}\n"
     ]
    }
   ],
   "source": [
    "check_dataset = []\n",
    "for i in 1:length(frame_pairs)\n",
    "    \n",
    "        data = (frame_pairs[i],dataset_instructions[21])\n",
    "        push!(check_dataset,data)\n",
    "    \n",
    "end\n",
    "# # Knet.save(\"checkDataset.jld2\", \"model\", hope_dataset)\n",
    "println(summary(check_dataset))\n",
    "# # if (gpu()>=0)\n",
    "# #     check_dataset = KnetArray(check_dataset)\n",
    "# # end\n",
    "# minibatches = minibatch(check_dataset, ones(length(check_dataset)), BATCHSIZE)\n",
    "# summary(minibatches)"
   ]
  },
  {
   "cell_type": "code",
   "execution_count": 10,
   "metadata": {},
   "outputs": [
    {
     "data": {
      "text/plain": [
       "242-element Array{Int64,1}:\n",
       "  770\n",
       "  771\n",
       "  772\n",
       "  773\n",
       "  774\n",
       "  775\n",
       "  776\n",
       "  777\n",
       "  778\n",
       "  779\n",
       "  780\n",
       "  781\n",
       "  782\n",
       "    ⋮\n",
       " 1269\n",
       " 1270\n",
       " 1271\n",
       " 1272\n",
       " 1273\n",
       " 1274\n",
       " 1275\n",
       " 1276\n",
       " 1277\n",
       " 1278\n",
       " 1279\n",
       " 1280"
      ]
     },
     "execution_count": 10,
     "metadata": {},
     "output_type": "execute_result"
    }
   ],
   "source": [
    "a = []\n",
    "a1 = collect(770:800)\n",
    "a2 = collect(850:860)\n",
    "a3 = collect(1065:1118)\n",
    "a4 = collect(1126:1160)\n",
    "a5 = collect(1170:1280)\n",
    "# a6 = collect(542:594)\n",
    "# a7 = collect(602:654)\n",
    "# a8 = collect(2057:2058)\n",
    "# a9 = collect(1914:1915)\n",
    "# a10 = collect(2159:2171)\n",
    "# a11 = collect(2237:224\n",
    "\n",
    "push!(a, a1, a2,a3,a4,a5)\n",
    "j = collect(flatten(a))"
   ]
  },
  {
   "cell_type": "code",
   "execution_count": 7,
   "metadata": {},
   "outputs": [
    {
     "data": {
      "text/plain": [
       "\"24951-element Array{Tuple{NTuple{4,Array{Normed{UInt8,8},3}},String},1}\""
      ]
     },
     "execution_count": 7,
     "metadata": {},
     "output_type": "execute_result"
    }
   ],
   "source": [
    "d=Knet.load(\"4dataset_total2.jld2\",\"dataset\")\n",
    "summary(d)"
   ]
  },
  {
   "cell_type": "code",
   "execution_count": 12,
   "metadata": {},
   "outputs": [
    {
     "data": {
      "text/plain": [
       "\"653-element Array{Tuple{NTuple{4,Array{Normed{UInt8,8},3}},String},1}\""
      ]
     },
     "execution_count": 12,
     "metadata": {},
     "output_type": "execute_result"
    }
   ],
   "source": [
    "\n",
    "for i in 1:length(check_dataset)\n",
    "    if i in j\n",
    "        push!(d, (check_dataset[i],dataset_instructions[20]))\n",
    "    end\n",
    "end\n",
    "summary(d)"
   ]
  },
  {
   "cell_type": "code",
   "execution_count": 15,
   "metadata": {},
   "outputs": [
    {
     "data": {
      "text/plain": [
       "\"Tuple{NTuple{4,Array{Normed{UInt8,8},3}},String}\""
      ]
     },
     "execution_count": 15,
     "metadata": {},
     "output_type": "execute_result"
    }
   ],
   "source": [
    "summary(d[1])"
   ]
  },
  {
   "cell_type": "code",
   "execution_count": 13,
   "metadata": {},
   "outputs": [],
   "source": [
    "Knet.save(\"4dataset_stupid_true.jld2\",\"dataset\",d)"
   ]
  },
  {
   "cell_type": "code",
   "execution_count": 14,
   "metadata": {},
   "outputs": [
    {
     "data": {
      "text/plain": [
       "\"6605-element Array{Tuple{NTuple{4,Array{Normed{UInt8,8},3}},String},1}\""
      ]
     },
     "execution_count": 14,
     "metadata": {},
     "output_type": "execute_result"
    }
   ],
   "source": [
    "d1 = Knet.load(\"4dataset_new.jld2\",\"dataset\")\n",
    "d2 = append!(d1,d)\n",
    "Knet.save(\"4dataset_new2.jld2\",\"dataset\",d2)\n",
    "summary(d2)"
   ]
  },
  {
   "cell_type": "code",
   "execution_count": 15,
   "metadata": {},
   "outputs": [
    {
     "data": {
      "text/plain": [
       "\"24251-element Array{Tuple{NTuple{4,Array{Normed{UInt8,8},3}},String},1}\""
      ]
     },
     "execution_count": 15,
     "metadata": {},
     "output_type": "execute_result"
    }
   ],
   "source": [
    "d3 = Knet.load(\"4dataset_false.jld2\",\"dataset\")\n",
    "d4 = append!(d2,d3)\n",
    "Knet.save(\"4dataset_total2.jld2\",\"dataset\",d4)\n",
    "summary(d4)"
   ]
  },
  {
   "cell_type": "code",
   "execution_count": 38,
   "metadata": {},
   "outputs": [
    {
     "name": "stdin",
     "output_type": "stream",
     "text": [
      "stdin>  45\n"
     ]
    },
    {
     "data": {
      "text/plain": [
       "45"
      ]
     },
     "execution_count": 38,
     "metadata": {},
     "output_type": "execute_result"
    }
   ],
   "source": [
    "response = readline()\n",
    "parse(Int, response)\n"
   ]
  },
  {
   "cell_type": "code",
   "execution_count": 13,
   "metadata": {},
   "outputs": [
    {
     "data": {
      "image/png": "[encoded data removed]",
      "text/plain": [
       "210×640 reshape(reinterpret(RGB{N0f8}, ::Array{N0f8,3}), 210, 640) with eltype RGB{Normed{UInt8,8}}:\n",
       " RGB{N0f8}(0.0,0.0,0.0)        …  RGB{N0f8}(0.0,0.0,0.0)      \n",
       " RGB{N0f8}(0.0,0.0,0.0)           RGB{N0f8}(0.0,0.0,0.0)      \n",
       " RGB{N0f8}(0.0,0.0,0.0)           RGB{N0f8}(0.0,0.0,0.0)      \n",
       " RGB{N0f8}(0.0,0.0,0.0)           RGB{N0f8}(0.0,0.0,0.0)      \n",
       " RGB{N0f8}(0.0,0.0,0.0)           RGB{N0f8}(0.0,0.0,0.0)      \n",
       " RGB{N0f8}(0.0,0.0,0.0)        …  RGB{N0f8}(0.0,0.0,0.0)      \n",
       " RGB{N0f8}(0.0,0.0,0.0)           RGB{N0f8}(0.0,0.0,0.0)      \n",
       " RGB{N0f8}(0.0,0.0,0.0)           RGB{N0f8}(0.0,0.0,0.0)      \n",
       " RGB{N0f8}(0.0,0.0,0.0)           RGB{N0f8}(0.0,0.0,0.0)      \n",
       " RGB{N0f8}(0.0,0.0,0.0)           RGB{N0f8}(0.0,0.0,0.0)      \n",
       " RGB{N0f8}(0.0,0.0,0.0)        …  RGB{N0f8}(0.0,0.0,0.0)      \n",
       " RGB{N0f8}(0.0,0.0,0.0)           RGB{N0f8}(0.0,0.0,0.0)      \n",
       " RGB{N0f8}(0.0,0.0,0.0)           RGB{N0f8}(0.0,0.0,0.0)      \n",
       " ⋮                             ⋱                              \n",
       " RGB{N0f8}(0.192,0.557,0.471)     RGB{N0f8}(0.227,0.698,0.486)\n",
       " RGB{N0f8}(0.153,0.008,0.506)     RGB{N0f8}(0.239,0.694,0.498)\n",
       " RGB{N0f8}(0.18,0.0,0.549)     …  RGB{N0f8}(0.235,0.694,0.486)\n",
       " RGB{N0f8}(0.161,0.086,0.525)     RGB{N0f8}(0.251,0.639,0.518)\n",
       " RGB{N0f8}(0.227,0.694,0.482)     RGB{N0f8}(0.169,0.0,0.529)  \n",
       " RGB{N0f8}(0.239,0.69,0.494)      RGB{N0f8}(0.173,0.0,0.549)  \n",
       " RGB{N0f8}(0.239,0.694,0.49)      RGB{N0f8}(0.106,0.008,0.443)\n",
       " RGB{N0f8}(0.239,0.69,0.49)    …  RGB{N0f8}(0.255,0.616,0.537)\n",
       " RGB{N0f8}(0.169,0.165,0.482)     RGB{N0f8}(0.235,0.698,0.486)\n",
       " RGB{N0f8}(0.184,0.0,0.545)       RGB{N0f8}(0.235,0.698,0.486)\n",
       " RGB{N0f8}(0.18,0.0,0.51)         RGB{N0f8}(0.247,0.69,0.498) \n",
       " RGB{N0f8}(0.043,0.024,0.106)     RGB{N0f8}(0.102,0.192,0.141)"
      ]
     },
     "metadata": {},
     "output_type": "display_data"
    },
    {
     "name": "stdout",
     "output_type": "stream",
     "text": [
      "count: 1565\n"
     ]
    },
    {
     "name": "stdin",
     "output_type": "stream",
     "text": [
      "stdin>  exit\n"
     ]
    },
    {
     "data": {
      "text/plain": [
       "\"0-element Array{Any,1}\""
      ]
     },
     "execution_count": 13,
     "metadata": {},
     "output_type": "execute_result"
    }
   ],
   "source": [
    "i = 1565\n",
    "new_dataset = []\n",
    "while i <= length(check_dataset)\n",
    "    IJulia.clear_output(true)\n",
    "    display(colorview(RGB, permutedims(hcat(check_dataset[i][1],check_dataset[i][2],check_dataset[i][3],check_dataset[i][4]), (3,1,2))))\n",
    "    println(\"count: \", i)\n",
    "    response = readline()\n",
    "    if (response == \"\")\n",
    "        i+=1\n",
    "        continue\n",
    "    \n",
    "    elseif(response == \"p\")\n",
    "        i-=1\n",
    "    elseif(response == \"r\")\n",
    "        new_dataset=new_dataset[1:length(new_dataset)-1]\n",
    "    elseif (response == \"s\")\n",
    "        i+=10\n",
    "    elseif(response==\"exit\")\n",
    "        break\n",
    "    else\n",
    "        push!(new_dataset,(check_dataset[i],dataset_instructions[parse(Int,response)]))\n",
    "        i+=1\n",
    "    end\n",
    "#     if i in j\n",
    "#          push!(new_dataset,check_dataset[i])\n",
    "#     end\n",
    "    \n",
    "                        \n",
    "                        \n",
    "end\n",
    "summary(new_dataset)"
   ]
  },
  {
   "cell_type": "code",
   "execution_count": 30,
   "metadata": {},
   "outputs": [
    {
     "data": {
      "text/plain": [
       "\"Get the torch\""
      ]
     },
     "execution_count": 30,
     "metadata": {},
     "output_type": "execute_result"
    }
   ],
   "source": [
    "# # both_frames = hcat(frame_pairs[1][1], frame_pairs[1][2])\n",
    "# # summary(both_frames)\n",
    "# # channelview(RGB, both_frames)\n",
    "# xxx = Knet.load(\"checkDataset.jld2\", \"model\")\n",
    "# (x,y)= first(minibatches)\n",
    "# println(summary(xxx))\n",
    "\n",
    "new_dataset[1][2]\n",
    "# dataset_p = Knet.load(\"4dataset_new.jld2\",\"dataset\") \n",
    "# dataset = append!(dataset_p,new_dataset)"
   ]
  },
  {
   "cell_type": "code",
   "execution_count": 24,
   "metadata": {},
   "outputs": [],
   "source": [
    "Knet.save(\"4dtaset_new.jld2\",\"dataset\",dataset)"
   ]
  },
  {
   "cell_type": "code",
   "execution_count": 61,
   "metadata": {},
   "outputs": [
    {
     "data": {
      "text/plain": [
       "\"987-element Array{Tuple{NTuple{4,Array{Normed{UInt8,8},3}},String},1}\""
      ]
     },
     "execution_count": 61,
     "metadata": {},
     "output_type": "execute_result"
    }
   ],
   "source": [
    "append!(true_dataset,new_dataset)\n",
    "summary(true_dataset)"
   ]
  },
  {
   "cell_type": "code",
   "execution_count": 62,
   "metadata": {},
   "outputs": [],
   "source": [
    "Knet.save(\"4dataset_jump.jld2\",\"dataset\",true_dataset)"
   ]
  },
  {
   "cell_type": "code",
   "execution_count": 12,
   "metadata": {},
   "outputs": [
    {
     "name": "stdout",
     "output_type": "stream",
     "text": [
      "40×8 Array{Int64,2}\n",
      "w is: 12×21 Param{Array{Float32,2}}\n",
      "40×8 Array{Int64,2}\n",
      "w is: 12×21 Param{Array{Float32,2}}\n"
     ]
    },
    {
     "data": {
      "text/plain": [
       "2×40 Array{Float64,2}:\n",
       " 0.137437  0.0662877  0.898514  0.898013  …  0.897783  0.897783  0.201397\n",
       " 0.862563  0.933712   0.101486  0.101987     0.102217  0.102217  0.798603"
      ]
     },
     "execution_count": 12,
     "metadata": {},
     "output_type": "execute_result"
    }
   ],
   "source": [
    "# b(check_dataset)\n",
    "# b(minibatches)\n",
    "convertsimilaritytoprobdist(b(first(minibatches)[1]))"
   ]
  },
  {
   "cell_type": "code",
   "execution_count": 9,
   "metadata": {},
   "outputs": [
    {
     "data": {
      "text/plain": [
       "\"5952-element Array{Tuple{NTuple{4,Array{Normed{UInt8,8},3}},String},1}\""
      ]
     },
     "execution_count": 9,
     "metadata": {},
     "output_type": "execute_result"
    }
   ],
   "source": [
    "check_dataset= Knet.load(\"4dataset_new.jld2\",\"dataset\")\n",
    "summary(check_dataset)"
   ]
  },
  {
   "cell_type": "code",
   "execution_count": null,
   "metadata": {},
   "outputs": [
    {
     "data": {
      "image/png": "[encoded data removed]",
      "text/plain": [
       "210×640 reshape(reinterpret(RGB{N0f8}, ::Array{N0f8,3}), 210, 640) with eltype RGB{Normed{UInt8,8}}:\n",
       " RGB{N0f8}(0.0,0.0,0.0)        …  RGB{N0f8}(0.0,0.0,0.0)      \n",
       " RGB{N0f8}(0.0,0.0,0.0)           RGB{N0f8}(0.0,0.0,0.0)      \n",
       " RGB{N0f8}(0.0,0.0,0.0)           RGB{N0f8}(0.0,0.0,0.0)      \n",
       " RGB{N0f8}(0.0,0.0,0.0)           RGB{N0f8}(0.0,0.0,0.0)      \n",
       " RGB{N0f8}(0.0,0.0,0.0)           RGB{N0f8}(0.0,0.0,0.0)      \n",
       " RGB{N0f8}(0.0,0.0,0.0)        …  RGB{N0f8}(0.0,0.0,0.0)      \n",
       " RGB{N0f8}(0.0,0.0,0.0)           RGB{N0f8}(0.0,0.0,0.0)      \n",
       " RGB{N0f8}(0.0,0.0,0.0)           RGB{N0f8}(0.0,0.0,0.0)      \n",
       " RGB{N0f8}(0.0,0.0,0.0)           RGB{N0f8}(0.0,0.0,0.0)      \n",
       " RGB{N0f8}(0.0,0.0,0.0)           RGB{N0f8}(0.0,0.0,0.0)      \n",
       " RGB{N0f8}(0.0,0.0,0.0)        …  RGB{N0f8}(0.0,0.0,0.0)      \n",
       " RGB{N0f8}(0.0,0.0,0.0)           RGB{N0f8}(0.0,0.0,0.0)      \n",
       " RGB{N0f8}(0.0,0.0,0.0)           RGB{N0f8}(0.0,0.0,0.0)      \n",
       " ⋮                             ⋱                              \n",
       " RGB{N0f8}(0.192,0.557,0.471)     RGB{N0f8}(0.227,0.698,0.486)\n",
       " RGB{N0f8}(0.153,0.008,0.506)     RGB{N0f8}(0.239,0.694,0.498)\n",
       " RGB{N0f8}(0.18,0.0,0.549)     …  RGB{N0f8}(0.235,0.694,0.486)\n",
       " RGB{N0f8}(0.161,0.086,0.525)     RGB{N0f8}(0.251,0.639,0.518)\n",
       " RGB{N0f8}(0.227,0.694,0.482)     RGB{N0f8}(0.169,0.0,0.529)  \n",
       " RGB{N0f8}(0.239,0.69,0.494)      RGB{N0f8}(0.173,0.0,0.549)  \n",
       " RGB{N0f8}(0.239,0.694,0.49)      RGB{N0f8}(0.106,0.008,0.443)\n",
       " RGB{N0f8}(0.239,0.69,0.49)    …  RGB{N0f8}(0.255,0.616,0.537)\n",
       " RGB{N0f8}(0.169,0.165,0.482)     RGB{N0f8}(0.235,0.698,0.486)\n",
       " RGB{N0f8}(0.184,0.0,0.545)       RGB{N0f8}(0.235,0.698,0.486)\n",
       " RGB{N0f8}(0.18,0.0,0.51)         RGB{N0f8}(0.247,0.69,0.498) \n",
       " RGB{N0f8}(0.043,0.024,0.106)     RGB{N0f8}(0.102,0.192,0.141)"
      ]
     },
     "metadata": {},
     "output_type": "display_data"
    },
    {
     "name": "stdout",
     "output_type": "stream",
     "text": [
      "count: 1304\n"
     ]
    }
   ],
   "source": [
    "# hope_dataset = []\n",
    "# similarity_array = convertsimilaritytoprobdist(b(minibatches))\n",
    "# check_dataset= Knet.load(\"4dataset_new.jld2\",\"dataset\")\n",
    "i = 700\n",
    "\n",
    "while i <= length(check_dataset)\n",
    "    IJulia.clear_output(true)\n",
    "    display(colorview(RGB, permutedims(hcat(check_dataset[i][1],check_dataset[i][2],check_dataset[i][3],check_dataset[i][4]), (3,1,2))))\n",
    "    println(\"count: \", i)\n",
    "    sleep(0.4)\n",
    "    i+=1\n",
    "#     response = readline()\n",
    "#     if (response == \"\")\n",
    "#         i+=1\n",
    "#         continue\n",
    "#     elseif(response == \"p\")\n",
    "#         i-=1\n",
    "#    elseif (response == \"s\")\n",
    "#         i+=10\n",
    "#     elseif(response==\"exit\")\n",
    "#         break\n",
    "#     else\n",
    "#          i+=1\n",
    "#     end\n",
    "end\n",
    "\n",
    "# if (gpu()>=0)\n",
    "#     hope_dataset = KnetArray(hope_dataset)\n",
    "# end\n",
    "# argmax(convertsimilaritytoprobdist(b(first(dtst)[1]))[:,sample])"
   ]
  },
  {
   "cell_type": "markdown",
   "metadata": {},
   "source": [
    " Knet.save(\"hopeDataset.jld2\", \"model\", hope_dataset)"
   ]
  },
  {
   "cell_type": "code",
   "execution_count": 2,
   "metadata": {},
   "outputs": [
    {
     "ename": "UndefVarError",
     "evalue": "UndefVarError: Knet not defined",
     "output_type": "error",
     "traceback": [
      "UndefVarError: Knet not defined",
      "",
      "Stacktrace:",
      " [1] top-level scope at In[2]:1"
     ]
    }
   ],
   "source": [
    "hope_dataset = Knet.load(\"hopeDataset.jld2\", \"model\")\n",
    "summary(hope_dataset)"
   ]
  },
  {
   "cell_type": "code",
   "execution_count": 4,
   "metadata": {},
   "outputs": [
    {
     "data": {
      "text/plain": [
       "\"210×160×3 Array{N0f8,3} with eltype Normed{UInt8,8}\""
      ]
     },
     "execution_count": 4,
     "metadata": {},
     "output_type": "execute_result"
    }
   ],
   "source": [
    "summary(hope_dataset[1][1][1])"
   ]
  },
  {
   "cell_type": "code",
   "execution_count": 5,
   "metadata": {},
   "outputs": [],
   "source": [
    "using TestImages,Images, Colors"
   ]
  },
  {
   "cell_type": "code",
   "execution_count": 11,
   "metadata": {},
   "outputs": [
    {
     "data": {
      "text/plain": [
       "Dict{String,Any} with 4 entries:\n",
       "  \"gui\"         => Dict{String,Any}(\"window\"=>GtkWindowLeaf(name=\"\", parent, wi…\n",
       "  \"roi\"         => Dict{String,Any}(\"redraw\"=>55: \"map(clim-mapped image, input…\n",
       "  \"annotations\" => 4: \"input-3\" = Dict{UInt64,Any}() Dict{UInt64,Any} \n",
       "  \"clim\"        => 3: \"CLim\" = CLim{Normed{UInt8,8}}(0.0, 0.984) CLim{Normed{UI…"
      ]
     },
     "execution_count": 11,
     "metadata": {},
     "output_type": "execute_result"
    }
   ],
   "source": [
    "colorview(permutdims(hcat(hope_dataset[1655][1][1],hope_dataset[1655][1][2]),(3,1,2))"
   ]
  },
  {
   "cell_type": "code",
   "execution_count": 1,
   "metadata": {},
   "outputs": [
    {
     "ename": "UndefVarError",
     "evalue": "UndefVarError: hope_dataset not defined",
     "output_type": "error",
     "traceback": [
      "UndefVarError: hope_dataset not defined",
      "",
      "Stacktrace:",
      " [1] top-level scope at In[1]:1"
     ]
    }
   ],
   "source": [
    "hope_dataset[1655][2]"
   ]
  },
  {
   "cell_type": "code",
   "execution_count": null,
   "metadata": {},
   "outputs": [],
   "source": [
    "\n",
    "i = 1655\n",
    "imshow(hcat(hope_dataset[i][1][1],hope_dataset[i][1][2]))\n",
    "println(hope_dataset[i][2])\n",
    "if(readline()[1]=='y')\n",
    "    println(\"Yes\")\n",
    "end\n",
    "ImageView.close()"
   ]
  },
  {
   "cell_type": "code",
   "execution_count": null,
   "metadata": {},
   "outputs": [],
   "source": []
  }
 ],
 "metadata": {
  "kernelspec": {
   "display_name": "Julia 1.2.0",
   "language": "julia",
   "name": "julia-1.2"
  },
  "language_info": {
   "file_extension": ".jl",
   "mimetype": "application/julia",
   "name": "julia",
   "version": "1.2.0"
  }
 },
 "nbformat": 4,
 "nbformat_minor": 4
}
