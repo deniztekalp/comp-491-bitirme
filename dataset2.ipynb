{
 "cells": [
  {
   "cell_type": "code",
   "execution_count": 1,
   "metadata": {},
   "outputs": [],
   "source": [
    "using Pkg\n",
    "using Knet"
   ]
  },
  {
   "cell_type": "code",
   "execution_count": 2,
   "metadata": {},
   "outputs": [
    {
     "name": "stdout",
     "output_type": "stream",
     "text": [
      "\u001b[32m\u001b[1m  Updating\u001b[22m\u001b[39m registry at `~/.julia/registries/General`\n",
      "\u001b[32m\u001b[1m  Updating\u001b[22m\u001b[39m git-repo `https://github.com/JuliaRegistries/General.git`\n",
      "\u001b[2K\u001b[?25h[1mFetching:\u001b[22m\u001b[39m [========================================>]  100.0 %.0 %\u001b[32m\u001b[1m Resolving\u001b[22m\u001b[39m package versions...\n",
      "\u001b[32m\u001b[1m Installed\u001b[22m\u001b[39m PlotThemes ─ v1.0.0\n",
      "\u001b[32m\u001b[1m Installed\u001b[22m\u001b[39m Plots ────── v0.28.1\n",
      "\u001b[32m\u001b[1m  Updating\u001b[22m\u001b[39m `~/.julia/environments/v1.2/Project.toml`\n",
      " \u001b[90m [91a5bcdd]\u001b[39m\u001b[93m ↑ Plots v0.28.0 ⇒ v0.28.1\u001b[39m\n",
      "\u001b[32m\u001b[1m  Updating\u001b[22m\u001b[39m `~/.julia/environments/v1.2/Manifest.toml`\n",
      " \u001b[90m [ccf2f8ad]\u001b[39m\u001b[93m ↑ PlotThemes v0.4.0 ⇒ v1.0.0\u001b[39m\n",
      " \u001b[90m [91a5bcdd]\u001b[39m\u001b[93m ↑ Plots v0.28.0 ⇒ v0.28.1\u001b[39m\n",
      "\u001b[32m\u001b[1m  Building\u001b[22m\u001b[39m Plots → `~/.julia/packages/Plots/AXUqs/deps/build.log`\n",
      "\u001b[32m\u001b[1m Resolving\u001b[22m\u001b[39m package versions...\n",
      "\u001b[32m\u001b[1m  Updating\u001b[22m\u001b[39m `~/.julia/environments/v1.2/Project.toml`\n",
      "\u001b[90m [no changes]\u001b[39m\n",
      "\u001b[32m\u001b[1m  Updating\u001b[22m\u001b[39m `~/.julia/environments/v1.2/Manifest.toml`\n",
      "\u001b[90m [no changes]\u001b[39m\n",
      "\u001b[32m\u001b[1m Resolving\u001b[22m\u001b[39m package versions...\n",
      "\u001b[32m\u001b[1m  Updating\u001b[22m\u001b[39m `~/.julia/environments/v1.2/Project.toml`\n",
      "\u001b[90m [no changes]\u001b[39m\n",
      "\u001b[32m\u001b[1m  Updating\u001b[22m\u001b[39m `~/.julia/environments/v1.2/Manifest.toml`\n",
      "\u001b[90m [no changes]\u001b[39m\n",
      "\u001b[32m\u001b[1m Resolving\u001b[22m\u001b[39m package versions...\n",
      "\u001b[32m\u001b[1m  Updating\u001b[22m\u001b[39m `~/.julia/environments/v1.2/Project.toml`\n",
      "\u001b[90m [no changes]\u001b[39m\n",
      "\u001b[32m\u001b[1m  Updating\u001b[22m\u001b[39m `~/.julia/environments/v1.2/Manifest.toml`\n",
      "\u001b[90m [no changes]\u001b[39m\n",
      "\u001b[32m\u001b[1m Resolving\u001b[22m\u001b[39m package versions...\n",
      "\u001b[32m\u001b[1m  Updating\u001b[22m\u001b[39m `~/.julia/environments/v1.2/Project.toml`\n",
      "\u001b[90m [no changes]\u001b[39m\n",
      "\u001b[32m\u001b[1m  Updating\u001b[22m\u001b[39m `~/.julia/environments/v1.2/Manifest.toml`\n",
      "\u001b[90m [no changes]\u001b[39m\n",
      "\u001b[32m\u001b[1m Resolving\u001b[22m\u001b[39m package versions...\n",
      "\u001b[32m\u001b[1m  Updating\u001b[22m\u001b[39m `~/.julia/environments/v1.2/Project.toml`\n",
      "\u001b[90m [no changes]\u001b[39m\n",
      "\u001b[32m\u001b[1m  Updating\u001b[22m\u001b[39m `~/.julia/environments/v1.2/Manifest.toml`\n",
      "\u001b[90m [no changes]\u001b[39m\n",
      "\u001b[32m\u001b[1m Resolving\u001b[22m\u001b[39m package versions...\n",
      "\u001b[32m\u001b[1m  Updating\u001b[22m\u001b[39m `~/.julia/environments/v1.2/Project.toml`\n",
      "\u001b[90m [no changes]\u001b[39m\n",
      "\u001b[32m\u001b[1m  Updating\u001b[22m\u001b[39m `~/.julia/environments/v1.2/Manifest.toml`\n",
      "\u001b[90m [no changes]\u001b[39m\n",
      "695-element Array{Int32,1}\n",
      "695-element Array{Tuple{Tuple{Array{UInt8,3},Array{UInt8,3}},String},1}\n",
      "Train error before training is: 0.6764219941678343\n",
      "Test error before training is: 0.6501809576524483\n"
     ]
    },
    {
     "ename": "LoadError",
     "evalue": "MethodError: no method matching reluback(::Float64, ::Float32)\nClosest candidates are:\n  reluback(::Float64, !Matched::Knet.Bcasted{#s181} where #s181<:(KnetArray{Float64,N} where N)) at /Users/deniz/.julia/packages/Knet/HRYiN/src/binary.jl:126\n  reluback(::T<:Number, !Matched::T<:Number) where T<:Number at /Users/deniz/.julia/packages/Knet/HRYiN/src/unary.jl:54\n  reluback(!Matched::AutoGrad.Value{##408}, ::##409) where {##408, ##409} at none:0\n  ...",
     "output_type": "error",
     "traceback": [
      "MethodError: no method matching reluback(::Float64, ::Float32)\nClosest candidates are:\n  reluback(::Float64, !Matched::Knet.Bcasted{#s181} where #s181<:(KnetArray{Float64,N} where N)) at /Users/deniz/.julia/packages/Knet/HRYiN/src/binary.jl:126\n  reluback(::T<:Number, !Matched::T<:Number) where T<:Number at /Users/deniz/.julia/packages/Knet/HRYiN/src/unary.jl:54\n  reluback(!Matched::AutoGrad.Value{##408}, ::##409) where {##408, ##409} at none:0\n  ...",
      "",
      "Stacktrace:",
      " [1] _broadcast_getindex_evalf at ./broadcast.jl:625 [inlined]",
      " [2] _broadcast_getindex at ./broadcast.jl:598 [inlined]",
      " [3] getindex at ./broadcast.jl:558 [inlined]",
      " [4] copy at ./broadcast.jl:832 [inlined]",
      " [5] materialize(::Base.Broadcast.Broadcasted{Base.Broadcast.DefaultArrayStyle{2},Nothing,typeof(Knet.reluback),Tuple{Array{Float64,2},Array{Float32,2}}}) at ./broadcast.jl:798",
      " [6] back(::typeof(Base.Broadcast.broadcasted), ::Type{AutoGrad.Arg{2}}, ::Array{Float64,2}, ::AutoGrad.Result{Array{Float32,2}}, ::typeof(relu), ::AutoGrad.Result{Array{Float32,2}}) at ./none:0",
      " [7] #differentiate#3(::Base.Iterators.Pairs{Union{},Union{},Tuple{},NamedTuple{(),Tuple{}}}, ::typeof(AutoGrad.differentiate), ::Function) at /Users/deniz/.julia/packages/AutoGrad/pTNVv/src/core.jl:165",
      " [8] differentiate at /Users/deniz/.julia/packages/AutoGrad/pTNVv/src/core.jl:135 [inlined]",
      " [9] iterate at /Users/deniz/.julia/packages/Knet/HRYiN/src/train.jl:23 [inlined]",
      " [10] iterate at /Users/deniz/.julia/packages/Knet/HRYiN/src/progress.jl:65 [inlined]",
      " [11] #progress!#692(::Base.Iterators.Pairs{Union{},Union{},Tuple{},NamedTuple{(),Tuple{}}}, ::typeof(progress!), ::Knet.Minimize{Base.Iterators.Take{Base.Iterators.Cycle{Knet.Data{Tuple{Array{Tuple{Tuple{Array{UInt8,3},Array{UInt8,3}},String},1},Array{Int32,1}}}}}}) at /Users/deniz/.julia/packages/Knet/HRYiN/src/progress.jl:54",
      " [12] progress!(::Knet.Minimize{Base.Iterators.Take{Base.Iterators.Cycle{Knet.Data{Tuple{Array{Tuple{Tuple{Array{UInt8,3},Array{UInt8,3}},String},1},Array{Int32,1}}}}}}) at /Users/deniz/.julia/packages/Knet/HRYiN/src/progress.jl:54",
      " [13] top-level scope at /Users/deniz/Desktop/jupy/comp-491-bitirme-master/Bimodal_Embedding.jl:291",
      " [14] include at ./boot.jl:328 [inlined]",
      " [15] include_relative(::Module, ::String) at ./loading.jl:1094",
      " [16] include(::Module, ::String) at ./Base.jl:31",
      " [17] include(::String) at ./client.jl:431",
      " [18] top-level scope at In[2]:1"
     ]
    }
   ],
   "source": [
    "# using NBInclude\n",
    "# @nbinclude(\"Bimodal_Embedding.ipynb\")\n",
    "include(\"Bimodal_Embedding.jl\")"
   ]
  },
  {
   "cell_type": "code",
   "execution_count": 3,
   "metadata": {},
   "outputs": [
    {
     "ename": "LoadError",
     "evalue": "syntax: incomplete: unterminated multi-line comment #= ... =#",
     "output_type": "error",
     "traceback": [
      "syntax: incomplete: unterminated multi-line comment #= ... =#",
      ""
     ]
    }
   ],
   "source": [
    "#=\n",
    "\n",
    "dataset_instructions = []\n",
    "\n",
    "open(\"instructions_unique.txt\") do file\n",
    "    for f in eachline(file)\n",
    "    push!(dataset_instructions,f)    \n",
    "    end\n",
    "end\n",
    "# if (gpu()>=0)\n",
    "#     dataset_instructions = KnetArray(dataset_instructions)\n",
    "# end\n",
    "summary(dataset_instructions[1])\n"
   ]
  },
  {
   "cell_type": "code",
   "execution_count": 4,
   "metadata": {},
   "outputs": [
    {
     "name": "stdout",
     "output_type": "stream",
     "text": [
      "\u001b[32m\u001b[1m Resolving\u001b[22m\u001b[39m package versions...\n",
      "\u001b[32m\u001b[1m  Updating\u001b[22m\u001b[39m `~/.julia/environments/v1.2/Project.toml`\n",
      "\u001b[90m [no changes]\u001b[39m\n",
      "\u001b[32m\u001b[1m  Updating\u001b[22m\u001b[39m `~/.julia/environments/v1.2/Manifest.toml`\n",
      "\u001b[90m [no changes]\u001b[39m\n"
     ]
    }
   ],
   "source": [
    "Pkg.add(\"VideoIO\"); using VideoIO"
   ]
  },
  {
   "cell_type": "code",
   "execution_count": 5,
   "metadata": {},
   "outputs": [
    {
     "name": "stdout",
     "output_type": "stream",
     "text": [
      "\u001b[32m\u001b[1m Resolving\u001b[22m\u001b[39m package versions...\n",
      "\u001b[32m\u001b[1m  Updating\u001b[22m\u001b[39m `~/.julia/environments/v1.2/Project.toml`\n",
      "\u001b[90m [no changes]\u001b[39m\n",
      "\u001b[32m\u001b[1m  Updating\u001b[22m\u001b[39m `~/.julia/environments/v1.2/Manifest.toml`\n",
      "\u001b[90m [no changes]\u001b[39m\n",
      "\u001b[32m\u001b[1m Resolving\u001b[22m\u001b[39m package versions...\n",
      "\u001b[32m\u001b[1m  Updating\u001b[22m\u001b[39m `~/.julia/environments/v1.2/Project.toml`\n",
      "\u001b[90m [no changes]\u001b[39m\n",
      "\u001b[32m\u001b[1m  Updating\u001b[22m\u001b[39m `~/.julia/environments/v1.2/Manifest.toml`\n",
      "\u001b[90m [no changes]\u001b[39m\n"
     ]
    }
   ],
   "source": [
    "Pkg.add(\"Images\"); using Images; Pkg.add(\"Colors\"); using Colors"
   ]
  },
  {
   "cell_type": "code",
   "execution_count": 6,
   "metadata": {},
   "outputs": [
    {
     "data": {
      "text/plain": [
       "GetPreProcessedImageArrayDataset (generic function with 1 method)"
      ]
     },
     "execution_count": 6,
     "metadata": {},
     "output_type": "execute_result"
    }
   ],
   "source": [
    "function GetPreProcessedImageArrayDataset(img, cropfromleft::Float64, cropfromright::Float64, cropfromtop::Float64, cropfrombottom::Float64, target_height::Int, target_width::Int)\n",
    "    channels, height, width = size(img)\n",
    "    img = img[:,Int(round(height*cropfromtop))+1:Int(round((1-cropfrombottom)*height)), Int(round(width*cropfromleft))+1:Int(round((1-cropfromright)*width))]\n",
    "    img = imresize(img, (channels, target_height, target_width))\n",
    "    permutedims(img, (2,3,1))\n",
    "end"
   ]
  },
  {
   "cell_type": "code",
   "execution_count": 7,
   "metadata": {},
   "outputs": [
    {
     "ename": "LoadError",
     "evalue": "syntax: incomplete: unterminated multi-line comment #= ... =#",
     "output_type": "error",
     "traceback": [
      "syntax: incomplete: unterminated multi-line comment #= ... =#",
      ""
     ]
    }
   ],
   "source": [
    "#=\n",
    "\n",
    "io = VideoIO.open(\"montezuma2.mp4\")\n",
    "f = VideoIO.openvideo(io)\n",
    "target_width = 160\n",
    "target_height = 210\n",
    "crop_from_top = 0.1\n",
    "crop_from_bottom = 0.12\n",
    "crop_from_left = 0.15\n",
    "crop_from_right = 0.15\n",
    "img = read(f)\n",
    "img = GetPreProcessedImageArrayDataset(channelview(img), crop_from_left, crop_from_right, crop_from_top, crop_from_bottom, target_height, target_width)\n",
    "# img = reinterpret.(UInt8,img)\n",
    "frame_pairs = []\n",
    "println(summary(img))\n",
    "current_frame = img\n",
    "\n",
    "while !eof(f)\n",
    "    global current_frame\n",
    "    prev_frame = current_frame\n",
    "    current_frame = read(f)\n",
    "    current_frame = GetPreProcessedImageArrayDataset(channelview(current_frame), crop_from_left, crop_from_right, crop_from_top, crop_from_bottom,target_height, target_width)\n",
    "#     current_frame = reinterpret.(UInt8,current_frame)\n",
    "#     current_frame = UInt8.(current_frame)\n",
    "    push!(frame_pairs, (prev_frame, current_frame))\n",
    "\n",
    "end\n",
    "\n",
    "# if (gpu()>=0)\n",
    "#     frame_pairs = KnetArray(frame_pairs)\n",
    "# end\n",
    "close(f)\n",
    "summary(frame_pairs)"
   ]
  },
  {
   "cell_type": "code",
   "execution_count": 8,
   "metadata": {},
   "outputs": [],
   "source": [
    "#summary(frame_pairs[1])"
   ]
  },
  {
   "cell_type": "code",
   "execution_count": 9,
   "metadata": {},
   "outputs": [],
   "source": [
    "#b = Knet.load(\"bimodalv6.jld2\", \"model\")\n",
    "#summary(b)"
   ]
  },
  {
   "cell_type": "code",
   "execution_count": 10,
   "metadata": {},
   "outputs": [
    {
     "ename": "LoadError",
     "evalue": "syntax: incomplete: unterminated multi-line comment #= ... =#",
     "output_type": "error",
     "traceback": [
      "syntax: incomplete: unterminated multi-line comment #= ... =#",
      ""
     ]
    }
   ],
   "source": [
    "#=\n",
    "\n",
    "\n",
    "check_dataset = []\n",
    "for i in 1:length(frame_pairs)\n",
    "    for j in 1:length(dataset_instructions)\n",
    "        data = (frame_pairs[i],dataset_instructions[j])\n",
    "        push!(check_dataset,data)\n",
    "    end\n",
    "end\n",
    "println(summary(check_dataset))\n",
    "# if (gpu()>=0)\n",
    "#     check_dataset = KnetArray(check_dataset)\n",
    "# end\n",
    "minibatches = minibatch(check_dataset, ones(length(check_dataset)), BATCHSIZE)\n",
    "summary(minibatches)"
   ]
  },
  {
   "cell_type": "code",
   "execution_count": 11,
   "metadata": {},
   "outputs": [],
   "source": [
    "# both_frames = hcat(frame_pairs[1][1], frame_pairs[1][2])\n",
    "# summary(both_frames)\n",
    "# channelview(RGB, both_frames)\n",
    "#(x,y)= first(minibatches)\n",
    "#println(summary(x))"
   ]
  },
  {
   "cell_type": "code",
   "execution_count": 12,
   "metadata": {},
   "outputs": [],
   "source": [
    "# b(check_dataset)\n",
    "# b(minibatches)\n",
    "#convertsimilaritytoprobdist(b(first(minibatches)[1]))"
   ]
  },
  {
   "cell_type": "code",
   "execution_count": 13,
   "metadata": {},
   "outputs": [
    {
     "ename": "LoadError",
     "evalue": "syntax: incomplete: unterminated multi-line comment #= ... =#",
     "output_type": "error",
     "traceback": [
      "syntax: incomplete: unterminated multi-line comment #= ... =#",
      ""
     ]
    }
   ],
   "source": [
    "#=\n",
    "\n",
    "hope_dataset = []\n",
    "# similarity_array = convertsimilaritytoprobdist(b(minibatches))\n",
    "counter = 0\n",
    "for batch in minibatches\n",
    "    global counter \n",
    "      similarity_array = convertsimilaritytoprobdist(b(batch[1]))\n",
    "    for i = 1:BATCHSIZE\n",
    "        x = argmax(similarity_array[:,i])\n",
    "        println(counter*40+i)\n",
    "        if x == 1\n",
    "             push!(hope_dataset,check_dataset[counter*40+i])\n",
    "        end\n",
    "    end\n",
    "    counter += 1\n",
    "    \n",
    "end\n",
    "\n",
    "# if (gpu()>=0)\n",
    "#     hope_dataset = KnetArray(hope_dataset)\n",
    "# end\n",
    "# argmax(convertsimilaritytoprobdist(b(first(dtst)[1]))[:,sample])"
   ]
  },
  {
   "cell_type": "code",
   "execution_count": 14,
   "metadata": {},
   "outputs": [],
   "source": [
    " #net.save(\"hopeDataset.jld2\", \"model\", hope_dataset)"
   ]
  },
  {
   "cell_type": "code",
   "execution_count": 15,
   "metadata": {},
   "outputs": [
    {
     "data": {
      "text/plain": [
       "\"25418-element Array{Tuple{Tuple{Array{Normed{UInt8,8},3},Array{Normed{UInt8,8},3}},String},1}\""
      ]
     },
     "execution_count": 15,
     "metadata": {},
     "output_type": "execute_result"
    }
   ],
   "source": [
    "hope_dataset = Knet.load(\"hopeDataset.jld2\", \"model\")\n",
    "summary(hope_dataset)"
   ]
  },
  {
   "cell_type": "code",
   "execution_count": 16,
   "metadata": {},
   "outputs": [
    {
     "data": {
      "text/plain": [
       "\"210×160×3 Array{N0f8,3} with eltype Normed{UInt8,8}\""
      ]
     },
     "execution_count": 16,
     "metadata": {},
     "output_type": "execute_result"
    }
   ],
   "source": [
    "summary(hope_dataset[1][1][1])"
   ]
  },
  {
   "cell_type": "code",
   "execution_count": 17,
   "metadata": {},
   "outputs": [],
   "source": [
    "using TestImages,Images, Colors"
   ]
  },
  {
   "cell_type": "code",
   "execution_count": 18,
   "metadata": {},
   "outputs": [],
   "source": [
    "#colorview(RGB, permutedims(hcat(hope_dataset[1655][1][1],hope_dataset[1655][1][2]), (3,1,2)))"
   ]
  },
  {
   "cell_type": "code",
   "execution_count": 19,
   "metadata": {},
   "outputs": [],
   "source": [
    "#hope_dataset[1655][2]"
   ]
  },
  {
   "cell_type": "code",
   "execution_count": 20,
   "metadata": {},
   "outputs": [
    {
     "data": {
      "image/png": "[encoded data removed]",
      "text/plain": [
       "210×320 reshape(reinterpret(RGB{N0f8}, ::Array{N0f8,3}), 210, 320) with eltype RGB{Normed{UInt8,8}}:\n",
       " RGB{N0f8}(0.0,0.0,0.0)        …  RGB{N0f8}(0.0,0.0,0.0)      \n",
       " RGB{N0f8}(0.0,0.0,0.0)           RGB{N0f8}(0.0,0.0,0.0)      \n",
       " RGB{N0f8}(0.0,0.0,0.0)           RGB{N0f8}(0.0,0.0,0.0)      \n",
       " RGB{N0f8}(0.0,0.0,0.0)           RGB{N0f8}(0.0,0.0,0.0)      \n",
       " RGB{N0f8}(0.0,0.0,0.0)           RGB{N0f8}(0.0,0.0,0.0)      \n",
       " RGB{N0f8}(0.0,0.0,0.0)        …  RGB{N0f8}(0.0,0.0,0.0)      \n",
       " RGB{N0f8}(0.0,0.0,0.0)           RGB{N0f8}(0.0,0.0,0.0)      \n",
       " RGB{N0f8}(0.0,0.0,0.0)           RGB{N0f8}(0.0,0.0,0.0)      \n",
       " RGB{N0f8}(0.0,0.0,0.0)           RGB{N0f8}(0.0,0.0,0.0)      \n",
       " RGB{N0f8}(0.0,0.0,0.0)           RGB{N0f8}(0.0,0.0,0.0)      \n",
       " RGB{N0f8}(0.0,0.0,0.0)        …  RGB{N0f8}(0.0,0.0,0.0)      \n",
       " RGB{N0f8}(0.0,0.0,0.0)           RGB{N0f8}(0.0,0.0,0.0)      \n",
       " RGB{N0f8}(0.0,0.0,0.0)           RGB{N0f8}(0.0,0.0,0.0)      \n",
       " ⋮                             ⋱                              \n",
       " RGB{N0f8}(0.318,0.655,0.486)     RGB{N0f8}(0.325,0.655,0.49) \n",
       " RGB{N0f8}(0.125,0.208,0.541)     RGB{N0f8}(0.329,0.647,0.49) \n",
       " RGB{N0f8}(0.114,0.204,0.537)  …  RGB{N0f8}(0.318,0.655,0.486)\n",
       " RGB{N0f8}(0.098,0.22,0.486)      RGB{N0f8}(0.337,0.627,0.525)\n",
       " RGB{N0f8}(0.333,0.643,0.478)     RGB{N0f8}(0.102,0.208,0.529)\n",
       " RGB{N0f8}(0.322,0.647,0.494)     RGB{N0f8}(0.125,0.204,0.545)\n",
       " RGB{N0f8}(0.329,0.643,0.49)      RGB{N0f8}(0.118,0.208,0.545)\n",
       " RGB{N0f8}(0.337,0.643,0.49)   …  RGB{N0f8}(0.345,0.627,0.51) \n",
       " RGB{N0f8}(0.09,0.239,0.459)      RGB{N0f8}(0.325,0.647,0.486)\n",
       " RGB{N0f8}(0.102,0.2,0.525)       RGB{N0f8}(0.329,0.647,0.486)\n",
       " RGB{N0f8}(0.102,0.2,0.541)       RGB{N0f8}(0.329,0.647,0.482)\n",
       " RGB{N0f8}(0.0,0.0,0.0)           RGB{N0f8}(0.0,0.004,0.0)    "
      ]
     },
     "metadata": {},
     "output_type": "display_data"
    },
    {
     "name": "stdout",
     "output_type": "stream",
     "text": [
      "Get the torch\n"
     ]
    },
    {
     "name": "stdin",
     "output_type": "stream",
     "text": [
      "stdin>  exit\n"
     ]
    }
   ],
   "source": [
    "true_data = []\n",
    "begin_index = 1\n",
    "for i = begin_index:length(hope_dataset)\n",
    "    IJulia.clear_output(true)\n",
    "    display(colorview(RGB, permutedims(hcat(hope_dataset[i][1][1],hope_dataset[i][1][2]), (3,1,2))))\n",
    "    println(hope_dataset[i][2])\n",
    "    println(\"count: \", i)\n",
    "    response = readline()\n",
    "    if(response==\"y\")\n",
    "        push!(true_data, hope_dataset[i])\n",
    "    elseif(response==\"n\")\n",
    "        continue\n",
    "    elseif(response==\"exit\")\n",
    "        break       \n",
    "    end\n",
    "end"
   ]
  },
  {
   "cell_type": "code",
   "execution_count": 21,
   "metadata": {},
   "outputs": [
    {
     "data": {
      "text/plain": [
       "1"
      ]
     },
     "execution_count": 21,
     "metadata": {},
     "output_type": "execute_result"
    }
   ],
   "source": [
    "length(true_data)"
   ]
  },
  {
   "cell_type": "code",
   "execution_count": null,
   "metadata": {},
   "outputs": [],
   "source": []
  }
 ],
 "metadata": {
  "kernelspec": {
   "display_name": "Julia 1.2.0",
   "language": "julia",
   "name": "julia-1.2"
  },
  "language_info": {
   "file_extension": ".jl",
   "mimetype": "application/julia",
   "name": "julia",
   "version": "1.2.0"
  }
 },
 "nbformat": 4,
 "nbformat_minor": 4
}
