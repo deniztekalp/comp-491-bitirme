{
 "cells": [
  {
   "cell_type": "code",
   "execution_count": 2,
   "metadata": {},
   "outputs": [],
   "source": [
    "import pickle\n",
    "import numpy as np\n",
    "import cv2"
   ]
  },
  {
   "cell_type": "code",
   "execution_count": 3,
   "metadata": {},
   "outputs": [],
   "source": [
    "list_of_instructions = [\n",
    "    'Climb down the ladder',\t\t\t#0\n",
    "    'Climb up the ladder',\t\t\t\t#1\n",
    "    'Get the key',\t\t\t\t\t\t#2\n",
    "    'Get the sword',\t\t\t\t\t#3\n",
    "    'Get the torch',\t\t\t\t\t#4\n",
    "    'Go between the lasers',\t\t\t#5\n",
    "    'Go to the bottom of the room',\t\t#6\n",
    "    'Go to the bottom room',\t\t\t#7\n",
    "    'Go to the center of the room',\t\t#8\n",
    "    'Go to the left room',\t\t\t\t#9\n",
    "    'Go to the left side of the room',\t#10\n",
    "    'Go to the right room',\t\t\t\t#11\n",
    "    'Go to the right side of the room',\t#12\n",
    "    'Go to the top of the room',\t\t#13\n",
    "    'Go to the top room',\t\t\t\t#14\n",
    "    'Jump to the rope',\t\t\t\t\t#15\n",
    "    'Use the key',\t\t\t\t\t\t#16\n",
    "]\n",
    "\n",
    "dataset = []"
   ]
  },
  {
   "cell_type": "code",
   "execution_count": 4,
   "metadata": {},
   "outputs": [],
   "source": [
    "def label_images():\n",
    "\n",
    "    global dataset\n",
    "\n",
    "    for i in range(400,600):\n",
    "\n",
    "        f1 = open('saved/sprite_' + str(i) + '.pickle','rb')\n",
    "        f2 = open('saved/sprite_' + str(i+1) + '.pickle','rb')\n",
    "\n",
    "        image1 = pickle.load(f1)\n",
    "        image2 = pickle.load(f2)\n",
    "\n",
    "        image1 = image1[:,:,::-1]\n",
    "        image2 = image2[:,:,::-1]\n",
    "\n",
    "        both = np.hstack((image1, image2))\n",
    "\n",
    "        cv2.imshow('image' + str(i),both)\n",
    "        cv2.waitKey(1000)\n",
    "\n",
    "        inp = input()\n",
    "\n",
    "        if inp == 'q':\n",
    "            \n",
    "            with open('dataset3.pickle','wb') as f:\n",
    "                pickle.dump(dataset,f)\n",
    "            break\n",
    "        elif inp == 'n':\n",
    "            continue\n",
    "        else:\n",
    "            try:\n",
    "                x = int(inp)\n",
    "                dataset.append(((image1,image2),list_of_instructions[x]))\n",
    "            except ValueError:\n",
    "                print(\"skipped\")\n",
    "\n",
    "    with open('dataset3.pickle','wb') as f:\n",
    "        pickle.dump(dataset,f)\n"
   ]
  },
  {
   "cell_type": "code",
   "execution_count": 5,
   "metadata": {},
   "outputs": [],
   "source": [
    "#label_images()\n",
    "def combine():\n",
    "\n",
    "    f1 = open('dataset1.pickle','rb')\n",
    "    f2 = open('dataset2.pickle','rb')\n",
    "    f3 = open('dataset3.pickle','rb')\n",
    "    f5 = open('dataset7.pickle','rb')\n",
    "    f6 = open('dataset8.pickle','rb')\n",
    "    f7 = open('dataset9.pickle','rb')\n",
    "\n",
    "    l1 = pickle.load(f1)\n",
    "    l2 = pickle.load(f2)\n",
    "    l3 = pickle.load(f3)\n",
    "    l5 = pickle.load(f5)\n",
    "    l6 = pickle.load(f6)\n",
    "    l7 = pickle.load(f7)\n",
    "\n",
    "    print (len(l1))\n",
    "    print (len(l2))\n",
    "    print (len(l3))\n",
    "    print (len(l5))\n",
    "    print (len(l6))\n",
    "    print (len(l7))\n",
    "\n",
    "    l = l1 + l2 + l3 + l5 + l6 + l7\n",
    "\n",
    "    with open('dataset.pickle','wb') as f:\n",
    "        pickle.dump(l,f)\n",
    "\n"
   ]
  },
  {
   "cell_type": "code",
   "execution_count": 6,
   "metadata": {},
   "outputs": [
    {
     "ename": "FileNotFoundError",
     "evalue": "[Errno 2] No such file or directory: 'dataset.pickle'",
     "output_type": "error",
     "traceback": [
      "\u001b[0;31m---------------------------------------------------------------------------\u001b[0m",
      "\u001b[0;31mFileNotFoundError\u001b[0m                         Traceback (most recent call last)",
      "\u001b[0;32m<ipython-input-6-12d2a409a0eb>\u001b[0m in \u001b[0;36m<module>\u001b[0;34m\u001b[0m\n\u001b[1;32m      1\u001b[0m \u001b[0;31m#combine()\u001b[0m\u001b[0;34m\u001b[0m\u001b[0;34m\u001b[0m\u001b[0;34m\u001b[0m\u001b[0m\n\u001b[0;32m----> 2\u001b[0;31m \u001b[0;32mwith\u001b[0m \u001b[0mopen\u001b[0m\u001b[0;34m(\u001b[0m\u001b[0;34m'dataset.pickle'\u001b[0m\u001b[0;34m,\u001b[0m\u001b[0;34m'rb'\u001b[0m\u001b[0;34m)\u001b[0m \u001b[0;32mas\u001b[0m \u001b[0mf\u001b[0m\u001b[0;34m:\u001b[0m\u001b[0;34m\u001b[0m\u001b[0;34m\u001b[0m\u001b[0m\n\u001b[0m\u001b[1;32m      3\u001b[0m     \u001b[0ml\u001b[0m \u001b[0;34m=\u001b[0m \u001b[0mpickle\u001b[0m\u001b[0;34m.\u001b[0m\u001b[0mload\u001b[0m\u001b[0;34m(\u001b[0m\u001b[0mf\u001b[0m\u001b[0;34m)\u001b[0m\u001b[0;34m\u001b[0m\u001b[0;34m\u001b[0m\u001b[0m\n",
      "\u001b[0;31mFileNotFoundError\u001b[0m: [Errno 2] No such file or directory: 'dataset.pickle'"
     ]
    }
   ],
   "source": [
    "#combine()\n",
    "with open('dataset.pickle','rb') as f:\n",
    "    l = pickle.load(f)\n",
    "\n"
   ]
  },
  {
   "cell_type": "code",
   "execution_count": null,
   "metadata": {},
   "outputs": [],
   "source": [
    "for i in range(0,200,20):\n",
    "\n",
    "    (f1,f2), sent = l[i]\n",
    "\n",
    "    both = np.hstack((f1, f2))\n",
    "\n",
    "    print (sent)\n",
    "\n",
    "    cv2.imshow('image' + str(i),both)\n",
    "    cv2.waitKey()"
   ]
  }
 ],
 "metadata": {
  "kernelspec": {
   "display_name": "Python 3",
   "language": "python",
   "name": "python3"
  },
  "language_info": {
   "codemirror_mode": {
    "name": "ipython",
    "version": 3
   },
   "file_extension": ".py",
   "mimetype": "text/x-python",
   "name": "python",
   "nbconvert_exporter": "python",
   "pygments_lexer": "ipython3",
   "version": "3.7.3"
  }
 },
 "nbformat": 4,
 "nbformat_minor": 2
}
