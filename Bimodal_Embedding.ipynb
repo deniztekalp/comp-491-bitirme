{
 "cells": [
  {
   "cell_type": "code",
   "execution_count": null,
   "metadata": {},
   "outputs": [],
   "source": [
    "using Pkg\n",
    "using Knet: Knet, param, param0, @diff, grad,RNN,mat, params, KnetArray, conv4, Data, relu, pool, dropout\n",
    "using Random: shuffle!\n",
    "using IterTools: ncycle\n",
    "using TestImages,Images, ImageView\n",
    "using PyCall\n",
    "pickle = pyimport(\"pickle\")\n",
    "numpy = pyimport(\"numpy\")"
   ]
  },
  {
   "cell_type": "code",
   "execution_count": null,
   "metadata": {},
   "outputs": [],
   "source": [
    "using Base.Iterators"
   ]
  },
  {
   "cell_type": "code",
   "execution_count": null,
   "metadata": {},
   "outputs": [],
   "source": [
    "function prepare_sentence(sent, to_ix)\n",
    "    sent = split(strip(lowercase(sent),' '))\n",
    "    idxs = [to_ix[w] for w in sent]\n",
    "    return idxs\n",
    "end"
   ]
  },
  {
   "cell_type": "code",
   "execution_count": null,
   "metadata": {},
   "outputs": [],
   "source": [
    "function mask!(a,pad)\n",
    "    x,y = size(a)\n",
    "    for i = 1:x\n",
    "        for j = 1:y\n",
    "            if a[i, j] == pad\n",
    "                a[i, j] = 0\n",
    "            end\n",
    "        end\n",
    "    end\n",
    "    return a\n",
    "end"
   ]
  },
  {
   "cell_type": "code",
   "execution_count": null,
   "metadata": {},
   "outputs": [],
   "source": [
    "function mypickle(filename, obj)\n",
    "    out = open(filename,\"w\")\n",
    "    pickle.dump(obj, out)\n",
    "    close(out)\n",
    " end\n",
    "\n",
    "function myunpickle(filename)\n",
    "    r = nothing\n",
    "    @pywith pybuiltin(\"open\")(filename,\"rb\") as f begin\n",
    "        r = pickle.load(f)\n",
    "    end\n",
    "    return r\n",
    "end"
   ]
  },
  {
   "cell_type": "code",
   "execution_count": null,
   "metadata": {},
   "outputs": [],
   "source": [
    "true_dataset = myunpickle(\"dataset/dataset_true.pickle\")\n",
    "# false_dataset = myunpickle(\"dataset/dataset_false.pickle\")\n",
    "\n",
    "wdict = Dict()\n",
    "w2i(x) = get!(wdict, x, 1+length(wdict))\n",
    "UNK = w2i(\"<unk>\")\n",
    "EOS = w2i(\"<eos>\")\n",
    "#w2i(x) = get(wdict, x, UNK), for test time"
   ]
  },
  {
   "cell_type": "code",
   "execution_count": null,
   "metadata": {},
   "outputs": [],
   "source": [
    "EMBEDDING_DIM = 20\n",
    "HIDDEN_DIM_LSTM = 10\n",
    "VOCAB_SIZE = length(wdict)\n",
    "BATCHSIZE = 6"
   ]
  },
  {
   "cell_type": "code",
   "execution_count": null,
   "metadata": {},
   "outputs": [],
   "source": [
    "images = []\n",
    "labels = []\n",
    "for i in 1:length(true_dataset)\n",
    "    (f1,f2), sent = true_dataset[i]\n",
    "    both_frames = hcat(f1,f2)\n",
    "    both_frames = Float32.(both_frames)\n",
    "    wordids = w2i.(split(sent))\n",
    "    push!(labels, wordids)\n",
    "    push!(images,both_frames)\n",
    "end"
   ]
  },
  {
   "cell_type": "code",
   "execution_count": 99,
   "metadata": {},
   "outputs": [
    {
     "data": {
      "text/plain": [
       "Conv"
      ]
     },
     "execution_count": 99,
     "metadata": {},
     "output_type": "execute_result"
    }
   ],
   "source": [
    "mutable struct Conv \n",
    "    w \n",
    "    b \n",
    "    f_activation\n",
    "    p_drop\n",
    "    f_pool\n",
    "end\n",
    "(c::Conv)(x) = c.f_activation.(c.f_pool(conv4(c.w, dropout(x,c.p_drop)) .+ c.b))\n",
    "\n",
    "\n",
    "Conv(w1::Int,w2::Int,cx::Int,cy::Int;f=relu, pdrop=0, f_pool=pool) = Conv(param(w1,w2,cx,cy), param0(1,1,cy,1), f, pdrop, f_pool)"
   ]
  },
  {
   "cell_type": "code",
   "execution_count": null,
   "metadata": {},
   "outputs": [],
   "source": [
    "struct Dense; w; b; f; p; end\n",
    "(d::Dense)(x) = d.f.(d.w * mat(dropout(x,d.p)) .+ d.b) # mat reshapes 4-D tensor to 2-D matrix so we can use matmul\n",
    "Dense(i::Int,o::Int,f=relu;pdrop=0) = Dense(param(o,i), param0(o), f, pdrop)"
   ]
  },
  {
   "cell_type": "code",
   "execution_count": null,
   "metadata": {},
   "outputs": [],
   "source": [
    "struct Projection; w; b; f; p; end\n",
    "(d::Projection)(x) = d.f.(d.w * mat(dropout(x,d.p)) .+ d.b) # mat reshapes 4-D tensor to 2-D matrix so we can use matmul\n",
    "Projection(i::Int,o::Int,f=relu;pdrop=0) = Projection(param(o,i), param0(o), f, pdrop)"
   ]
  },
  {
   "cell_type": "code",
   "execution_count": null,
   "metadata": {},
   "outputs": [],
   "source": [
    "struct Embed; w; end\n",
    "Embed(vocabsize::Int,embedsize::Int) = Embed(param(embedsize,vocabsize))\n",
    "(e::Embed)(x) = e.w[:,x]"
   ]
  },
  {
   "cell_type": "code",
   "execution_count": 97,
   "metadata": {},
   "outputs": [],
   "source": [
    "mutable struct frame_head\n",
    "    conv1\n",
    "    conv2\n",
    "    conv3\n",
    "    conv4\n",
    "    fc\n",
    "    output\n",
    "end\n",
    "\n",
    "function frame_head(w1,c1,w2,c2,w3,c3,w4,c4,hidden, outdims)\n",
    "    conv1 = Conv(w1, w1, 3, c1)\n",
    "    conv2 = Conv(w2, w2, c1, c2)\n",
    "    conv3 = Conv(w3, w3, c2, c3)\n",
    "    conv4 = Conv(w4, w4, c3, c4; f_pool = identity)\n",
    "    fc = Dense(47040, hidden)\n",
    "    output = Dense(hidden, outdims)\n",
    "    frame_head(conv1, conv2, conv3, conv4, fc, output)\n",
    "end\n",
    "    \n",
    "\n",
    "function (f::frame_head)(x)\n",
    "    f.output(f.fc(f.conv4(f.conv3(f.conv2(f.conv1(x))))))\n",
    "end"
   ]
  },
  {
   "cell_type": "code",
   "execution_count": 92,
   "metadata": {},
   "outputs": [
    {
     "data": {
      "text/plain": [
       "sentence_head"
      ]
     },
     "execution_count": 92,
     "metadata": {},
     "output_type": "execute_result"
    }
   ],
   "source": [
    "mutable struct sentence_head\n",
    "    embed\n",
    "    encoder\n",
    "end\n",
    "\n",
    "\n",
    "function sentence_head(vocabsize::Int, embeddingsize::Int, hiddensize::Int)\n",
    "    embed = Embed(vocabsize, embeddingsize)\n",
    "    encoder = RNN(embeddingsize, hiddensize, rnnType = :lstm, h = 0)\n",
    "    sentence_head(embed, encoder)\n",
    "end"
   ]
  },
  {
   "cell_type": "code",
   "execution_count": 90,
   "metadata": {},
   "outputs": [],
   "source": [
    "function (s::sentence_head)(x)\n",
    "    \n",
    "    src_embed_tensor = s.embed(x)\n",
    "    s.encoder.h = 0\n",
    "    s.encoder.c = 0\n",
    "    y_enc = s.encoder(src_embed_tensor)\n",
    "end"
   ]
  },
  {
   "cell_type": "code",
   "execution_count": null,
   "metadata": {},
   "outputs": [],
   "source": [
    "mutable struct bimodalEncoder\n",
    "    fh\n",
    "    sh\n",
    "end\n",
    "\n",
    "\n",
    "function bimodalEncoder(w1,c1,w2,c2,w3,c3,w4,c4,hidden, outdims, vocabsize, embeddingsize, hiddensize)\n",
    "    fh = frame_head(w1,c1,w2,c2,w3,c3,w4,c4,hidden, outdims)\n",
    "    sh = sentence_head(vocabsize, embeddingsize, hiddensize)\n",
    "    bimodalEncoder(fh, sh)\n",
    "end"
   ]
  },
  {
   "cell_type": "code",
   "execution_count": 101,
   "metadata": {},
   "outputs": [
    {
     "data": {
      "text/plain": [
       "cosine_similarity (generic function with 1 method)"
      ]
     },
     "execution_count": 101,
     "metadata": {},
     "output_type": "execute_result"
    }
   ],
   "source": [
    "function cosine_similarity(b::bimodalEncoder, frame_pairs, sentences)\n",
    "   \n",
    "    sentence_representations = b.sh(sentences)[:,:]\n",
    "    frame_representations = b.fh(frame_pairs)\n",
    "    numerator = sum(sentence_representations .* frame_representations, dims = 1)\n",
    "    denominator = sqrt.(sum(sentence_representations.^2, dims = 1)) .* sqrt.(sum(frame_representations.^2, dims = 1))\n",
    "    return numerator ./ denominator\n",
    "end"
   ]
  },
  {
   "cell_type": "code",
   "execution_count": 93,
   "metadata": {},
   "outputs": [
    {
     "data": {
      "text/plain": [
       "findmaxlength (generic function with 1 method)"
      ]
     },
     "execution_count": 93,
     "metadata": {},
     "output_type": "execute_result"
    }
   ],
   "source": [
    "function findmaxlength(sentences)\n",
    "    maxsize = 0\n",
    "    count = 0\n",
    "    for sent in sentences\n",
    "        count = count + 1\n",
    "        if(length(sent) > maxsize)\n",
    "            \n",
    "            maxsize = length(sent)\n",
    "        end\n",
    "    end\n",
    "    return maxsize\n",
    "end"
   ]
  },
  {
   "cell_type": "code",
   "execution_count": 102,
   "metadata": {},
   "outputs": [
    {
     "data": {
      "text/plain": [
       "seqbatch (generic function with 1 method)"
      ]
     },
     "execution_count": 102,
     "metadata": {},
     "output_type": "execute_result"
    }
   ],
   "source": [
    "function seqbatch(sentences)\n",
    "    batchsize = size(sentences, 1)\n",
    "    maxlength = findmaxlength(sentences)\n",
    "    for sent in sentences\n",
    "        if(length(sent) < maxlength)\n",
    "            for i = 1:maxlength-length(sent)\n",
    "                push!(sent, 2)\n",
    "            end\n",
    "        end\n",
    "    end\n",
    "    permutedims(reshape(collect(flatten(sentences)), (8,347)), (2,1))\n",
    "end"
   ]
  },
  {
   "cell_type": "code",
   "execution_count": 103,
   "metadata": {},
   "outputs": [
    {
     "data": {
      "text/plain": [
       "\"210×320×3×347 Array{Float32,4}\""
      ]
     },
     "execution_count": 103,
     "metadata": {},
     "output_type": "execute_result"
    }
   ],
   "source": [
    "image_batch = reshape(collect(flatten(images)), (210,320,3,347))\n",
    "summary(image_batch)"
   ]
  },
  {
   "cell_type": "code",
   "execution_count": 104,
   "metadata": {},
   "outputs": [
    {
     "data": {
      "text/plain": [
       "bimodalEncoder(frame_head(Conv(P(Array{Float32,4}(5,5,3,32)), P(Array{Float32,4}(1,1,32,1)), NNlib.relu, 0, Knet.pool), Conv(P(Array{Float32,4}(5,5,32,32)), P(Array{Float32,4}(1,1,32,1)), NNlib.relu, 0, Knet.pool), Conv(P(Array{Float32,4}(4,4,32,64)), P(Array{Float32,4}(1,1,64,1)), NNlib.relu, 0, Knet.pool), Conv(P(Array{Float32,4}(3,3,64,64)), P(Array{Float32,4}(1,1,64,1)), NNlib.relu, 0, identity), Dense(P(Array{Float32,2}(100,47040)), P(Array{Float32,1}(100)), NNlib.relu, 0), Dense(P(Array{Float32,2}(10,100)), P(Array{Float32,1}(10)), NNlib.relu, 0)), sentence_head(Embed(P(Array{Float32,2}(12,21))), LSTM(input=12,hidden=10)))"
      ]
     },
     "execution_count": 104,
     "metadata": {},
     "output_type": "execute_result"
    }
   ],
   "source": [
    "b = bimodalEncoder(5,32,5,32,4,64,3,64, 100, 10, length(wdict), 12, 10)"
   ]
  },
  {
   "cell_type": "code",
   "execution_count": 105,
   "metadata": {},
   "outputs": [
    {
     "name": "stdout",
     "output_type": "stream",
     "text": [
      "sentence rep: (10, 347, 8)\n",
      "frame rep: (10, 347)\n"
     ]
    },
    {
     "data": {
      "text/plain": [
       "1×347×8 Array{Float32,3}:\n",
       "[:, :, 1] =\n",
       " -0.118038  -0.107908  -0.0797857  -0.0904838  …  0.52989  0.536415  0.548458\n",
       "\n",
       "[:, :, 2] =\n",
       " 0.0081733  0.00578424  0.0267582  …  0.46213  0.49325  0.504588  0.51652\n",
       "\n",
       "[:, :, 3] =\n",
       " 0.074913  0.0857655  0.112887  0.11035  …  0.446556  0.437023  0.418254\n",
       "\n",
       "[:, :, 4] =\n",
       " 0.195273  0.209828  0.229917  0.218314  …  0.425147  0.439768  0.436326\n",
       "\n",
       "[:, :, 5] =\n",
       " 0.303071  0.322774  0.342415  0.331482  …  -0.251736  -0.264469  -0.26805\n",
       "\n",
       "[:, :, 6] =\n",
       " 0.325411  0.34792  0.365377  0.35577  …  -0.16953  -0.184082  -0.209256\n",
       "\n",
       "[:, :, 7] =\n",
       " 0.311041  0.335934  0.351619  0.342798  …  -0.368751  -0.368247  -0.374371\n",
       "\n",
       "[:, :, 8] =\n",
       " 0.280387  0.307391  0.321864  0.31341  …  -0.302818  -0.302033  -0.325656"
      ]
     },
     "execution_count": 105,
     "metadata": {},
     "output_type": "execute_result"
    }
   ],
   "source": [
    "cosine_similarity(b, image_batch, seqbatch(labels))"
   ]
  },
  {
   "cell_type": "code",
   "execution_count": null,
   "metadata": {},
   "outputs": [],
   "source": [
    "# For running experiments we will use the Adam algorithm which typically converges faster than SGD.\n",
    "function trainresults(file,maker,savemodel)\n",
    "    if (print(\"Train from scratch? \"); readline()[1]=='y')\n",
    "        model = maker()\n",
    "        results = ((nll(model,dtst), zeroone(model,dtst))\n",
    "                   for x in takenth(progress(adam(model,ncycle(dtrn,5))),100))\n",
    "        results = reshape(collect(Float32,flatten(results)),(2,:))\n",
    "        Knet.save(file,\"model\",(savemodel ? model : nothing),\"results\",results)\n",
    "        Knet.gc() # To save gpu memory\n",
    "    else\n",
    "        isfile(file) || download(\"http://people.csail.mit.edu/deniz/models/tutorial/$file\",file)\n",
    "        model,results = Knet.load(file,\"model\",\"results\")\n",
    "    end\n",
    "    println(minimum(results,dims=2))\n",
    "    return model,results\n",
    "end"
   ]
  },
  {
   "cell_type": "code",
   "execution_count": null,
   "metadata": {},
   "outputs": [],
   "source": [
    "Tagger2(vocab,embed,hidden,output)=  # biRNN Tagger\n",
    "    Chain(Embed(vocab,embed),RNN(embed,hidden,rnnType=:relu,bidirectional=true),Dense(2hidden,output));"
   ]
  },
  {
   "cell_type": "code",
   "execution_count": null,
   "metadata": {},
   "outputs": [],
   "source": [
    "VOCABSIZE = length(wdict)\n",
    "EMBEDSIZE = 128\n",
    "HIDDENSIZE = 128\n",
    "OUTPUTSIZE = length(tdict)"
   ]
  },
  {
   "cell_type": "code",
   "execution_count": null,
   "metadata": {},
   "outputs": [],
   "source": [
    "t2maker() = Tagger2(VOCABSIZE,EMBEDSIZE,HIDDENSIZE,OUTPUTSIZE)\n",
    "(t2,r2) = trainresults(\"instructions.txt\",t2maker,true);"
   ]
  }
 ],
 "metadata": {
  "kernelspec": {
   "display_name": "Julia 1.2.0",
   "language": "julia",
   "name": "julia-1.2"
  },
  "language_info": {
   "file_extension": ".jl",
   "mimetype": "application/julia",
   "name": "julia",
   "version": "1.2.0"
  }
 },
 "nbformat": 4,
 "nbformat_minor": 2
}
