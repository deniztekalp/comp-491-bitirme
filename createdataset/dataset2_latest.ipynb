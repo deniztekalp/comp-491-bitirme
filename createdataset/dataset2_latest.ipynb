{
 "cells": [
  {
   "cell_type": "code",
   "execution_count": 1,
   "metadata": {},
   "outputs": [],
   "source": [
    "using Pkg\n",
    "using Knet"
   ]
  },
  {
   "cell_type": "code",
   "execution_count": 2,
   "metadata": {},
   "outputs": [],
   "source": [
    "using Base.Iterators"
   ]
  },
  {
   "cell_type": "code",
   "execution_count": 3,
   "metadata": {},
   "outputs": [],
   "source": [
    "#NOTE\n",
    "\n",
    "#True dataset : 4183\n",
    "#All dataset : 9763"
   ]
  },
  {
   "cell_type": "code",
   "execution_count": 4,
   "metadata": {},
   "outputs": [
    {
     "name": "stdout",
     "output_type": "stream",
     "text": [
      "\u001b[32m\u001b[1m  Updating\u001b[22m\u001b[39m registry at `~/.julia/registries/General`\n",
      "\u001b[32m\u001b[1m  Updating\u001b[22m\u001b[39m git-repo `https://github.com/JuliaRegistries/General.git`\n",
      "\u001b[2K\u001b[?25h\u001b[32m\u001b[1m Resolving\u001b[22m\u001b[39m package versions...\n",
      "\u001b[32m\u001b[1m  Updating\u001b[22m\u001b[39m `~/.julia/environments/v1.2/Project.toml`\n",
      "\u001b[90m [no changes]\u001b[39m\n",
      "\u001b[32m\u001b[1m  Updating\u001b[22m\u001b[39m `~/.julia/environments/v1.2/Manifest.toml`\n",
      "\u001b[90m [no changes]\u001b[39m\n",
      "\u001b[32m\u001b[1m Resolving\u001b[22m\u001b[39m package versions...\n",
      "\u001b[32m\u001b[1m  Updating\u001b[22m\u001b[39m `~/.julia/environments/v1.2/Project.toml`\n",
      "\u001b[90m [no changes]\u001b[39m\n",
      "\u001b[32m\u001b[1m  Updating\u001b[22m\u001b[39m `~/.julia/environments/v1.2/Manifest.toml`\n",
      "\u001b[90m [no changes]\u001b[39m\n",
      "\u001b[32m\u001b[1m Resolving\u001b[22m\u001b[39m package versions...\n",
      "\u001b[32m\u001b[1m  Updating\u001b[22m\u001b[39m `~/.julia/environments/v1.2/Project.toml`\n",
      "\u001b[90m [no changes]\u001b[39m\n",
      "\u001b[32m\u001b[1m  Updating\u001b[22m\u001b[39m `~/.julia/environments/v1.2/Manifest.toml`\n",
      "\u001b[90m [no changes]\u001b[39m\n",
      "\u001b[32m\u001b[1m Resolving\u001b[22m\u001b[39m package versions...\n",
      "\u001b[32m\u001b[1m  Updating\u001b[22m\u001b[39m `~/.julia/environments/v1.2/Project.toml`\n",
      "\u001b[90m [no changes]\u001b[39m\n",
      "\u001b[32m\u001b[1m  Updating\u001b[22m\u001b[39m `~/.julia/environments/v1.2/Manifest.toml`\n",
      "\u001b[90m [no changes]\u001b[39m\n",
      "\u001b[32m\u001b[1m Resolving\u001b[22m\u001b[39m package versions...\n",
      "\u001b[32m\u001b[1m  Updating\u001b[22m\u001b[39m `~/.julia/environments/v1.2/Project.toml`\n",
      "\u001b[90m [no changes]\u001b[39m\n",
      "\u001b[32m\u001b[1m  Updating\u001b[22m\u001b[39m `~/.julia/environments/v1.2/Manifest.toml`\n",
      "\u001b[90m [no changes]\u001b[39m\n",
      "\u001b[32m\u001b[1m Resolving\u001b[22m\u001b[39m package versions...\n",
      "\u001b[32m\u001b[1m  Updating\u001b[22m\u001b[39m `~/.julia/environments/v1.2/Project.toml`\n",
      "\u001b[90m [no changes]\u001b[39m\n",
      "\u001b[32m\u001b[1m  Updating\u001b[22m\u001b[39m `~/.julia/environments/v1.2/Manifest.toml`\n",
      "\u001b[90m [no changes]\u001b[39m\n",
      "\u001b[32m\u001b[1m Resolving\u001b[22m\u001b[39m package versions...\n",
      "\u001b[32m\u001b[1m  Updating\u001b[22m\u001b[39m `~/.julia/environments/v1.2/Project.toml`\n",
      "\u001b[90m [no changes]\u001b[39m\n",
      "\u001b[32m\u001b[1m  Updating\u001b[22m\u001b[39m `~/.julia/environments/v1.2/Manifest.toml`\n",
      "\u001b[90m [no changes]\u001b[39m\n",
      "695-element Array{Int32,1}\n",
      "695-element Array{Tuple{Tuple{Array{UInt8,3},Array{UInt8,3}},String},1}\n"
     ]
    },
    {
     "data": {
      "text/plain": [
       "trans_nll (generic function with 1 method)"
      ]
     },
     "execution_count": 4,
     "metadata": {},
     "output_type": "execute_result"
    }
   ],
   "source": [
    "# using NBInclude\n",
    "# @nbinclude(\"Bimodal_Embedding.ipynb\")\n",
    "include(\"Bimodal_Embedding.jl\")"
   ]
  },
  {
   "cell_type": "code",
   "execution_count": 5,
   "metadata": {},
   "outputs": [],
   "source": [
    "#=\n",
    "\n",
    "dataset_instructions = []\n",
    "\n",
    "open(\"instructions_unique.txt\") do file\n",
    "    for f in eachline(file)\n",
    "    push!(dataset_instructions,f)    \n",
    "    end\n",
    "end\n",
    "# if (gpu()>=0)\n",
    "#     dataset_instructions = KnetArray(dataset_instructions)\n",
    "# end\n",
    "summary(dataset_instructions[1])\n",
    "=#"
   ]
  },
  {
   "cell_type": "code",
   "execution_count": 6,
   "metadata": {},
   "outputs": [
    {
     "name": "stdout",
     "output_type": "stream",
     "text": [
      "\u001b[32m\u001b[1m Resolving\u001b[22m\u001b[39m package versions...\n",
      "\u001b[32m\u001b[1m  Updating\u001b[22m\u001b[39m `~/.julia/environments/v1.2/Project.toml`\n",
      "\u001b[90m [no changes]\u001b[39m\n",
      "\u001b[32m\u001b[1m  Updating\u001b[22m\u001b[39m `~/.julia/environments/v1.2/Manifest.toml`\n",
      "\u001b[90m [no changes]\u001b[39m\n"
     ]
    }
   ],
   "source": [
    "Pkg.add(\"VideoIO\"); using VideoIO"
   ]
  },
  {
   "cell_type": "code",
   "execution_count": 7,
   "metadata": {},
   "outputs": [
    {
     "name": "stdout",
     "output_type": "stream",
     "text": [
      "\u001b[32m\u001b[1m Resolving\u001b[22m\u001b[39m package versions...\n",
      "\u001b[32m\u001b[1m  Updating\u001b[22m\u001b[39m `~/.julia/environments/v1.2/Project.toml`\n",
      "\u001b[90m [no changes]\u001b[39m\n",
      "\u001b[32m\u001b[1m  Updating\u001b[22m\u001b[39m `~/.julia/environments/v1.2/Manifest.toml`\n",
      "\u001b[90m [no changes]\u001b[39m\n",
      "\u001b[32m\u001b[1m Resolving\u001b[22m\u001b[39m package versions...\n",
      "\u001b[32m\u001b[1m  Updating\u001b[22m\u001b[39m `~/.julia/environments/v1.2/Project.toml`\n",
      "\u001b[90m [no changes]\u001b[39m\n",
      "\u001b[32m\u001b[1m  Updating\u001b[22m\u001b[39m `~/.julia/environments/v1.2/Manifest.toml`\n",
      "\u001b[90m [no changes]\u001b[39m\n"
     ]
    }
   ],
   "source": [
    "Pkg.add(\"Images\"); using Images; Pkg.add(\"Colors\"); using Colors"
   ]
  },
  {
   "cell_type": "code",
   "execution_count": 9,
   "metadata": {},
   "outputs": [
    {
     "data": {
      "text/plain": [
       "GetPreProcessedImageArrayDataset (generic function with 1 method)"
      ]
     },
     "execution_count": 9,
     "metadata": {},
     "output_type": "execute_result"
    }
   ],
   "source": [
    "function GetPreProcessedImageArrayDataset(img, cropfromleft::Float64, cropfromright::Float64, cropfromtop::Float64, cropfrombottom::Float64, target_height::Int, target_width::Int)\n",
    "    channels, height, width = size(img)\n",
    "    img = img[:,Int(round(height*cropfromtop))+1:Int(round((1-cropfrombottom)*height)), Int(round(width*cropfromleft))+1:Int(round((1-cropfromright)*width))]\n",
    "    img = imresize(img, (channels, target_height, target_width))\n",
    "    permutedims(img, (2,3,1))\n",
    "end"
   ]
  },
  {
   "cell_type": "code",
   "execution_count": 8,
   "metadata": {},
   "outputs": [],
   "source": [
    "#=\n",
    "\n",
    "io = VideoIO.open(\"montezuma2.mp4\")\n",
    "f = VideoIO.openvideo(io)\n",
    "target_width = 160\n",
    "target_height = 210\n",
    "crop_from_top = 0.1\n",
    "crop_from_bottom = 0.12\n",
    "crop_from_left = 0.15\n",
    "crop_from_right = 0.15\n",
    "img = read(f)\n",
    "img = GetPreProcessedImageArrayDataset(channelview(img), crop_from_left, crop_from_right, crop_from_top, crop_from_bottom, target_height, target_width)\n",
    "# img = reinterpret.(UInt8,img)\n",
    "frame_pairs = []\n",
    "println(summary(img))\n",
    "current_frame = img\n",
    "\n",
    "while !eof(f)\n",
    "    global current_frame\n",
    "    prev_frame = current_frame\n",
    "    current_frame = read(f)\n",
    "    current_frame = GetPreProcessedImageArrayDataset(channelview(current_frame), crop_from_left, crop_from_right, crop_from_top, crop_from_bottom,target_height, target_width)\n",
    "#     current_frame = reinterpret.(UInt8,current_frame)\n",
    "#     current_frame = UInt8.(current_frame)\n",
    "    push!(frame_pairs, (prev_frame, current_frame))\n",
    "\n",
    "end\n",
    "\n",
    "# if (gpu()>=0)\n",
    "#     frame_pairs = KnetArray(frame_pairs)\n",
    "# end\n",
    "close(f)\n",
    "summary(frame_pairs)\n",
    "=#"
   ]
  },
  {
   "cell_type": "code",
   "execution_count": 9,
   "metadata": {},
   "outputs": [
    {
     "name": "stdout",
     "output_type": "stream",
     "text": [
      "3770-element Array{Tuple{NTuple{4,Array{Normed{UInt8,8},3}},String},1}\n"
     ]
    }
   ],
   "source": [
    "dataset = Knet.load(\"4dataset_new.jld2\", \"dataset\")\n",
    "# dataset4 = Knet.load(\"dataset4frames.jld2\",\"dataset\")\n",
    "println(summary(dataset))\n",
    "# println(summary(dataset4))"
   ]
  },
  {
   "cell_type": "code",
   "execution_count": 10,
   "metadata": {},
   "outputs": [
    {
     "data": {
      "text/plain": [
       "\"Jump in place\""
      ]
     },
     "execution_count": 10,
     "metadata": {},
     "output_type": "execute_result"
    }
   ],
   "source": [
    "dataset[3000][2]"
   ]
  },
  {
   "cell_type": "code",
   "execution_count": 29,
   "metadata": {},
   "outputs": [],
   "source": [
    "# dataset = []\n",
    "# for i in 1:length(dataset_a)\n",
    "#     x = dataset_a[i]\n",
    "# #     println(summary(x))\n",
    "#     for j in 1:length(x)\n",
    "#         push!(dataset,x[j])\n",
    "\n",
    "#     end\n",
    "# end\n",
    "# summary(dataset)"
   ]
  },
  {
   "cell_type": "code",
   "execution_count": 30,
   "metadata": {},
   "outputs": [],
   "source": [
    "current_dataset = []\n",
    "for i in 1:length(dataset)\n",
    "    pf,cf = dataset[i][1]\n",
    "    for j in 1:length(dataset4)\n",
    "        f49,f44,pf4,cf4 = dataset4[j][1]\n",
    "#         println(summary(pf4))\n",
    "         if (pf4 == pf && cf4 == cf)\n",
    "            push!(current_dataset,(dataset4[j][1],dataset[i][2]))\n",
    "         end\n",
    "\n",
    "    end\n",
    "end"
   ]
  },
  {
   "cell_type": "code",
   "execution_count": 2,
   "metadata": {},
   "outputs": [
    {
     "ename": "UndefVarError",
     "evalue": "UndefVarError: current_dataset not defined",
     "output_type": "error",
     "traceback": [
      "UndefVarError: current_dataset not defined",
      "",
      "Stacktrace:",
      " [1] top-level scope at In[2]:1"
     ]
    }
   ],
   "source": [
    "summary(current_dataset)"
   ]
  },
  {
   "cell_type": "code",
   "execution_count": 8,
   "metadata": {},
   "outputs": [
    {
     "data": {
      "text/plain": [
       "\"6605-element Array{Tuple{NTuple{4,Array{Normed{UInt8,8},3}},String},1}\""
      ]
     },
     "execution_count": 8,
     "metadata": {},
     "output_type": "execute_result"
    }
   ],
   "source": [
    "dataset = Knet.load(\"4dataset_new2.jld2\",\"dataset\")\n",
    "summary(dataset)"
   ]
  },
  {
   "cell_type": "code",
   "execution_count": 62,
   "metadata": {},
   "outputs": [
    {
     "data": {
      "text/plain": [
       "22-element Array{Int64,1}:\n",
       "  146\n",
       "  147\n",
       "  148\n",
       "  149\n",
       "  150\n",
       "  666\n",
       "  667\n",
       "  668\n",
       "  669\n",
       "  670\n",
       "  671\n",
       "  672\n",
       "  673\n",
       "  674\n",
       "  675\n",
       " 1488\n",
       " 1489\n",
       " 1490\n",
       " 1491\n",
       " 1492\n",
       " 1493\n",
       " 1494"
      ]
     },
     "execution_count": 62,
     "metadata": {},
     "output_type": "execute_result"
    }
   ],
   "source": [
    "a = []\n",
    "a1 = collect(146:150)\n",
    "a2 = collect(666:675)\n",
    "a3 = collect(1488:1494)\n",
    "\n",
    "\n",
    "a4 = collect(1475:1487)\n",
    "\n",
    "a5 = collect(923:948)\n",
    "a6 = collect(971:995)\n",
    "a7 = collect(1150:1206)\n",
    "a8 = collect(1363:1420)\n",
    "a9 = collect(1528:1545)\n",
    "\n",
    "a10 = collect(1495:1527)\n",
    "a11 = collect(1548:1563)\n",
    "\n",
    "\n",
    "\n",
    "a12 = collect(2308:2314)\n",
    "a13 = collect(2327:2327)\n",
    "a14 = collect(1476:1481)\n",
    "a15 = collect(1449:1460)\n",
    "a16 = collect(1448:1448)\n",
    "a17 = collect(1285:1288)\n",
    "a18 = collect(1271:1271)\n",
    "a19 = collect(863:866)\n",
    "a20 = collect(1043:1046)\n",
    "a21 = collect(1158:1159)\n",
    "a22 = collect(1229:1229)\n",
    "a23 = collect(2117:2117)\n",
    "a24 = collect(2156:2158)\n",
    "a25 = collect(1719:1725)\n",
    "a26 = collect(2517:2533)\n",
    "a27 = collect(2600:2623)\n",
    "a28 = collect(2660:2663)\n",
    "a29 = collect(2704:2704)\n",
    "a30 = collect(2795:2800)\n",
    "a31 = collect(2838:2839)\n",
    "a32 = collect(2952:2973)\n",
    "\n",
    "a33 = collect(2848:2884)\n",
    "push!(a, a1, a2,a3) #,a4,a5,a6,a7,a8,a9)#,a10,a11)# ,a12,a13,a14,a15,a16,a17,a18,a19,a20,a21,a22,a23,a24,a25,a26,a27, a28,a29,a30,a31,a32)\n",
    "j = collect(flatten(a))"
   ]
  },
  {
   "cell_type": "code",
   "execution_count": 54,
   "metadata": {},
   "outputs": [
    {
     "data": {
      "text/plain": [
       "\"2287-element Array{NTuple{4,Array{Normed{UInt8,8},3}},1}\""
      ]
     },
     "execution_count": 54,
     "metadata": {},
     "output_type": "execute_result"
    }
   ],
   "source": [
    "summary(dataset)"
   ]
  },
  {
   "cell_type": "code",
   "execution_count": 8,
   "metadata": {},
   "outputs": [
    {
     "data": {
      "text/plain": [
       "\"21-element Array{Any,1}\""
      ]
     },
     "execution_count": 8,
     "metadata": {},
     "output_type": "execute_result"
    }
   ],
   "source": [
    "sentt=[]\n",
    "open(\"instructions_unique.txt\") do file\n",
    "    for f in eachline(file)\n",
    "    push!(sentt,f)    \n",
    "    end\n",
    "end\n",
    "summary(sentt)"
   ]
  },
  {
   "cell_type": "code",
   "execution_count": 56,
   "metadata": {},
   "outputs": [
    {
     "data": {
      "text/plain": [
       "\"2287-element Array{NTuple{4,Array{Normed{UInt8,8},3}},1}\""
      ]
     },
     "execution_count": 56,
     "metadata": {},
     "output_type": "execute_result"
    }
   ],
   "source": [
    "dataset = Knet.load(\"empty_frames.jld2\",\"dataset\")\n",
    "summary(dataset)"
   ]
  },
  {
   "cell_type": "code",
   "execution_count": 12,
   "metadata": {},
   "outputs": [
    {
     "data": {
      "text/plain": [
       "\"6605-element Array{Tuple{NTuple{4,Array{Normed{UInt8,8},3}},String},1}\""
      ]
     },
     "execution_count": 12,
     "metadata": {},
     "output_type": "execute_result"
    }
   ],
   "source": [
    "dataset = Knet.load(\"4dataset_new2.jld2\",\"dataset\")\n",
    "summary(dataset)"
   ]
  },
  {
   "cell_type": "code",
   "execution_count": 13,
   "metadata": {},
   "outputs": [
    {
     "data": {
      "text/plain": [
       "21-element Array{Any,1}:\n",
       " Any[1, 2, 3, 4, 5, 6, 7, 8, 9, 10  …  4543, 4544, 4545, 4546, 4547, 4548, 4549, 4550, 4551, 4552]                             \n",
       " Any[78, 79, 80, 81, 82, 83, 84, 85, 1392, 1393  …  4957, 4958, 4959, 4960, 4961, 4962, 4963, 4964, 4965, 4966]                \n",
       " Any[507, 508, 1413, 1414, 1415, 1416, 1417, 1418, 1419, 1420  …  5006, 5007, 5008, 5009, 5010, 5011, 5012, 5013, 5014, 5015]  \n",
       " Any[275, 276, 277, 278, 279, 280, 281, 509, 510, 511  …  2385, 2386, 2387, 2388, 2389, 2390, 2391, 2392, 2393, 2394]          \n",
       " Any[590, 1653, 1654, 1655, 1656, 1657, 1658, 1659, 1660, 1661]                                                                \n",
       " Any[372, 373, 374, 375, 376, 377, 378, 379, 380, 381  …  1438, 1439, 1440, 1441, 1442, 1443, 1444, 1445, 1446, 1447]          \n",
       " Any[2330, 2331, 2332, 2333, 2334, 2335]                                                                                       \n",
       " Any[1738, 2336]                                                                                                               \n",
       " Any[25, 26, 27, 28, 29, 30, 31, 32, 33, 136  …  5404, 5405, 5406, 5407, 5408, 5409, 5410, 5411, 5412, 5413]                   \n",
       " Any[]                                                                                                                         \n",
       " Any[18, 19, 20, 21, 22, 23, 24, 241, 242, 243  …  5472, 5473, 5474, 5475, 5476, 5477, 5478, 5479, 5480, 5481]                 \n",
       " Any[2249, 2250]                                                                                                               \n",
       " Any[34, 35, 36, 37, 38, 39, 40, 41, 42, 43  …  5820, 5821, 5822, 5823, 5824, 5825, 5826, 5827, 5828, 5829]                    \n",
       " Any[]                                                                                                                         \n",
       " Any[1525, 1526]                                                                                                               \n",
       " Any[45, 46, 47, 48, 49, 50, 51, 52, 53, 54  …  5884, 5885, 5886, 5887, 5888, 5889, 5890, 5891, 5892, 5893]                    \n",
       " Any[111, 112, 113, 114, 115, 1548, 1549, 1550]                                                                                \n",
       " Any[3429, 3430, 3431, 3432, 3433, 3434, 3435, 3436, 3437, 3438  …  5921, 5922, 5923, 5924, 5925, 5926, 5927, 5928, 5929, 5930]\n",
       " Any[3049, 3050, 3051, 3052, 3053, 3054, 3055, 3056, 3057, 3058  …  5943, 5944, 5945, 5946, 5947, 5948, 5949, 5950, 5951, 5952]\n",
       " Any[2784, 2785, 2786, 2787, 2788, 2789, 2790, 2791, 2792, 2793  …  6596, 6597, 6598, 6599, 6600, 6601, 6602, 6603, 6604, 6605]\n",
       " Any[3771, 3772, 3773, 3774, 3775, 3776, 3777, 3778, 3779, 3780  …  4174, 4175, 4176, 4177, 4178, 4179, 4180, 4181, 4182, 4183]"
      ]
     },
     "execution_count": 13,
     "metadata": {},
     "output_type": "execute_result"
    }
   ],
   "source": [
    "i = 1\n",
    "dict = []\n",
    "new_dataset = []\n",
    "i1 = []\n",
    "i2 = []\n",
    "i3 = []\n",
    "i4 = []\n",
    "i5 = []\n",
    "i6 = []\n",
    "i7 = []\n",
    "i8 = []\n",
    "i9 = []\n",
    "i10 = []\n",
    "i11 = []\n",
    "i12 = []\n",
    "i13 = []\n",
    "i14 = []\n",
    "i15 = []\n",
    "i16 = []\n",
    "i17 = []\n",
    "i18 = []\n",
    "i19 = []\n",
    "i20 = []\n",
    "i21 = []\n",
    "i = 1\n",
    "\n",
    "while i <= length(dataset)\n",
    "    global i  #,i1,i2,i3,i4,i5,i6,i7,i8,i9,i10,i11,i12,i13,i14,i15,i6,i17,i18,i19,i20,i21\n",
    "    IJulia.clear_output(true)\n",
    "#     display(colorview(RGB, permutedims(hcat(dataset[i][1][1],dataset[i][1][2],dataset[i][1][3],dataset[i][1][4]), (3,1,2))))\n",
    "#     println(dataset[i][2])\n",
    "#     if i in j\n",
    "#         push!(new_dataset,(dataset[i],sentt[19]))\n",
    "#     end\n",
    "#     println(i)\n",
    "#     response = readline()\n",
    "#     if (response == \"exit\")\n",
    "#         break\n",
    "#     elseif (response == \"prev\")\n",
    "#         i -= 2\n",
    "#     end\n",
    "#     if dataset[i][2] != \"x\"\n",
    "#         push!(new_dataset,(dataset[i][1],dataset[i][2]))\n",
    "#     end\n",
    "    if (dataset[i][2]==sentt[1])\n",
    "        push!(i1,i)\n",
    "    elseif (dataset[i][2]==sentt[2])\n",
    "        push!(i2,i)\n",
    "    elseif (dataset[i][2]==sentt[3])\n",
    "        push!(i3,i)\n",
    "    elseif (dataset[i][2]==sentt[4])\n",
    "        push!(i4,i)\n",
    "    elseif (dataset[i][2]==sentt[5])\n",
    "        push!(i5,i)\n",
    "    elseif (dataset[i][2]==sentt[6])\n",
    "        push!(i6,i)\n",
    "    elseif (dataset[i][2]==sentt[7])\n",
    "        push!(i7,i)\n",
    "    elseif (dataset[i][2]==sentt[8])\n",
    "        push!(i8,i)\n",
    "    elseif (dataset[i][2]==sentt[9])\n",
    "        push!(i9,i)\n",
    "    elseif (dataset[i][2]==sentt[10])\n",
    "        push!(i10,i)\n",
    "    elseif (dataset[i][2]==sentt[11])\n",
    "        push!(i11,i)\n",
    "    elseif (dataset[i][2]==sentt[12])\n",
    "        push!(i12,i)\n",
    "    elseif (dataset[i][2]==sentt[13])\n",
    "        push!(i13,i)\n",
    "    elseif (dataset[i][2]==sentt[14])\n",
    "        push!(i14,i)\n",
    "    elseif (dataset[i][2]==sentt[15])\n",
    "        push!(i15,i)\n",
    "    elseif (dataset[i][2]==sentt[16])\n",
    "        push!(i16,i)\n",
    "    elseif (dataset[i][2]==sentt[17])\n",
    "        push!(i17,i)\n",
    "    elseif (dataset[i][2]==sentt[18])\n",
    "        push!(i18,i)\n",
    "    elseif (dataset[i][2]==sentt[19])\n",
    "        push!(i19,i)\n",
    "    elseif (dataset[i][2]==sentt[20])\n",
    "        push!(i20,i)     \n",
    "    elseif (dataset[i][2]==sentt[21])\n",
    "        push!(i21,i)\n",
    "    end\n",
    "    i+=1 \n",
    "end\n",
    "push!(dict,i1,i2,i3,i4,i5,i6,i7,i8,i9,i10,i11,i12,i13,i14,i15,i16,i17,i18,i19,i20,i21)\n",
    "\n",
    "dict"
   ]
  },
  {
   "cell_type": "code",
   "execution_count": null,
   "metadata": {},
   "outputs": [],
   "source": []
  },
  {
   "cell_type": "code",
   "execution_count": 14,
   "metadata": {},
   "outputs": [
    {
     "name": "stdout",
     "output_type": "stream",
     "text": [
      "Climb down the ladder: 684\n",
      "Climb up the ladder: 608\n",
      "Get the key: 63\n",
      "Get the sword: 30\n",
      "Get the torch: 10\n",
      "Go between the lasers: 478\n",
      "Go to the bottom of the room: 6\n",
      "Go to the bottom room: 2\n",
      "Go to the center of the room: 1201\n",
      "Go to the left room: 0\n",
      "Go to the left side of the room: 622\n",
      "Go to the right room: 2\n",
      "Go to the right side of the room: 659\n",
      "Go to the top of the room: 0\n",
      "Go to the top room: 2\n",
      "Jump to the rope: 152\n",
      "Use the key: 8\n",
      "Stay on platform: 379\n",
      "Stay on rope: 402\n",
      "Jump in place: 884\n",
      "Fall down: 413\n"
     ]
    }
   ],
   "source": [
    "# Knet.save(\"4dataset_small_dict.jld2\",\"dataset\",dict)\n",
    "# dict = Knet.load(\"4dataset_dict.jld2\",\"dataset\")\n",
    "for i in 1:length(dict)\n",
    "    println(sentt[i],\": \",length(dict[i]))\n",
    "end\n",
    "# x = Knet.load(\"ladder_dataset.jld2\",\"dataset\")\n",
    "# y = append!(x,new_dataset)\n",
    "# Knet.save(\"ladder_dataset.jld2\",\"dataset\",y)\n",
    "# summary(y)"
   ]
  },
  {
   "cell_type": "code",
   "execution_count": 13,
   "metadata": {},
   "outputs": [
    {
     "data": {
      "text/plain": [
       "\"23598-element Array{Tuple{NTuple{4,Array{Normed{UInt8,8},3}},String},1}\""
      ]
     },
     "execution_count": 13,
     "metadata": {},
     "output_type": "execute_result"
    }
   ],
   "source": [
    "dataset = Knet.load(\"4dataset_total.jld2\",\"dataset\")\n",
    "summary(dataset)"
   ]
  },
  {
   "cell_type": "code",
   "execution_count": 18,
   "metadata": {},
   "outputs": [
    {
     "name": "stdout",
     "output_type": "stream",
     "text": [
      "2014\n"
     ]
    },
    {
     "data": {
      "text/plain": [
       "\"19898-element Array{Any,1}\""
      ]
     },
     "execution_count": 18,
     "metadata": {},
     "output_type": "execute_result"
    }
   ],
   "source": [
    "small_dataset=[]\n",
    "x = 0\n",
    "for i in 1:length(dataset)\n",
    "    if dataset[i][2] == sentt[4] || dataset[i][2] == sentt[5] || dataset[i][2] == sentt[6]\n",
    "        continue\n",
    "    elseif dataset[i][2] == sentt[9]\n",
    "            if rand()>0.5\n",
    "                x+=1\n",
    "                continue\n",
    "            end\n",
    "    end\n",
    "    push!(small_dataset,dataset[i])\n",
    "    \n",
    "end\n",
    "println(x)\n",
    "summary(small_dataset)\n"
   ]
  },
  {
   "cell_type": "code",
   "execution_count": 66,
   "metadata": {},
   "outputs": [],
   "source": [
    "# z = append!(dataset,y)\n",
    "# Knet.save(\"4dataset_new.jld2\",\"dataset\",z)"
   ]
  },
  {
   "cell_type": "code",
   "execution_count": 67,
   "metadata": {},
   "outputs": [
    {
     "data": {
      "text/plain": [
       "\"5952-element Array{Tuple{NTuple{4,Array{Normed{UInt8,8},3}},String},1}\""
      ]
     },
     "execution_count": 67,
     "metadata": {},
     "output_type": "execute_result"
    }
   ],
   "source": [
    "summary(z)"
   ]
  },
  {
   "cell_type": "code",
   "execution_count": 75,
   "metadata": {},
   "outputs": [
    {
     "data": {
      "text/plain": [
       "\"11532-element Array{Tuple{NTuple{4,Array{Normed{UInt8,8},3}},String},1}\""
      ]
     },
     "execution_count": 75,
     "metadata": {},
     "output_type": "execute_result"
    }
   ],
   "source": [
    "# prev_total = Knet.load(\"4dataset_total.jld2\",\"dataset\")\n",
    "# false_data = prev_total[4184:end]\n",
    "# summary(false_data)\n",
    "# z = Knet.load(\"4dataset_new.jld2\",\"dataset\")\n",
    "# m = append!(z,false_data)\n",
    "# Knet.save(\"4dataset_total.jld2\",\"dataset\",m)\n",
    "# summary(m)"
   ]
  },
  {
   "cell_type": "code",
   "execution_count": 16,
   "metadata": {},
   "outputs": [
    {
     "data": {
      "text/plain": [
       "\"10-element Array{Any,1}\""
      ]
     },
     "execution_count": 16,
     "metadata": {},
     "output_type": "execute_result"
    }
   ],
   "source": [
    "# dict = Knet.load(\"4dataset_small_dict.jld2\",\"dataset\")\n",
    "dataset_false = []\n",
    "summary(dict[5])"
   ]
  },
  {
   "cell_type": "code",
   "execution_count": 23,
   "metadata": {},
   "outputs": [
    {
     "data": {
      "text/plain": [
       "\"700-element Array{Any,1}\""
      ]
     },
     "execution_count": 23,
     "metadata": {},
     "output_type": "execute_result"
    }
   ],
   "source": [
    "# m = 20\n",
    "# n = 16\n",
    "i = 1\n",
    "while i <= 200\n",
    "#     newdata = (dataset[dict[m][rand(1:length(dict[m]))]][1], dataset[dict[n][rand(1:length(dict[n]))]][2])\n",
    "#     newdata2 = (dataset[dict[n][rand(1:length(dict[n]))]][1], dataset[dict[m][rand(1:length(dict[m]))]][2])\n",
    "#     push!(dataset_false, newdata); push!(dataset_false, newdata2)\n",
    "#     i+=1\n",
    "    m = dataset[dict[20][rand(1:length(dict[20]))]]\n",
    "    n = dataset[rand(1:length(dataset))]\n",
    "    \n",
    "    if (m[2]!=n[2])\n",
    "        newdata = (m[1], n[2])\n",
    "        newdata2 = (n[1], m[2])\n",
    "        push!(dataset_false, newdata); push!(dataset_false, newdata2)\n",
    "        i += 1\n",
    "    end\n",
    "end\n",
    "summary(dataset_false)"
   ]
  },
  {
   "cell_type": "code",
   "execution_count": 26,
   "metadata": {},
   "outputs": [],
   "source": [
    "d1 = Knet.load(\"4dataset_false.jld2\",\"dataset\")\n",
    "summary(d1)\n",
    "# dataset_false=dataset_false[1:length(dataset_false)-250]\n",
    "d2 = append!(d1,dataset_false)\n",
    "Knet.save(\"4dataset_false.jld2\",\"dataset\",d2)"
   ]
  },
  {
   "cell_type": "code",
   "execution_count": 42,
   "metadata": {},
   "outputs": [],
   "source": [
    "Knet.save(\"4dataset_small_false.jld2\",\"dataset\",dataset_false)"
   ]
  },
  {
   "cell_type": "code",
   "execution_count": 43,
   "metadata": {},
   "outputs": [],
   "source": [
    "# Knet.save(\"dataset.jld2\",\"dataset\",dataset)"
   ]
  },
  {
   "cell_type": "code",
   "execution_count": 27,
   "metadata": {},
   "outputs": [
    {
     "data": {
      "text/plain": [
       "\"24951-element Array{Tuple{NTuple{4,Array{Normed{UInt8,8},3}},String},1}\""
      ]
     },
     "execution_count": 27,
     "metadata": {},
     "output_type": "execute_result"
    }
   ],
   "source": [
    "dataset_mixed = append!(dataset,d2)\n",
    "Knet.save(\"4dataset_total2.jld2\",\"dataset\",dataset_mixed)\n",
    "summary(dataset_mixed)"
   ]
  },
  {
   "cell_type": "code",
   "execution_count": 28,
   "metadata": {},
   "outputs": [
    {
     "data": {
      "text/plain": [
       "24951-element Array{Tuple{NTuple{4,Array{Normed{UInt8,8},3}},String},1}:\n",
       " (([0.0N0f8 0.0N0f8 … 0.0N0f8 0.0N0f8; 0.0N0f8 0.0N0f8 … 0.0N0f8 0.0N0f8; … ; 0.102N0f8 0.106N0f8 … 0.329N0f8 0.329N0f8; 0.0N0f8 0.0N0f8 … 0.0N0f8 0.0N0f8]\n",
       "\n",
       "[0.0N0f8 0.0N0f8 … 0.0N0f8 0.0N0f8; 0.0N0f8 0.0N0f8 … 0.0N0f8 0.0N0f8; … ; 0.2N0f8 0.2N0f8 … 0.647N0f8 0.647N0f8; 0.0N0f8 0.0N0f8 … 0.008N0f8 0.004N0f8]\n",
       "\n",
       "[0.0N0f8 0.0N0f8 … 0.0N0f8 0.0N0f8; 0.0N0f8 0.0N0f8 … 0.0N0f8 0.0N0f8; … ; 0.541N0f8 0.529N0f8 … 0.478N0f8 0.482N0f8; 0.0N0f8 0.008N0f8 … 0.0N0f8 0.0N0f8], [0.0N0f8 0.0N0f8 … 0.0N0f8 0.0N0f8; 0.0N0f8 0.0N0f8 … 0.0N0f8 0.0N0f8; … ; 0.102N0f8 0.106N0f8 … 0.329N0f8 0.329N0f8; 0.0N0f8 0.0N0f8 … 0.0N0f8 0.0N0f8]\n",
       "\n",
       "[0.0N0f8 0.0N0f8 … 0.0N0f8 0.0N0f8; 0.0N0f8 0.0N0f8 … 0.0N0f8 0.0N0f8; … ; 0.2N0f8 0.2N0f8 … 0.647N0f8 0.647N0f8; 0.0N0f8 0.0N0f8 … 0.008N0f8 0.004N0f8]\n",
       "\n",
       "[0.0N0f8 0.0N0f8 … 0.0N0f8 0.0N0f8; 0.0N0f8 0.0N0f8 … 0.0N0f8 0.0N0f8; … ; 0.541N0f8 0.529N0f8 … 0.478N0f8 0.482N0f8; 0.0N0f8 0.008N0f8 … 0.0N0f8 0.0N0f8], [0.0N0f8 0.0N0f8 … 0.0N0f8 0.0N0f8; 0.0N0f8 0.0N0f8 … 0.0N0f8 0.0N0f8; … ; 0.102N0f8 0.106N0f8 … 0.329N0f8 0.329N0f8; 0.0N0f8 0.0N0f8 … 0.0N0f8 0.0N0f8]\n",
       "\n",
       "[0.0N0f8 0.0N0f8 … 0.0N0f8 0.0N0f8; 0.0N0f8 0.0N0f8 … 0.0N0f8 0.0N0f8; … ; 0.2N0f8 0.2N0f8 … 0.647N0f8 0.647N0f8; 0.0N0f8 0.0N0f8 … 0.008N0f8 0.004N0f8]\n",
       "\n",
       "[0.0N0f8 0.0N0f8 … 0.0N0f8 0.0N0f8; 0.0N0f8 0.0N0f8 … 0.0N0f8 0.0N0f8; … ; 0.541N0f8 0.529N0f8 … 0.478N0f8 0.482N0f8; 0.0N0f8 0.008N0f8 … 0.0N0f8 0.0N0f8], [0.0N0f8 0.0N0f8 … 0.0N0f8 0.0N0f8; 0.0N0f8 0.0N0f8 … 0.0N0f8 0.0N0f8; … ; 0.102N0f8 0.106N0f8 … 0.329N0f8 0.329N0f8; 0.0N0f8 0.0N0f8 … 0.0N0f8 0.0N0f8]\n",
       "\n",
       "[0.0N0f8 0.0N0f8 … 0.0N0f8 0.0N0f8; 0.0N0f8 0.0N0f8 … 0.0N0f8 0.0N0f8; … ; 0.2N0f8 0.2N0f8 … 0.647N0f8 0.647N0f8; 0.0N0f8 0.0N0f8 … 0.008N0f8 0.004N0f8]\n",
       "\n",
       "[0.0N0f8 0.0N0f8 … 0.0N0f8 0.0N0f8; 0.0N0f8 0.0N0f8 … 0.0N0f8 0.0N0f8; … ; 0.541N0f8 0.529N0f8 … 0.478N0f8 0.482N0f8; 0.0N0f8 0.008N0f8 … 0.0N0f8 0.0N0f8]), \"Climb down the ladder\")                                                                   \n",
       " (([0.0N0f8 0.0N0f8 … 0.0N0f8 0.0N0f8; 0.0N0f8 0.0N0f8 … 0.0N0f8 0.0N0f8; … ; 0.102N0f8 0.106N0f8 … 0.329N0f8 0.329N0f8; 0.0N0f8 0.0N0f8 … 0.0N0f8 0.0N0f8]\n",
       "\n",
       "[0.0N0f8 0.0N0f8 … 0.0N0f8 0.0N0f8; 0.0N0f8 0.0N0f8 … 0.0N0f8 0.0N0f8; … ; 0.2N0f8 0.2N0f8 … 0.647N0f8 0.647N0f8; 0.0N0f8 0.0N0f8 … 0.008N0f8 0.004N0f8]\n",
       "\n",
       "[0.0N0f8 0.0N0f8 … 0.0N0f8 0.0N0f8; 0.0N0f8 0.0N0f8 … 0.0N0f8 0.0N0f8; … ; 0.541N0f8 0.529N0f8 … 0.478N0f8 0.482N0f8; 0.0N0f8 0.008N0f8 … 0.0N0f8 0.0N0f8], [0.0N0f8 0.0N0f8 … 0.0N0f8 0.0N0f8; 0.0N0f8 0.0N0f8 … 0.0N0f8 0.0N0f8; … ; 0.102N0f8 0.106N0f8 … 0.329N0f8 0.329N0f8; 0.0N0f8 0.0N0f8 … 0.0N0f8 0.0N0f8]\n",
       "\n",
       "[0.0N0f8 0.0N0f8 … 0.0N0f8 0.0N0f8; 0.0N0f8 0.0N0f8 … 0.0N0f8 0.0N0f8; … ; 0.2N0f8 0.2N0f8 … 0.647N0f8 0.647N0f8; 0.0N0f8 0.0N0f8 … 0.008N0f8 0.004N0f8]\n",
       "\n",
       "[0.0N0f8 0.0N0f8 … 0.0N0f8 0.0N0f8; 0.0N0f8 0.0N0f8 … 0.0N0f8 0.0N0f8; … ; 0.541N0f8 0.529N0f8 … 0.478N0f8 0.482N0f8; 0.0N0f8 0.008N0f8 … 0.0N0f8 0.0N0f8], [0.0N0f8 0.0N0f8 … 0.0N0f8 0.0N0f8; 0.0N0f8 0.0N0f8 … 0.0N0f8 0.0N0f8; … ; 0.102N0f8 0.106N0f8 … 0.329N0f8 0.329N0f8; 0.0N0f8 0.0N0f8 … 0.0N0f8 0.0N0f8]\n",
       "\n",
       "[0.0N0f8 0.0N0f8 … 0.0N0f8 0.0N0f8; 0.0N0f8 0.0N0f8 … 0.0N0f8 0.0N0f8; … ; 0.2N0f8 0.2N0f8 … 0.647N0f8 0.647N0f8; 0.0N0f8 0.0N0f8 … 0.008N0f8 0.004N0f8]\n",
       "\n",
       "[0.0N0f8 0.0N0f8 … 0.0N0f8 0.0N0f8; 0.0N0f8 0.0N0f8 … 0.0N0f8 0.0N0f8; … ; 0.541N0f8 0.529N0f8 … 0.478N0f8 0.482N0f8; 0.0N0f8 0.008N0f8 … 0.0N0f8 0.0N0f8], [0.0N0f8 0.0N0f8 … 0.0N0f8 0.0N0f8; 0.0N0f8 0.0N0f8 … 0.0N0f8 0.0N0f8; … ; 0.102N0f8 0.106N0f8 … 0.329N0f8 0.329N0f8; 0.0N0f8 0.0N0f8 … 0.0N0f8 0.0N0f8]\n",
       "\n",
       "[0.0N0f8 0.0N0f8 … 0.0N0f8 0.0N0f8; 0.0N0f8 0.0N0f8 … 0.0N0f8 0.0N0f8; … ; 0.2N0f8 0.2N0f8 … 0.647N0f8 0.647N0f8; 0.0N0f8 0.0N0f8 … 0.008N0f8 0.004N0f8]\n",
       "\n",
       "[0.0N0f8 0.0N0f8 … 0.0N0f8 0.0N0f8; 0.0N0f8 0.0N0f8 … 0.0N0f8 0.0N0f8; … ; 0.541N0f8 0.529N0f8 … 0.478N0f8 0.482N0f8; 0.0N0f8 0.008N0f8 … 0.0N0f8 0.0N0f8]), \"Climb down the ladder\")                                                                   \n",
       " (([0.0N0f8 0.0N0f8 … 0.0N0f8 0.0N0f8; 0.0N0f8 0.0N0f8 … 0.0N0f8 0.0N0f8; … ; 0.102N0f8 0.106N0f8 … 0.329N0f8 0.329N0f8; 0.0N0f8 0.0N0f8 … 0.0N0f8 0.0N0f8]\n",
       "\n",
       "[0.0N0f8 0.0N0f8 … 0.0N0f8 0.0N0f8; 0.0N0f8 0.0N0f8 … 0.0N0f8 0.0N0f8; … ; 0.2N0f8 0.2N0f8 … 0.647N0f8 0.647N0f8; 0.0N0f8 0.0N0f8 … 0.008N0f8 0.004N0f8]\n",
       "\n",
       "[0.0N0f8 0.0N0f8 … 0.0N0f8 0.0N0f8; 0.0N0f8 0.0N0f8 … 0.0N0f8 0.0N0f8; … ; 0.541N0f8 0.529N0f8 … 0.478N0f8 0.482N0f8; 0.0N0f8 0.008N0f8 … 0.0N0f8 0.0N0f8], [0.0N0f8 0.0N0f8 … 0.0N0f8 0.0N0f8; 0.0N0f8 0.0N0f8 … 0.0N0f8 0.0N0f8; … ; 0.102N0f8 0.106N0f8 … 0.329N0f8 0.329N0f8; 0.0N0f8 0.0N0f8 … 0.0N0f8 0.0N0f8]\n",
       "\n",
       "[0.0N0f8 0.0N0f8 … 0.0N0f8 0.0N0f8; 0.0N0f8 0.0N0f8 … 0.0N0f8 0.0N0f8; … ; 0.2N0f8 0.2N0f8 … 0.647N0f8 0.647N0f8; 0.0N0f8 0.0N0f8 … 0.008N0f8 0.004N0f8]\n",
       "\n",
       "[0.0N0f8 0.0N0f8 … 0.0N0f8 0.0N0f8; 0.0N0f8 0.0N0f8 … 0.0N0f8 0.0N0f8; … ; 0.541N0f8 0.529N0f8 … 0.478N0f8 0.482N0f8; 0.0N0f8 0.008N0f8 … 0.0N0f8 0.0N0f8], [0.0N0f8 0.0N0f8 … 0.0N0f8 0.0N0f8; 0.0N0f8 0.0N0f8 … 0.0N0f8 0.0N0f8; … ; 0.102N0f8 0.106N0f8 … 0.329N0f8 0.329N0f8; 0.0N0f8 0.0N0f8 … 0.0N0f8 0.0N0f8]\n",
       "\n",
       "[0.0N0f8 0.0N0f8 … 0.0N0f8 0.0N0f8; 0.0N0f8 0.0N0f8 … 0.0N0f8 0.0N0f8; … ; 0.2N0f8 0.2N0f8 … 0.647N0f8 0.647N0f8; 0.0N0f8 0.0N0f8 … 0.008N0f8 0.004N0f8]\n",
       "\n",
       "[0.0N0f8 0.0N0f8 … 0.0N0f8 0.0N0f8; 0.0N0f8 0.0N0f8 … 0.0N0f8 0.0N0f8; … ; 0.541N0f8 0.529N0f8 … 0.478N0f8 0.482N0f8; 0.0N0f8 0.008N0f8 … 0.0N0f8 0.0N0f8], [0.0N0f8 0.0N0f8 … 0.0N0f8 0.0N0f8; 0.0N0f8 0.0N0f8 … 0.0N0f8 0.0N0f8; … ; 0.102N0f8 0.106N0f8 … 0.329N0f8 0.329N0f8; 0.0N0f8 0.0N0f8 … 0.0N0f8 0.0N0f8]\n",
       "\n",
       "[0.0N0f8 0.0N0f8 … 0.0N0f8 0.0N0f8; 0.0N0f8 0.0N0f8 … 0.0N0f8 0.0N0f8; … ; 0.2N0f8 0.2N0f8 … 0.647N0f8 0.647N0f8; 0.0N0f8 0.0N0f8 … 0.008N0f8 0.004N0f8]\n",
       "\n",
       "[0.0N0f8 0.0N0f8 … 0.0N0f8 0.0N0f8; 0.0N0f8 0.0N0f8 … 0.0N0f8 0.0N0f8; … ; 0.541N0f8 0.529N0f8 … 0.478N0f8 0.482N0f8; 0.0N0f8 0.008N0f8 … 0.0N0f8 0.0N0f8]), \"Climb down the ladder\")                                                                   \n",
       " (([0.0N0f8 0.0N0f8 … 0.0N0f8 0.0N0f8; 0.0N0f8 0.0N0f8 … 0.0N0f8 0.0N0f8; … ; 0.102N0f8 0.106N0f8 … 0.329N0f8 0.329N0f8; 0.0N0f8 0.0N0f8 … 0.0N0f8 0.0N0f8]\n",
       "\n",
       "[0.0N0f8 0.0N0f8 … 0.0N0f8 0.0N0f8; 0.0N0f8 0.0N0f8 … 0.0N0f8 0.0N0f8; … ; 0.2N0f8 0.2N0f8 … 0.647N0f8 0.647N0f8; 0.0N0f8 0.0N0f8 … 0.008N0f8 0.004N0f8]\n",
       "\n",
       "[0.0N0f8 0.0N0f8 … 0.0N0f8 0.0N0f8; 0.0N0f8 0.0N0f8 … 0.0N0f8 0.0N0f8; … ; 0.541N0f8 0.529N0f8 … 0.478N0f8 0.482N0f8; 0.0N0f8 0.008N0f8 … 0.0N0f8 0.0N0f8], [0.0N0f8 0.0N0f8 … 0.0N0f8 0.0N0f8; 0.0N0f8 0.0N0f8 … 0.0N0f8 0.0N0f8; … ; 0.102N0f8 0.106N0f8 … 0.329N0f8 0.329N0f8; 0.0N0f8 0.0N0f8 … 0.0N0f8 0.0N0f8]\n",
       "\n",
       "[0.0N0f8 0.0N0f8 … 0.0N0f8 0.0N0f8; 0.0N0f8 0.0N0f8 … 0.0N0f8 0.0N0f8; … ; 0.2N0f8 0.2N0f8 … 0.647N0f8 0.647N0f8; 0.0N0f8 0.0N0f8 … 0.008N0f8 0.004N0f8]\n",
       "\n",
       "[0.0N0f8 0.0N0f8 … 0.0N0f8 0.0N0f8; 0.0N0f8 0.0N0f8 … 0.0N0f8 0.0N0f8; … ; 0.541N0f8 0.529N0f8 … 0.478N0f8 0.482N0f8; 0.0N0f8 0.008N0f8 … 0.0N0f8 0.0N0f8], [0.0N0f8 0.0N0f8 … 0.0N0f8 0.0N0f8; 0.0N0f8 0.0N0f8 … 0.0N0f8 0.0N0f8; … ; 0.102N0f8 0.106N0f8 … 0.329N0f8 0.329N0f8; 0.0N0f8 0.0N0f8 … 0.0N0f8 0.0N0f8]\n",
       "\n",
       "[0.0N0f8 0.0N0f8 … 0.0N0f8 0.0N0f8; 0.0N0f8 0.0N0f8 … 0.0N0f8 0.0N0f8; … ; 0.2N0f8 0.2N0f8 … 0.647N0f8 0.647N0f8; 0.0N0f8 0.0N0f8 … 0.008N0f8 0.004N0f8]\n",
       "\n",
       "[0.0N0f8 0.0N0f8 … 0.0N0f8 0.0N0f8; 0.0N0f8 0.0N0f8 … 0.0N0f8 0.0N0f8; … ; 0.541N0f8 0.529N0f8 … 0.478N0f8 0.482N0f8; 0.0N0f8 0.008N0f8 … 0.0N0f8 0.0N0f8], [0.0N0f8 0.0N0f8 … 0.0N0f8 0.0N0f8; 0.0N0f8 0.0N0f8 … 0.0N0f8 0.0N0f8; … ; 0.102N0f8 0.106N0f8 … 0.329N0f8 0.329N0f8; 0.0N0f8 0.0N0f8 … 0.0N0f8 0.0N0f8]\n",
       "\n",
       "[0.0N0f8 0.0N0f8 … 0.0N0f8 0.0N0f8; 0.0N0f8 0.0N0f8 … 0.0N0f8 0.0N0f8; … ; 0.2N0f8 0.2N0f8 … 0.647N0f8 0.647N0f8; 0.0N0f8 0.0N0f8 … 0.008N0f8 0.004N0f8]\n",
       "\n",
       "[0.0N0f8 0.0N0f8 … 0.0N0f8 0.0N0f8; 0.0N0f8 0.0N0f8 … 0.0N0f8 0.0N0f8; … ; 0.541N0f8 0.529N0f8 … 0.478N0f8 0.482N0f8; 0.0N0f8 0.008N0f8 … 0.0N0f8 0.0N0f8]), \"Climb down the ladder\")                                                                   \n",
       " (([0.0N0f8 0.0N0f8 … 0.0N0f8 0.0N0f8; 0.0N0f8 0.0N0f8 … 0.0N0f8 0.0N0f8; … ; 0.102N0f8 0.106N0f8 … 0.329N0f8 0.329N0f8; 0.0N0f8 0.0N0f8 … 0.0N0f8 0.0N0f8]\n",
       "\n",
       "[0.0N0f8 0.0N0f8 … 0.0N0f8 0.0N0f8; 0.0N0f8 0.0N0f8 … 0.0N0f8 0.0N0f8; … ; 0.2N0f8 0.2N0f8 … 0.647N0f8 0.647N0f8; 0.0N0f8 0.0N0f8 … 0.008N0f8 0.004N0f8]\n",
       "\n",
       "[0.0N0f8 0.0N0f8 … 0.0N0f8 0.0N0f8; 0.0N0f8 0.0N0f8 … 0.0N0f8 0.0N0f8; … ; 0.541N0f8 0.529N0f8 … 0.478N0f8 0.482N0f8; 0.0N0f8 0.008N0f8 … 0.0N0f8 0.0N0f8], [0.0N0f8 0.0N0f8 … 0.0N0f8 0.0N0f8; 0.0N0f8 0.0N0f8 … 0.0N0f8 0.0N0f8; … ; 0.102N0f8 0.106N0f8 … 0.329N0f8 0.329N0f8; 0.0N0f8 0.0N0f8 … 0.0N0f8 0.0N0f8]\n",
       "\n",
       "[0.0N0f8 0.0N0f8 … 0.0N0f8 0.0N0f8; 0.0N0f8 0.0N0f8 … 0.0N0f8 0.0N0f8; … ; 0.2N0f8 0.2N0f8 … 0.647N0f8 0.647N0f8; 0.0N0f8 0.0N0f8 … 0.008N0f8 0.004N0f8]\n",
       "\n",
       "[0.0N0f8 0.0N0f8 … 0.0N0f8 0.0N0f8; 0.0N0f8 0.0N0f8 … 0.0N0f8 0.0N0f8; … ; 0.541N0f8 0.529N0f8 … 0.478N0f8 0.482N0f8; 0.0N0f8 0.008N0f8 … 0.0N0f8 0.0N0f8], [0.0N0f8 0.0N0f8 … 0.0N0f8 0.0N0f8; 0.0N0f8 0.0N0f8 … 0.0N0f8 0.0N0f8; … ; 0.102N0f8 0.106N0f8 … 0.329N0f8 0.329N0f8; 0.0N0f8 0.0N0f8 … 0.0N0f8 0.0N0f8]\n",
       "\n",
       "[0.0N0f8 0.0N0f8 … 0.0N0f8 0.0N0f8; 0.0N0f8 0.0N0f8 … 0.0N0f8 0.0N0f8; … ; 0.2N0f8 0.2N0f8 … 0.647N0f8 0.647N0f8; 0.0N0f8 0.0N0f8 … 0.008N0f8 0.004N0f8]\n",
       "\n",
       "[0.0N0f8 0.0N0f8 … 0.0N0f8 0.0N0f8; 0.0N0f8 0.0N0f8 … 0.0N0f8 0.0N0f8; … ; 0.541N0f8 0.529N0f8 … 0.478N0f8 0.482N0f8; 0.0N0f8 0.008N0f8 … 0.0N0f8 0.0N0f8], [0.0N0f8 0.0N0f8 … 0.0N0f8 0.0N0f8; 0.0N0f8 0.0N0f8 … 0.0N0f8 0.0N0f8; … ; 0.102N0f8 0.106N0f8 … 0.329N0f8 0.329N0f8; 0.0N0f8 0.0N0f8 … 0.0N0f8 0.0N0f8]\n",
       "\n",
       "[0.0N0f8 0.0N0f8 … 0.0N0f8 0.0N0f8; 0.0N0f8 0.0N0f8 … 0.0N0f8 0.0N0f8; … ; 0.2N0f8 0.2N0f8 … 0.647N0f8 0.647N0f8; 0.0N0f8 0.0N0f8 … 0.008N0f8 0.004N0f8]\n",
       "\n",
       "[0.0N0f8 0.0N0f8 … 0.0N0f8 0.0N0f8; 0.0N0f8 0.0N0f8 … 0.0N0f8 0.0N0f8; … ; 0.541N0f8 0.529N0f8 … 0.478N0f8 0.482N0f8; 0.0N0f8 0.008N0f8 … 0.0N0f8 0.0N0f8]), \"Climb down the ladder\")                                                                   \n",
       " (([0.0N0f8 0.0N0f8 … 0.0N0f8 0.0N0f8; 0.0N0f8 0.0N0f8 … 0.0N0f8 0.0N0f8; … ; 0.102N0f8 0.106N0f8 … 0.329N0f8 0.329N0f8; 0.0N0f8 0.0N0f8 … 0.0N0f8 0.0N0f8]\n",
       "\n",
       "[0.0N0f8 0.0N0f8 … 0.0N0f8 0.0N0f8; 0.0N0f8 0.0N0f8 … 0.0N0f8 0.0N0f8; … ; 0.2N0f8 0.2N0f8 … 0.647N0f8 0.647N0f8; 0.0N0f8 0.0N0f8 … 0.008N0f8 0.004N0f8]\n",
       "\n",
       "[0.0N0f8 0.0N0f8 … 0.0N0f8 0.0N0f8; 0.0N0f8 0.0N0f8 … 0.0N0f8 0.0N0f8; … ; 0.541N0f8 0.529N0f8 … 0.478N0f8 0.482N0f8; 0.0N0f8 0.008N0f8 … 0.0N0f8 0.0N0f8], [0.0N0f8 0.0N0f8 … 0.0N0f8 0.0N0f8; 0.0N0f8 0.0N0f8 … 0.0N0f8 0.0N0f8; … ; 0.102N0f8 0.106N0f8 … 0.329N0f8 0.329N0f8; 0.0N0f8 0.0N0f8 … 0.0N0f8 0.0N0f8]\n",
       "\n",
       "[0.0N0f8 0.0N0f8 … 0.0N0f8 0.0N0f8; 0.0N0f8 0.0N0f8 … 0.0N0f8 0.0N0f8; … ; 0.2N0f8 0.2N0f8 … 0.647N0f8 0.647N0f8; 0.0N0f8 0.0N0f8 … 0.008N0f8 0.004N0f8]\n",
       "\n",
       "[0.0N0f8 0.0N0f8 … 0.0N0f8 0.0N0f8; 0.0N0f8 0.0N0f8 … 0.0N0f8 0.0N0f8; … ; 0.541N0f8 0.529N0f8 … 0.478N0f8 0.482N0f8; 0.0N0f8 0.008N0f8 … 0.0N0f8 0.0N0f8], [0.0N0f8 0.0N0f8 … 0.0N0f8 0.0N0f8; 0.0N0f8 0.0N0f8 … 0.0N0f8 0.0N0f8; … ; 0.102N0f8 0.106N0f8 … 0.329N0f8 0.329N0f8; 0.0N0f8 0.0N0f8 … 0.0N0f8 0.0N0f8]\n",
       "\n",
       "[0.0N0f8 0.0N0f8 … 0.0N0f8 0.0N0f8; 0.0N0f8 0.0N0f8 … 0.0N0f8 0.0N0f8; … ; 0.2N0f8 0.2N0f8 … 0.647N0f8 0.647N0f8; 0.0N0f8 0.0N0f8 … 0.008N0f8 0.004N0f8]\n",
       "\n",
       "[0.0N0f8 0.0N0f8 … 0.0N0f8 0.0N0f8; 0.0N0f8 0.0N0f8 … 0.0N0f8 0.0N0f8; … ; 0.541N0f8 0.529N0f8 … 0.478N0f8 0.482N0f8; 0.0N0f8 0.008N0f8 … 0.0N0f8 0.0N0f8], [0.0N0f8 0.0N0f8 … 0.0N0f8 0.0N0f8; 0.0N0f8 0.0N0f8 … 0.0N0f8 0.0N0f8; … ; 0.102N0f8 0.106N0f8 … 0.329N0f8 0.329N0f8; 0.0N0f8 0.0N0f8 … 0.0N0f8 0.0N0f8]\n",
       "\n",
       "[0.0N0f8 0.0N0f8 … 0.0N0f8 0.0N0f8; 0.0N0f8 0.0N0f8 … 0.0N0f8 0.0N0f8; … ; 0.2N0f8 0.2N0f8 … 0.647N0f8 0.647N0f8; 0.0N0f8 0.0N0f8 … 0.008N0f8 0.004N0f8]\n",
       "\n",
       "[0.0N0f8 0.0N0f8 … 0.0N0f8 0.0N0f8; 0.0N0f8 0.0N0f8 … 0.0N0f8 0.0N0f8; … ; 0.541N0f8 0.529N0f8 … 0.478N0f8 0.482N0f8; 0.0N0f8 0.008N0f8 … 0.0N0f8 0.0N0f8]), \"Climb down the ladder\")                                                                   \n",
       " (([0.0N0f8 0.0N0f8 … 0.0N0f8 0.0N0f8; 0.0N0f8 0.0N0f8 … 0.0N0f8 0.0N0f8; … ; 0.102N0f8 0.106N0f8 … 0.329N0f8 0.329N0f8; 0.0N0f8 0.0N0f8 … 0.0N0f8 0.0N0f8]\n",
       "\n",
       "[0.0N0f8 0.0N0f8 … 0.0N0f8 0.0N0f8; 0.0N0f8 0.0N0f8 … 0.0N0f8 0.0N0f8; … ; 0.2N0f8 0.2N0f8 … 0.647N0f8 0.647N0f8; 0.0N0f8 0.0N0f8 … 0.008N0f8 0.004N0f8]\n",
       "\n",
       "[0.0N0f8 0.0N0f8 … 0.0N0f8 0.0N0f8; 0.0N0f8 0.0N0f8 … 0.0N0f8 0.0N0f8; … ; 0.541N0f8 0.529N0f8 … 0.478N0f8 0.482N0f8; 0.0N0f8 0.008N0f8 … 0.0N0f8 0.0N0f8], [0.0N0f8 0.0N0f8 … 0.0N0f8 0.0N0f8; 0.0N0f8 0.0N0f8 … 0.0N0f8 0.0N0f8; … ; 0.102N0f8 0.106N0f8 … 0.329N0f8 0.329N0f8; 0.0N0f8 0.0N0f8 … 0.0N0f8 0.0N0f8]\n",
       "\n",
       "[0.0N0f8 0.0N0f8 … 0.0N0f8 0.0N0f8; 0.0N0f8 0.0N0f8 … 0.0N0f8 0.0N0f8; … ; 0.2N0f8 0.2N0f8 … 0.647N0f8 0.647N0f8; 0.0N0f8 0.0N0f8 … 0.008N0f8 0.004N0f8]\n",
       "\n",
       "[0.0N0f8 0.0N0f8 … 0.0N0f8 0.0N0f8; 0.0N0f8 0.0N0f8 … 0.0N0f8 0.0N0f8; … ; 0.541N0f8 0.529N0f8 … 0.478N0f8 0.482N0f8; 0.0N0f8 0.008N0f8 … 0.0N0f8 0.0N0f8], [0.0N0f8 0.0N0f8 … 0.0N0f8 0.0N0f8; 0.0N0f8 0.0N0f8 … 0.0N0f8 0.0N0f8; … ; 0.102N0f8 0.106N0f8 … 0.329N0f8 0.329N0f8; 0.0N0f8 0.0N0f8 … 0.0N0f8 0.0N0f8]\n",
       "\n",
       "[0.0N0f8 0.0N0f8 … 0.0N0f8 0.0N0f8; 0.0N0f8 0.0N0f8 … 0.0N0f8 0.0N0f8; … ; 0.2N0f8 0.2N0f8 … 0.647N0f8 0.647N0f8; 0.0N0f8 0.0N0f8 … 0.008N0f8 0.004N0f8]\n",
       "\n",
       "[0.0N0f8 0.0N0f8 … 0.0N0f8 0.0N0f8; 0.0N0f8 0.0N0f8 … 0.0N0f8 0.0N0f8; … ; 0.541N0f8 0.529N0f8 … 0.478N0f8 0.482N0f8; 0.0N0f8 0.008N0f8 … 0.0N0f8 0.0N0f8], [0.0N0f8 0.0N0f8 … 0.0N0f8 0.0N0f8; 0.0N0f8 0.0N0f8 … 0.0N0f8 0.0N0f8; … ; 0.102N0f8 0.106N0f8 … 0.329N0f8 0.329N0f8; 0.0N0f8 0.0N0f8 … 0.0N0f8 0.0N0f8]\n",
       "\n",
       "[0.0N0f8 0.0N0f8 … 0.0N0f8 0.0N0f8; 0.0N0f8 0.0N0f8 … 0.0N0f8 0.0N0f8; … ; 0.2N0f8 0.2N0f8 … 0.647N0f8 0.647N0f8; 0.0N0f8 0.0N0f8 … 0.008N0f8 0.004N0f8]\n",
       "\n",
       "[0.0N0f8 0.0N0f8 … 0.0N0f8 0.0N0f8; 0.0N0f8 0.0N0f8 … 0.0N0f8 0.0N0f8; … ; 0.541N0f8 0.529N0f8 … 0.478N0f8 0.482N0f8; 0.0N0f8 0.008N0f8 … 0.0N0f8 0.0N0f8]), \"Climb down the ladder\")                                                                   \n",
       " (([0.0N0f8 0.0N0f8 … 0.0N0f8 0.0N0f8; 0.0N0f8 0.0N0f8 … 0.0N0f8 0.0N0f8; … ; 0.102N0f8 0.106N0f8 … 0.329N0f8 0.329N0f8; 0.0N0f8 0.0N0f8 … 0.0N0f8 0.0N0f8]\n",
       "\n",
       "[0.0N0f8 0.0N0f8 … 0.0N0f8 0.0N0f8; 0.0N0f8 0.0N0f8 … 0.0N0f8 0.0N0f8; … ; 0.2N0f8 0.2N0f8 … 0.647N0f8 0.647N0f8; 0.0N0f8 0.0N0f8 … 0.008N0f8 0.004N0f8]\n",
       "\n",
       "[0.0N0f8 0.0N0f8 … 0.0N0f8 0.0N0f8; 0.0N0f8 0.0N0f8 … 0.0N0f8 0.0N0f8; … ; 0.541N0f8 0.529N0f8 … 0.478N0f8 0.482N0f8; 0.0N0f8 0.008N0f8 … 0.0N0f8 0.0N0f8], [0.0N0f8 0.0N0f8 … 0.0N0f8 0.0N0f8; 0.0N0f8 0.0N0f8 … 0.0N0f8 0.0N0f8; … ; 0.102N0f8 0.106N0f8 … 0.329N0f8 0.329N0f8; 0.0N0f8 0.0N0f8 … 0.0N0f8 0.0N0f8]\n",
       "\n",
       "[0.0N0f8 0.0N0f8 … 0.0N0f8 0.0N0f8; 0.0N0f8 0.0N0f8 … 0.0N0f8 0.0N0f8; … ; 0.2N0f8 0.2N0f8 … 0.647N0f8 0.647N0f8; 0.0N0f8 0.0N0f8 … 0.008N0f8 0.004N0f8]\n",
       "\n",
       "[0.0N0f8 0.0N0f8 … 0.0N0f8 0.0N0f8; 0.0N0f8 0.0N0f8 … 0.0N0f8 0.0N0f8; … ; 0.541N0f8 0.529N0f8 … 0.478N0f8 0.482N0f8; 0.0N0f8 0.008N0f8 … 0.0N0f8 0.0N0f8], [0.0N0f8 0.0N0f8 … 0.0N0f8 0.0N0f8; 0.0N0f8 0.0N0f8 … 0.0N0f8 0.0N0f8; … ; 0.102N0f8 0.106N0f8 … 0.329N0f8 0.329N0f8; 0.0N0f8 0.0N0f8 … 0.0N0f8 0.0N0f8]\n",
       "\n",
       "[0.0N0f8 0.0N0f8 … 0.0N0f8 0.0N0f8; 0.0N0f8 0.0N0f8 … 0.0N0f8 0.0N0f8; … ; 0.2N0f8 0.2N0f8 … 0.647N0f8 0.647N0f8; 0.0N0f8 0.0N0f8 … 0.008N0f8 0.004N0f8]\n",
       "\n",
       "[0.0N0f8 0.0N0f8 … 0.0N0f8 0.0N0f8; 0.0N0f8 0.0N0f8 … 0.0N0f8 0.0N0f8; … ; 0.541N0f8 0.529N0f8 … 0.478N0f8 0.482N0f8; 0.0N0f8 0.008N0f8 … 0.0N0f8 0.0N0f8], [0.0N0f8 0.0N0f8 … 0.0N0f8 0.0N0f8; 0.0N0f8 0.0N0f8 … 0.0N0f8 0.0N0f8; … ; 0.102N0f8 0.106N0f8 … 0.329N0f8 0.329N0f8; 0.0N0f8 0.0N0f8 … 0.0N0f8 0.0N0f8]\n",
       "\n",
       "[0.0N0f8 0.0N0f8 … 0.0N0f8 0.0N0f8; 0.0N0f8 0.0N0f8 … 0.0N0f8 0.0N0f8; … ; 0.2N0f8 0.2N0f8 … 0.647N0f8 0.647N0f8; 0.0N0f8 0.0N0f8 … 0.008N0f8 0.004N0f8]\n",
       "\n",
       "[0.0N0f8 0.0N0f8 … 0.0N0f8 0.0N0f8; 0.0N0f8 0.0N0f8 … 0.0N0f8 0.0N0f8; … ; 0.541N0f8 0.529N0f8 … 0.478N0f8 0.482N0f8; 0.0N0f8 0.008N0f8 … 0.0N0f8 0.0N0f8]), \"Climb down the ladder\")                                                                   \n",
       " (([0.0N0f8 0.0N0f8 … 0.0N0f8 0.0N0f8; 0.0N0f8 0.0N0f8 … 0.0N0f8 0.0N0f8; … ; 0.102N0f8 0.106N0f8 … 0.329N0f8 0.329N0f8; 0.0N0f8 0.0N0f8 … 0.0N0f8 0.0N0f8]\n",
       "\n",
       "[0.0N0f8 0.0N0f8 … 0.0N0f8 0.0N0f8; 0.0N0f8 0.0N0f8 … 0.0N0f8 0.0N0f8; … ; 0.2N0f8 0.2N0f8 … 0.647N0f8 0.647N0f8; 0.0N0f8 0.0N0f8 … 0.008N0f8 0.004N0f8]\n",
       "\n",
       "[0.0N0f8 0.0N0f8 … 0.0N0f8 0.0N0f8; 0.0N0f8 0.0N0f8 … 0.0N0f8 0.0N0f8; … ; 0.541N0f8 0.529N0f8 … 0.478N0f8 0.482N0f8; 0.0N0f8 0.008N0f8 … 0.0N0f8 0.0N0f8], [0.0N0f8 0.0N0f8 … 0.0N0f8 0.0N0f8; 0.0N0f8 0.0N0f8 … 0.0N0f8 0.0N0f8; … ; 0.102N0f8 0.106N0f8 … 0.329N0f8 0.329N0f8; 0.0N0f8 0.0N0f8 … 0.0N0f8 0.0N0f8]\n",
       "\n",
       "[0.0N0f8 0.0N0f8 … 0.0N0f8 0.0N0f8; 0.0N0f8 0.0N0f8 … 0.0N0f8 0.0N0f8; … ; 0.2N0f8 0.2N0f8 … 0.647N0f8 0.647N0f8; 0.0N0f8 0.0N0f8 … 0.008N0f8 0.004N0f8]\n",
       "\n",
       "[0.0N0f8 0.0N0f8 … 0.0N0f8 0.0N0f8; 0.0N0f8 0.0N0f8 … 0.0N0f8 0.0N0f8; … ; 0.541N0f8 0.529N0f8 … 0.478N0f8 0.482N0f8; 0.0N0f8 0.008N0f8 … 0.0N0f8 0.0N0f8], [0.0N0f8 0.0N0f8 … 0.0N0f8 0.0N0f8; 0.0N0f8 0.0N0f8 … 0.0N0f8 0.0N0f8; … ; 0.102N0f8 0.106N0f8 … 0.329N0f8 0.329N0f8; 0.0N0f8 0.0N0f8 … 0.0N0f8 0.0N0f8]\n",
       "\n",
       "[0.0N0f8 0.0N0f8 … 0.0N0f8 0.0N0f8; 0.0N0f8 0.0N0f8 … 0.0N0f8 0.0N0f8; … ; 0.2N0f8 0.2N0f8 … 0.647N0f8 0.647N0f8; 0.0N0f8 0.0N0f8 … 0.008N0f8 0.004N0f8]\n",
       "\n",
       "[0.0N0f8 0.0N0f8 … 0.0N0f8 0.0N0f8; 0.0N0f8 0.0N0f8 … 0.0N0f8 0.0N0f8; … ; 0.541N0f8 0.529N0f8 … 0.478N0f8 0.482N0f8; 0.0N0f8 0.008N0f8 … 0.0N0f8 0.0N0f8], [0.0N0f8 0.0N0f8 … 0.0N0f8 0.0N0f8; 0.0N0f8 0.0N0f8 … 0.0N0f8 0.0N0f8; … ; 0.102N0f8 0.106N0f8 … 0.329N0f8 0.329N0f8; 0.0N0f8 0.0N0f8 … 0.0N0f8 0.0N0f8]\n",
       "\n",
       "[0.0N0f8 0.0N0f8 … 0.0N0f8 0.0N0f8; 0.0N0f8 0.0N0f8 … 0.0N0f8 0.0N0f8; … ; 0.2N0f8 0.2N0f8 … 0.647N0f8 0.647N0f8; 0.0N0f8 0.0N0f8 … 0.008N0f8 0.004N0f8]\n",
       "\n",
       "[0.0N0f8 0.0N0f8 … 0.0N0f8 0.0N0f8; 0.0N0f8 0.0N0f8 … 0.0N0f8 0.0N0f8; … ; 0.541N0f8 0.529N0f8 … 0.478N0f8 0.482N0f8; 0.0N0f8 0.008N0f8 … 0.0N0f8 0.0N0f8]), \"Climb down the ladder\")                                                                   \n",
       " (([0.0N0f8 0.0N0f8 … 0.0N0f8 0.0N0f8; 0.0N0f8 0.0N0f8 … 0.0N0f8 0.0N0f8; … ; 0.102N0f8 0.106N0f8 … 0.329N0f8 0.329N0f8; 0.0N0f8 0.0N0f8 … 0.0N0f8 0.0N0f8]\n",
       "\n",
       "[0.0N0f8 0.0N0f8 … 0.0N0f8 0.0N0f8; 0.0N0f8 0.0N0f8 … 0.0N0f8 0.0N0f8; … ; 0.2N0f8 0.2N0f8 … 0.647N0f8 0.647N0f8; 0.0N0f8 0.0N0f8 … 0.008N0f8 0.004N0f8]\n",
       "\n",
       "[0.0N0f8 0.0N0f8 … 0.0N0f8 0.0N0f8; 0.0N0f8 0.0N0f8 … 0.0N0f8 0.0N0f8; … ; 0.541N0f8 0.529N0f8 … 0.478N0f8 0.482N0f8; 0.0N0f8 0.008N0f8 … 0.0N0f8 0.0N0f8], [0.0N0f8 0.0N0f8 … 0.0N0f8 0.0N0f8; 0.0N0f8 0.0N0f8 … 0.0N0f8 0.0N0f8; … ; 0.102N0f8 0.106N0f8 … 0.329N0f8 0.329N0f8; 0.0N0f8 0.0N0f8 … 0.0N0f8 0.0N0f8]\n",
       "\n",
       "[0.0N0f8 0.0N0f8 … 0.0N0f8 0.0N0f8; 0.0N0f8 0.0N0f8 … 0.0N0f8 0.0N0f8; … ; 0.2N0f8 0.2N0f8 … 0.647N0f8 0.647N0f8; 0.0N0f8 0.0N0f8 … 0.008N0f8 0.004N0f8]\n",
       "\n",
       "[0.0N0f8 0.0N0f8 … 0.0N0f8 0.0N0f8; 0.0N0f8 0.0N0f8 … 0.0N0f8 0.0N0f8; … ; 0.541N0f8 0.529N0f8 … 0.478N0f8 0.482N0f8; 0.0N0f8 0.008N0f8 … 0.0N0f8 0.0N0f8], [0.0N0f8 0.0N0f8 … 0.0N0f8 0.0N0f8; 0.0N0f8 0.0N0f8 … 0.0N0f8 0.0N0f8; … ; 0.102N0f8 0.106N0f8 … 0.329N0f8 0.329N0f8; 0.0N0f8 0.0N0f8 … 0.0N0f8 0.0N0f8]\n",
       "\n",
       "[0.0N0f8 0.0N0f8 … 0.0N0f8 0.0N0f8; 0.0N0f8 0.0N0f8 … 0.0N0f8 0.0N0f8; … ; 0.2N0f8 0.2N0f8 … 0.647N0f8 0.647N0f8; 0.0N0f8 0.0N0f8 … 0.008N0f8 0.004N0f8]\n",
       "\n",
       "[0.0N0f8 0.0N0f8 … 0.0N0f8 0.0N0f8; 0.0N0f8 0.0N0f8 … 0.0N0f8 0.0N0f8; … ; 0.541N0f8 0.529N0f8 … 0.478N0f8 0.482N0f8; 0.0N0f8 0.008N0f8 … 0.0N0f8 0.0N0f8], [0.0N0f8 0.0N0f8 … 0.0N0f8 0.0N0f8; 0.0N0f8 0.0N0f8 … 0.0N0f8 0.0N0f8; … ; 0.102N0f8 0.106N0f8 … 0.329N0f8 0.329N0f8; 0.0N0f8 0.0N0f8 … 0.0N0f8 0.0N0f8]\n",
       "\n",
       "[0.0N0f8 0.0N0f8 … 0.0N0f8 0.0N0f8; 0.0N0f8 0.0N0f8 … 0.0N0f8 0.0N0f8; … ; 0.2N0f8 0.2N0f8 … 0.647N0f8 0.647N0f8; 0.0N0f8 0.0N0f8 … 0.008N0f8 0.004N0f8]\n",
       "\n",
       "[0.0N0f8 0.0N0f8 … 0.0N0f8 0.0N0f8; 0.0N0f8 0.0N0f8 … 0.0N0f8 0.0N0f8; … ; 0.541N0f8 0.529N0f8 … 0.478N0f8 0.482N0f8; 0.0N0f8 0.008N0f8 … 0.0N0f8 0.0N0f8]), \"Climb down the ladder\")                                                                   \n",
       " (([0.0N0f8 0.0N0f8 … 0.0N0f8 0.0N0f8; 0.0N0f8 0.0N0f8 … 0.0N0f8 0.0N0f8; … ; 0.102N0f8 0.106N0f8 … 0.329N0f8 0.329N0f8; 0.0N0f8 0.0N0f8 … 0.0N0f8 0.0N0f8]\n",
       "\n",
       "[0.0N0f8 0.0N0f8 … 0.0N0f8 0.0N0f8; 0.0N0f8 0.0N0f8 … 0.0N0f8 0.0N0f8; … ; 0.2N0f8 0.2N0f8 … 0.647N0f8 0.647N0f8; 0.0N0f8 0.0N0f8 … 0.008N0f8 0.004N0f8]\n",
       "\n",
       "[0.0N0f8 0.0N0f8 … 0.0N0f8 0.0N0f8; 0.0N0f8 0.0N0f8 … 0.0N0f8 0.0N0f8; … ; 0.541N0f8 0.529N0f8 … 0.478N0f8 0.482N0f8; 0.0N0f8 0.008N0f8 … 0.0N0f8 0.0N0f8], [0.0N0f8 0.0N0f8 … 0.0N0f8 0.0N0f8; 0.0N0f8 0.0N0f8 … 0.0N0f8 0.0N0f8; … ; 0.102N0f8 0.106N0f8 … 0.329N0f8 0.329N0f8; 0.0N0f8 0.0N0f8 … 0.0N0f8 0.0N0f8]\n",
       "\n",
       "[0.0N0f8 0.0N0f8 … 0.0N0f8 0.0N0f8; 0.0N0f8 0.0N0f8 … 0.0N0f8 0.0N0f8; … ; 0.2N0f8 0.2N0f8 … 0.647N0f8 0.647N0f8; 0.0N0f8 0.0N0f8 … 0.008N0f8 0.004N0f8]\n",
       "\n",
       "[0.0N0f8 0.0N0f8 … 0.0N0f8 0.0N0f8; 0.0N0f8 0.0N0f8 … 0.0N0f8 0.0N0f8; … ; 0.541N0f8 0.529N0f8 … 0.478N0f8 0.482N0f8; 0.0N0f8 0.008N0f8 … 0.0N0f8 0.0N0f8], [0.0N0f8 0.0N0f8 … 0.0N0f8 0.0N0f8; 0.0N0f8 0.0N0f8 … 0.0N0f8 0.0N0f8; … ; 0.102N0f8 0.106N0f8 … 0.329N0f8 0.329N0f8; 0.0N0f8 0.0N0f8 … 0.0N0f8 0.0N0f8]\n",
       "\n",
       "[0.0N0f8 0.0N0f8 … 0.0N0f8 0.0N0f8; 0.0N0f8 0.0N0f8 … 0.0N0f8 0.0N0f8; … ; 0.2N0f8 0.2N0f8 … 0.647N0f8 0.647N0f8; 0.0N0f8 0.0N0f8 … 0.008N0f8 0.004N0f8]\n",
       "\n",
       "[0.0N0f8 0.0N0f8 … 0.0N0f8 0.0N0f8; 0.0N0f8 0.0N0f8 … 0.0N0f8 0.0N0f8; … ; 0.541N0f8 0.529N0f8 … 0.478N0f8 0.482N0f8; 0.0N0f8 0.008N0f8 … 0.0N0f8 0.0N0f8], [0.0N0f8 0.0N0f8 … 0.0N0f8 0.0N0f8; 0.0N0f8 0.0N0f8 … 0.0N0f8 0.0N0f8; … ; 0.102N0f8 0.106N0f8 … 0.329N0f8 0.329N0f8; 0.0N0f8 0.0N0f8 … 0.0N0f8 0.0N0f8]\n",
       "\n",
       "[0.0N0f8 0.0N0f8 … 0.0N0f8 0.0N0f8; 0.0N0f8 0.0N0f8 … 0.0N0f8 0.0N0f8; … ; 0.2N0f8 0.2N0f8 … 0.647N0f8 0.647N0f8; 0.0N0f8 0.0N0f8 … 0.008N0f8 0.004N0f8]\n",
       "\n",
       "[0.0N0f8 0.0N0f8 … 0.0N0f8 0.0N0f8; 0.0N0f8 0.0N0f8 … 0.0N0f8 0.0N0f8; … ; 0.541N0f8 0.529N0f8 … 0.478N0f8 0.482N0f8; 0.0N0f8 0.008N0f8 … 0.0N0f8 0.0N0f8]), \"Climb down the ladder\")                                                                   \n",
       " (([0.0N0f8 0.0N0f8 … 0.0N0f8 0.0N0f8; 0.0N0f8 0.0N0f8 … 0.0N0f8 0.0N0f8; … ; 0.102N0f8 0.106N0f8 … 0.329N0f8 0.329N0f8; 0.0N0f8 0.0N0f8 … 0.0N0f8 0.0N0f8]\n",
       "\n",
       "[0.0N0f8 0.0N0f8 … 0.0N0f8 0.0N0f8; 0.0N0f8 0.0N0f8 … 0.0N0f8 0.0N0f8; … ; 0.2N0f8 0.2N0f8 … 0.647N0f8 0.647N0f8; 0.0N0f8 0.0N0f8 … 0.008N0f8 0.004N0f8]\n",
       "\n",
       "[0.0N0f8 0.0N0f8 … 0.0N0f8 0.0N0f8; 0.0N0f8 0.0N0f8 … 0.0N0f8 0.0N0f8; … ; 0.541N0f8 0.529N0f8 … 0.478N0f8 0.482N0f8; 0.0N0f8 0.008N0f8 … 0.0N0f8 0.0N0f8], [0.0N0f8 0.0N0f8 … 0.0N0f8 0.0N0f8; 0.0N0f8 0.0N0f8 … 0.0N0f8 0.0N0f8; … ; 0.102N0f8 0.106N0f8 … 0.329N0f8 0.329N0f8; 0.0N0f8 0.0N0f8 … 0.0N0f8 0.0N0f8]\n",
       "\n",
       "[0.0N0f8 0.0N0f8 … 0.0N0f8 0.0N0f8; 0.0N0f8 0.0N0f8 … 0.0N0f8 0.0N0f8; … ; 0.2N0f8 0.2N0f8 … 0.647N0f8 0.647N0f8; 0.0N0f8 0.0N0f8 … 0.008N0f8 0.004N0f8]\n",
       "\n",
       "[0.0N0f8 0.0N0f8 … 0.0N0f8 0.0N0f8; 0.0N0f8 0.0N0f8 … 0.0N0f8 0.0N0f8; … ; 0.541N0f8 0.529N0f8 … 0.478N0f8 0.482N0f8; 0.0N0f8 0.008N0f8 … 0.0N0f8 0.0N0f8], [0.0N0f8 0.0N0f8 … 0.0N0f8 0.0N0f8; 0.0N0f8 0.0N0f8 … 0.0N0f8 0.0N0f8; … ; 0.102N0f8 0.106N0f8 … 0.329N0f8 0.329N0f8; 0.0N0f8 0.0N0f8 … 0.0N0f8 0.0N0f8]\n",
       "\n",
       "[0.0N0f8 0.0N0f8 … 0.0N0f8 0.0N0f8; 0.0N0f8 0.0N0f8 … 0.0N0f8 0.0N0f8; … ; 0.2N0f8 0.2N0f8 … 0.647N0f8 0.647N0f8; 0.0N0f8 0.0N0f8 … 0.008N0f8 0.004N0f8]\n",
       "\n",
       "[0.0N0f8 0.0N0f8 … 0.0N0f8 0.0N0f8; 0.0N0f8 0.0N0f8 … 0.0N0f8 0.0N0f8; … ; 0.541N0f8 0.529N0f8 … 0.478N0f8 0.482N0f8; 0.0N0f8 0.008N0f8 … 0.0N0f8 0.0N0f8], [0.0N0f8 0.0N0f8 … 0.0N0f8 0.0N0f8; 0.0N0f8 0.0N0f8 … 0.0N0f8 0.0N0f8; … ; 0.102N0f8 0.106N0f8 … 0.329N0f8 0.329N0f8; 0.0N0f8 0.0N0f8 … 0.0N0f8 0.0N0f8]\n",
       "\n",
       "[0.0N0f8 0.0N0f8 … 0.0N0f8 0.0N0f8; 0.0N0f8 0.0N0f8 … 0.0N0f8 0.0N0f8; … ; 0.2N0f8 0.2N0f8 … 0.647N0f8 0.647N0f8; 0.0N0f8 0.0N0f8 … 0.008N0f8 0.004N0f8]\n",
       "\n",
       "[0.0N0f8 0.0N0f8 … 0.0N0f8 0.0N0f8; 0.0N0f8 0.0N0f8 … 0.0N0f8 0.0N0f8; … ; 0.541N0f8 0.529N0f8 … 0.478N0f8 0.482N0f8; 0.0N0f8 0.008N0f8 … 0.0N0f8 0.0N0f8]), \"Climb down the ladder\")                                                                   \n",
       " (([0.0N0f8 0.0N0f8 … 0.0N0f8 0.0N0f8; 0.0N0f8 0.0N0f8 … 0.0N0f8 0.0N0f8; … ; 0.102N0f8 0.106N0f8 … 0.329N0f8 0.329N0f8; 0.0N0f8 0.0N0f8 … 0.0N0f8 0.0N0f8]\n",
       "\n",
       "[0.0N0f8 0.0N0f8 … 0.0N0f8 0.0N0f8; 0.0N0f8 0.0N0f8 … 0.0N0f8 0.0N0f8; … ; 0.2N0f8 0.2N0f8 … 0.647N0f8 0.647N0f8; 0.0N0f8 0.0N0f8 … 0.008N0f8 0.004N0f8]\n",
       "\n",
       "[0.0N0f8 0.0N0f8 … 0.0N0f8 0.0N0f8; 0.0N0f8 0.0N0f8 … 0.0N0f8 0.0N0f8; … ; 0.541N0f8 0.529N0f8 … 0.478N0f8 0.482N0f8; 0.0N0f8 0.008N0f8 … 0.0N0f8 0.0N0f8], [0.0N0f8 0.0N0f8 … 0.0N0f8 0.0N0f8; 0.0N0f8 0.0N0f8 … 0.0N0f8 0.0N0f8; … ; 0.102N0f8 0.106N0f8 … 0.329N0f8 0.329N0f8; 0.0N0f8 0.0N0f8 … 0.0N0f8 0.0N0f8]\n",
       "\n",
       "[0.0N0f8 0.0N0f8 … 0.0N0f8 0.0N0f8; 0.0N0f8 0.0N0f8 … 0.0N0f8 0.0N0f8; … ; 0.2N0f8 0.2N0f8 … 0.647N0f8 0.647N0f8; 0.0N0f8 0.0N0f8 … 0.008N0f8 0.004N0f8]\n",
       "\n",
       "[0.0N0f8 0.0N0f8 … 0.0N0f8 0.0N0f8; 0.0N0f8 0.0N0f8 … 0.0N0f8 0.0N0f8; … ; 0.541N0f8 0.529N0f8 … 0.478N0f8 0.482N0f8; 0.0N0f8 0.008N0f8 … 0.0N0f8 0.0N0f8], [0.0N0f8 0.0N0f8 … 0.0N0f8 0.0N0f8; 0.0N0f8 0.0N0f8 … 0.0N0f8 0.0N0f8; … ; 0.102N0f8 0.106N0f8 … 0.329N0f8 0.329N0f8; 0.0N0f8 0.0N0f8 … 0.0N0f8 0.0N0f8]\n",
       "\n",
       "[0.0N0f8 0.0N0f8 … 0.0N0f8 0.0N0f8; 0.0N0f8 0.0N0f8 … 0.0N0f8 0.0N0f8; … ; 0.2N0f8 0.2N0f8 … 0.647N0f8 0.647N0f8; 0.0N0f8 0.0N0f8 … 0.008N0f8 0.004N0f8]\n",
       "\n",
       "[0.0N0f8 0.0N0f8 … 0.0N0f8 0.0N0f8; 0.0N0f8 0.0N0f8 … 0.0N0f8 0.0N0f8; … ; 0.541N0f8 0.529N0f8 … 0.478N0f8 0.482N0f8; 0.0N0f8 0.008N0f8 … 0.0N0f8 0.0N0f8], [0.0N0f8 0.0N0f8 … 0.0N0f8 0.0N0f8; 0.0N0f8 0.0N0f8 … 0.0N0f8 0.0N0f8; … ; 0.102N0f8 0.106N0f8 … 0.329N0f8 0.329N0f8; 0.0N0f8 0.0N0f8 … 0.0N0f8 0.0N0f8]\n",
       "\n",
       "[0.0N0f8 0.0N0f8 … 0.0N0f8 0.0N0f8; 0.0N0f8 0.0N0f8 … 0.0N0f8 0.0N0f8; … ; 0.2N0f8 0.2N0f8 … 0.647N0f8 0.647N0f8; 0.0N0f8 0.0N0f8 … 0.008N0f8 0.004N0f8]\n",
       "\n",
       "[0.0N0f8 0.0N0f8 … 0.0N0f8 0.0N0f8; 0.0N0f8 0.0N0f8 … 0.0N0f8 0.0N0f8; … ; 0.541N0f8 0.529N0f8 … 0.478N0f8 0.482N0f8; 0.0N0f8 0.008N0f8 … 0.0N0f8 0.0N0f8]), \"Climb down the ladder\")                                                                   \n",
       " ⋮                                                                                                                                                                                                                                                                                                                                                                                                                                                                                                                                                                                                                                                                                                                                                                                                                                                                                                                                                                                                                                                                                                                                                                                                                                                                                                                                                                                                                                                                                                                                                                                                                                                                                                                                                                                                                                                                                                                                                                                                                             \n",
       " (([0.0N0f8 0.0N0f8 … 0.0N0f8 0.0N0f8; 0.0N0f8 0.0N0f8 … 0.0N0f8 0.0N0f8; … ; 0.102N0f8 0.106N0f8 … 0.329N0f8 0.329N0f8; 0.0N0f8 0.0N0f8 … 0.0N0f8 0.0N0f8]\n",
       "\n",
       "[0.0N0f8 0.0N0f8 … 0.0N0f8 0.0N0f8; 0.0N0f8 0.0N0f8 … 0.0N0f8 0.0N0f8; … ; 0.2N0f8 0.2N0f8 … 0.647N0f8 0.647N0f8; 0.0N0f8 0.0N0f8 … 0.008N0f8 0.004N0f8]\n",
       "\n",
       "[0.0N0f8 0.0N0f8 … 0.0N0f8 0.0N0f8; 0.0N0f8 0.0N0f8 … 0.0N0f8 0.0N0f8; … ; 0.541N0f8 0.529N0f8 … 0.478N0f8 0.482N0f8; 0.0N0f8 0.008N0f8 … 0.0N0f8 0.0N0f8], [0.0N0f8 0.0N0f8 … 0.0N0f8 0.0N0f8; 0.0N0f8 0.0N0f8 … 0.0N0f8 0.0N0f8; … ; 0.102N0f8 0.106N0f8 … 0.329N0f8 0.329N0f8; 0.0N0f8 0.0N0f8 … 0.0N0f8 0.0N0f8]\n",
       "\n",
       "[0.0N0f8 0.0N0f8 … 0.0N0f8 0.0N0f8; 0.0N0f8 0.0N0f8 … 0.0N0f8 0.0N0f8; … ; 0.2N0f8 0.2N0f8 … 0.647N0f8 0.647N0f8; 0.0N0f8 0.0N0f8 … 0.008N0f8 0.004N0f8]\n",
       "\n",
       "[0.0N0f8 0.0N0f8 … 0.0N0f8 0.0N0f8; 0.0N0f8 0.0N0f8 … 0.0N0f8 0.0N0f8; … ; 0.541N0f8 0.529N0f8 … 0.478N0f8 0.482N0f8; 0.0N0f8 0.008N0f8 … 0.0N0f8 0.0N0f8], [0.0N0f8 0.0N0f8 … 0.0N0f8 0.0N0f8; 0.0N0f8 0.0N0f8 … 0.0N0f8 0.0N0f8; … ; 0.102N0f8 0.106N0f8 … 0.329N0f8 0.329N0f8; 0.0N0f8 0.0N0f8 … 0.0N0f8 0.0N0f8]\n",
       "\n",
       "[0.0N0f8 0.0N0f8 … 0.0N0f8 0.0N0f8; 0.0N0f8 0.0N0f8 … 0.0N0f8 0.0N0f8; … ; 0.2N0f8 0.2N0f8 … 0.647N0f8 0.647N0f8; 0.0N0f8 0.0N0f8 … 0.008N0f8 0.004N0f8]\n",
       "\n",
       "[0.0N0f8 0.0N0f8 … 0.0N0f8 0.0N0f8; 0.0N0f8 0.0N0f8 … 0.0N0f8 0.0N0f8; … ; 0.541N0f8 0.529N0f8 … 0.478N0f8 0.482N0f8; 0.0N0f8 0.008N0f8 … 0.0N0f8 0.0N0f8], [0.0N0f8 0.0N0f8 … 0.0N0f8 0.0N0f8; 0.0N0f8 0.0N0f8 … 0.0N0f8 0.0N0f8; … ; 0.102N0f8 0.106N0f8 … 0.329N0f8 0.329N0f8; 0.0N0f8 0.0N0f8 … 0.0N0f8 0.0N0f8]\n",
       "\n",
       "[0.0N0f8 0.0N0f8 … 0.0N0f8 0.0N0f8; 0.0N0f8 0.0N0f8 … 0.0N0f8 0.0N0f8; … ; 0.2N0f8 0.2N0f8 … 0.647N0f8 0.647N0f8; 0.0N0f8 0.0N0f8 … 0.008N0f8 0.004N0f8]\n",
       "\n",
       "[0.0N0f8 0.0N0f8 … 0.0N0f8 0.0N0f8; 0.0N0f8 0.0N0f8 … 0.0N0f8 0.0N0f8; … ; 0.541N0f8 0.529N0f8 … 0.478N0f8 0.482N0f8; 0.0N0f8 0.008N0f8 … 0.0N0f8 0.0N0f8]), \"Jump to the rope\")                                                                        \n",
       " (([0.0N0f8 0.0N0f8 … 0.0N0f8 0.0N0f8; 0.0N0f8 0.0N0f8 … 0.0N0f8 0.0N0f8; … ; 0.102N0f8 0.106N0f8 … 0.329N0f8 0.329N0f8; 0.0N0f8 0.0N0f8 … 0.0N0f8 0.0N0f8]\n",
       "\n",
       "[0.0N0f8 0.0N0f8 … 0.0N0f8 0.0N0f8; 0.0N0f8 0.0N0f8 … 0.0N0f8 0.0N0f8; … ; 0.2N0f8 0.2N0f8 … 0.647N0f8 0.647N0f8; 0.0N0f8 0.0N0f8 … 0.008N0f8 0.004N0f8]\n",
       "\n",
       "[0.0N0f8 0.0N0f8 … 0.0N0f8 0.0N0f8; 0.0N0f8 0.0N0f8 … 0.0N0f8 0.0N0f8; … ; 0.541N0f8 0.529N0f8 … 0.478N0f8 0.482N0f8; 0.0N0f8 0.008N0f8 … 0.0N0f8 0.0N0f8], [0.0N0f8 0.0N0f8 … 0.0N0f8 0.0N0f8; 0.0N0f8 0.0N0f8 … 0.0N0f8 0.0N0f8; … ; 0.102N0f8 0.106N0f8 … 0.329N0f8 0.329N0f8; 0.0N0f8 0.0N0f8 … 0.0N0f8 0.0N0f8]\n",
       "\n",
       "[0.0N0f8 0.0N0f8 … 0.0N0f8 0.0N0f8; 0.0N0f8 0.0N0f8 … 0.0N0f8 0.0N0f8; … ; 0.2N0f8 0.2N0f8 … 0.647N0f8 0.647N0f8; 0.0N0f8 0.0N0f8 … 0.008N0f8 0.004N0f8]\n",
       "\n",
       "[0.0N0f8 0.0N0f8 … 0.0N0f8 0.0N0f8; 0.0N0f8 0.0N0f8 … 0.0N0f8 0.0N0f8; … ; 0.541N0f8 0.529N0f8 … 0.478N0f8 0.482N0f8; 0.0N0f8 0.008N0f8 … 0.0N0f8 0.0N0f8], [0.0N0f8 0.0N0f8 … 0.0N0f8 0.0N0f8; 0.0N0f8 0.0N0f8 … 0.0N0f8 0.0N0f8; … ; 0.102N0f8 0.106N0f8 … 0.329N0f8 0.329N0f8; 0.0N0f8 0.0N0f8 … 0.0N0f8 0.0N0f8]\n",
       "\n",
       "[0.0N0f8 0.0N0f8 … 0.0N0f8 0.0N0f8; 0.0N0f8 0.0N0f8 … 0.0N0f8 0.0N0f8; … ; 0.2N0f8 0.2N0f8 … 0.647N0f8 0.647N0f8; 0.0N0f8 0.0N0f8 … 0.008N0f8 0.004N0f8]\n",
       "\n",
       "[0.0N0f8 0.0N0f8 … 0.0N0f8 0.0N0f8; 0.0N0f8 0.0N0f8 … 0.0N0f8 0.0N0f8; … ; 0.541N0f8 0.529N0f8 … 0.478N0f8 0.482N0f8; 0.0N0f8 0.008N0f8 … 0.0N0f8 0.0N0f8], [0.0N0f8 0.0N0f8 … 0.0N0f8 0.0N0f8; 0.0N0f8 0.0N0f8 … 0.0N0f8 0.0N0f8; … ; 0.102N0f8 0.106N0f8 … 0.329N0f8 0.329N0f8; 0.0N0f8 0.0N0f8 … 0.0N0f8 0.0N0f8]\n",
       "\n",
       "[0.0N0f8 0.0N0f8 … 0.0N0f8 0.0N0f8; 0.0N0f8 0.0N0f8 … 0.0N0f8 0.0N0f8; … ; 0.2N0f8 0.2N0f8 … 0.647N0f8 0.647N0f8; 0.0N0f8 0.0N0f8 … 0.008N0f8 0.004N0f8]\n",
       "\n",
       "[0.0N0f8 0.0N0f8 … 0.0N0f8 0.0N0f8; 0.0N0f8 0.0N0f8 … 0.0N0f8 0.0N0f8; … ; 0.541N0f8 0.529N0f8 … 0.478N0f8 0.482N0f8; 0.0N0f8 0.008N0f8 … 0.0N0f8 0.0N0f8]), \"Jump in place\")                                                                           \n",
       " (([0.0N0f8 0.0N0f8 … 0.0N0f8 0.0N0f8; 0.0N0f8 0.0N0f8 … 0.0N0f8 0.0N0f8; … ; 0.18N0f8 0.176N0f8 … 0.251N0f8 0.247N0f8; 0.043N0f8 0.035N0f8 … 0.102N0f8 0.102N0f8]\n",
       "\n",
       "[0.0N0f8 0.0N0f8 … 0.0N0f8 0.0N0f8; 0.0N0f8 0.0N0f8 … 0.0N0f8 0.0N0f8; … ; 0.0N0f8 0.0N0f8 … 0.686N0f8 0.69N0f8; 0.024N0f8 0.027N0f8 … 0.196N0f8 0.192N0f8]\n",
       "\n",
       "[0.0N0f8 0.0N0f8 … 0.0N0f8 0.0N0f8; 0.0N0f8 0.0N0f8 … 0.0N0f8 0.0N0f8; … ; 0.51N0f8 0.514N0f8 … 0.498N0f8 0.498N0f8; 0.106N0f8 0.114N0f8 … 0.133N0f8 0.141N0f8], [0.0N0f8 0.0N0f8 … 0.0N0f8 0.0N0f8; 0.0N0f8 0.0N0f8 … 0.0N0f8 0.0N0f8; … ; 0.18N0f8 0.176N0f8 … 0.251N0f8 0.247N0f8; 0.043N0f8 0.035N0f8 … 0.102N0f8 0.102N0f8]\n",
       "\n",
       "[0.0N0f8 0.0N0f8 … 0.0N0f8 0.0N0f8; 0.0N0f8 0.0N0f8 … 0.0N0f8 0.0N0f8; … ; 0.0N0f8 0.0N0f8 … 0.686N0f8 0.69N0f8; 0.024N0f8 0.027N0f8 … 0.196N0f8 0.192N0f8]\n",
       "\n",
       "[0.0N0f8 0.0N0f8 … 0.0N0f8 0.0N0f8; 0.0N0f8 0.0N0f8 … 0.0N0f8 0.0N0f8; … ; 0.51N0f8 0.514N0f8 … 0.498N0f8 0.498N0f8; 0.106N0f8 0.114N0f8 … 0.133N0f8 0.141N0f8], [0.0N0f8 0.0N0f8 … 0.0N0f8 0.0N0f8; 0.0N0f8 0.0N0f8 … 0.0N0f8 0.0N0f8; … ; 0.18N0f8 0.176N0f8 … 0.251N0f8 0.247N0f8; 0.043N0f8 0.035N0f8 … 0.102N0f8 0.102N0f8]\n",
       "\n",
       "[0.0N0f8 0.0N0f8 … 0.0N0f8 0.0N0f8; 0.0N0f8 0.0N0f8 … 0.0N0f8 0.0N0f8; … ; 0.0N0f8 0.0N0f8 … 0.686N0f8 0.69N0f8; 0.024N0f8 0.027N0f8 … 0.196N0f8 0.192N0f8]\n",
       "\n",
       "[0.0N0f8 0.0N0f8 … 0.0N0f8 0.0N0f8; 0.0N0f8 0.0N0f8 … 0.0N0f8 0.0N0f8; … ; 0.51N0f8 0.514N0f8 … 0.498N0f8 0.498N0f8; 0.106N0f8 0.114N0f8 … 0.133N0f8 0.141N0f8], [0.0N0f8 0.0N0f8 … 0.0N0f8 0.0N0f8; 0.0N0f8 0.0N0f8 … 0.0N0f8 0.0N0f8; … ; 0.18N0f8 0.176N0f8 … 0.251N0f8 0.247N0f8; 0.043N0f8 0.035N0f8 … 0.102N0f8 0.102N0f8]\n",
       "\n",
       "[0.0N0f8 0.0N0f8 … 0.0N0f8 0.0N0f8; 0.0N0f8 0.0N0f8 … 0.0N0f8 0.0N0f8; … ; 0.0N0f8 0.0N0f8 … 0.686N0f8 0.69N0f8; 0.024N0f8 0.027N0f8 … 0.196N0f8 0.192N0f8]\n",
       "\n",
       "[0.0N0f8 0.0N0f8 … 0.0N0f8 0.0N0f8; 0.0N0f8 0.0N0f8 … 0.0N0f8 0.0N0f8; … ; 0.51N0f8 0.514N0f8 … 0.498N0f8 0.498N0f8; 0.106N0f8 0.114N0f8 … 0.133N0f8 0.141N0f8]), \"Go to the center of the room\")\n",
       " (([0.0N0f8 0.0N0f8 … 0.0N0f8 0.0N0f8; 0.0N0f8 0.0N0f8 … 0.0N0f8 0.0N0f8; … ; 0.0N0f8 0.0N0f8 … 0.0N0f8 0.0N0f8; 0.0N0f8 0.0N0f8 … 0.0N0f8 0.0N0f8]\n",
       "\n",
       "[0.0N0f8 0.0N0f8 … 0.0N0f8 0.0N0f8; 0.0N0f8 0.0N0f8 … 0.0N0f8 0.0N0f8; … ; 0.0N0f8 0.0N0f8 … 0.0N0f8 0.0N0f8; 0.0N0f8 0.0N0f8 … 0.0N0f8 0.0N0f8]\n",
       "\n",
       "[0.0N0f8 0.0N0f8 … 0.0N0f8 0.0N0f8; 0.0N0f8 0.0N0f8 … 0.0N0f8 0.0N0f8; … ; 0.008N0f8 0.008N0f8 … 0.012N0f8 0.012N0f8; 0.0N0f8 0.0N0f8 … 0.0N0f8 0.0N0f8], [0.0N0f8 0.0N0f8 … 0.0N0f8 0.0N0f8; 0.0N0f8 0.0N0f8 … 0.0N0f8 0.0N0f8; … ; 0.0N0f8 0.0N0f8 … 0.0N0f8 0.0N0f8; 0.0N0f8 0.0N0f8 … 0.0N0f8 0.0N0f8]\n",
       "\n",
       "[0.0N0f8 0.0N0f8 … 0.0N0f8 0.0N0f8; 0.0N0f8 0.0N0f8 … 0.0N0f8 0.0N0f8; … ; 0.0N0f8 0.0N0f8 … 0.0N0f8 0.0N0f8; 0.0N0f8 0.0N0f8 … 0.0N0f8 0.0N0f8]\n",
       "\n",
       "[0.0N0f8 0.0N0f8 … 0.0N0f8 0.0N0f8; 0.0N0f8 0.0N0f8 … 0.0N0f8 0.0N0f8; … ; 0.008N0f8 0.008N0f8 … 0.012N0f8 0.012N0f8; 0.0N0f8 0.0N0f8 … 0.0N0f8 0.0N0f8], [0.0N0f8 0.0N0f8 … 0.0N0f8 0.0N0f8; 0.0N0f8 0.0N0f8 … 0.0N0f8 0.0N0f8; … ; 0.0N0f8 0.0N0f8 … 0.0N0f8 0.0N0f8; 0.0N0f8 0.0N0f8 … 0.0N0f8 0.0N0f8]\n",
       "\n",
       "[0.0N0f8 0.0N0f8 … 0.0N0f8 0.0N0f8; 0.0N0f8 0.0N0f8 … 0.0N0f8 0.0N0f8; … ; 0.0N0f8 0.0N0f8 … 0.0N0f8 0.0N0f8; 0.0N0f8 0.0N0f8 … 0.0N0f8 0.0N0f8]\n",
       "\n",
       "[0.0N0f8 0.0N0f8 … 0.0N0f8 0.0N0f8; 0.0N0f8 0.0N0f8 … 0.0N0f8 0.0N0f8; … ; 0.008N0f8 0.008N0f8 … 0.012N0f8 0.012N0f8; 0.0N0f8 0.0N0f8 … 0.0N0f8 0.0N0f8], [0.0N0f8 0.0N0f8 … 0.0N0f8 0.0N0f8; 0.0N0f8 0.0N0f8 … 0.0N0f8 0.0N0f8; … ; 0.0N0f8 0.0N0f8 … 0.0N0f8 0.0N0f8; 0.0N0f8 0.0N0f8 … 0.0N0f8 0.0N0f8]\n",
       "\n",
       "[0.0N0f8 0.0N0f8 … 0.0N0f8 0.0N0f8; 0.0N0f8 0.0N0f8 … 0.0N0f8 0.0N0f8; … ; 0.0N0f8 0.0N0f8 … 0.0N0f8 0.0N0f8; 0.0N0f8 0.0N0f8 … 0.0N0f8 0.0N0f8]\n",
       "\n",
       "[0.0N0f8 0.0N0f8 … 0.0N0f8 0.0N0f8; 0.0N0f8 0.0N0f8 … 0.0N0f8 0.0N0f8; … ; 0.008N0f8 0.008N0f8 … 0.012N0f8 0.012N0f8; 0.0N0f8 0.0N0f8 … 0.0N0f8 0.0N0f8]), \"Jump in place\")                                                                                                                                                   \n",
       " (([0.0N0f8 0.0N0f8 … 0.0N0f8 0.0N0f8; 0.0N0f8 0.0N0f8 … 0.0N0f8 0.0N0f8; … ; 0.102N0f8 0.106N0f8 … 0.329N0f8 0.329N0f8; 0.0N0f8 0.0N0f8 … 0.0N0f8 0.0N0f8]\n",
       "\n",
       "[0.0N0f8 0.0N0f8 … 0.0N0f8 0.0N0f8; 0.0N0f8 0.0N0f8 … 0.0N0f8 0.0N0f8; … ; 0.2N0f8 0.2N0f8 … 0.647N0f8 0.647N0f8; 0.0N0f8 0.0N0f8 … 0.008N0f8 0.004N0f8]\n",
       "\n",
       "[0.0N0f8 0.0N0f8 … 0.0N0f8 0.0N0f8; 0.0N0f8 0.0N0f8 … 0.0N0f8 0.0N0f8; … ; 0.541N0f8 0.529N0f8 … 0.478N0f8 0.482N0f8; 0.0N0f8 0.008N0f8 … 0.0N0f8 0.0N0f8], [0.0N0f8 0.0N0f8 … 0.0N0f8 0.0N0f8; 0.0N0f8 0.0N0f8 … 0.0N0f8 0.0N0f8; … ; 0.102N0f8 0.106N0f8 … 0.329N0f8 0.329N0f8; 0.0N0f8 0.0N0f8 … 0.0N0f8 0.0N0f8]\n",
       "\n",
       "[0.0N0f8 0.0N0f8 … 0.0N0f8 0.0N0f8; 0.0N0f8 0.0N0f8 … 0.0N0f8 0.0N0f8; … ; 0.2N0f8 0.2N0f8 … 0.647N0f8 0.647N0f8; 0.0N0f8 0.0N0f8 … 0.008N0f8 0.004N0f8]\n",
       "\n",
       "[0.0N0f8 0.0N0f8 … 0.0N0f8 0.0N0f8; 0.0N0f8 0.0N0f8 … 0.0N0f8 0.0N0f8; … ; 0.541N0f8 0.529N0f8 … 0.478N0f8 0.482N0f8; 0.0N0f8 0.008N0f8 … 0.0N0f8 0.0N0f8], [0.0N0f8 0.0N0f8 … 0.0N0f8 0.0N0f8; 0.0N0f8 0.0N0f8 … 0.0N0f8 0.0N0f8; … ; 0.102N0f8 0.106N0f8 … 0.329N0f8 0.329N0f8; 0.0N0f8 0.0N0f8 … 0.0N0f8 0.0N0f8]\n",
       "\n",
       "[0.0N0f8 0.0N0f8 … 0.0N0f8 0.0N0f8; 0.0N0f8 0.0N0f8 … 0.0N0f8 0.0N0f8; … ; 0.2N0f8 0.2N0f8 … 0.647N0f8 0.647N0f8; 0.0N0f8 0.0N0f8 … 0.008N0f8 0.004N0f8]\n",
       "\n",
       "[0.0N0f8 0.0N0f8 … 0.0N0f8 0.0N0f8; 0.0N0f8 0.0N0f8 … 0.0N0f8 0.0N0f8; … ; 0.541N0f8 0.529N0f8 … 0.478N0f8 0.482N0f8; 0.0N0f8 0.008N0f8 … 0.0N0f8 0.0N0f8], [0.0N0f8 0.0N0f8 … 0.0N0f8 0.0N0f8; 0.0N0f8 0.0N0f8 … 0.0N0f8 0.0N0f8; … ; 0.102N0f8 0.106N0f8 … 0.329N0f8 0.329N0f8; 0.0N0f8 0.0N0f8 … 0.0N0f8 0.0N0f8]\n",
       "\n",
       "[0.0N0f8 0.0N0f8 … 0.0N0f8 0.0N0f8; 0.0N0f8 0.0N0f8 … 0.0N0f8 0.0N0f8; … ; 0.2N0f8 0.2N0f8 … 0.647N0f8 0.647N0f8; 0.0N0f8 0.0N0f8 … 0.008N0f8 0.004N0f8]\n",
       "\n",
       "[0.0N0f8 0.0N0f8 … 0.0N0f8 0.0N0f8; 0.0N0f8 0.0N0f8 … 0.0N0f8 0.0N0f8; … ; 0.541N0f8 0.529N0f8 … 0.478N0f8 0.482N0f8; 0.0N0f8 0.008N0f8 … 0.0N0f8 0.0N0f8]), \"Climb down the ladder\")                                                                   \n",
       " (([0.0N0f8 0.0N0f8 … 0.0N0f8 0.0N0f8; 0.0N0f8 0.0N0f8 … 0.0N0f8 0.0N0f8; … ; 0.18N0f8 0.176N0f8 … 0.251N0f8 0.247N0f8; 0.043N0f8 0.035N0f8 … 0.102N0f8 0.102N0f8]\n",
       "\n",
       "[0.0N0f8 0.0N0f8 … 0.0N0f8 0.0N0f8; 0.0N0f8 0.0N0f8 … 0.0N0f8 0.0N0f8; … ; 0.0N0f8 0.0N0f8 … 0.686N0f8 0.69N0f8; 0.024N0f8 0.027N0f8 … 0.196N0f8 0.192N0f8]\n",
       "\n",
       "[0.0N0f8 0.0N0f8 … 0.0N0f8 0.0N0f8; 0.0N0f8 0.0N0f8 … 0.0N0f8 0.0N0f8; … ; 0.51N0f8 0.514N0f8 … 0.498N0f8 0.498N0f8; 0.106N0f8 0.114N0f8 … 0.133N0f8 0.141N0f8], [0.0N0f8 0.0N0f8 … 0.0N0f8 0.0N0f8; 0.0N0f8 0.0N0f8 … 0.0N0f8 0.0N0f8; … ; 0.18N0f8 0.176N0f8 … 0.251N0f8 0.247N0f8; 0.043N0f8 0.035N0f8 … 0.102N0f8 0.102N0f8]\n",
       "\n",
       "[0.0N0f8 0.0N0f8 … 0.0N0f8 0.0N0f8; 0.0N0f8 0.0N0f8 … 0.0N0f8 0.0N0f8; … ; 0.0N0f8 0.0N0f8 … 0.686N0f8 0.69N0f8; 0.024N0f8 0.027N0f8 … 0.196N0f8 0.192N0f8]\n",
       "\n",
       "[0.0N0f8 0.0N0f8 … 0.0N0f8 0.0N0f8; 0.0N0f8 0.0N0f8 … 0.0N0f8 0.0N0f8; … ; 0.51N0f8 0.514N0f8 … 0.498N0f8 0.498N0f8; 0.106N0f8 0.114N0f8 … 0.133N0f8 0.141N0f8], [0.0N0f8 0.0N0f8 … 0.0N0f8 0.0N0f8; 0.0N0f8 0.0N0f8 … 0.0N0f8 0.0N0f8; … ; 0.18N0f8 0.176N0f8 … 0.251N0f8 0.247N0f8; 0.043N0f8 0.035N0f8 … 0.102N0f8 0.102N0f8]\n",
       "\n",
       "[0.0N0f8 0.0N0f8 … 0.0N0f8 0.0N0f8; 0.0N0f8 0.0N0f8 … 0.0N0f8 0.0N0f8; … ; 0.0N0f8 0.0N0f8 … 0.686N0f8 0.69N0f8; 0.024N0f8 0.027N0f8 … 0.196N0f8 0.192N0f8]\n",
       "\n",
       "[0.0N0f8 0.0N0f8 … 0.0N0f8 0.0N0f8; 0.0N0f8 0.0N0f8 … 0.0N0f8 0.0N0f8; … ; 0.51N0f8 0.514N0f8 … 0.498N0f8 0.498N0f8; 0.106N0f8 0.114N0f8 … 0.133N0f8 0.141N0f8], [0.0N0f8 0.0N0f8 … 0.0N0f8 0.0N0f8; 0.0N0f8 0.0N0f8 … 0.0N0f8 0.0N0f8; … ; 0.18N0f8 0.176N0f8 … 0.251N0f8 0.247N0f8; 0.043N0f8 0.035N0f8 … 0.102N0f8 0.102N0f8]\n",
       "\n",
       "[0.0N0f8 0.0N0f8 … 0.0N0f8 0.0N0f8; 0.0N0f8 0.0N0f8 … 0.0N0f8 0.0N0f8; … ; 0.0N0f8 0.0N0f8 … 0.686N0f8 0.69N0f8; 0.024N0f8 0.027N0f8 … 0.196N0f8 0.192N0f8]\n",
       "\n",
       "[0.0N0f8 0.0N0f8 … 0.0N0f8 0.0N0f8; 0.0N0f8 0.0N0f8 … 0.0N0f8 0.0N0f8; … ; 0.51N0f8 0.514N0f8 … 0.498N0f8 0.498N0f8; 0.106N0f8 0.114N0f8 … 0.133N0f8 0.141N0f8]), \"Jump in place\")               \n",
       " (([0.0N0f8 0.0N0f8 … 0.0N0f8 0.0N0f8; 0.0N0f8 0.0N0f8 … 0.0N0f8 0.0N0f8; … ; 0.106N0f8 0.11N0f8 … 0.329N0f8 0.329N0f8; 0.0N0f8 0.0N0f8 … 0.0N0f8 0.0N0f8]\n",
       "\n",
       "[0.0N0f8 0.0N0f8 … 0.0N0f8 0.0N0f8; 0.0N0f8 0.0N0f8 … 0.0N0f8 0.0N0f8; … ; 0.196N0f8 0.196N0f8 … 0.647N0f8 0.647N0f8; 0.0N0f8 0.0N0f8 … 0.008N0f8 0.004N0f8]\n",
       "\n",
       "[0.0N0f8 0.0N0f8 … 0.0N0f8 0.0N0f8; 0.0N0f8 0.0N0f8 … 0.0N0f8 0.0N0f8; … ; 0.541N0f8 0.529N0f8 … 0.478N0f8 0.482N0f8; 0.0N0f8 0.008N0f8 … 0.0N0f8 0.0N0f8], [0.0N0f8 0.0N0f8 … 0.0N0f8 0.0N0f8; 0.0N0f8 0.0N0f8 … 0.0N0f8 0.0N0f8; … ; 0.106N0f8 0.11N0f8 … 0.329N0f8 0.329N0f8; 0.0N0f8 0.0N0f8 … 0.0N0f8 0.0N0f8]\n",
       "\n",
       "[0.0N0f8 0.0N0f8 … 0.0N0f8 0.0N0f8; 0.0N0f8 0.0N0f8 … 0.0N0f8 0.0N0f8; … ; 0.196N0f8 0.196N0f8 … 0.647N0f8 0.647N0f8; 0.0N0f8 0.0N0f8 … 0.008N0f8 0.004N0f8]\n",
       "\n",
       "[0.0N0f8 0.0N0f8 … 0.0N0f8 0.0N0f8; 0.0N0f8 0.0N0f8 … 0.0N0f8 0.0N0f8; … ; 0.541N0f8 0.529N0f8 … 0.478N0f8 0.482N0f8; 0.0N0f8 0.008N0f8 … 0.0N0f8 0.0N0f8], [0.0N0f8 0.0N0f8 … 0.0N0f8 0.0N0f8; 0.0N0f8 0.0N0f8 … 0.0N0f8 0.0N0f8; … ; 0.106N0f8 0.11N0f8 … 0.329N0f8 0.329N0f8; 0.0N0f8 0.0N0f8 … 0.0N0f8 0.0N0f8]\n",
       "\n",
       "[0.0N0f8 0.0N0f8 … 0.0N0f8 0.0N0f8; 0.0N0f8 0.0N0f8 … 0.0N0f8 0.0N0f8; … ; 0.196N0f8 0.196N0f8 … 0.647N0f8 0.647N0f8; 0.0N0f8 0.0N0f8 … 0.008N0f8 0.004N0f8]\n",
       "\n",
       "[0.0N0f8 0.0N0f8 … 0.0N0f8 0.0N0f8; 0.0N0f8 0.0N0f8 … 0.0N0f8 0.0N0f8; … ; 0.541N0f8 0.529N0f8 … 0.478N0f8 0.482N0f8; 0.0N0f8 0.008N0f8 … 0.0N0f8 0.0N0f8], [0.0N0f8 0.0N0f8 … 0.0N0f8 0.0N0f8; 0.0N0f8 0.0N0f8 … 0.0N0f8 0.0N0f8; … ; 0.106N0f8 0.11N0f8 … 0.329N0f8 0.329N0f8; 0.0N0f8 0.0N0f8 … 0.0N0f8 0.0N0f8]\n",
       "\n",
       "[0.0N0f8 0.0N0f8 … 0.0N0f8 0.0N0f8; 0.0N0f8 0.0N0f8 … 0.0N0f8 0.0N0f8; … ; 0.196N0f8 0.196N0f8 … 0.647N0f8 0.647N0f8; 0.0N0f8 0.0N0f8 … 0.008N0f8 0.004N0f8]\n",
       "\n",
       "[0.0N0f8 0.0N0f8 … 0.0N0f8 0.0N0f8; 0.0N0f8 0.0N0f8 … 0.0N0f8 0.0N0f8; … ; 0.541N0f8 0.529N0f8 … 0.478N0f8 0.482N0f8; 0.0N0f8 0.008N0f8 … 0.0N0f8 0.0N0f8]), \"Go between the lasers\")                                                       \n",
       " (([0.0N0f8 0.0N0f8 … 0.0N0f8 0.0N0f8; 0.0N0f8 0.0N0f8 … 0.0N0f8 0.0N0f8; … ; 0.0N0f8 0.0N0f8 … 0.0N0f8 0.0N0f8; 0.0N0f8 0.0N0f8 … 0.0N0f8 0.0N0f8]\n",
       "\n",
       "[0.0N0f8 0.0N0f8 … 0.0N0f8 0.0N0f8; 0.0N0f8 0.0N0f8 … 0.0N0f8 0.0N0f8; … ; 0.0N0f8 0.0N0f8 … 0.0N0f8 0.0N0f8; 0.0N0f8 0.0N0f8 … 0.0N0f8 0.0N0f8]\n",
       "\n",
       "[0.0N0f8 0.0N0f8 … 0.0N0f8 0.0N0f8; 0.0N0f8 0.0N0f8 … 0.0N0f8 0.0N0f8; … ; 0.0N0f8 0.0N0f8 … 0.0N0f8 0.004N0f8; 0.0N0f8 0.0N0f8 … 0.0N0f8 0.0N0f8], [0.0N0f8 0.0N0f8 … 0.0N0f8 0.0N0f8; 0.0N0f8 0.0N0f8 … 0.0N0f8 0.0N0f8; … ; 0.0N0f8 0.0N0f8 … 0.0N0f8 0.0N0f8; 0.0N0f8 0.0N0f8 … 0.0N0f8 0.0N0f8]\n",
       "\n",
       "[0.0N0f8 0.0N0f8 … 0.0N0f8 0.0N0f8; 0.0N0f8 0.0N0f8 … 0.0N0f8 0.0N0f8; … ; 0.0N0f8 0.0N0f8 … 0.0N0f8 0.0N0f8; 0.0N0f8 0.0N0f8 … 0.0N0f8 0.0N0f8]\n",
       "\n",
       "[0.0N0f8 0.0N0f8 … 0.0N0f8 0.0N0f8; 0.0N0f8 0.0N0f8 … 0.0N0f8 0.0N0f8; … ; 0.0N0f8 0.0N0f8 … 0.0N0f8 0.004N0f8; 0.0N0f8 0.0N0f8 … 0.0N0f8 0.0N0f8], [0.0N0f8 0.0N0f8 … 0.0N0f8 0.0N0f8; 0.0N0f8 0.0N0f8 … 0.0N0f8 0.0N0f8; … ; 0.0N0f8 0.0N0f8 … 0.0N0f8 0.0N0f8; 0.0N0f8 0.0N0f8 … 0.0N0f8 0.0N0f8]\n",
       "\n",
       "[0.0N0f8 0.0N0f8 … 0.0N0f8 0.0N0f8; 0.0N0f8 0.0N0f8 … 0.0N0f8 0.0N0f8; … ; 0.0N0f8 0.0N0f8 … 0.0N0f8 0.0N0f8; 0.0N0f8 0.0N0f8 … 0.0N0f8 0.0N0f8]\n",
       "\n",
       "[0.0N0f8 0.0N0f8 … 0.0N0f8 0.0N0f8; 0.0N0f8 0.0N0f8 … 0.0N0f8 0.0N0f8; … ; 0.0N0f8 0.0N0f8 … 0.0N0f8 0.004N0f8; 0.0N0f8 0.0N0f8 … 0.0N0f8 0.0N0f8], [0.0N0f8 0.0N0f8 … 0.0N0f8 0.0N0f8; 0.0N0f8 0.0N0f8 … 0.0N0f8 0.0N0f8; … ; 0.0N0f8 0.0N0f8 … 0.0N0f8 0.0N0f8; 0.0N0f8 0.0N0f8 … 0.0N0f8 0.0N0f8]\n",
       "\n",
       "[0.0N0f8 0.0N0f8 … 0.0N0f8 0.0N0f8; 0.0N0f8 0.0N0f8 … 0.0N0f8 0.0N0f8; … ; 0.0N0f8 0.0N0f8 … 0.0N0f8 0.0N0f8; 0.0N0f8 0.0N0f8 … 0.0N0f8 0.0N0f8]\n",
       "\n",
       "[0.0N0f8 0.0N0f8 … 0.0N0f8 0.0N0f8; 0.0N0f8 0.0N0f8 … 0.0N0f8 0.0N0f8; … ; 0.0N0f8 0.0N0f8 … 0.0N0f8 0.004N0f8; 0.0N0f8 0.0N0f8 … 0.0N0f8 0.0N0f8]), \"Jump in place\")                                                                                                                                                                           \n",
       " (([0.0N0f8 0.0N0f8 … 0.0N0f8 0.0N0f8; 0.0N0f8 0.0N0f8 … 0.0N0f8 0.0N0f8; … ; 0.102N0f8 0.106N0f8 … 0.329N0f8 0.329N0f8; 0.0N0f8 0.0N0f8 … 0.0N0f8 0.0N0f8]\n",
       "\n",
       "[0.0N0f8 0.0N0f8 … 0.0N0f8 0.0N0f8; 0.0N0f8 0.0N0f8 … 0.0N0f8 0.0N0f8; … ; 0.2N0f8 0.2N0f8 … 0.647N0f8 0.647N0f8; 0.0N0f8 0.0N0f8 … 0.008N0f8 0.004N0f8]\n",
       "\n",
       "[0.0N0f8 0.0N0f8 … 0.0N0f8 0.0N0f8; 0.0N0f8 0.0N0f8 … 0.0N0f8 0.0N0f8; … ; 0.541N0f8 0.529N0f8 … 0.478N0f8 0.482N0f8; 0.0N0f8 0.008N0f8 … 0.0N0f8 0.0N0f8], [0.0N0f8 0.0N0f8 … 0.0N0f8 0.0N0f8; 0.0N0f8 0.0N0f8 … 0.0N0f8 0.0N0f8; … ; 0.102N0f8 0.106N0f8 … 0.329N0f8 0.329N0f8; 0.0N0f8 0.0N0f8 … 0.0N0f8 0.0N0f8]\n",
       "\n",
       "[0.0N0f8 0.0N0f8 … 0.0N0f8 0.0N0f8; 0.0N0f8 0.0N0f8 … 0.0N0f8 0.0N0f8; … ; 0.2N0f8 0.2N0f8 … 0.647N0f8 0.647N0f8; 0.0N0f8 0.0N0f8 … 0.008N0f8 0.004N0f8]\n",
       "\n",
       "[0.0N0f8 0.0N0f8 … 0.0N0f8 0.0N0f8; 0.0N0f8 0.0N0f8 … 0.0N0f8 0.0N0f8; … ; 0.541N0f8 0.529N0f8 … 0.478N0f8 0.482N0f8; 0.0N0f8 0.008N0f8 … 0.0N0f8 0.0N0f8], [0.0N0f8 0.0N0f8 … 0.0N0f8 0.0N0f8; 0.0N0f8 0.0N0f8 … 0.0N0f8 0.0N0f8; … ; 0.102N0f8 0.106N0f8 … 0.329N0f8 0.329N0f8; 0.0N0f8 0.0N0f8 … 0.0N0f8 0.0N0f8]\n",
       "\n",
       "[0.0N0f8 0.0N0f8 … 0.0N0f8 0.0N0f8; 0.0N0f8 0.0N0f8 … 0.0N0f8 0.0N0f8; … ; 0.2N0f8 0.2N0f8 … 0.647N0f8 0.647N0f8; 0.0N0f8 0.0N0f8 … 0.008N0f8 0.004N0f8]\n",
       "\n",
       "[0.0N0f8 0.0N0f8 … 0.0N0f8 0.0N0f8; 0.0N0f8 0.0N0f8 … 0.0N0f8 0.0N0f8; … ; 0.541N0f8 0.529N0f8 … 0.478N0f8 0.482N0f8; 0.0N0f8 0.008N0f8 … 0.0N0f8 0.0N0f8], [0.0N0f8 0.0N0f8 … 0.0N0f8 0.0N0f8; 0.0N0f8 0.0N0f8 … 0.0N0f8 0.0N0f8; … ; 0.102N0f8 0.106N0f8 … 0.329N0f8 0.329N0f8; 0.0N0f8 0.0N0f8 … 0.0N0f8 0.0N0f8]\n",
       "\n",
       "[0.0N0f8 0.0N0f8 … 0.0N0f8 0.0N0f8; 0.0N0f8 0.0N0f8 … 0.0N0f8 0.0N0f8; … ; 0.2N0f8 0.2N0f8 … 0.647N0f8 0.647N0f8; 0.0N0f8 0.0N0f8 … 0.008N0f8 0.004N0f8]\n",
       "\n",
       "[0.0N0f8 0.0N0f8 … 0.0N0f8 0.0N0f8; 0.0N0f8 0.0N0f8 … 0.0N0f8 0.0N0f8; … ; 0.541N0f8 0.529N0f8 … 0.478N0f8 0.482N0f8; 0.0N0f8 0.008N0f8 … 0.0N0f8 0.0N0f8]), \"Go to the right side of the room\")                                                        \n",
       " (([0.0N0f8 0.0N0f8 … 0.0N0f8 0.0N0f8; 0.0N0f8 0.0N0f8 … 0.0N0f8 0.0N0f8; … ; 0.18N0f8 0.176N0f8 … 0.251N0f8 0.247N0f8; 0.043N0f8 0.035N0f8 … 0.102N0f8 0.102N0f8]\n",
       "\n",
       "[0.0N0f8 0.0N0f8 … 0.0N0f8 0.0N0f8; 0.0N0f8 0.0N0f8 … 0.0N0f8 0.0N0f8; … ; 0.0N0f8 0.0N0f8 … 0.686N0f8 0.69N0f8; 0.024N0f8 0.027N0f8 … 0.196N0f8 0.192N0f8]\n",
       "\n",
       "[0.0N0f8 0.0N0f8 … 0.0N0f8 0.0N0f8; 0.0N0f8 0.0N0f8 … 0.0N0f8 0.0N0f8; … ; 0.51N0f8 0.514N0f8 … 0.498N0f8 0.498N0f8; 0.106N0f8 0.114N0f8 … 0.133N0f8 0.141N0f8], [0.0N0f8 0.0N0f8 … 0.0N0f8 0.0N0f8; 0.0N0f8 0.0N0f8 … 0.0N0f8 0.0N0f8; … ; 0.18N0f8 0.176N0f8 … 0.251N0f8 0.247N0f8; 0.043N0f8 0.035N0f8 … 0.102N0f8 0.102N0f8]\n",
       "\n",
       "[0.0N0f8 0.0N0f8 … 0.0N0f8 0.0N0f8; 0.0N0f8 0.0N0f8 … 0.0N0f8 0.0N0f8; … ; 0.0N0f8 0.0N0f8 … 0.686N0f8 0.69N0f8; 0.024N0f8 0.027N0f8 … 0.196N0f8 0.192N0f8]\n",
       "\n",
       "[0.0N0f8 0.0N0f8 … 0.0N0f8 0.0N0f8; 0.0N0f8 0.0N0f8 … 0.0N0f8 0.0N0f8; … ; 0.51N0f8 0.514N0f8 … 0.498N0f8 0.498N0f8; 0.106N0f8 0.114N0f8 … 0.133N0f8 0.141N0f8], [0.0N0f8 0.0N0f8 … 0.0N0f8 0.0N0f8; 0.0N0f8 0.0N0f8 … 0.0N0f8 0.0N0f8; … ; 0.18N0f8 0.176N0f8 … 0.251N0f8 0.247N0f8; 0.043N0f8 0.035N0f8 … 0.102N0f8 0.102N0f8]\n",
       "\n",
       "[0.0N0f8 0.0N0f8 … 0.0N0f8 0.0N0f8; 0.0N0f8 0.0N0f8 … 0.0N0f8 0.0N0f8; … ; 0.0N0f8 0.0N0f8 … 0.686N0f8 0.69N0f8; 0.024N0f8 0.027N0f8 … 0.196N0f8 0.192N0f8]\n",
       "\n",
       "[0.0N0f8 0.0N0f8 … 0.0N0f8 0.0N0f8; 0.0N0f8 0.0N0f8 … 0.0N0f8 0.0N0f8; … ; 0.51N0f8 0.514N0f8 … 0.498N0f8 0.498N0f8; 0.106N0f8 0.114N0f8 … 0.133N0f8 0.141N0f8], [0.0N0f8 0.0N0f8 … 0.0N0f8 0.0N0f8; 0.0N0f8 0.0N0f8 … 0.0N0f8 0.0N0f8; … ; 0.18N0f8 0.176N0f8 … 0.251N0f8 0.247N0f8; 0.043N0f8 0.035N0f8 … 0.102N0f8 0.102N0f8]\n",
       "\n",
       "[0.0N0f8 0.0N0f8 … 0.0N0f8 0.0N0f8; 0.0N0f8 0.0N0f8 … 0.0N0f8 0.0N0f8; … ; 0.0N0f8 0.0N0f8 … 0.686N0f8 0.69N0f8; 0.024N0f8 0.027N0f8 … 0.196N0f8 0.192N0f8]\n",
       "\n",
       "[0.0N0f8 0.0N0f8 … 0.0N0f8 0.0N0f8; 0.0N0f8 0.0N0f8 … 0.0N0f8 0.0N0f8; … ; 0.51N0f8 0.514N0f8 … 0.498N0f8 0.498N0f8; 0.106N0f8 0.114N0f8 … 0.133N0f8 0.141N0f8]), \"Jump in place\")               \n",
       " (([0.0N0f8 0.0N0f8 … 0.0N0f8 0.0N0f8; 0.0N0f8 0.0N0f8 … 0.0N0f8 0.0N0f8; … ; 0.18N0f8 0.176N0f8 … 0.251N0f8 0.247N0f8; 0.043N0f8 0.035N0f8 … 0.102N0f8 0.102N0f8]\n",
       "\n",
       "[0.0N0f8 0.0N0f8 … 0.0N0f8 0.0N0f8; 0.0N0f8 0.0N0f8 … 0.0N0f8 0.0N0f8; … ; 0.0N0f8 0.0N0f8 … 0.686N0f8 0.69N0f8; 0.024N0f8 0.027N0f8 … 0.192N0f8 0.192N0f8]\n",
       "\n",
       "[0.0N0f8 0.0N0f8 … 0.0N0f8 0.0N0f8; 0.0N0f8 0.0N0f8 … 0.0N0f8 0.0N0f8; … ; 0.51N0f8 0.514N0f8 … 0.498N0f8 0.498N0f8; 0.106N0f8 0.114N0f8 … 0.141N0f8 0.141N0f8], [0.0N0f8 0.0N0f8 … 0.0N0f8 0.0N0f8; 0.0N0f8 0.0N0f8 … 0.0N0f8 0.0N0f8; … ; 0.18N0f8 0.176N0f8 … 0.251N0f8 0.247N0f8; 0.043N0f8 0.035N0f8 … 0.102N0f8 0.102N0f8]\n",
       "\n",
       "[0.0N0f8 0.0N0f8 … 0.0N0f8 0.0N0f8; 0.0N0f8 0.0N0f8 … 0.0N0f8 0.0N0f8; … ; 0.0N0f8 0.0N0f8 … 0.686N0f8 0.69N0f8; 0.024N0f8 0.027N0f8 … 0.192N0f8 0.192N0f8]\n",
       "\n",
       "[0.0N0f8 0.0N0f8 … 0.0N0f8 0.0N0f8; 0.0N0f8 0.0N0f8 … 0.0N0f8 0.0N0f8; … ; 0.51N0f8 0.514N0f8 … 0.498N0f8 0.498N0f8; 0.106N0f8 0.114N0f8 … 0.141N0f8 0.141N0f8], [0.0N0f8 0.0N0f8 … 0.0N0f8 0.0N0f8; 0.0N0f8 0.0N0f8 … 0.0N0f8 0.0N0f8; … ; 0.18N0f8 0.176N0f8 … 0.251N0f8 0.247N0f8; 0.043N0f8 0.035N0f8 … 0.102N0f8 0.102N0f8]\n",
       "\n",
       "[0.0N0f8 0.0N0f8 … 0.0N0f8 0.0N0f8; 0.0N0f8 0.0N0f8 … 0.0N0f8 0.0N0f8; … ; 0.0N0f8 0.0N0f8 … 0.686N0f8 0.69N0f8; 0.024N0f8 0.027N0f8 … 0.192N0f8 0.192N0f8]\n",
       "\n",
       "[0.0N0f8 0.0N0f8 … 0.0N0f8 0.0N0f8; 0.0N0f8 0.0N0f8 … 0.0N0f8 0.0N0f8; … ; 0.51N0f8 0.514N0f8 … 0.498N0f8 0.498N0f8; 0.106N0f8 0.114N0f8 … 0.141N0f8 0.141N0f8], [0.0N0f8 0.0N0f8 … 0.0N0f8 0.0N0f8; 0.0N0f8 0.0N0f8 … 0.0N0f8 0.0N0f8; … ; 0.18N0f8 0.176N0f8 … 0.251N0f8 0.247N0f8; 0.043N0f8 0.035N0f8 … 0.102N0f8 0.102N0f8]\n",
       "\n",
       "[0.0N0f8 0.0N0f8 … 0.0N0f8 0.0N0f8; 0.0N0f8 0.0N0f8 … 0.0N0f8 0.0N0f8; … ; 0.0N0f8 0.0N0f8 … 0.686N0f8 0.69N0f8; 0.024N0f8 0.027N0f8 … 0.192N0f8 0.192N0f8]\n",
       "\n",
       "[0.0N0f8 0.0N0f8 … 0.0N0f8 0.0N0f8; 0.0N0f8 0.0N0f8 … 0.0N0f8 0.0N0f8; … ; 0.51N0f8 0.514N0f8 … 0.498N0f8 0.498N0f8; 0.106N0f8 0.114N0f8 … 0.141N0f8 0.141N0f8]), \"Fall down\")                   \n",
       " (([0.0N0f8 0.0N0f8 … 0.0N0f8 0.0N0f8; 0.0N0f8 0.0N0f8 … 0.0N0f8 0.0N0f8; … ; 0.18N0f8 0.176N0f8 … 0.251N0f8 0.247N0f8; 0.043N0f8 0.035N0f8 … 0.102N0f8 0.102N0f8]\n",
       "\n",
       "[0.0N0f8 0.0N0f8 … 0.0N0f8 0.0N0f8; 0.0N0f8 0.0N0f8 … 0.0N0f8 0.0N0f8; … ; 0.0N0f8 0.0N0f8 … 0.686N0f8 0.69N0f8; 0.024N0f8 0.027N0f8 … 0.196N0f8 0.192N0f8]\n",
       "\n",
       "[0.0N0f8 0.0N0f8 … 0.0N0f8 0.0N0f8; 0.0N0f8 0.0N0f8 … 0.0N0f8 0.0N0f8; … ; 0.51N0f8 0.514N0f8 … 0.498N0f8 0.498N0f8; 0.106N0f8 0.114N0f8 … 0.133N0f8 0.141N0f8], [0.0N0f8 0.0N0f8 … 0.0N0f8 0.0N0f8; 0.0N0f8 0.0N0f8 … 0.0N0f8 0.0N0f8; … ; 0.18N0f8 0.176N0f8 … 0.251N0f8 0.247N0f8; 0.043N0f8 0.035N0f8 … 0.102N0f8 0.102N0f8]\n",
       "\n",
       "[0.0N0f8 0.0N0f8 … 0.0N0f8 0.0N0f8; 0.0N0f8 0.0N0f8 … 0.0N0f8 0.0N0f8; … ; 0.0N0f8 0.0N0f8 … 0.686N0f8 0.69N0f8; 0.024N0f8 0.027N0f8 … 0.196N0f8 0.192N0f8]\n",
       "\n",
       "[0.0N0f8 0.0N0f8 … 0.0N0f8 0.0N0f8; 0.0N0f8 0.0N0f8 … 0.0N0f8 0.0N0f8; … ; 0.51N0f8 0.514N0f8 … 0.498N0f8 0.498N0f8; 0.106N0f8 0.114N0f8 … 0.133N0f8 0.141N0f8], [0.0N0f8 0.0N0f8 … 0.0N0f8 0.0N0f8; 0.0N0f8 0.0N0f8 … 0.0N0f8 0.0N0f8; … ; 0.18N0f8 0.176N0f8 … 0.251N0f8 0.247N0f8; 0.043N0f8 0.035N0f8 … 0.102N0f8 0.102N0f8]\n",
       "\n",
       "[0.0N0f8 0.0N0f8 … 0.0N0f8 0.0N0f8; 0.0N0f8 0.0N0f8 … 0.0N0f8 0.0N0f8; … ; 0.0N0f8 0.0N0f8 … 0.686N0f8 0.69N0f8; 0.024N0f8 0.027N0f8 … 0.196N0f8 0.192N0f8]\n",
       "\n",
       "[0.0N0f8 0.0N0f8 … 0.0N0f8 0.0N0f8; 0.0N0f8 0.0N0f8 … 0.0N0f8 0.0N0f8; … ; 0.51N0f8 0.514N0f8 … 0.498N0f8 0.498N0f8; 0.106N0f8 0.114N0f8 … 0.133N0f8 0.141N0f8], [0.0N0f8 0.0N0f8 … 0.0N0f8 0.0N0f8; 0.0N0f8 0.0N0f8 … 0.0N0f8 0.0N0f8; … ; 0.18N0f8 0.176N0f8 … 0.251N0f8 0.247N0f8; 0.043N0f8 0.035N0f8 … 0.102N0f8 0.102N0f8]\n",
       "\n",
       "[0.0N0f8 0.0N0f8 … 0.0N0f8 0.0N0f8; 0.0N0f8 0.0N0f8 … 0.0N0f8 0.0N0f8; … ; 0.0N0f8 0.0N0f8 … 0.686N0f8 0.69N0f8; 0.024N0f8 0.027N0f8 … 0.196N0f8 0.192N0f8]\n",
       "\n",
       "[0.0N0f8 0.0N0f8 … 0.0N0f8 0.0N0f8; 0.0N0f8 0.0N0f8 … 0.0N0f8 0.0N0f8; … ; 0.51N0f8 0.514N0f8 … 0.498N0f8 0.498N0f8; 0.106N0f8 0.114N0f8 … 0.133N0f8 0.141N0f8]), \"Jump in place\")               "
      ]
     },
     "execution_count": 28,
     "metadata": {},
     "output_type": "execute_result"
    }
   ],
   "source": [
    "summary(dataset_mixed[1000])\n",
    "#b = Knet.load(\"bimodalv6.jld2\", \"model\")\n",
    "#summary(b)\n",
    "Knet.load(\"4dataset_total2.jld2\",\"dataset\")"
   ]
  },
  {
   "cell_type": "code",
   "execution_count": 10,
   "metadata": {},
   "outputs": [],
   "source": [
    "#=\n",
    "\n",
    "\n",
    "check_dataset = []\n",
    "for i in 1:length(frame_pairs)\n",
    "    for j in 1:length(dataset_instructions)\n",
    "        data = (frame_pairs[i],dataset_instructions[j])\n",
    "        push!(check_dataset,data)\n",
    "    end\n",
    "end\n",
    "println(summary(check_dataset))\n",
    "# if (gpu()>=0)\n",
    "#     check_dataset = KnetArray(check_dataset)\n",
    "# end\n",
    "minibatches = minibatch(check_dataset, ones(length(check_dataset)), BATCHSIZE)\n",
    "summary(minibatches)\n",
    "=#"
   ]
  },
  {
   "cell_type": "code",
   "execution_count": 11,
   "metadata": {},
   "outputs": [],
   "source": [
    "# both_frames = hcat(frame_pairs[1][1], frame_pairs[1][2])\n",
    "# summary(both_frames)\n",
    "# channelview(RGB, both_frames)\n",
    "#(x,y)= first(minibatches)\n",
    "#println(summary(x))"
   ]
  },
  {
   "cell_type": "code",
   "execution_count": 12,
   "metadata": {},
   "outputs": [],
   "source": [
    "# b(check_dataset)\n",
    "# b(minibatches)\n",
    "#convertsimilaritytoprobdist(b(first(minibatches)[1]))"
   ]
  },
  {
   "cell_type": "code",
   "execution_count": 13,
   "metadata": {},
   "outputs": [],
   "source": [
    "#=\n",
    "\n",
    "hope_dataset = []\n",
    "# similarity_array = convertsimilaritytoprobdist(b(minibatches))\n",
    "counter = 0\n",
    "for batch in minibatches\n",
    "    global counter \n",
    "      similarity_array = convertsimilaritytoprobdist(b(batch[1]))\n",
    "    for i = 1:BATCHSIZE\n",
    "        x = argmax(similarity_array[:,i])\n",
    "        println(counter*40+i)\n",
    "        if x == 1\n",
    "             push!(hope_dataset,check_dataset[counter*40+i])\n",
    "        end\n",
    "    end\n",
    "    counter += 1\n",
    "    \n",
    "end\n",
    "\n",
    "# if (gpu()>=0)\n",
    "#     hope_dataset = KnetArray(hope_dataset)\n",
    "# end\n",
    "# argmax(convertsimilaritytoprobdist(b(first(dtst)[1]))[:,sample])\n",
    "=#"
   ]
  },
  {
   "cell_type": "code",
   "execution_count": 14,
   "metadata": {},
   "outputs": [],
   "source": [
    " #net.save(\"hopeDataset.jld2\", \"model\", hope_dataset)"
   ]
  },
  {
   "cell_type": "code",
   "execution_count": 15,
   "metadata": {},
   "outputs": [
    {
     "data": {
      "text/plain": [
       "\"81532-element Array{Tuple{Tuple{Array{Normed{UInt8,8},3},Array{Normed{UInt8,8},3}},String},1}\""
      ]
     },
     "execution_count": 15,
     "metadata": {},
     "output_type": "execute_result"
    }
   ],
   "source": [
    "check_dataset = Knet.load(\"checkDataset.jld2\", \"model\")\n",
    "summary(check_dataset)"
   ]
  },
  {
   "cell_type": "code",
   "execution_count": 16,
   "metadata": {},
   "outputs": [
    {
     "data": {
      "text/plain": [
       "\"210×160×3 Array{N0f8,3} with eltype Normed{UInt8,8}\""
      ]
     },
     "execution_count": 16,
     "metadata": {},
     "output_type": "execute_result"
    }
   ],
   "source": [
    "summary(check_dataset[1][1][1])"
   ]
  },
  {
   "cell_type": "code",
   "execution_count": 17,
   "metadata": {},
   "outputs": [],
   "source": [
    "using ImageCore, TestImages, Colors"
   ]
  },
  {
   "cell_type": "code",
   "execution_count": 18,
   "metadata": {},
   "outputs": [
    {
     "data": {
      "image/png": "[encoded data removed]",
      "text/plain": [
       "210×320 reshape(reinterpret(RGB{N0f8}, ::Array{N0f8,3}), 210, 320) with eltype RGB{Normed{UInt8,8}}:\n",
       " RGB{N0f8}(0.0,0.0,0.0)        …  RGB{N0f8}(0.0,0.0,0.0)      \n",
       " RGB{N0f8}(0.0,0.0,0.0)           RGB{N0f8}(0.0,0.0,0.0)      \n",
       " RGB{N0f8}(0.0,0.0,0.0)           RGB{N0f8}(0.0,0.0,0.0)      \n",
       " RGB{N0f8}(0.0,0.0,0.0)           RGB{N0f8}(0.0,0.0,0.0)      \n",
       " RGB{N0f8}(0.0,0.0,0.0)           RGB{N0f8}(0.0,0.0,0.0)      \n",
       " RGB{N0f8}(0.0,0.0,0.0)        …  RGB{N0f8}(0.0,0.0,0.0)      \n",
       " RGB{N0f8}(0.0,0.0,0.0)           RGB{N0f8}(0.0,0.0,0.0)      \n",
       " RGB{N0f8}(0.0,0.0,0.0)           RGB{N0f8}(0.0,0.0,0.0)      \n",
       " RGB{N0f8}(0.0,0.0,0.0)           RGB{N0f8}(0.0,0.0,0.0)      \n",
       " RGB{N0f8}(0.0,0.0,0.0)           RGB{N0f8}(0.0,0.0,0.0)      \n",
       " RGB{N0f8}(0.0,0.0,0.0)        …  RGB{N0f8}(0.0,0.0,0.0)      \n",
       " RGB{N0f8}(0.0,0.0,0.0)           RGB{N0f8}(0.0,0.0,0.0)      \n",
       " RGB{N0f8}(0.0,0.0,0.0)           RGB{N0f8}(0.0,0.0,0.0)      \n",
       " ⋮                             ⋱                              \n",
       " RGB{N0f8}(0.318,0.655,0.486)     RGB{N0f8}(0.325,0.655,0.49) \n",
       " RGB{N0f8}(0.125,0.208,0.541)     RGB{N0f8}(0.329,0.647,0.49) \n",
       " RGB{N0f8}(0.114,0.204,0.537)  …  RGB{N0f8}(0.318,0.655,0.486)\n",
       " RGB{N0f8}(0.098,0.22,0.486)      RGB{N0f8}(0.337,0.627,0.525)\n",
       " RGB{N0f8}(0.333,0.643,0.478)     RGB{N0f8}(0.102,0.208,0.529)\n",
       " RGB{N0f8}(0.322,0.647,0.494)     RGB{N0f8}(0.125,0.204,0.545)\n",
       " RGB{N0f8}(0.329,0.643,0.49)      RGB{N0f8}(0.118,0.208,0.545)\n",
       " RGB{N0f8}(0.337,0.643,0.49)   …  RGB{N0f8}(0.345,0.627,0.51) \n",
       " RGB{N0f8}(0.09,0.239,0.459)      RGB{N0f8}(0.325,0.647,0.486)\n",
       " RGB{N0f8}(0.102,0.2,0.525)       RGB{N0f8}(0.329,0.647,0.486)\n",
       " RGB{N0f8}(0.102,0.2,0.541)       RGB{N0f8}(0.329,0.647,0.482)\n",
       " RGB{N0f8}(0.0,0.0,0.0)           RGB{N0f8}(0.0,0.004,0.0)    "
      ]
     },
     "execution_count": 18,
     "metadata": {},
     "output_type": "execute_result"
    }
   ],
   "source": [
    "colorview(RGB,permutedims(hcat(check_dataset[1655][1][1],check_dataset[1655][1][2]), (3,1,2)))"
   ]
  },
  {
   "cell_type": "code",
   "execution_count": 19,
   "metadata": {},
   "outputs": [
    {
     "data": {
      "text/plain": [
       "\"Go between the lasers\""
      ]
     },
     "execution_count": 19,
     "metadata": {},
     "output_type": "execute_result"
    }
   ],
   "source": [
    "check_dataset[1655][2]"
   ]
  },
  {
   "cell_type": "code",
   "execution_count": 84,
   "metadata": {},
   "outputs": [
    {
     "data": {
      "image/png": "[encoded data removed]",
      "text/plain": [
       "210×640 reshape(reinterpret(RGB{N0f8}, ::Array{N0f8,3}), 210, 640) with eltype RGB{Normed{UInt8,8}}:\n",
       " RGB{N0f8}(0.0,0.0,0.0)        …  RGB{N0f8}(0.0,0.0,0.0)      \n",
       " RGB{N0f8}(0.0,0.0,0.0)           RGB{N0f8}(0.0,0.0,0.0)      \n",
       " RGB{N0f8}(0.0,0.0,0.0)           RGB{N0f8}(0.0,0.0,0.0)      \n",
       " RGB{N0f8}(0.0,0.0,0.0)           RGB{N0f8}(0.0,0.0,0.0)      \n",
       " RGB{N0f8}(0.0,0.0,0.0)           RGB{N0f8}(0.0,0.0,0.0)      \n",
       " RGB{N0f8}(0.0,0.0,0.0)        …  RGB{N0f8}(0.0,0.0,0.0)      \n",
       " RGB{N0f8}(0.0,0.0,0.0)           RGB{N0f8}(0.0,0.0,0.0)      \n",
       " RGB{N0f8}(0.0,0.0,0.0)           RGB{N0f8}(0.0,0.0,0.0)      \n",
       " RGB{N0f8}(0.0,0.0,0.0)           RGB{N0f8}(0.0,0.0,0.0)      \n",
       " RGB{N0f8}(0.0,0.0,0.0)           RGB{N0f8}(0.0,0.0,0.0)      \n",
       " RGB{N0f8}(0.0,0.0,0.0)        …  RGB{N0f8}(0.0,0.0,0.0)      \n",
       " RGB{N0f8}(0.0,0.0,0.0)           RGB{N0f8}(0.0,0.0,0.0)      \n",
       " RGB{N0f8}(0.0,0.0,0.0)           RGB{N0f8}(0.0,0.0,0.0)      \n",
       " ⋮                             ⋱                              \n",
       " RGB{N0f8}(0.471,0.733,0.435)     RGB{N0f8}(0.459,0.741,0.451)\n",
       " RGB{N0f8}(0.22,0.322,0.639)      RGB{N0f8}(0.212,0.322,0.62) \n",
       " RGB{N0f8}(0.22,0.314,0.635)   …  RGB{N0f8}(0.216,0.314,0.631)\n",
       " RGB{N0f8}(0.22,0.314,0.635)      RGB{N0f8}(0.216,0.314,0.631)\n",
       " RGB{N0f8}(0.2,0.325,0.635)       RGB{N0f8}(0.2,0.325,0.631)  \n",
       " RGB{N0f8}(0.49,0.729,0.447)      RGB{N0f8}(0.482,0.733,0.447)\n",
       " RGB{N0f8}(0.475,0.737,0.443)     RGB{N0f8}(0.463,0.741,0.447)\n",
       " RGB{N0f8}(0.475,0.733,0.455)  …  RGB{N0f8}(0.475,0.733,0.463)\n",
       " RGB{N0f8}(0.0,0.031,0.0)         RGB{N0f8}(0.0,0.027,0.0)    \n",
       " RGB{N0f8}(0.004,0.0,0.0)         RGB{N0f8}(0.004,0.0,0.0)    \n",
       " RGB{N0f8}(0.0,0.0,0.008)         RGB{N0f8}(0.0,0.0,0.012)    \n",
       " RGB{N0f8}(0.0,0.0,0.0)           RGB{N0f8}(0.0,0.0,0.0)      "
      ]
     },
     "metadata": {},
     "output_type": "display_data"
    },
    {
     "name": "stdout",
     "output_type": "stream",
     "text": [
      "Go to the center of the room\n",
      "2016\n"
     ]
    },
    {
     "name": "stdin",
     "output_type": "stream",
     "text": [
      "stdin>  exit\n"
     ]
    }
   ],
   "source": [
    "i = 1\n",
    "while i <= length(dataset_false)\n",
    "    IJulia.clear_output(true)\n",
    "    display(colorview(RGB, permutedims(hcat(dataset_false[i][1][1],dataset_false[i][1][2],dataset_false[i][1][3],dataset_false[i][1][4]), (3,1,2))))\n",
    "    println(dataset_false[i][2])\n",
    "    println(i)\n",
    "    response = readline()\n",
    "    i += 1\n",
    "    if (response==\"exit\")\n",
    "        break\n",
    "    elseif(response==\"custom\")\n",
    "            response2 = readline()\n",
    "            i = parse(Int,response2)\n",
    "    end\n",
    "    \n",
    "end\n",
    "    "
   ]
  },
  {
   "cell_type": "code",
   "execution_count": 92,
   "metadata": {},
   "outputs": [
    {
     "data": {
      "text/plain": [
       "\"8300-element Array{Tuple{NTuple{4,Array{Normed{UInt8,8},3}},String},1}\""
      ]
     },
     "execution_count": 92,
     "metadata": {},
     "output_type": "execute_result"
    }
   ],
   "source": [
    "dataset_t = Knet.load(\"4dataset_new.jld2\",\"dataset\")\n",
    "dataset_f = Knet.load(\"4dataset_false.jld2\",\"dataset\")\n",
    "dataset_total = append!(dataset_t,dataset_f)\n",
    "Knet.save(\"4dataset_total.jld2\",\"dataset\",dataset_total)\n",
    "summary(dataset_total)"
   ]
  },
  {
   "cell_type": "code",
   "execution_count": 21,
   "metadata": {},
   "outputs": [
    {
     "data": {
      "image/png": "[encoded data removed]",
      "text/plain": [
       "210×320 reshape(reinterpret(RGB{N0f8}, ::Array{N0f8,3}), 210, 320) with eltype RGB{Normed{UInt8,8}}:\n",
       " RGB{N0f8}(0.0,0.0,0.0)        …  RGB{N0f8}(0.0,0.0,0.0)      \n",
       " RGB{N0f8}(0.0,0.0,0.0)           RGB{N0f8}(0.0,0.0,0.0)      \n",
       " RGB{N0f8}(0.0,0.0,0.0)           RGB{N0f8}(0.0,0.0,0.0)      \n",
       " RGB{N0f8}(0.0,0.0,0.0)           RGB{N0f8}(0.0,0.0,0.0)      \n",
       " RGB{N0f8}(0.0,0.0,0.0)           RGB{N0f8}(0.0,0.0,0.0)      \n",
       " RGB{N0f8}(0.0,0.0,0.0)        …  RGB{N0f8}(0.0,0.0,0.0)      \n",
       " RGB{N0f8}(0.0,0.0,0.0)           RGB{N0f8}(0.0,0.0,0.0)      \n",
       " RGB{N0f8}(0.0,0.0,0.0)           RGB{N0f8}(0.0,0.0,0.0)      \n",
       " RGB{N0f8}(0.0,0.0,0.0)           RGB{N0f8}(0.0,0.0,0.0)      \n",
       " RGB{N0f8}(0.0,0.0,0.0)           RGB{N0f8}(0.0,0.0,0.0)      \n",
       " RGB{N0f8}(0.0,0.0,0.0)        …  RGB{N0f8}(0.0,0.0,0.0)      \n",
       " RGB{N0f8}(0.0,0.0,0.0)           RGB{N0f8}(0.0,0.0,0.0)      \n",
       " RGB{N0f8}(0.0,0.0,0.0)           RGB{N0f8}(0.0,0.0,0.0)      \n",
       " ⋮                             ⋱                              \n",
       " RGB{N0f8}(0.475,0.741,0.447)     RGB{N0f8}(0.459,0.737,0.447)\n",
       " RGB{N0f8}(0.224,0.325,0.639)     RGB{N0f8}(0.22,0.329,0.627) \n",
       " RGB{N0f8}(0.22,0.318,0.639)   …  RGB{N0f8}(0.216,0.314,0.631)\n",
       " RGB{N0f8}(0.22,0.318,0.639)      RGB{N0f8}(0.212,0.314,0.631)\n",
       " RGB{N0f8}(0.204,0.329,0.639)     RGB{N0f8}(0.196,0.329,0.631)\n",
       " RGB{N0f8}(0.49,0.729,0.451)      RGB{N0f8}(0.482,0.729,0.451)\n",
       " RGB{N0f8}(0.471,0.741,0.451)     RGB{N0f8}(0.463,0.741,0.451)\n",
       " RGB{N0f8}(0.475,0.737,0.451)  …  RGB{N0f8}(0.471,0.741,0.447)\n",
       " RGB{N0f8}(0.0,0.027,0.004)       RGB{N0f8}(0.0,0.031,0.008)  \n",
       " RGB{N0f8}(0.008,0.0,0.0)         RGB{N0f8}(0.0,0.0,0.0)      \n",
       " RGB{N0f8}(0.0,0.004,0.004)       RGB{N0f8}(0.0,0.0,0.0)      \n",
       " RGB{N0f8}(0.0,0.0,0.0)           RGB{N0f8}(0.0,0.0,0.0)      "
      ]
     },
     "metadata": {},
     "output_type": "display_data"
    },
    {
     "name": "stdout",
     "output_type": "stream",
     "text": [
      "Go to the left side of the room\n",
      "count: 70136\n"
     ]
    },
    {
     "name": "stdin",
     "output_type": "stream",
     "text": [
      "stdin>  exit\n"
     ]
    }
   ],
   "source": [
    "i = 70000\n",
    "while i <= 72000\n",
    "    IJulia.clear_output(true)\n",
    "    display(colorview(RGB, permutedims(hcat(check_dataset[i][1][1],check_dataset[i][1][2]), (3,1,2))))\n",
    "    println(check_dataset[i][2])\n",
    "    println(\"count: \", i)\n",
    "    if(i % 17 == 0) \n",
    "        println(\"===================================================END======================================\")\n",
    "    end\n",
    "    response = readline()\n",
    "    if(response==\"y\")\n",
    "        push!(true_data, check_dataset[i])\n",
    "        i+=18-(i%17)\n",
    "    elseif(response==\"q\")\n",
    "        i+=18-(i%17) \n",
    "        continue\n",
    "    elseif(response==\"s\")\n",
    "        push!(true_data, check_dataset[i])\n",
    "        i+=17\n",
    "        continue\n",
    "    elseif(response==\"exit\")\n",
    "        break\n",
    "    else\n",
    "        i += 1\n",
    "    end\n",
    "end\n"
   ]
  },
  {
   "cell_type": "code",
   "execution_count": 22,
   "metadata": {},
   "outputs": [
    {
     "data": {
      "text/plain": [
       "103"
      ]
     },
     "execution_count": 22,
     "metadata": {},
     "output_type": "execute_result"
    }
   ],
   "source": [
    "length(true_data)"
   ]
  },
  {
   "cell_type": "code",
   "execution_count": 23,
   "metadata": {},
   "outputs": [],
   "source": [
    "Knet.save(\"trueDataset_68000_70000.jld2\", \"model\", true_data)"
   ]
  },
  {
   "cell_type": "code",
   "execution_count": 41,
   "metadata": {},
   "outputs": [
    {
     "data": {
      "text/plain": [
       "86"
      ]
     },
     "execution_count": 41,
     "metadata": {},
     "output_type": "execute_result"
    }
   ],
   "source": [
    "x = Knet.load(\"trueDataset_1_2550.jld2\", \"model\")\n",
    "length(x)"
   ]
  },
  {
   "cell_type": "code",
   "execution_count": 1,
   "metadata": {},
   "outputs": [],
   "source": [
    "# begin_index = 14950\n",
    "# # for i = begin_index:length(check_dataset)\n",
    "#   for i = begin_index:15000\n",
    "#     IJulia.clear_output(true)\n",
    "#     display(colorview(RGB, permutedims(hcat(check_dataset[i][1][1],check_dataset[i][1][2]), (3,1,2))))\n",
    "#     println(check_dataset[i][2])\n",
    "#     println(\"count: \", i)\n",
    "#     if(i % 17 == 0) \n",
    "#         println(\"===================================================END======================================\")\n",
    "#     end\n",
    "#     response = readline()\n",
    "#     if(response==\"y\")\n",
    "#         push!(true_data, check_dataset[i])\n",
    "#         i+=17-(i%17)\n",
    "#     elseif(response==\"n\")\n",
    "#         continue\n",
    "#     elseif(response==\"exit\")\n",
    "#         break       \n",
    "#     end\n",
    "# end"
   ]
  },
  {
   "cell_type": "code",
   "execution_count": null,
   "metadata": {},
   "outputs": [],
   "source": []
  }
 ],
 "metadata": {
  "kernelspec": {
   "display_name": "Julia 1.2.0",
   "language": "julia",
   "name": "julia-1.2"
  },
  "language_info": {
   "file_extension": ".jl",
   "mimetype": "application/julia",
   "name": "julia",
   "version": "1.2.0"
  }
 },
 "nbformat": 4,
 "nbformat_minor": 4
}
