{
 "cells": [
  {
   "cell_type": "code",
   "execution_count": 1,
   "metadata": {},
   "outputs": [
    {
     "name": "stdout",
     "output_type": "stream",
     "text": [
      "\u001b[32m\u001b[1m  Updating\u001b[22m\u001b[39m registry at `~/.julia/registries/General`\n",
      "\u001b[32m\u001b[1m  Updating\u001b[22m\u001b[39m git-repo `https://github.com/JuliaRegistries/General.git`\n",
      "\u001b[2K\u001b[?25h[1mFetching:\u001b[22m\u001b[39m [========================================>]  100.0 %.0 %\u001b[32m\u001b[1m Resolving\u001b[22m\u001b[39m package versions...\n",
      "\u001b[32m\u001b[1m  Updating\u001b[22m\u001b[39m `~/.julia/environments/v1.2/Project.toml`\n",
      "\u001b[90m [no changes]\u001b[39m\n",
      "\u001b[32m\u001b[1m  Updating\u001b[22m\u001b[39m `~/.julia/environments/v1.2/Manifest.toml`\n",
      "\u001b[90m [no changes]\u001b[39m\n",
      "\u001b[32m\u001b[1m Resolving\u001b[22m\u001b[39m package versions...\n",
      "\u001b[32m\u001b[1m  Updating\u001b[22m\u001b[39m `~/.julia/environments/v1.2/Project.toml`\n",
      "\u001b[90m [no changes]\u001b[39m\n",
      "\u001b[32m\u001b[1m  Updating\u001b[22m\u001b[39m `~/.julia/environments/v1.2/Manifest.toml`\n",
      "\u001b[90m [no changes]\u001b[39m\n",
      "\u001b[32m\u001b[1m Resolving\u001b[22m\u001b[39m package versions...\n",
      "\u001b[32m\u001b[1m  Updating\u001b[22m\u001b[39m `~/.julia/environments/v1.2/Project.toml`\n",
      "\u001b[90m [no changes]\u001b[39m\n",
      "\u001b[32m\u001b[1m  Updating\u001b[22m\u001b[39m `~/.julia/environments/v1.2/Manifest.toml`\n",
      "\u001b[90m [no changes]\u001b[39m\n"
     ]
    }
   ],
   "source": [
    "using Pkg\n",
    "Pkg.add(\"TestImages\"); Pkg.add(\"Images\");  Pkg.add(\"Colors\")\n",
    "using Knet, Random, IterTools, Base.Iterators, Images, Colors"
   ]
  },
  {
   "cell_type": "code",
   "execution_count": 2,
   "metadata": {},
   "outputs": [
    {
     "data": {
      "text/plain": [
       "mask! (generic function with 1 method)"
      ]
     },
     "execution_count": 2,
     "metadata": {},
     "output_type": "execute_result"
    }
   ],
   "source": [
    "function mask!(a,pad)\n",
    "    x,y = size(a)\n",
    "    for i = 1:x\n",
    "        for j = 1:y\n",
    "            if a[i, j] == pad\n",
    "                a[i, j] = 0\n",
    "            end\n",
    "        end\n",
    "    end\n",
    "    return a\n",
    "end"
   ]
  },
  {
   "cell_type": "code",
   "execution_count": 3,
   "metadata": {},
   "outputs": [
    {
     "data": {
      "text/plain": [
       "w2i (generic function with 1 method)"
      ]
     },
     "execution_count": 3,
     "metadata": {},
     "output_type": "execute_result"
    }
   ],
   "source": [
    "wdict = Knet.load(\"dictionary.jld2\", \"dict\")\n",
    "UNK = 1\n",
    "EOS = 2\n",
    "w2i(x) = get(wdict, x, UNK)"
   ]
  },
  {
   "cell_type": "code",
   "execution_count": 4,
   "metadata": {},
   "outputs": [
    {
     "data": {
      "text/plain": [
       "\"5059-element Array{Tuple{Array{Float32,3},Array{Int64,1}},1}\""
      ]
     },
     "execution_count": 4,
     "metadata": {},
     "output_type": "execute_result"
    }
   ],
   "source": [
    "dataset = Knet.load(\"data1.jld2\", \"dataset\")\n",
    "summary(dataset)"
   ]
  },
  {
   "cell_type": "code",
   "execution_count": null,
   "metadata": {},
   "outputs": [],
   "source": [
    "y_truth = ones(Int32,length(dataset))\n",
    "true_labels = ones(Int32,4183)\n",
    "y_truth = y_truth[4184:end].+1\n",
    "append!(true_labels, y_truth)\n",
    "y_truth = copy(true_labels)\n",
    "println(summary(y_truth))\n",
    "\n",
    "rng = Random.seed!(0)\n",
    "y_truth = shuffle(rng, y_truth)\n",
    "rng = Random.seed!(0)\n",
    "dataset = shuffle(rng, dataset)\n",
    "println(summary(dataset))"
   ]
  },
  {
   "cell_type": "code",
   "execution_count": 6,
   "metadata": {},
   "outputs": [
    {
     "data": {
      "text/plain": [
       "40"
      ]
     },
     "execution_count": 6,
     "metadata": {},
     "output_type": "execute_result"
    }
   ],
   "source": [
    "VOCAB_SIZE = length(wdict)\n",
    "BATCHSIZE = 40"
   ]
  },
  {
   "cell_type": "code",
   "execution_count": 7,
   "metadata": {},
   "outputs": [
    {
     "data": {
      "text/plain": [
       "Conv"
      ]
     },
     "execution_count": 7,
     "metadata": {},
     "output_type": "execute_result"
    }
   ],
   "source": [
    "mutable struct Conv \n",
    "    w \n",
    "    b \n",
    "    f_activation\n",
    "    p_drop\n",
    "    f_pool\n",
    "end\n",
    "(c::Conv)(x) = c.f_activation.(c.f_pool(conv4(c.w, dropout(x,c.p_drop)) .+ c.b))\n",
    "\n",
    "\n",
    "Conv(w1::Int,w2::Int,cx::Int,cy::Int;f=relu, pdrop=0, f_pool=pool) = Conv(param(w1,w2,cx,cy), param0(1,1,cy,1), f, pdrop, f_pool)"
   ]
  },
  {
   "cell_type": "code",
   "execution_count": 8,
   "metadata": {},
   "outputs": [
    {
     "data": {
      "text/plain": [
       "Dense"
      ]
     },
     "execution_count": 8,
     "metadata": {},
     "output_type": "execute_result"
    }
   ],
   "source": [
    "struct Dense; w; b; f; p; end\n",
    "(d::Dense)(x) = d.f.(d.w * mat(dropout(x,d.p)) .+ d.b) # mat reshapes 4-D tensor to 2-D matrix so we can use matmul\n",
    "Dense(i::Int,o::Int,f=relu;pdrop=0) = Dense(param(o,i), param0(o), f, pdrop)"
   ]
  },
  {
   "cell_type": "code",
   "execution_count": 9,
   "metadata": {},
   "outputs": [
    {
     "data": {
      "text/plain": [
       "Projection"
      ]
     },
     "execution_count": 9,
     "metadata": {},
     "output_type": "execute_result"
    }
   ],
   "source": [
    "struct Projection; w end\n",
    "(d::Projection)(x) = d.w * x\n",
    "Projection(i::Int,o::Int) = Projection(param(o,i))"
   ]
  },
  {
   "cell_type": "code",
   "execution_count": 10,
   "metadata": {},
   "outputs": [],
   "source": [
    "struct Embed; w; end\n",
    "Embed(vocabsize::Int,embedsize::Int) = Embed(param(embedsize,vocabsize))\n",
    "(e::Embed)(x) = e.w[:,x]"
   ]
  },
  {
   "cell_type": "code",
   "execution_count": 11,
   "metadata": {},
   "outputs": [],
   "source": [
    "mutable struct frame_head\n",
    "    conv1\n",
    "    conv2\n",
    "    conv3\n",
    "    conv4\n",
    "    fc\n",
    "    output\n",
    "end\n",
    "\n",
    "function frame_head(w1,c1,w2,c2,w3,c3,w4,c4,hidden, outdims)\n",
    "    conv1 = Conv(w1, w1, 1, c1)\n",
    "    conv2 = Conv(w2, w2, c1, c2)\n",
    "    conv3 = Conv(w3, w3, c2, c3)\n",
    "    conv4 = Conv(w4, w4, c3, c4; f_pool = identity)\n",
    "    fc = Dense(35840, hidden)\n",
    "    output = Projection(hidden, outdims)\n",
    "    frame_head(conv1, conv2, conv3, conv4, fc, output)\n",
    "end\n",
    "    \n",
    "\n",
    "function (f::frame_head)(x)\n",
    "    f.output(f.fc(f.conv4(f.conv3(f.conv2(f.conv1(x))))))\n",
    "end"
   ]
  },
  {
   "cell_type": "code",
   "execution_count": 12,
   "metadata": {},
   "outputs": [
    {
     "data": {
      "text/plain": [
       "sentence_head"
      ]
     },
     "execution_count": 12,
     "metadata": {},
     "output_type": "execute_result"
    }
   ],
   "source": [
    "mutable struct sentence_head\n",
    "    embed\n",
    "    encoder\n",
    "    fc\n",
    "    output\n",
    "end\n",
    "\n",
    "\n",
    "function sentence_head(vocabsize::Int, embeddingsize::Int, hiddensize::Int)\n",
    "    embed = Embed(vocabsize, embeddingsize)\n",
    "    encoder = RNN(embeddingsize, hiddensize, rnnType = :lstm, h = 0)\n",
    "    fc = Dense(8*hiddensize, 40)\n",
    "    output = Projection(40,10)\n",
    "    sentence_head(embed, encoder, fc, output)\n",
    "end"
   ]
  },
  {
   "cell_type": "code",
   "execution_count": 13,
   "metadata": {},
   "outputs": [],
   "source": [
    "function (s::sentence_head)(x)\n",
    "    src_embed_tensor = s.embed(x)\n",
    "    s.encoder.h = 0\n",
    "    s.encoder.c = 0\n",
    "    y_enc = s.encoder(src_embed_tensor)\n",
    "    h, b, ty = size(y_enc)\n",
    "    y_enc = reshape(permutedims(y_enc, (1,3,2)), (h*ty, b))\n",
    "    s.output(s.fc(y_enc))\n",
    "end\n"
   ]
  },
  {
   "cell_type": "code",
   "execution_count": 14,
   "metadata": {
    "scrolled": true
   },
   "outputs": [],
   "source": [
    "mutable struct bimodalEncoder\n",
    "    fh\n",
    "    sh\n",
    "end\n",
    "\n",
    "\n",
    "function bimodalEncoder(w1,c1,w2,c2,w3,c3,w4,c4,hidden, outdims, vocabsize, embeddingsize, hiddensize)\n",
    "    fh = frame_head(w1,c1,w2,c2,w3,c3,w4,c4,hidden, outdims)\n",
    "    sh = sentence_head(vocabsize, embeddingsize, hiddensize)\n",
    "    bimodalEncoder(fh, sh)\n",
    "end\n",
    "\n",
    "function (b::bimodalEncoder)(image, label, y_truth)\n",
    "    trans_nll(cosine_similarity(b, image_batch, seqbatch(labels)), y_truth)\n",
    "end\n",
    "\n",
    "\n",
    "function (b::bimodalEncoder)(x)\n",
    "\n",
    "    images = []\n",
    "    labels = []\n",
    "   \n",
    "    for i in 1:length(x)\n",
    "        x1,x2 = x[i]\n",
    "        \n",
    "        push!(labels, x2)\n",
    "        push!(images, x1)\n",
    "    end\n",
    "    \n",
    "    image_batch = reshape(cat1d(images...), (210,160,1,length(x)))\n",
    "    label_batch = permutedims(reshape(cat1d(labels...), (8, length(x))), (2,1))\n",
    "    \n",
    "    if (gpu()>=0)\n",
    "        image_batch = KnetArray(image_batch)\n",
    "    end\n",
    "    \n",
    "    cosine_similarity(b, image_batch, label_batch)\n",
    "end\n",
    "\n",
    "\n",
    "\n",
    "function(b::bimodalEncoder)(x,y)    \n",
    "    trans_nll(b(x), y)\n",
    "end\n",
    "\n",
    "function (b::bimodalEncoder)(d::Knet.Data) \n",
    "    Knet.mean(b(x,y) for (x,y) in d)\n",
    "end"
   ]
  },
  {
   "cell_type": "code",
   "execution_count": 15,
   "metadata": {},
   "outputs": [
    {
     "data": {
      "text/plain": [
       "findmaxlength (generic function with 1 method)"
      ]
     },
     "execution_count": 15,
     "metadata": {},
     "output_type": "execute_result"
    }
   ],
   "source": [
    "function findmaxlength(sentences)\n",
    "    maxsize = 0\n",
    "    count = 0\n",
    "    for sent in sentences\n",
    "        count = count + 1\n",
    "        if(length(sent) > maxsize)\n",
    "            \n",
    "            maxsize = length(sent)\n",
    "        end\n",
    "    end\n",
    "    return maxsize\n",
    "end"
   ]
  },
  {
   "cell_type": "code",
   "execution_count": 16,
   "metadata": {},
   "outputs": [
    {
     "data": {
      "text/plain": [
       "cosine_similarity (generic function with 1 method)"
      ]
     },
     "execution_count": 16,
     "metadata": {},
     "output_type": "execute_result"
    }
   ],
   "source": [
    "function cosine_similarity(b::bimodalEncoder, frame_pairs, sentences)\n",
    "\n",
    "    \t\n",
    "\tsent_rep = b.sh(sentences)\n",
    "\tframe_rep = b.fh(frame_pairs)\n",
    "\tx = sum(sent_rep .* frame_rep, dims = 1)\n",
    "\n",
    "\ty1 = sqrt.(sum(sent_rep.^2,dims = 1))\n",
    "\ty2 = sqrt.(sum(frame_rep.^2,dims = 1))\n",
    "\t\n",
    "\tx ./ (y1 .* y2)\n",
    "end"
   ]
  },
  {
   "cell_type": "code",
   "execution_count": 17,
   "metadata": {},
   "outputs": [
    {
     "data": {
      "text/plain": [
       "convertsimilaritytoprobdist (generic function with 1 method)"
      ]
     },
     "execution_count": 17,
     "metadata": {},
     "output_type": "execute_result"
    }
   ],
   "source": [
    "function convertsimilaritytoprobdist(cos_similarity)\n",
    "    vcat(0.5.+((cos_similarity .* sqrt.(1 .- cos_similarity.^2))./π) + (asin.(cos_similarity)./π), 1 .- (0.5.+((cos_similarity .* sqrt.(1 .- cos_similarity.^2))./π) + (asin.(cos_similarity)./π)))\n",
    "end"
   ]
  },
  {
   "cell_type": "code",
   "execution_count": 18,
   "metadata": {},
   "outputs": [
    {
     "data": {
      "text/plain": [
       "trans_nll (generic function with 1 method)"
      ]
     },
     "execution_count": 18,
     "metadata": {},
     "output_type": "execute_result"
    }
   ],
   "source": [
    "function trans_nll(cos_similarity, y_truth)\n",
    "    nll(convertsimilaritytoprobdist(cos_similarity),y_truth)\n",
    "end"
   ]
  },
  {
   "cell_type": "code",
   "execution_count": 17,
   "metadata": {},
   "outputs": [],
   "source": [
    "sentt = []\n",
    "\n",
    "open(\"instructions_unique.txt\") do file\n",
    "    for f in eachline(file)\n",
    "    push!(sentt,f)    \n",
    "    end\n",
    "end\n"
   ]
  },
  {
   "cell_type": "code",
   "execution_count": 16,
   "metadata": {},
   "outputs": [
    {
     "data": {
      "text/plain": [
       "reduce_sentence (generic function with 1 method)"
      ]
     },
     "execution_count": 16,
     "metadata": {},
     "output_type": "execute_result"
    }
   ],
   "source": [
    "function reduce_sentence(input)\n",
    "    \n",
    "    pair_sentence = []\n",
    "    \n",
    "    for i in input\n",
    "        for key in keys(wdict)\n",
    "            if i == wdict[key]\n",
    "                if key == \"<eos>\"\n",
    "                    continue\n",
    "                end\n",
    "                if pair_sentence == []\n",
    "                    pair_sentence = string(key,\" \")\n",
    "                else\n",
    "                    pair_sentence = string(pair_sentence, key,\" \")\n",
    "                end\n",
    "            end\n",
    "        end\n",
    "    end\n",
    "    \n",
    "    if (pair_sentence[1:21]==sentt[1])\n",
    "        return sentt[1]\n",
    "    elseif (pair_sentence[1:19]==sentt[2])\n",
    "        return sentt[2]\n",
    "    elseif (pair_sentence[1:11]==sentt[3])\n",
    "        return sentt[3]\n",
    "    elseif (pair_sentence[1:13]==sentt[4])\n",
    "        return sentt[4]\n",
    "    elseif (pair_sentence[1:13]==sentt[5])\n",
    "        return sentt[5]\n",
    "    elseif (pair_sentence[1:21]==sentt[6])\n",
    "        return sentt[6]\n",
    "    elseif (pair_sentence[1:28]==sentt[7])\n",
    "        return sentt[7]\n",
    "    elseif (pair_sentence[1:21]==sentt[8])\n",
    "        return sentt[8]\n",
    "    elseif (pair_sentence[1:28]==sentt[9])\n",
    "        return sentt[9]\n",
    "    elseif (pair_sentence[1:19]==sentt[10])\n",
    "        return sentt[10]\n",
    "    elseif (pair_sentence[1:31]==sentt[11])\n",
    "        return sentt[11]\n",
    "    elseif (pair_sentence[1:20]==sentt[12])\n",
    "        return sentt[12]\n",
    "    elseif (pair_sentence[1:32]==sentt[13])\n",
    "        return sentt[13]\n",
    "    elseif (pair_sentence[1:25]==sentt[14])\n",
    "        return sentt[14]\n",
    "    elseif (pair_sentence[1:18]==sentt[15])\n",
    "        return sentt[15]\n",
    "    elseif (pair_sentence[1:16]==sentt[16])\n",
    "        return sentt[16]\n",
    "    elseif (pair_sentence[1:11]==sentt[17])\n",
    "        return sentt[17]\n",
    "    elseif (pair_sentence[1:16]==sentt[18])\n",
    "        return sentt[18]\n",
    "    elseif (pair_sentence[1:12]==sentt[19])\n",
    "        return sentt[19]\n",
    "    elseif (pair_sentence[1:13]==sentt[20])\n",
    "        return sentt[20]\n",
    "    elseif (pair_sentence[1:9]==sentt[21])\n",
    "        return sentt[21]\n",
    "    end\n",
    "end"
   ]
  },
  {
   "cell_type": "code",
   "execution_count": 20,
   "metadata": {},
   "outputs": [
    {
     "data": {
      "text/plain": [
       "\"Tuple{Array{Tuple{Array{Float32,3},Array{Int64,1}},1},Array{Int32,1}}\""
      ]
     },
     "execution_count": 20,
     "metadata": {},
     "output_type": "execute_result"
    }
   ],
   "source": [
    "d = dataset[1:13000]\n",
    "y = y_truth[1:13000]\n",
    "dtrn = minibatch(d, y, BATCHSIZE)\n",
    "dtst = minibatch(dataset[13001:end], y_truth[13001:end], BATCHSIZE)\n",
    "b = Knet.load(\"bimodal1.jld2\",\"model\")\n",
    "\n",
    "summary(first(dtrn))"
   ]
  },
  {
   "cell_type": "code",
   "execution_count": 1,
   "metadata": {},
   "outputs": [
    {
     "ename": "UndefVarError",
     "evalue": "UndefVarError: wdict not defined",
     "output_type": "error",
     "traceback": [
      "UndefVarError: wdict not defined",
      "",
      "Stacktrace:",
      " [1] top-level scope at In[1]:1"
     ]
    }
   ],
   "source": [
    "# b = bimodalEncoder(8,64,5,64,4,128,3,128, 100, 10, length(wdict), 12, 10)\n",
    "# Knet.save(\"bimodal1.jld2\", \"model\", b)"
   ]
  },
  {
   "cell_type": "code",
   "execution_count": null,
   "metadata": {},
   "outputs": [],
   "source": [
    "# function accuracy(dataset, model)\n",
    "#     total_count = 0\n",
    "#     total_correct = 0\n",
    "#     for batch in dataset\n",
    "#         probdist = convertsimilaritytoprobdist(model(batch[1]))\n",
    "#         preds = vec(map(x->x[1], argmax(probdist, dims=1)))\n",
    "#         ground_truth = batch[2]\n",
    "#         total_count += length(ground_truth)\n",
    "#         total_correct += sum(ground_truth .== preds) \n",
    "#     end\n",
    "#     return total_correct/total_count\n",
    "# end"
   ]
  },
  {
   "cell_type": "code",
   "execution_count": null,
   "metadata": {},
   "outputs": [],
   "source": [
    "# for i in 1:50\n",
    "#     b = Knet.load(\"bimodal1.jld2\", \"model\")\n",
    "#     #println(\"Train error before training is: \", b(dtrn))\n",
    "#     println(\"Test error before training is: \", b(dtst))\n",
    "#     a = adam(b, take(cycle(dtrn),204))\n",
    "#     progress!(a)\n",
    "#     println(\"train accuracy is: \", accuracy(dtrn,b))\n",
    "#     println(\"test accuracy is: \", accuracy(dtst, b))\n",
    "#     Knet.save(\"bimodal1.jld2\", \"model\", b)\n",
    "# end"
   ]
  },
  {
   "cell_type": "code",
   "execution_count": 22,
   "metadata": {},
   "outputs": [
    {
     "name": "stdout",
     "output_type": "stream",
     "text": [
      "Train error before training is: 0.7194562086190047\n",
      "Test error before training is: 0.7324690840121669\n"
     ]
    }
   ],
   "source": [
    "# # b = Knet.load(\"bimodal1.jld2\", \"model\")\n",
    "# println(\"Train error before training is: \", b(dtrn))\n",
    "# println(\"Test error before training is: \", b(dtst))"
   ]
  },
  {
   "cell_type": "code",
   "execution_count": null,
   "metadata": {},
   "outputs": [],
   "source": [
    "# a = adam(b, take(cycle(dtrn),250); gclip=0.5)\n",
    "# progress!(a)"
   ]
  },
  {
   "cell_type": "code",
   "execution_count": null,
   "metadata": {},
   "outputs": [],
   "source": [
    "# println(\"Train error after training is: \", b(dtrn))\n",
    "# println(\"Test error after training is: \", b(dtst))"
   ]
  },
  {
   "cell_type": "code",
   "execution_count": null,
   "metadata": {},
   "outputs": [],
   "source": [
    "# function accuracy(dataset, model)\n",
    "#     total_count = 0\n",
    "#     total_correct = 0\n",
    "#     for batch in dataset\n",
    "#         probdist = convertsimilaritytoprobdist(model(batch[1]))\n",
    "#         preds = vec(map(x->x[1], argmax(probdist, dims=1)))\n",
    "#         ground_truth = batch[2]\n",
    "#         total_count += length(ground_truth)\n",
    "#         total_correct += sum(ground_truth .== preds) \n",
    "#     end\n",
    "#     return total_correct/total_count\n",
    "# end"
   ]
  },
  {
   "cell_type": "code",
   "execution_count": null,
   "metadata": {},
   "outputs": [],
   "source": [
    "# Knet.save(\"bimodal1.jld2\", \"model\", b)"
   ]
  },
  {
   "cell_type": "code",
   "execution_count": null,
   "metadata": {},
   "outputs": [],
   "source": [
    "#b = Knet.load(\"bimodalv6.jld2\", \"model\")"
   ]
  },
  {
   "cell_type": "code",
   "execution_count": null,
   "metadata": {},
   "outputs": [],
   "source": [
    "#println(firstbatch[2])"
   ]
  },
  {
   "cell_type": "code",
   "execution_count": null,
   "metadata": {},
   "outputs": [],
   "source": [
    "#Knet.save(\"dtrnbackup.jld2\", \"model\", dtrn)\n",
    "#Knet.save(\"dtstbackup.jld2\", \"model\", dtst)"
   ]
  },
  {
   "cell_type": "code",
   "execution_count": null,
   "metadata": {},
   "outputs": [],
   "source": [
    "#dtrn = Knet.load(\"dtrnbackup.jld2\", \"model\")\n",
    "#dtst = Knet.load(\"dtstbackup.jld2\", \"model\")\n",
    "#summary(dtst)"
   ]
  },
  {
   "cell_type": "code",
   "execution_count": null,
   "metadata": {},
   "outputs": [],
   "source": [
    "# println(\"train accuracy is: \", accuracy(dtrn,b))"
   ]
  },
  {
   "cell_type": "code",
   "execution_count": null,
   "metadata": {},
   "outputs": [],
   "source": [
    "# println(\"test accuracy is: \", accuracy(dtst, b))"
   ]
  },
  {
   "cell_type": "code",
   "execution_count": null,
   "metadata": {},
   "outputs": [],
   "source": [
    "#=\n",
    "sample = rand(1:1:40)\n",
    "f1,f2 = first(dtst)[1][sample][1]\n",
    "both_frames = hcat(f1,f2)\n",
    "img = permutedims(Float32.(both_frames./255), (3,1,2))\n",
    "\n",
    "colorview(RGB, img)\n",
    "\n",
    "=#"
   ]
  },
  {
   "cell_type": "code",
   "execution_count": null,
   "metadata": {},
   "outputs": [],
   "source": [
    "#first(dtst)[1][sample][2]"
   ]
  },
  {
   "cell_type": "code",
   "execution_count": null,
   "metadata": {},
   "outputs": [],
   "source": [
    "#first(dtst)[2][sample] \n",
    "#1 true\n",
    "#2 false"
   ]
  },
  {
   "cell_type": "code",
   "execution_count": null,
   "metadata": {},
   "outputs": [],
   "source": [
    "#argmax(convertsimilaritytoprobdist(b(first(dtst)[1]))[:,sample])"
   ]
  },
  {
   "cell_type": "code",
   "execution_count": null,
   "metadata": {},
   "outputs": [],
   "source": []
  }
 ],
 "metadata": {
  "kernelspec": {
   "display_name": "Julia 1.2.0",
   "language": "julia",
   "name": "julia-1.2"
  },
  "language_info": {
   "file_extension": ".jl",
   "mimetype": "application/julia",
   "name": "julia",
   "version": "1.2.0"
  }
 },
 "nbformat": 4,
 "nbformat_minor": 4
}
