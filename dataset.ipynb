{
 "cells": [
  {
   "cell_type": "code",
   "execution_count": 1,
   "metadata": {},
   "outputs": [],
   "source": [
    "using Pkg\n",
    "using Knet"
   ]
  },
  {
   "cell_type": "code",
   "execution_count": 3,
   "metadata": {},
   "outputs": [
    {
     "name": "stdout",
     "output_type": "stream",
     "text": [
      "\u001b[32m\u001b[1m  Updating\u001b[22m\u001b[39m registry at `~/.julia/registries/General`\n",
      "\u001b[32m\u001b[1m  Updating\u001b[22m\u001b[39m git-repo `https://github.com/JuliaRegistries/General.git`\n",
      "\u001b[2K\u001b[?25h[1mFetching:\u001b[22m\u001b[39m [========================================>]  100.0 %.0 %\u001b[32m\u001b[1m Resolving\u001b[22m\u001b[39m package versions...\n",
      "\u001b[32m\u001b[1m Installed\u001b[22m\u001b[39m FillArrays ─ v0.8.2\n",
      "\u001b[32m\u001b[1m Installed\u001b[22m\u001b[39m IterTools ── v1.3.0\n",
      "\u001b[32m\u001b[1m Installed\u001b[22m\u001b[39m Literate ─── v2.1.1\n",
      "\u001b[32m\u001b[1m Installed\u001b[22m\u001b[39m Plots ────── v0.27.1\n",
      "\u001b[32m\u001b[1m  Updating\u001b[22m\u001b[39m `~/.julia/environments/v1.2/Project.toml`\n",
      " \u001b[90m [3a865a2d]\u001b[39m\u001b[93m ↑ CuArrays v1.3.0 ⇒ v1.4.4\u001b[39m\n",
      " \u001b[90m [587475ba]\u001b[39m\u001b[95m ↓ Flux v0.9.0 ⇒ v0.8.3\u001b[39m\n",
      " \u001b[90m [c8e1da08]\u001b[39m\u001b[93m ↑ IterTools v1.2.0 ⇒ v1.3.0\u001b[39m\n",
      " \u001b[90m [98b081ad]\u001b[39m\u001b[93m ↑ Literate v2.1.0 ⇒ v2.1.1\u001b[39m\n",
      " \u001b[90m [91a5bcdd]\u001b[39m\u001b[93m ↑ Plots v0.27.0 ⇒ v0.27.1\u001b[39m\n",
      "\u001b[32m\u001b[1m  Updating\u001b[22m\u001b[39m `~/.julia/environments/v1.2/Manifest.toml`\n",
      " \u001b[90m [c5f51814]\u001b[39m\u001b[93m ↑ CUDAdrv v3.1.0 ⇒ v4.0.3\u001b[39m\n",
      " \u001b[90m [be33ccc6]\u001b[39m\u001b[93m ↑ CUDAnative v2.4.0 ⇒ v2.5.4\u001b[39m\n",
      " \u001b[90m [3a865a2d]\u001b[39m\u001b[93m ↑ CuArrays v1.3.0 ⇒ v1.4.4\u001b[39m\n",
      " \u001b[90m [1a297f60]\u001b[39m\u001b[93m ↑ FillArrays v0.7.4 ⇒ v0.8.2\u001b[39m\n",
      " \u001b[90m [587475ba]\u001b[39m\u001b[95m ↓ Flux v0.9.0 ⇒ v0.8.3\u001b[39m\n",
      " \u001b[90m [0c68f7d7]\u001b[39m\u001b[93m ↑ GPUArrays v1.0.4 ⇒ v2.0.0\u001b[39m\n",
      " \u001b[90m [c8e1da08]\u001b[39m\u001b[93m ↑ IterTools v1.2.0 ⇒ v1.3.0\u001b[39m\n",
      " \u001b[90m [98b081ad]\u001b[39m\u001b[93m ↑ Literate v2.1.0 ⇒ v2.1.1\u001b[39m\n",
      " \u001b[90m [91a5bcdd]\u001b[39m\u001b[93m ↑ Plots v0.27.0 ⇒ v0.27.1\u001b[39m\n",
      "\u001b[32m\u001b[1m  Building\u001b[22m\u001b[39m Plots → `~/.julia/packages/Plots/WwFyB/deps/build.log`\n",
      "\u001b[32m\u001b[1m Resolving\u001b[22m\u001b[39m package versions...\n",
      "\u001b[32m\u001b[1m  Updating\u001b[22m\u001b[39m `~/.julia/environments/v1.2/Project.toml`\n",
      "\u001b[90m [no changes]\u001b[39m\n",
      "\u001b[32m\u001b[1m  Updating\u001b[22m\u001b[39m `~/.julia/environments/v1.2/Manifest.toml`\n",
      "\u001b[90m [no changes]\u001b[39m\n",
      "\u001b[32m\u001b[1m Resolving\u001b[22m\u001b[39m package versions...\n",
      "\u001b[32m\u001b[1m  Updating\u001b[22m\u001b[39m `~/.julia/environments/v1.2/Project.toml`\n",
      "\u001b[90m [no changes]\u001b[39m\n",
      "\u001b[32m\u001b[1m  Updating\u001b[22m\u001b[39m `~/.julia/environments/v1.2/Manifest.toml`\n",
      "\u001b[90m [no changes]\u001b[39m\n",
      "\u001b[32m\u001b[1m Resolving\u001b[22m\u001b[39m package versions...\n",
      "\u001b[32m\u001b[1m  Updating\u001b[22m\u001b[39m `~/.julia/environments/v1.2/Project.toml`\n",
      "\u001b[90m [no changes]\u001b[39m\n",
      "\u001b[32m\u001b[1m  Updating\u001b[22m\u001b[39m `~/.julia/environments/v1.2/Manifest.toml`\n",
      "\u001b[90m [no changes]\u001b[39m\n"
     ]
    },
    {
     "name": "stderr",
     "output_type": "stream",
     "text": [
      "┌ Info: Recompiling stale cache file /Users/deniz/.julia/compiled/v1.2/IterTools/hhnii.ji for IterTools [c8e1da08-722c-5040-9ed9-7db0dc04731e]\n",
      "└ @ Base loading.jl:1240\n"
     ]
    },
    {
     "name": "stdout",
     "output_type": "stream",
     "text": [
      "\u001b[32m\u001b[1m Resolving\u001b[22m\u001b[39m package versions...\n",
      "\u001b[32m\u001b[1m  Updating\u001b[22m\u001b[39m `~/.julia/environments/v1.2/Project.toml`\n",
      "\u001b[90m [no changes]\u001b[39m\n",
      "\u001b[32m\u001b[1m  Updating\u001b[22m\u001b[39m `~/.julia/environments/v1.2/Manifest.toml`\n",
      "\u001b[90m [no changes]\u001b[39m\n",
      "\u001b[32m\u001b[1m Resolving\u001b[22m\u001b[39m package versions...\n",
      "\u001b[32m\u001b[1m  Updating\u001b[22m\u001b[39m `~/.julia/environments/v1.2/Project.toml`\n",
      "\u001b[90m [no changes]\u001b[39m\n",
      "\u001b[32m\u001b[1m  Updating\u001b[22m\u001b[39m `~/.julia/environments/v1.2/Manifest.toml`\n",
      "\u001b[90m [no changes]\u001b[39m\n"
     ]
    },
    {
     "name": "stderr",
     "output_type": "stream",
     "text": [
      "┌ Info: Recompiling stale cache file /Users/deniz/.julia/compiled/v1.2/Images/H8Vxc.ji for Images [916415d5-f1e6-5110-898d-aaa5f9f070e0]\n",
      "└ @ Base loading.jl:1240\n"
     ]
    },
    {
     "name": "stdout",
     "output_type": "stream",
     "text": [
      "\u001b[32m\u001b[1m Resolving\u001b[22m\u001b[39m package versions...\n",
      "\u001b[32m\u001b[1m  Updating\u001b[22m\u001b[39m `~/.julia/environments/v1.2/Project.toml`\n",
      "\u001b[90m [no changes]\u001b[39m\n",
      "\u001b[32m\u001b[1m  Updating\u001b[22m\u001b[39m `~/.julia/environments/v1.2/Manifest.toml`\n",
      "\u001b[90m [no changes]\u001b[39m\n",
      "695-element Array{Int32,1}\n",
      "695-element Array{Tuple{Tuple{Array{UInt8,3},Array{UInt8,3}},String},1}\n",
      "Train error before training is: 0.5871070615322231\n",
      "Test error before training is: 0.5935088114212927\n"
     ]
    },
    {
     "ename": "LoadError",
     "evalue": "MethodError: no method matching reluback(::Float64, ::Float32)\nClosest candidates are:\n  reluback(::Float64, !Matched::Knet.Bcasted{#s181} where #s181<:(KnetArray{Float64,N} where N)) at /Users/deniz/.julia/packages/Knet/HRYiN/src/binary.jl:126\n  reluback(::T<:Number, !Matched::T<:Number) where T<:Number at /Users/deniz/.julia/packages/Knet/HRYiN/src/unary.jl:54\n  reluback(!Matched::AutoGrad.Value{##408}, ::##409) where {##408, ##409} at none:0\n  ...",
     "output_type": "error",
     "traceback": [
      "MethodError: no method matching reluback(::Float64, ::Float32)\nClosest candidates are:\n  reluback(::Float64, !Matched::Knet.Bcasted{#s181} where #s181<:(KnetArray{Float64,N} where N)) at /Users/deniz/.julia/packages/Knet/HRYiN/src/binary.jl:126\n  reluback(::T<:Number, !Matched::T<:Number) where T<:Number at /Users/deniz/.julia/packages/Knet/HRYiN/src/unary.jl:54\n  reluback(!Matched::AutoGrad.Value{##408}, ::##409) where {##408, ##409} at none:0\n  ...",
      "",
      "Stacktrace:",
      " [1] _broadcast_getindex_evalf at ./broadcast.jl:625 [inlined]",
      " [2] _broadcast_getindex at ./broadcast.jl:598 [inlined]",
      " [3] getindex at ./broadcast.jl:558 [inlined]",
      " [4] copy at ./broadcast.jl:832 [inlined]",
      " [5] materialize(::Base.Broadcast.Broadcasted{Base.Broadcast.DefaultArrayStyle{2},Nothing,typeof(Knet.reluback),Tuple{Array{Float64,2},Array{Float32,2}}}) at ./broadcast.jl:798",
      " [6] back(::typeof(Base.Broadcast.broadcasted), ::Type{AutoGrad.Arg{2}}, ::Array{Float64,2}, ::AutoGrad.Result{Array{Float32,2}}, ::typeof(relu), ::AutoGrad.Result{Array{Float32,2}}) at ./none:0",
      " [7] #differentiate#3(::Base.Iterators.Pairs{Union{},Union{},Tuple{},NamedTuple{(),Tuple{}}}, ::typeof(AutoGrad.differentiate), ::Function) at /Users/deniz/.julia/packages/AutoGrad/pTNVv/src/core.jl:165",
      " [8] differentiate at /Users/deniz/.julia/packages/AutoGrad/pTNVv/src/core.jl:135 [inlined]",
      " [9] iterate at /Users/deniz/.julia/packages/Knet/HRYiN/src/train.jl:23 [inlined]",
      " [10] iterate at /Users/deniz/.julia/packages/Knet/HRYiN/src/progress.jl:65 [inlined]",
      " [11] #progress!#692(::Base.Iterators.Pairs{Union{},Union{},Tuple{},NamedTuple{(),Tuple{}}}, ::typeof(progress!), ::Knet.Minimize{Base.Iterators.Take{Base.Iterators.Cycle{Knet.Data{Tuple{Array{Tuple{Tuple{Array{UInt8,3},Array{UInt8,3}},String},1},Array{Int32,1}}}}}}) at /Users/deniz/.julia/packages/Knet/HRYiN/src/progress.jl:54",
      " [12] progress!(::Knet.Minimize{Base.Iterators.Take{Base.Iterators.Cycle{Knet.Data{Tuple{Array{Tuple{Tuple{Array{UInt8,3},Array{UInt8,3}},String},1},Array{Int32,1}}}}}}) at /Users/deniz/.julia/packages/Knet/HRYiN/src/progress.jl:54",
      " [13] top-level scope at /Users/deniz/Desktop/jupy/comp-491-bitirme-master/Bimodal_Embedding.jl:291",
      " [14] include at ./boot.jl:328 [inlined]",
      " [15] include_relative(::Module, ::String) at ./loading.jl:1094",
      " [16] include(::Module, ::String) at ./Base.jl:31",
      " [17] include(::String) at ./client.jl:431",
      " [18] top-level scope at In[3]:1"
     ]
    }
   ],
   "source": [
    "include(\"Bimodal_Embedding.jl\")"
   ]
  },
  {
   "cell_type": "code",
   "execution_count": 6,
   "metadata": {},
   "outputs": [
    {
     "name": "stdout",
     "output_type": "stream",
     "text": [
      "\u001b[32m\u001b[1m Resolving\u001b[22m\u001b[39m package versions...\n",
      "\u001b[32m\u001b[1m  Updating\u001b[22m\u001b[39m `~/.julia/environments/v1.2/Project.toml`\n",
      "\u001b[90m [no changes]\u001b[39m\n",
      "\u001b[32m\u001b[1m  Updating\u001b[22m\u001b[39m `~/.julia/environments/v1.2/Manifest.toml`\n",
      "\u001b[90m [no changes]\u001b[39m\n"
     ]
    }
   ],
   "source": [
    "Pkg.add(\"VideoIO\"); using VideoIO"
   ]
  },
  {
   "cell_type": "code",
   "execution_count": 7,
   "metadata": {},
   "outputs": [
    {
     "name": "stdout",
     "output_type": "stream",
     "text": [
      "\u001b[32m\u001b[1m Resolving\u001b[22m\u001b[39m package versions...\n",
      "\u001b[32m\u001b[1m  Updating\u001b[22m\u001b[39m `~/.julia/environments/v1.2/Project.toml`\n",
      "\u001b[90m [no changes]\u001b[39m\n",
      "\u001b[32m\u001b[1m  Updating\u001b[22m\u001b[39m `~/.julia/environments/v1.2/Manifest.toml`\n",
      "\u001b[90m [no changes]\u001b[39m\n",
      "\u001b[32m\u001b[1m Resolving\u001b[22m\u001b[39m package versions...\n",
      "\u001b[32m\u001b[1m  Updating\u001b[22m\u001b[39m `~/.julia/environments/v1.2/Project.toml`\n",
      "\u001b[90m [no changes]\u001b[39m\n",
      "\u001b[32m\u001b[1m  Updating\u001b[22m\u001b[39m `~/.julia/environments/v1.2/Manifest.toml`\n",
      "\u001b[90m [no changes]\u001b[39m\n"
     ]
    }
   ],
   "source": [
    "Pkg.add(\"Images\"); using Images; Pkg.add(\"Colors\"); using Colors"
   ]
  },
  {
   "cell_type": "code",
   "execution_count": 22,
   "metadata": {},
   "outputs": [
    {
     "data": {
      "text/plain": [
       "GetPreProcessedImageArray (generic function with 1 method)"
      ]
     },
     "execution_count": 22,
     "metadata": {},
     "output_type": "execute_result"
    }
   ],
   "source": [
    "function GetPreProcessedImageArray(img, cropfromleft::Float64, cropfromright::Float64, cropfromtop::Float64, cropfrombottom::Float64, target_height::Int, target_width::Int)\n",
    "    channels, height, width = size(img)\n",
    "    img = img[:,Int(round(height*cropfromtop))+1:Int(round((1-cropfrombottom)*height)), Int(round(width*cropfromleft))+1:Int(round((1-cropfromright)*width))]\n",
    "    img = imresize(img, (channels, target_height, target_width))\n",
    "    permutedims(img, (2,3,1))\n",
    "end"
   ]
  },
  {
   "cell_type": "code",
   "execution_count": 23,
   "metadata": {},
   "outputs": [
    {
     "data": {
      "text/plain": [
       "\"2486-element Array{Any,1}\""
      ]
     },
     "execution_count": 23,
     "metadata": {},
     "output_type": "execute_result"
    }
   ],
   "source": [
    "io = VideoIO.open(\"montezuma2.mp4\")\n",
    "f = VideoIO.openvideo(io)\n",
    "\n",
    "target_width = 160\n",
    "target_height = 210\n",
    "crop_from_top = 0.1\n",
    "crop_from_bottom = 0.12\n",
    "crop_from_left = 0.15\n",
    "crop_from_right = 0.15\n",
    "\n",
    "\n",
    "img = read(f)\n",
    "img = GetPreProcessedImageArray(channelview(img), crop_from_left, crop_from_right, crop_from_top, crop_from_bottom, target_height, target_width)\n",
    "frame_pairs = []\n",
    "\n",
    "current_frame = img\n",
    "\n",
    "while !eof(f)\n",
    "    prev_frame = current_frame\n",
    "    current_frame = read(f)\n",
    "    current_frame = GetPreProcessedImageArray(channelview(current_frame), crop_from_left, crop_from_right, crop_from_top, crop_from_bottom,target_height, target_width)\n",
    "    push!(frame_pairs, (prev_frame, current_frame))\n",
    "end\n",
    "close(f)\n",
    "summary(frame_pairs)"
   ]
  },
  {
   "cell_type": "code",
   "execution_count": 24,
   "metadata": {},
   "outputs": [
    {
     "data": {
      "text/plain": [
       "bimodalEncoder(frame_head(Conv(P(Array{Float32,4}(5,5,3,32)), P(Array{Float32,4}(1,1,32,1)), NNlib.relu, 0, Knet.pool), Conv(P(Array{Float32,4}(5,5,32,32)), P(Array{Float32,4}(1,1,32,1)), NNlib.relu, 0, Knet.pool), Conv(P(Array{Float32,4}(4,4,32,64)), P(Array{Float32,4}(1,1,64,1)), NNlib.relu, 0, Knet.pool), Conv(P(Array{Float32,4}(3,3,64,64)), P(Array{Float32,4}(1,1,64,1)), NNlib.relu, 0, identity), Dense(P(Array{Float32,2}(10,47040)), P(Array{Float32,1}(10)), NNlib.relu, 0), Dense(P(Array{Float32,2}(10,10)), P(Array{Float32,1}(10)), NNlib.relu, 0)), sentence_head(Embed(P(Array{Float32,2}(12,21))), LSTM(input=12,hidden=10)))"
      ]
     },
     "execution_count": 24,
     "metadata": {},
     "output_type": "execute_result"
    }
   ],
   "source": [
    "b = Knet.load(\"bimodalv6.jld2\", \"model\")"
   ]
  },
  {
   "cell_type": "code",
   "execution_count": 25,
   "metadata": {},
   "outputs": [
    {
     "data": {
      "text/plain": [
       "\"210×320×3 Array{N0f8,3} with eltype Normed{UInt8,8}\""
      ]
     },
     "execution_count": 25,
     "metadata": {},
     "output_type": "execute_result"
    }
   ],
   "source": [
    "both_frames = hcat(frame_pairs[1][1], frame_pairs[1][2])\n",
    "summary(both_frames)\n",
    "#colorview(RGB, both_frames)"
   ]
  },
  {
   "cell_type": "code",
   "execution_count": null,
   "metadata": {},
   "outputs": [],
   "source": []
  }
 ],
 "metadata": {
  "kernelspec": {
   "display_name": "Julia 1.2.0",
   "language": "julia",
   "name": "julia-1.2"
  },
  "language_info": {
   "file_extension": ".jl",
   "mimetype": "application/julia",
   "name": "julia",
   "version": "1.2.0"
  }
 },
 "nbformat": 4,
 "nbformat_minor": 4
}
