{
 "cells": [
  {
   "cell_type": "code",
   "execution_count": 1,
   "metadata": {},
   "outputs": [
    {
     "name": "stdout",
     "output_type": "stream",
     "text": [
      "\u001b[32m\u001b[1m  Updating\u001b[22m\u001b[39m registry at `~/.julia/registries/General`\n",
      "\u001b[32m\u001b[1m  Updating\u001b[22m\u001b[39m git-repo `https://github.com/JuliaRegistries/General.git`\n",
      "\u001b[2K\u001b[?25h[1mFetching:\u001b[22m\u001b[39m [========================================>]  100.0 %.0 %\u001b[32m\u001b[1m Resolving\u001b[22m\u001b[39m package versions...\n",
      "\u001b[32m\u001b[1m  Updating\u001b[22m\u001b[39m `~/.julia/environments/v1.2/Project.toml`\n",
      "\u001b[90m [no changes]\u001b[39m\n",
      "\u001b[32m\u001b[1m  Updating\u001b[22m\u001b[39m `~/.julia/environments/v1.2/Manifest.toml`\n",
      "\u001b[90m [no changes]\u001b[39m\n",
      "\u001b[32m\u001b[1m  Building\u001b[22m\u001b[39m Conda ─→ `~/.julia/packages/Conda/kLXeC/deps/build.log`\n",
      "\u001b[32m\u001b[1m  Building\u001b[22m\u001b[39m PyCall → `~/.julia/packages/PyCall/ttONZ/deps/build.log`\n",
      "\u001b[32m\u001b[1m  Building\u001b[22m\u001b[39m Conda ─→ `~/.julia/packages/Conda/kLXeC/deps/build.log`\n",
      "\u001b[32m\u001b[1m  Building\u001b[22m\u001b[39m PyCall → `~/.julia/packages/PyCall/ttONZ/deps/build.log`\n",
      "\u001b[32m\u001b[1m  Building\u001b[22m\u001b[39m Gym ───→ `~/.julia/packages/Gym/QZ2GY/deps/build.log`\n"
     ]
    },
    {
     "data": {
      "text/plain": [
       "PyObject <module 'numpy' from '/usr/local/lib/python3.7/site-packages/numpy/__init__.py'>"
      ]
     },
     "execution_count": 1,
     "metadata": {},
     "output_type": "execute_result"
    }
   ],
   "source": [
    "using Pkg; for p in (\"Gym\",\"Plots\"); haskey(Pkg.installed(),p) || Pkg.add(p); end\n",
    "Pkg.add(\"PyCall\")\n",
    "ENV[\"GYM_ENVS\"]=\"atari:classic_control:box2d\"\n",
    "ENV[\"PYTHON\"]=\"/usr/local/bin/python3\"\n",
    "Pkg.build(\"PyCall\"); Pkg.build(\"Gym\")\n",
    "using Gym, PyCall, Knet, Base.Iterators\n",
    "np = pyimport(\"numpy\")"
   ]
  },
  {
   "cell_type": "code",
   "execution_count": 2,
   "metadata": {},
   "outputs": [
    {
     "name": "stdout",
     "output_type": "stream",
     "text": [
      "\u001b[32m\u001b[1m Resolving\u001b[22m\u001b[39m package versions...\n",
      "\u001b[32m\u001b[1m  Updating\u001b[22m\u001b[39m `~/.julia/environments/v1.2/Project.toml`\n",
      "\u001b[90m [no changes]\u001b[39m\n",
      "\u001b[32m\u001b[1m  Updating\u001b[22m\u001b[39m `~/.julia/environments/v1.2/Manifest.toml`\n",
      "\u001b[90m [no changes]\u001b[39m\n",
      "\u001b[32m\u001b[1m Resolving\u001b[22m\u001b[39m package versions...\n",
      "\u001b[32m\u001b[1m  Updating\u001b[22m\u001b[39m `~/.julia/environments/v1.2/Project.toml`\n",
      "\u001b[90m [no changes]\u001b[39m\n",
      "\u001b[32m\u001b[1m  Updating\u001b[22m\u001b[39m `~/.julia/environments/v1.2/Manifest.toml`\n",
      "\u001b[90m [no changes]\u001b[39m\n",
      "\u001b[32m\u001b[1m Resolving\u001b[22m\u001b[39m package versions...\n",
      "\u001b[32m\u001b[1m  Updating\u001b[22m\u001b[39m `~/.julia/environments/v1.2/Project.toml`\n",
      "\u001b[90m [no changes]\u001b[39m\n",
      "\u001b[32m\u001b[1m  Updating\u001b[22m\u001b[39m `~/.julia/environments/v1.2/Manifest.toml`\n",
      "\u001b[90m [no changes]\u001b[39m\n"
     ]
    }
   ],
   "source": [
    "Pkg.add(\"Images\"); using Images; Pkg.add(\"Colors\"); using Colors\n",
    "Pkg.add(\"ImageTransformations\"); using ImageTransformations"
   ]
  },
  {
   "cell_type": "code",
   "execution_count": 3,
   "metadata": {},
   "outputs": [
    {
     "data": {
      "text/plain": [
       "Conv"
      ]
     },
     "execution_count": 3,
     "metadata": {},
     "output_type": "execute_result"
    }
   ],
   "source": [
    "mutable struct Conv \n",
    "    w \n",
    "    b \n",
    "    f \n",
    "    p \n",
    "end\n",
    "(c::Conv)(x) = c.f.(pool(conv4(c.w, dropout(x,c.p)) .+ c.b))\n",
    "Conv(w1::Int,w2::Int,cx::Int,cy::Int, f=relu;pdrop=0) = Conv(param(w1,w2,cx,cy), param0(1,1,cy,1), f, pdrop)"
   ]
  },
  {
   "cell_type": "code",
   "execution_count": 4,
   "metadata": {},
   "outputs": [],
   "source": [
    "mutable struct Linear; w; b; end\n",
    "\n",
    "function Linear(inputsize::Int, outputsize::Int)\n",
    "    w = param(outputsize, inputsize)\n",
    "    b = param0(outputsize)\n",
    "    Linear(w,b)\n",
    "end\n",
    "function (l::Linear)(x)\n",
    "    l.w * mat(x) .+ l.b\n",
    "end"
   ]
  },
  {
   "cell_type": "code",
   "execution_count": 5,
   "metadata": {},
   "outputs": [],
   "source": [
    "mutable struct Projection; w; end\n",
    "\n",
    "function Projection(inputsize::Int, outputsize::Int)\n",
    "    w = param(outputsize, inputsize)\n",
    "    Projection(w)\n",
    "end\n",
    "function (p::Projection)(x)\n",
    "    p.w * x\n",
    "end"
   ]
  },
  {
   "cell_type": "code",
   "execution_count": 6,
   "metadata": {},
   "outputs": [
    {
     "data": {
      "text/plain": [
       "mse_loss (generic function with 1 method)"
      ]
     },
     "execution_count": 6,
     "metadata": {},
     "output_type": "execute_result"
    }
   ],
   "source": [
    "function mse_loss(arr1, arr2)\n",
    "    sum((arr1-vec(arr2)).^2)/length(arr1)\n",
    "end"
   ]
  },
  {
   "cell_type": "code",
   "execution_count": 7,
   "metadata": {},
   "outputs": [],
   "source": [
    "mutable struct DQN\n",
    "    conv1\n",
    "    conv2\n",
    "    conv3\n",
    "    fc1\n",
    "    output\n",
    "end\n",
    "\n",
    "function DQN(filter_size1, filter_amount_1, filter_size2, filter_amount_2, filter_size3, filter_amount_3, input_channels::Int, \n",
    "    hidden_size1::Int, hidden_size2::Int, action_space_size::Int)\n",
    "    conv1 = Conv(filter_size1, filter_size1, input_channels, filter_amount_1)\n",
    "    conv2 = Conv(filter_size2, filter_size2, filter_amount_1, filter_amount_2)\n",
    "    conv3 = Conv(filter_size3, filter_size3, filter_amount_2, filter_amount_3)\n",
    "    fc1 = Linear(hidden_size1, hidden_size2)\n",
    "    output = Projection(hidden_size2, action_space_size)     \n",
    "    DQN(conv1, conv2, conv3, fc1, output)\n",
    "end\n",
    "\n",
    "function (model::DQN)(x)\n",
    "    model.output(relu.(model.fc1(relu.(model.conv3(relu.(model.conv2(relu.(model.conv1(x)))))))))\n",
    "end\n",
    "\n",
    "\n",
    "function (model::DQN)(x, indexes, q_star)\n",
    "    mse_loss(model(x)[indexes],q_star)\n",
    "end"
   ]
  },
  {
   "cell_type": "code",
   "execution_count": 8,
   "metadata": {},
   "outputs": [
    {
     "data": {
      "text/plain": [
       "Sample (generic function with 1 method)"
      ]
     },
     "execution_count": 8,
     "metadata": {},
     "output_type": "execute_result"
    }
   ],
   "source": [
    "mutable struct ReplayMemory\n",
    "    capacity\n",
    "    memory\n",
    "    push_count\n",
    "    batchsize\n",
    "end\n",
    "\n",
    "\n",
    "function ReplayMemory(capacity::Int, batchsize::Int)\n",
    "    push_count = 0\n",
    "    memory = []\n",
    "    ReplayMemory(capacity, memory, push_count, batchsize)\n",
    "end\n",
    "\n",
    "\n",
    "function PushToReplayMemory!(r::ReplayMemory, e)\n",
    "    \n",
    "    if(length(r.memory) < r.capacity)\n",
    "        push!(r.memory, e)\n",
    "    else\n",
    "        r.memory[(r.push_count%r.capacity)+1] = e\n",
    "    end\n",
    "    r.push_count += 1\n",
    "end\n",
    "\n",
    "function CanProvideSample(r::ReplayMemory)\n",
    "    return r.push_count >= r.batchsize\n",
    "end\n",
    "\n",
    "function Sample(r::ReplayMemory)\n",
    "    return r.memory[rand(1:min(r.push_count, r.capacity),r.batchsize)]\n",
    "end"
   ]
  },
  {
   "cell_type": "code",
   "execution_count": 9,
   "metadata": {},
   "outputs": [
    {
     "data": {
      "text/plain": [
       "GetExplorationRate (generic function with 1 method)"
      ]
     },
     "execution_count": 9,
     "metadata": {},
     "output_type": "execute_result"
    }
   ],
   "source": [
    "struct EpsilonGreedyStrategy\n",
    "    max\n",
    "    min\n",
    "    decay\n",
    "end\n",
    "\n",
    "function GetExplorationRate(e::EpsilonGreedyStrategy, current_step::Int)\n",
    "    e.min + ((e.max-e.min) * exp(-1*current_step*e.decay))\n",
    "end"
   ]
  },
  {
   "cell_type": "code",
   "execution_count": 10,
   "metadata": {},
   "outputs": [
    {
     "data": {
      "text/plain": [
       "setCurrentStep! (generic function with 1 method)"
      ]
     },
     "execution_count": 10,
     "metadata": {},
     "output_type": "execute_result"
    }
   ],
   "source": [
    "mutable struct Agent\n",
    "    current_step\n",
    "    strategy\n",
    "    num_actions\n",
    "end\n",
    "\n",
    "function Agent(strategy::EpsilonGreedyStrategy, num_actions::Int)\n",
    "    current_step = 0\n",
    "    return Agent(current_step, strategy, num_actions)\n",
    "end\n",
    "\n",
    "function GetAction(a::Agent, state, policy_net, env; training = true)\n",
    "    a.current_step += 1\n",
    "    ϵ = GetExplorationRate(a.strategy, a.current_step)\n",
    "    \n",
    "    if(training && ϵ > rand())\n",
    "    #if(false)\n",
    "        return rand(0:env.action_space.n-1)\n",
    "    else\n",
    "        x,y,z = size(state)\n",
    "        return argmax(policy_net(reshape(state,(x,y,z,1))))[1]-1\n",
    "    end \n",
    "end\n",
    "\n",
    "\n",
    "function setCurrentStep!(agent, step)\n",
    "    agent.current_step = step\n",
    "end"
   ]
  },
  {
   "cell_type": "code",
   "execution_count": 11,
   "metadata": {},
   "outputs": [
    {
     "data": {
      "text/plain": [
       "1"
      ]
     },
     "execution_count": 11,
     "metadata": {},
     "output_type": "execute_result"
    }
   ],
   "source": [
    "reward = 0\n",
    "num_episodes = 10\n",
    "batch_size = 32\n",
    "γ = 0.95\n",
    "ϵ_start = 0.9\n",
    "ϵ_decay = 0.005 \n",
    "ϵ_end = 0.01\n",
    "target_update = 10\n",
    "memory_size = 10000\n",
    "lr = 0.00025\n",
    "image_height = 84 \n",
    "image_width = 84\n",
    "input_channels = 4\n",
    "hidden_size1 = 3136\n",
    "hidden_size2 = 512\n",
    "moving_average_length = 1\n",
    "gradientclip = 1"
   ]
  },
  {
   "cell_type": "code",
   "execution_count": 12,
   "metadata": {},
   "outputs": [
    {
     "data": {
      "text/plain": [
       "64"
      ]
     },
     "execution_count": 12,
     "metadata": {},
     "output_type": "execute_result"
    }
   ],
   "source": [
    "filter_size1 = 8\n",
    "filter_amount_1 = 32\n",
    "filter_size2 = 4\n",
    "filter_amount_2 = 64\n",
    "filter_size3 = 3\n",
    "filter_amount_3 = 64 "
   ]
  },
  {
   "cell_type": "code",
   "execution_count": 13,
   "metadata": {},
   "outputs": [
    {
     "data": {
      "text/plain": [
       "84"
      ]
     },
     "execution_count": 13,
     "metadata": {},
     "output_type": "execute_result"
    }
   ],
   "source": [
    "cropfromtop = 0.0\n",
    "cropfrombottom = 0.0\n",
    "target_height = 84\n",
    "target_width = 84"
   ]
  },
  {
   "cell_type": "code",
   "execution_count": 14,
   "metadata": {},
   "outputs": [
    {
     "data": {
      "text/plain": [
       "GetPreProcessedImageArray (generic function with 1 method)"
      ]
     },
     "execution_count": 14,
     "metadata": {},
     "output_type": "execute_result"
    }
   ],
   "source": [
    "function GetPreProcessedImageArray(img, cropfromtop::Float64, cropfrombottom::Float64, target_height::Int, target_width::Int)\n",
    "    img = img/255\n",
    "    height, width, channels = size(img)\n",
    "    state_image = permutedims(img,(3,1,2))\n",
    "    state_image2 = (state_image[:,Int(height*cropfromtop)+1:Int((1-cropfrombottom)*height),:])\n",
    "    grayscale = Gray.(state_image2)\n",
    "    reshape(Float32.(imresize(grayscale, (1,target_height, target_width))), (target_width,target_height))\n",
    "end\n",
    "    "
   ]
  },
  {
   "cell_type": "code",
   "execution_count": 15,
   "metadata": {},
   "outputs": [
    {
     "data": {
      "text/plain": [
       "extract_tensors (generic function with 1 method)"
      ]
     },
     "execution_count": 15,
     "metadata": {},
     "output_type": "execute_result"
    }
   ],
   "source": [
    "function extract_tensors(experiences, target_width, target_height, input_channels, batchsize)\n",
    "    tensors = reshape(collect(flatten(experiences)), (4,batchsize))\n",
    "    states = reshape(cat1d(tensors[1,:]...), (target_width, target_height, input_channels, batchsize))\n",
    "    actions = tensors[2,:]\n",
    "    next_states = reshape(cat1d(tensors[3,:]...), (target_width, target_height, input_channels, batchsize))\n",
    "    rewards = tensors[4,:]\n",
    "    return states, actions, next_states, rewards\n",
    "end"
   ]
  },
  {
   "cell_type": "code",
   "execution_count": 16,
   "metadata": {},
   "outputs": [
    {
     "data": {
      "text/plain": [
       "GetMovingAverage (generic function with 1 method)"
      ]
     },
     "execution_count": 16,
     "metadata": {},
     "output_type": "execute_result"
    }
   ],
   "source": [
    "function GetMovingAverage(collection, n)\n",
    "    len = length(collection)\n",
    "    if(n>len)\n",
    "        return 0\n",
    "    else\n",
    "        return sum(collection[len-n+1:end])/n\n",
    "    end\n",
    "end"
   ]
  },
  {
   "cell_type": "code",
   "execution_count": 17,
   "metadata": {},
   "outputs": [
    {
     "data": {
      "text/plain": [
       "GymEnv(\"Pong-v0\", Gym.Spec(\"Pong-v0\", nothing, false, Dict{Any,Any}(\"wrapper_config.TimeLimit.max_episode_steps\" => 10000), 10000), DiscreteS(6), BoxS(UInt8[0x00 0x00 … 0x00 0x00; 0x00 0x00 … 0x00 0x00; … ; 0x00 0x00 … 0x00 0x00; 0x00 0x00 … 0x00 0x00]\n",
       "\n",
       "UInt8[0x00 0x00 … 0x00 0x00; 0x00 0x00 … 0x00 0x00; … ; 0x00 0x00 … 0x00 0x00; 0x00 0x00 … 0x00 0x00]\n",
       "\n",
       "UInt8[0x00 0x00 … 0x00 0x00; 0x00 0x00 … 0x00 0x00; … ; 0x00 0x00 … 0x00 0x00; 0x00 0x00 … 0x00 0x00], UInt8[0xff 0xff … 0xff 0xff; 0xff 0xff … 0xff 0xff; … ; 0xff 0xff … 0xff 0xff; 0xff 0xff … 0xff 0xff]\n",
       "\n",
       "UInt8[0xff 0xff … 0xff 0xff; 0xff 0xff … 0xff 0xff; … ; 0xff 0xff … 0xff 0xff; 0xff 0xff … 0xff 0xff]\n",
       "\n",
       "UInt8[0xff 0xff … 0xff 0xff; 0xff 0xff … 0xff 0xff; … ; 0xff 0xff … 0xff 0xff; 0xff 0xff … 0xff 0xff], (210, 160, 3)), (-Inf, Inf), PyObject <TimeLimit<AtariEnv<Pong-v0>>>)"
      ]
     },
     "execution_count": 17,
     "metadata": {},
     "output_type": "execute_result"
    }
   ],
   "source": [
    "env = GymEnv(\"Pong-v0\")"
   ]
  },
  {
   "cell_type": "code",
   "execution_count": 18,
   "metadata": {},
   "outputs": [
    {
     "data": {
      "text/plain": [
       "0"
      ]
     },
     "execution_count": 18,
     "metadata": {},
     "output_type": "execute_result"
    }
   ],
   "source": [
    "episode_rewards = []\n",
    "replay_memory = ReplayMemory(memory_size, batch_size)\n",
    "policy_network = DQN(filter_size1, filter_amount_1, filter_size2, filter_amount_2, filter_size3, filter_amount_3, input_channels, hidden_size1, hidden_size2, env.action_space.n)\n",
    "policy_network = Knet.load(\"policyv2.jld2\",\"model\")\n",
    "target_network = deepcopy(policy_network)\n",
    "strategy = EpsilonGreedyStrategy(ϵ_start, ϵ_end, ϵ_decay)\n",
    "agent = Agent(strategy, env.action_space.n)\n",
    "#setCurrentStep!(agent, 27000)\n",
    "total_reward_per_episode = 0"
   ]
  },
  {
   "cell_type": "code",
   "execution_count": 19,
   "metadata": {},
   "outputs": [
    {
     "name": "stdout",
     "output_type": "stream",
     "text": [
      "episode: 1 100MA: 0\n",
      "\n",
      "Stacktrace:\n",
      " [1] \u001b[1mType\u001b[22m at \u001b[1m./boot.jl:339\u001b[22m [inlined]\n",
      " [2] \u001b[1mAutoGrad.Result\u001b[22m\u001b[1m(\u001b[22m::Array{Float32,4}, ::Function, ::Tuple{typeof(+),AutoGrad.Result{Array{Float32,4}},Param{Array{Float32,4}}}, ::Base.Iterators.Pairs{Union{},Union{},Tuple{},NamedTuple{(),Tuple{}}}\u001b[1m)\u001b[22m at \u001b[1m/Users/deniz/.julia/packages/AutoGrad/pTNVv/src/core.jl:111\u001b[22m\n",
      " [3] \u001b[1m#forw#1\u001b[22m\u001b[1m(\u001b[22m::Base.Iterators.Pairs{Union{},Union{},Tuple{},NamedTuple{(),Tuple{}}}, ::typeof(AutoGrad.forw), ::Function, ::Function, ::Vararg{Any,N} where N\u001b[1m)\u001b[22m at \u001b[1m/Users/deniz/.julia/packages/AutoGrad/pTNVv/src/core.jl:72\u001b[22m\n",
      " [4] \u001b[1mforw\u001b[22m at \u001b[1m/Users/deniz/.julia/packages/AutoGrad/pTNVv/src/core.jl:65\u001b[22m [inlined]\n",
      " [5] \u001b[1mbroadcasted\u001b[22m\u001b[1m(\u001b[22m::typeof(+), ::AutoGrad.Result{Array{Float32,4}}, ::Param{Array{Float32,4}}\u001b[1m)\u001b[22m at \u001b[1m./none:0\u001b[22m\n",
      " [6] \u001b[1m(::Conv)\u001b[22m\u001b[1m(\u001b[22m::AutoGrad.Result{Array{Float32,4}}\u001b[1m)\u001b[22m at \u001b[1m./In[3]:7\u001b[22m\n",
      " [7] \u001b[1m(::DQN)\u001b[22m\u001b[1m(\u001b[22m::Array{Float32,4}\u001b[1m)\u001b[22m at \u001b[1m./In[7]:20\u001b[22m\n",
      " [8] \u001b[1m(::DQN)\u001b[22m\u001b[1m(\u001b[22m::Array{Float32,4}, ::Array{Int64,1}, ::Array{Float64,2}\u001b[1m)\u001b[22m at \u001b[1m./In[7]:25\u001b[22m\n",
      " [9] \u001b[1m(::getfield(Knet, Symbol(\"##695#696\")){Knet.Minimize{Base.Iterators.Take{Base.Iterators.Cycle{Array{Tuple{Array{Float32,4},Array{Int64,1},Array{Float64,2}},1}}}},Tuple{Array{Float32,4},Array{Int64,1},Array{Float64,2}}})\u001b[22m\u001b[1m(\u001b[22m\u001b[1m)\u001b[22m at \u001b[1m/Users/deniz/.julia/packages/AutoGrad/pTNVv/src/core.jl:205\u001b[22m\n",
      " [10] \u001b[1m#differentiate#3\u001b[22m\u001b[1m(\u001b[22m::Base.Iterators.Pairs{Union{},Union{},Tuple{},NamedTuple{(),Tuple{}}}, ::typeof(AutoGrad.differentiate), ::Function\u001b[1m)\u001b[22m at \u001b[1m/Users/deniz/.julia/packages/AutoGrad/pTNVv/src/core.jl:144\u001b[22m\n",
      " [11] \u001b[1mdifferentiate\u001b[22m at \u001b[1m/Users/deniz/.julia/packages/AutoGrad/pTNVv/src/core.jl:135\u001b[22m [inlined]\n",
      " [12] \u001b[1miterate\u001b[22m\u001b[1m(\u001b[22m::Knet.Minimize{Base.Iterators.Take{Base.Iterators.Cycle{Array{Tuple{Array{Float32,4},Array{Int64,1},Array{Float64,2}},1}}}}\u001b[1m)\u001b[22m at \u001b[1m/Users/deniz/.julia/packages/Knet/HRYiN/src/train.jl:23\u001b[22m\n",
      " [13] \u001b[1m#adam!#804\u001b[22m\u001b[1m(\u001b[22m::Base.Iterators.Pairs{Symbol,Float64,Tuple{Symbol},NamedTuple{(:lr,),Tuple{Float64}}}, ::typeof(adam!), ::DQN, ::Vararg{Any,N} where N\u001b[1m)\u001b[22m at \u001b[1m/Users/deniz/.julia/packages/Knet/HRYiN/src/update.jl:409\u001b[22m\n",
      " [14] \u001b[1m(::getfield(Knet, Symbol(\"#kw##adam!\")))\u001b[22m\u001b[1m(\u001b[22m::NamedTuple{(:lr,),Tuple{Float64}}, ::typeof(adam!), ::DQN, ::Vararg{Any,N} where N\u001b[1m)\u001b[22m at \u001b[1m./none:0\u001b[22m\n",
      " [15] top-level scope at \u001b[1m./In[19]:50\u001b[22m\n",
      " [16] \u001b[1meval\u001b[22m at \u001b[1m./boot.jl:330\u001b[22m [inlined]\n",
      " [17] \u001b[1msoftscope_include_string\u001b[22m\u001b[1m(\u001b[22m::Module, ::String, ::String\u001b[1m)\u001b[22m at \u001b[1m/Users/deniz/.julia/packages/SoftGlobalScope/cSbw5/src/SoftGlobalScope.jl:218\u001b[22m\n",
      " [18] \u001b[1mexecute_request\u001b[22m\u001b[1m(\u001b[22m::ZMQ.Socket, ::IJulia.Msg\u001b[1m)\u001b[22m at \u001b[1m/Users/deniz/.julia/packages/IJulia/F1GUo/src/execute_request.jl:67\u001b[22m\n",
      " [19] \u001b[1m#invokelatest#1\u001b[22m at \u001b[1m./essentials.jl:790\u001b[22m [inlined]\n",
      " [20] \u001b[1minvokelatest\u001b[22m at \u001b[1m./essentials.jl:789\u001b[22m [inlined]\n",
      " [21] \u001b[1meventloop\u001b[22m\u001b[1m(\u001b[22m::ZMQ.Socket\u001b[1m)\u001b[22m at \u001b[1m/Users/deniz/.julia/packages/IJulia/F1GUo/src/eventloop.jl:8\u001b[22m\n",
      " [22] \u001b[1m(::getfield(IJulia, Symbol(\"##15#18\")))\u001b[22m\u001b[1m(\u001b[22m\u001b[1m)\u001b[22m at \u001b[1m./task.jl:268\u001b[22m\n"
     ]
    },
    {
     "ename": "InterruptException",
     "evalue": "InterruptException:",
     "output_type": "error",
     "traceback": [
      "InterruptException:",
      "",
      "Stacktrace:",
      " [1] #differentiate#3(::Base.Iterators.Pairs{Union{},Union{},Tuple{},NamedTuple{(),Tuple{}}}, ::typeof(AutoGrad.differentiate), ::Function) at /Users/deniz/.julia/packages/AutoGrad/pTNVv/src/core.jl:148",
      " [2] differentiate at /Users/deniz/.julia/packages/AutoGrad/pTNVv/src/core.jl:135 [inlined]",
      " [3] iterate(::Knet.Minimize{Base.Iterators.Take{Base.Iterators.Cycle{Array{Tuple{Array{Float32,4},Array{Int64,1},Array{Float64,2}},1}}}}) at /Users/deniz/.julia/packages/Knet/HRYiN/src/train.jl:23",
      " [4] #adam!#804(::Base.Iterators.Pairs{Symbol,Float64,Tuple{Symbol},NamedTuple{(:lr,),Tuple{Float64}}}, ::typeof(adam!), ::DQN, ::Vararg{Any,N} where N) at /Users/deniz/.julia/packages/Knet/HRYiN/src/update.jl:409",
      " [5] (::getfield(Knet, Symbol(\"#kw##adam!\")))(::NamedTuple{(:lr,),Tuple{Float64}}, ::typeof(adam!), ::DQN, ::Vararg{Any,N} where N) at ./none:0",
      " [6] top-level scope at ./In[19]:50"
     ]
    }
   ],
   "source": [
    "#for training\n",
    "\n",
    "for i = 1:num_episodes\n",
    "    done = false\n",
    "    reset!(env) \n",
    "    current_state = zeros(Float32, 84,84,4)\n",
    "    if (gpu()>=0)\n",
    "        current_state = KnetArray(current_state)\n",
    "    end\n",
    "    println(\"episode: \", i, \" 100MA: \", GetMovingAverage(episode_rewards,moving_average_length))\n",
    "    \n",
    "    total_reward_per_episode = 0\n",
    "    time_step = 0\n",
    "    while(!done) \n",
    "        time_step += 1\n",
    "        #println(\"timestep: \", time_step)\n",
    "        action = GetAction(agent, current_state, policy_network, env)\n",
    "        observation, reward, done, information = step!(env, action) \n",
    "        if(done)\n",
    "            next_state = zeros(Float32, 84,84,4)\n",
    "            if (gpu()>=0)\n",
    "                next_state = KnetArray(next_state)\n",
    "            end\n",
    "        else\n",
    "            img = GetPreProcessedImageArray(observation, cropfromtop, cropfrombottom, target_height, target_width)\n",
    "            img = reshape(img, (target_width, target_height, 1))\n",
    "            if (gpu()>=0)\n",
    "                img = KnetArray(img)\n",
    "            end\n",
    "            next_state = cat(current_state, img; dims=3)[:,:,2:5]\n",
    "        end\n",
    "        \n",
    "        total_reward_per_episode += reward\n",
    "        PushToReplayMemory!(replay_memory, [current_state, action, next_state, reward])\n",
    "        current_state = next_state\n",
    "        if(CanProvideSample(replay_memory))\n",
    "            experiences = Sample(replay_memory)\n",
    "            states, actions, next_states, rewards = extract_tensors(experiences, image_width, image_height, input_channels, batch_size)\n",
    "            if (gpu()>=0)\n",
    "                states = KnetArray(states)\n",
    "                actions = KnetArray(Int.(actions))\n",
    "                next_states = KnetArray(next_states)\n",
    "                rewards = KnetArray(Float32.(rewards))\n",
    "            end\n",
    "            indexes = collect(0:batch_size-1)*env.action_space.n + Array(actions) .+ 1\n",
    "            global target_network\n",
    "            q_star = maximum(target_network(next_states), dims=1) * γ + rewards' \n",
    "            loss_before = mse_loss(policy_network(states)[indexes], q_star)\n",
    "            tup = (states, indexes, q_star)\n",
    "            list = [tup]\n",
    "            #adam!(policy_network, take(cycle(list),1), lr=lr, gclip=gradientclip)\n",
    "            adam!(policy_network, take(cycle(list),1), lr=lr)\n",
    "            loss_after = mse_loss(policy_network(states)[indexes], q_star)\n",
    "           \n",
    "            println(\"timestep: \", time_step, \" loss b4: \", loss_before, \" loss after: \", loss_after)\n",
    "        end\n",
    "        \n",
    "        if(done)\n",
    "            push!(episode_rewards, total_reward_per_episode)\n",
    "        end\n",
    "        if(agent.current_step%target_update == 0)\n",
    "            target_network = deepcopy(policy_network)\n",
    "        end\n",
    "    end\n",
    "    \n",
    "end\n",
    "\n",
    "Knet.save(\"policyv2.jld2\",\"model\",policy_network)"
   ]
  },
  {
   "cell_type": "code",
   "execution_count": 19,
   "metadata": {},
   "outputs": [
    {
     "name": "stdout",
     "output_type": "stream",
     "text": [
      "reward is: -16.0\n",
      "reward is: -18.0\n"
     ]
    }
   ],
   "source": [
    "#for demo\n",
    "\n",
    "\n",
    "policy_network = Knet.load(\"policyv2.jld2\",\"model\")\n",
    "\n",
    "\n",
    "for i = 1:2\n",
    "    done = false\n",
    "    reset!(env) \n",
    "    current_state = zeros(Float32, 84,84,4)    \n",
    "    total_reward_per_episode = 0\n",
    "    render(env)\n",
    "    \n",
    "    while(!done) \n",
    "        \n",
    "        action = GetAction(agent, current_state, policy_network, env; training = false)\n",
    "        observation, reward, done, information = step!(env, action) \n",
    "        render(env)\n",
    "        \n",
    "        if(done)\n",
    "            next_state = zeros(Float32, 84,84,4)\n",
    "        \n",
    "        else\n",
    "            img = GetPreProcessedImageArray(observation, cropfromtop, cropfrombottom, target_height, target_width)\n",
    "            img = reshape(img, (target_width, target_height, 1))\n",
    "            next_state = cat(current_state, img; dims=3)[:,:,2:5]\n",
    "        end\n",
    "        \n",
    "        total_reward_per_episode += reward\n",
    "        current_state = next_state\n",
    "       \n",
    "            \n",
    "    \n",
    "        if(done)\n",
    "            println(\"reward is: \", total_reward_per_episode)\n",
    "        end\n",
    "    end\n",
    "    \n",
    "end"
   ]
  },
  {
   "cell_type": "code",
   "execution_count": null,
   "metadata": {},
   "outputs": [],
   "source": []
  }
 ],
 "metadata": {
  "kernelspec": {
   "display_name": "Julia 1.2.0",
   "language": "julia",
   "name": "julia-1.2"
  },
  "language_info": {
   "file_extension": ".jl",
   "mimetype": "application/julia",
   "name": "julia",
   "version": "1.2.0"
  }
 },
 "nbformat": 4,
 "nbformat_minor": 4
}
