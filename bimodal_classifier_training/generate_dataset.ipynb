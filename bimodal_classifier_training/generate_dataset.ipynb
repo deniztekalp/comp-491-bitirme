{
 "cells": [
  {
   "cell_type": "code",
   "execution_count": 2,
   "metadata": {},
   "outputs": [],
   "source": [
    "using Knet, Images, Colors, Base.Iterators, Random"
   ]
  },
  {
   "cell_type": "code",
   "execution_count": 3,
   "metadata": {},
   "outputs": [
    {
     "data": {
      "text/plain": [
       "w2i (generic function with 1 method)"
      ]
     },
     "execution_count": 3,
     "metadata": {},
     "output_type": "execute_result"
    }
   ],
   "source": [
    "wdict = Knet.load(\"dictionary.jld2\", \"dict\")\n",
    "UNK = wdict[\"<unk>\"]\n",
    "w2i(x) = get(wdict, x, UNK)"
   ]
  },
  {
   "cell_type": "code",
   "execution_count": 111,
   "metadata": {},
   "outputs": [
    {
     "data": {
      "text/plain": [
       "\"24951-element Array{Tuple{NTuple{4,Array{Normed{UInt8,8},3}},String},1}\""
      ]
     },
     "execution_count": 111,
     "metadata": {},
     "output_type": "execute_result"
    }
   ],
   "source": [
    "dataset4 = Knet.load(\"4dataset_total_vjump.jld2\", \"dataset\")\n",
    "summary(dataset4)"
   ]
  },
  {
   "cell_type": "code",
   "execution_count": 112,
   "metadata": {},
   "outputs": [
    {
     "data": {
      "text/plain": [
       "\"21-element Array{Any,1}\""
      ]
     },
     "execution_count": 112,
     "metadata": {},
     "output_type": "execute_result"
    }
   ],
   "source": [
    "dataset_instructions_or = []\n",
    "\n",
    "open(\"instructions_unique_original.txt\") do file\n",
    "    for f in eachline(file)\n",
    "    push!(dataset_instructions_or,f)    \n",
    "    end\n",
    "end\n",
    "summary(dataset_instructions_or)"
   ]
  },
  {
   "cell_type": "code",
   "execution_count": 113,
   "metadata": {},
   "outputs": [
    {
     "data": {
      "text/plain": [
       "\"21-element Array{Any,1}\""
      ]
     },
     "execution_count": 113,
     "metadata": {},
     "output_type": "execute_result"
    }
   ],
   "source": [
    "dataset_instructions = []\n",
    "\n",
    "open(\"instructions_unique.txt\") do file\n",
    "    for f in eachline(file)\n",
    "    push!(dataset_instructions,f)    \n",
    "    end\n",
    "end\n",
    "summary(dataset_instructions)"
   ]
  },
  {
   "cell_type": "code",
   "execution_count": 114,
   "metadata": {},
   "outputs": [],
   "source": [
    "images4 = []\n",
    "images2 = []\n",
    "images1 = []\n",
    "labels = []\n",
    "\n",
    "for data in dataset4\n",
    "    (f1,f2, f3, f4), sent = data\n",
    "    for i = 1:length(dataset_instructions_or)\n",
    "        if(dataset_instructions_or[i]==sent)\n",
    "            sent = dataset_instructions[i]\n",
    "            break\n",
    "        end\n",
    "    end    \n",
    "    f1 = Float32.(Gray.(colorview(RGB, permutedims(f1, (3,1,2)))))\n",
    "    f2 = Float32.(Gray.(colorview(RGB, permutedims(f2, (3,1,2)))))\n",
    "    f3 = Float32.(Gray.(colorview(RGB, permutedims(f3, (3,1,2)))))\n",
    "    f4 = Float32.(Gray.(colorview(RGB, permutedims(f4, (3,1,2)))))\n",
    "    #four_frames = cat(f1, f2, f3, f4; dims=3)\n",
    "    three_frames = cat(f2-f1, f3-f2, f4-f3; dims=3)\n",
    "    #both_frames = cat(f3, f4; dims=3)\n",
    "    #last_frame = f4\n",
    "    last_frame = f4-f3\n",
    "    wordids = w2i.(split(sent))\n",
    "    push!(labels, wordids)\n",
    "    #push!(images4, four_frames)\n",
    "    push!(images4,three_frames)\n",
    "    #push!(images2,both_frames)\n",
    "    push!(images1,last_frame)\n",
    "end"
   ]
  },
  {
   "cell_type": "code",
   "execution_count": 115,
   "metadata": {},
   "outputs": [
    {
     "data": {
      "text/plain": [
       "\"210×160×3×24951 Array{Float32,4}\""
      ]
     },
     "execution_count": 115,
     "metadata": {},
     "output_type": "execute_result"
    }
   ],
   "source": [
    "image_batch4 = reshape(cat1d(images4...), (210,160,3,length(images4)))\n",
    "summary(image_batch4)"
   ]
  },
  {
   "cell_type": "code",
   "execution_count": 19,
   "metadata": {},
   "outputs": [
    {
     "data": {
      "text/plain": [
       "\"210×160×2×14489 Array{Float32,4}\""
      ]
     },
     "execution_count": 19,
     "metadata": {},
     "output_type": "execute_result"
    }
   ],
   "source": [
    "image_batch2 = reshape(cat1d(images2...), (210,160,2,length(dataset4)))\n",
    "summary(image_batch2)"
   ]
  },
  {
   "cell_type": "code",
   "execution_count": 116,
   "metadata": {},
   "outputs": [
    {
     "data": {
      "text/plain": [
       "\"210×160×1×24951 Array{Float32,4}\""
      ]
     },
     "execution_count": 116,
     "metadata": {},
     "output_type": "execute_result"
    }
   ],
   "source": [
    "image_batch1 = reshape(cat1d(images1...), (210,160,1,length(dataset4)))\n",
    "summary(image_batch1)"
   ]
  },
  {
   "cell_type": "code",
   "execution_count": 117,
   "metadata": {},
   "outputs": [
    {
     "data": {
      "text/plain": [
       "\"24951-element Array{Any,1}\""
      ]
     },
     "execution_count": 117,
     "metadata": {},
     "output_type": "execute_result"
    }
   ],
   "source": [
    "summary(labels)"
   ]
  },
  {
   "cell_type": "code",
   "execution_count": 118,
   "metadata": {},
   "outputs": [
    {
     "data": {
      "text/plain": [
       "seqbatch (generic function with 1 method)"
      ]
     },
     "execution_count": 118,
     "metadata": {},
     "output_type": "execute_result"
    }
   ],
   "source": [
    "function seqbatch(sentences)\n",
    "    batchsize = size(sentences, 1)\n",
    "    maxlength = findmaxlength(sentences)\n",
    "    for sent in sentences\n",
    "        if(length(sent) < maxlength)\n",
    "            for i = 1:maxlength-length(sent)\n",
    "                push!(sent, 2)\n",
    "            end\n",
    "        end\n",
    "    end\n",
    "    reshape(cat1d(sentences...), (maxlength,length(labels)))\n",
    "end"
   ]
  },
  {
   "cell_type": "code",
   "execution_count": 119,
   "metadata": {},
   "outputs": [
    {
     "data": {
      "text/plain": [
       "findmaxlength (generic function with 1 method)"
      ]
     },
     "execution_count": 119,
     "metadata": {},
     "output_type": "execute_result"
    }
   ],
   "source": [
    "function findmaxlength(sentences)\n",
    "    maxsize = 0\n",
    "    count = 0\n",
    "    for sent in sentences\n",
    "        count = count + 1\n",
    "        if(length(sent) > maxsize)\n",
    "            maxsize = length(sent)\n",
    "        end\n",
    "    end\n",
    "    return maxsize\n",
    "end"
   ]
  },
  {
   "cell_type": "code",
   "execution_count": 120,
   "metadata": {},
   "outputs": [
    {
     "data": {
      "text/plain": [
       "\"8×24951 Array{Int64,2}\""
      ]
     },
     "execution_count": 120,
     "metadata": {},
     "output_type": "execute_result"
    }
   ],
   "source": [
    "labels = seqbatch(labels)\n",
    "summary(labels)"
   ]
  },
  {
   "cell_type": "code",
   "execution_count": 121,
   "metadata": {},
   "outputs": [
    {
     "ename": "InterruptException",
     "evalue": "InterruptException:",
     "output_type": "error",
     "traceback": [
      "InterruptException:",
      "",
      "Stacktrace:",
      " [1] getindex(::Array{Int64,2}, ::Function, ::Int64) at ./abstractarray.jl:979",
      " [2] top-level scope at ./In[121]:4"
     ]
    }
   ],
   "source": [
    "data4 = Tuple{Array{Float32,3},Array{Int32,1}}[]\n",
    "for i = 1:length(dataset4)\n",
    "    x1 = image_batch4[:,:,:,i]\n",
    "    x2 = labels[:,i]\n",
    "    push!(data4, (x1,x2))\n",
    "end\n",
    "summary(data4)"
   ]
  },
  {
   "cell_type": "code",
   "execution_count": 28,
   "metadata": {},
   "outputs": [
    {
     "data": {
      "text/plain": [
       "\"14489-element Array{Tuple{Array{Float32,3},Array{Int32,1}},1}\""
      ]
     },
     "execution_count": 28,
     "metadata": {},
     "output_type": "execute_result"
    }
   ],
   "source": [
    "data2 = Tuple{Array{Float32,3},Array{Int32,1}}[]\n",
    "for i = 1:length(dataset4)\n",
    "    x1 = image_batch2[:,:,:,i]\n",
    "    x2 = labels[:,i]\n",
    "    push!(data2, (x1,x2))\n",
    "end\n",
    "summary(data2)\n",
    "    "
   ]
  },
  {
   "cell_type": "code",
   "execution_count": 122,
   "metadata": {},
   "outputs": [
    {
     "data": {
      "text/plain": [
       "\"24951-element Array{Tuple{Array{Float32,3},Array{Int32,1}},1}\""
      ]
     },
     "execution_count": 122,
     "metadata": {},
     "output_type": "execute_result"
    }
   ],
   "source": [
    "data1 = Tuple{Array{Float32,3},Array{Int32,1}}[]\n",
    "for i = 1:length(dataset4)\n",
    "    x1 = image_batch1[:,:,:,i]\n",
    "    x2 = labels[:,i]\n",
    "    push!(data1, (x1,x2))\n",
    "end\n",
    "summary(data1)\n",
    "    "
   ]
  },
  {
   "cell_type": "code",
   "execution_count": 83,
   "metadata": {},
   "outputs": [],
   "source": [
    "Knet.save(\"data3_diff.jld2\", \"dataset\", data4)"
   ]
  },
  {
   "cell_type": "code",
   "execution_count": 31,
   "metadata": {},
   "outputs": [],
   "source": [
    "Knet.save(\"data2.jld2\", \"dataset\", data2)"
   ]
  },
  {
   "cell_type": "code",
   "execution_count": 123,
   "metadata": {},
   "outputs": [],
   "source": [
    "Knet.save(\"data1_diff_wjump.jld2\", \"dataset\", data1)"
   ]
  },
  {
   "cell_type": "code",
   "execution_count": 2,
   "metadata": {},
   "outputs": [],
   "source": [
    "using Knet"
   ]
  },
  {
   "cell_type": "code",
   "execution_count": 10,
   "metadata": {},
   "outputs": [
    {
     "data": {
      "text/plain": [
       "\"24326-element Array{Tuple{Array{Float32,3},Array{Int32,1}},1}\""
      ]
     },
     "execution_count": 10,
     "metadata": {},
     "output_type": "execute_result"
    }
   ],
   "source": [
    "tst = Knet.load(\"data1_diff_wjump.jld2\", \"dataset\")\n",
    "no_zero_dataset = Tuple{Array{Float32,3},Array{Int32,1}}[]\n",
    "for tuple in tst\n",
    "    x1, x2 = tuple\n",
    "    if(sum(x1)!=0)\n",
    "        push!(no_zero_dataset, (x1,x2))\n",
    "    end\n",
    "end\n",
    "summary(no_zero_dataset)"
   ]
  },
  {
   "cell_type": "code",
   "execution_count": 12,
   "metadata": {},
   "outputs": [],
   "source": [
    "Knet.save(\"data1_diff_wjump_nozero.jld2\", \"dataset\", no_zero_dataset)"
   ]
  },
  {
   "cell_type": "code",
   "execution_count": null,
   "metadata": {},
   "outputs": [],
   "source": []
  }
 ],
 "metadata": {
  "kernelspec": {
   "display_name": "Julia 1.2.0",
   "language": "julia",
   "name": "julia-1.2"
  },
  "language_info": {
   "file_extension": ".jl",
   "mimetype": "application/julia",
   "name": "julia",
   "version": "1.2.0"
  }
 },
 "nbformat": 4,
 "nbformat_minor": 4
}
