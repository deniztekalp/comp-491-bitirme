{
 "cells": [
  {
   "cell_type": "code",
   "execution_count": 23,
   "metadata": {},
   "outputs": [
    {
     "name": "stdout",
     "output_type": "stream",
     "text": [
      "\u001b[32m\u001b[1m Resolving\u001b[22m\u001b[39m package versions...\n",
      "\u001b[32m\u001b[1m  Updating\u001b[22m\u001b[39m `~/.julia/environments/v1.2/Project.toml`\n",
      "\u001b[90m [no changes]\u001b[39m\n",
      "\u001b[32m\u001b[1m  Updating\u001b[22m\u001b[39m `~/.julia/environments/v1.2/Manifest.toml`\n",
      "\u001b[90m [no changes]\u001b[39m\n",
      "\u001b[32m\u001b[1m Resolving\u001b[22m\u001b[39m package versions...\n",
      "\u001b[32m\u001b[1m  Updating\u001b[22m\u001b[39m `~/.julia/environments/v1.2/Project.toml`\n",
      "\u001b[90m [no changes]\u001b[39m\n",
      "\u001b[32m\u001b[1m  Updating\u001b[22m\u001b[39m `~/.julia/environments/v1.2/Manifest.toml`\n",
      "\u001b[90m [no changes]\u001b[39m\n",
      "\u001b[32m\u001b[1m Resolving\u001b[22m\u001b[39m package versions...\n",
      "\u001b[32m\u001b[1m  Updating\u001b[22m\u001b[39m `~/.julia/environments/v1.2/Project.toml`\n",
      "\u001b[90m [no changes]\u001b[39m\n",
      "\u001b[32m\u001b[1m  Updating\u001b[22m\u001b[39m `~/.julia/environments/v1.2/Manifest.toml`\n",
      "\u001b[90m [no changes]\u001b[39m\n"
     ]
    }
   ],
   "source": [
    "using Pkg\n",
    "Pkg.add(\"TestImages\"); Pkg.add(\"Images\");  Pkg.add(\"Colors\")\n",
    "using Knet, Random, IterTools, Base.Iterators, Images, Colors"
   ]
  },
  {
   "cell_type": "code",
   "execution_count": 24,
   "metadata": {},
   "outputs": [
    {
     "data": {
      "text/plain": [
       "mask! (generic function with 1 method)"
      ]
     },
     "execution_count": 24,
     "metadata": {},
     "output_type": "execute_result"
    }
   ],
   "source": [
    "function mask!(a,pad)\n",
    "    x,y = size(a)\n",
    "    for i = 1:x\n",
    "        for j = 1:y\n",
    "            if a[i, j] == pad\n",
    "                a[i, j] = 0\n",
    "            end\n",
    "        end\n",
    "    end\n",
    "    return a\n",
    "end"
   ]
  },
  {
   "cell_type": "code",
   "execution_count": 25,
   "metadata": {},
   "outputs": [
    {
     "data": {
      "text/plain": [
       "w2i (generic function with 1 method)"
      ]
     },
     "execution_count": 25,
     "metadata": {},
     "output_type": "execute_result"
    }
   ],
   "source": [
    "wdict = Knet.load(\"dictionary.jld2\", \"dict\")\n",
    "UNK = 1\n",
    "EOS = 2\n",
    "w2i(x) = get(wdict, x, UNK)"
   ]
  },
  {
   "cell_type": "code",
   "execution_count": 4,
   "metadata": {},
   "outputs": [
    {
     "data": {
      "text/plain": [
       "\"14489-element Array{Tuple{Array{Float32,3},Array{Int32,1}},1}\""
      ]
     },
     "execution_count": 4,
     "metadata": {},
     "output_type": "execute_result"
    }
   ],
   "source": [
    "dataset = Knet.load(\"data2.jld2\", \"dataset\")\n",
    "summary(dataset)"
   ]
  },
  {
   "cell_type": "code",
   "execution_count": 5,
   "metadata": {},
   "outputs": [
    {
     "name": "stdout",
     "output_type": "stream",
     "text": [
      "14489-element Array{Int32,1}\n",
      "14489-element Array{Tuple{Array{Float32,3},Array{Int32,1}},1}\n"
     ]
    }
   ],
   "source": [
    "y_truth = ones(Int32,length(dataset))\n",
    "true_labels = ones(Int32,2529)\n",
    "y_truth = y_truth[2530:end].+1\n",
    "append!(true_labels, y_truth)\n",
    "y_truth = copy(true_labels)\n",
    "println(summary(y_truth))\n",
    "\n",
    "rng = Random.seed!(0)\n",
    "y_truth = shuffle(rng, y_truth)\n",
    "rng = Random.seed!(0)\n",
    "dataset = shuffle(rng, dataset)\n",
    "println(summary(dataset))"
   ]
  },
  {
   "cell_type": "code",
   "execution_count": 6,
   "metadata": {},
   "outputs": [
    {
     "data": {
      "text/plain": [
       "40"
      ]
     },
     "execution_count": 6,
     "metadata": {},
     "output_type": "execute_result"
    }
   ],
   "source": [
    "VOCAB_SIZE = length(wdict)\n",
    "BATCHSIZE = 40"
   ]
  },
  {
   "cell_type": "code",
   "execution_count": 7,
   "metadata": {},
   "outputs": [
    {
     "data": {
      "text/plain": [
       "Conv"
      ]
     },
     "execution_count": 7,
     "metadata": {},
     "output_type": "execute_result"
    }
   ],
   "source": [
    "mutable struct Conv \n",
    "    w \n",
    "    b \n",
    "    f_activation\n",
    "    p_drop\n",
    "    f_pool\n",
    "end\n",
    "(c::Conv)(x) = c.f_activation.(c.f_pool(conv4(c.w, dropout(x,c.p_drop)) .+ c.b))\n",
    "\n",
    "\n",
    "Conv(w1::Int,w2::Int,cx::Int,cy::Int;f=relu, pdrop=0, f_pool=pool) = Conv(param(w1,w2,cx,cy), param0(1,1,cy,1), f, pdrop, f_pool)"
   ]
  },
  {
   "cell_type": "code",
   "execution_count": 8,
   "metadata": {},
   "outputs": [
    {
     "data": {
      "text/plain": [
       "Dense"
      ]
     },
     "execution_count": 8,
     "metadata": {},
     "output_type": "execute_result"
    }
   ],
   "source": [
    "struct Dense; w; b; f; p; end\n",
    "(d::Dense)(x) = d.f.(d.w * mat(dropout(x,d.p)) .+ d.b) # mat reshapes 4-D tensor to 2-D matrix so we can use matmul\n",
    "Dense(i::Int,o::Int,f=relu;pdrop=0) = Dense(param(o,i), param0(o), f, pdrop)"
   ]
  },
  {
   "cell_type": "code",
   "execution_count": 9,
   "metadata": {},
   "outputs": [
    {
     "data": {
      "text/plain": [
       "Projection"
      ]
     },
     "execution_count": 9,
     "metadata": {},
     "output_type": "execute_result"
    }
   ],
   "source": [
    "mutable struct Projection; w end\n",
    "(d::Projection)(x) = d.w * x # mat reshapes 4-D tensor to 2-D matrix so we can use matmul\n",
    "Projection(i::Int,o::Int) = Projection(param(o,i))"
   ]
  },
  {
   "cell_type": "code",
   "execution_count": 10,
   "metadata": {},
   "outputs": [],
   "source": [
    "struct Embed; w; end\n",
    "Embed(vocabsize::Int,embedsize::Int) = Embed(param(embedsize,vocabsize))\n",
    "(e::Embed)(x) = e.w[:,x]"
   ]
  },
  {
   "cell_type": "code",
   "execution_count": 11,
   "metadata": {},
   "outputs": [],
   "source": [
    "mutable struct frame_head\n",
    "    conv1\n",
    "    conv2\n",
    "    conv3\n",
    "    conv4\n",
    "    fc\n",
    "    output\n",
    "end\n",
    "\n",
    "function frame_head(w1,c1,w2,c2,w3,c3,w4,c4,hidden, outdims)\n",
    "    conv1 = Conv(w1, w1, 2, c1)\n",
    "    conv2 = Conv(w2, w2, c1, c2)\n",
    "    conv3 = Conv(w3, w3, c2, c3)\n",
    "    conv4 = Conv(w4, w4, c3, c4; f_pool = identity)\n",
    "    fc = Dense(20160, hidden)\n",
    "    output = Dense(hidden, outdims)\n",
    "    frame_head(conv1, conv2, conv3, conv4, fc, output)\n",
    "end\n",
    "    \n",
    "\n",
    "function (f::frame_head)(x)\n",
    "    f.output(f.fc(f.conv4(f.conv3(f.conv2(f.conv1(x))))))\n",
    "end"
   ]
  },
  {
   "cell_type": "code",
   "execution_count": 12,
   "metadata": {},
   "outputs": [
    {
     "data": {
      "text/plain": [
       "sentence_head"
      ]
     },
     "execution_count": 12,
     "metadata": {},
     "output_type": "execute_result"
    }
   ],
   "source": [
    "mutable struct sentence_head\n",
    "    embed\n",
    "    encoder\n",
    "end\n",
    "\n",
    "\n",
    "function sentence_head(vocabsize::Int, embeddingsize::Int, hiddensize::Int)\n",
    "    embed = Embed(vocabsize, embeddingsize)\n",
    "    encoder = RNN(embeddingsize, hiddensize, rnnType = :lstm, h = 0)\n",
    "    sentence_head(embed, encoder)\n",
    "end"
   ]
  },
  {
   "cell_type": "code",
   "execution_count": 13,
   "metadata": {},
   "outputs": [],
   "source": [
    "function (s::sentence_head)(x)\n",
    "    src_embed_tensor = s.embed(x)\n",
    "    s.encoder.h = 0\n",
    "    s.encoder.c = 0\n",
    "    y_enc = s.encoder(src_embed_tensor)\n",
    "end"
   ]
  },
  {
   "cell_type": "code",
   "execution_count": 14,
   "metadata": {
    "scrolled": true
   },
   "outputs": [],
   "source": [
    "mutable struct bimodalEncoder\n",
    "    fh\n",
    "    sh\n",
    "end\n",
    "\n",
    "\n",
    "function bimodalEncoder(w1,c1,w2,c2,w3,c3,w4,c4,hidden, outdims, vocabsize, embeddingsize, hiddensize)\n",
    "    fh = frame_head(w1,c1,w2,c2,w3,c3,w4,c4,hidden, outdims)\n",
    "    sh = sentence_head(vocabsize, embeddingsize, hiddensize)\n",
    "    bimodalEncoder(fh, sh)\n",
    "end\n",
    "\n",
    "function (b::bimodalEncoder)(image, label, y_truth)\n",
    "    trans_nll(cosine_similarity(b, image_batch, seqbatch(labels)), y_truth)\n",
    "end\n",
    "\n",
    "\n",
    "function (b::bimodalEncoder)(x)\n",
    "\n",
    "    images = []\n",
    "    labels = []\n",
    "   \n",
    "    for i in 1:length(x)\n",
    "        x1,x2 = x[i]\n",
    "        \n",
    "        push!(labels, x2)\n",
    "        push!(images, x1)\n",
    "    end\n",
    "    \n",
    "    image_batch = reshape(cat1d(images...), (210,160,2,length(x)))\n",
    "    label_batch = permutedims(reshape(cat1d(labels...), (8, length(x))), (2,1))\n",
    "    \n",
    "    if (gpu()>=0)\n",
    "        image_batch = KnetArray(image_batch)\n",
    "    end\n",
    "    \n",
    "    cosine_similarity(b, image_batch, label_batch)\n",
    "end\n",
    "\n",
    "\n",
    "\n",
    "function(b::bimodalEncoder)(x,y)    \n",
    "    trans_nll(b(x), y)\n",
    "end\n",
    "\n",
    "function (b::bimodalEncoder)(d::Knet.Data) \n",
    "    Knet.mean(b(x,y) for (x,y) in d)\n",
    "end"
   ]
  },
  {
   "cell_type": "code",
   "execution_count": 15,
   "metadata": {},
   "outputs": [
    {
     "data": {
      "text/plain": [
       "findmaxlength (generic function with 1 method)"
      ]
     },
     "execution_count": 15,
     "metadata": {},
     "output_type": "execute_result"
    }
   ],
   "source": [
    "function findmaxlength(sentences)\n",
    "    maxsize = 0\n",
    "    count = 0\n",
    "    for sent in sentences\n",
    "        count = count + 1\n",
    "        if(length(sent) > maxsize)\n",
    "            \n",
    "            maxsize = length(sent)\n",
    "        end\n",
    "    end\n",
    "    return maxsize\n",
    "end"
   ]
  },
  {
   "cell_type": "code",
   "execution_count": 16,
   "metadata": {},
   "outputs": [
    {
     "data": {
      "text/plain": [
       "cosine_similarity (generic function with 1 method)"
      ]
     },
     "execution_count": 16,
     "metadata": {},
     "output_type": "execute_result"
    }
   ],
   "source": [
    "function cosine_similarity(b::bimodalEncoder, frame_pairs, sentences)\n",
    "    sum( b.sh(sentences)[:,:,end] .*  b.fh(frame_pairs), dims = 1) ./ (sqrt.(sum( b.sh(sentences)[:,:,end].^2, dims = 1)) .* sqrt.(sum( b.fh(frame_pairs).^2, dims = 1)))\n",
    "end"
   ]
  },
  {
   "cell_type": "code",
   "execution_count": 17,
   "metadata": {},
   "outputs": [
    {
     "data": {
      "text/plain": [
       "convertsimilaritytoprobdist (generic function with 1 method)"
      ]
     },
     "execution_count": 17,
     "metadata": {},
     "output_type": "execute_result"
    }
   ],
   "source": [
    "function convertsimilaritytoprobdist(cos_similarity)\n",
    "    vcat(0.5.+((cos_similarity .* sqrt.(1 .- cos_similarity.^2))./π) + (asin.(cos_similarity)./π), 1 .- (0.5.+((cos_similarity .* sqrt.(1 .- cos_similarity.^2))./π) + (asin.(cos_similarity)./π)))\n",
    "end"
   ]
  },
  {
   "cell_type": "code",
   "execution_count": 18,
   "metadata": {},
   "outputs": [
    {
     "data": {
      "text/plain": [
       "trans_nll (generic function with 1 method)"
      ]
     },
     "execution_count": 18,
     "metadata": {},
     "output_type": "execute_result"
    }
   ],
   "source": [
    "function trans_nll(cos_similarity, y_truth)\n",
    "    nll(convertsimilaritytoprobdist(cos_similarity),y_truth)\n",
    "end"
   ]
  },
  {
   "cell_type": "code",
   "execution_count": 19,
   "metadata": {},
   "outputs": [
    {
     "data": {
      "text/plain": [
       "\"Tuple{Array{Tuple{Array{Float32,3},Array{Int32,1}},1},Array{Int32,1}}\""
      ]
     },
     "execution_count": 19,
     "metadata": {},
     "output_type": "execute_result"
    }
   ],
   "source": [
    "dtrn = minibatch(dataset[1:4559], y_truth[1:4559], BATCHSIZE)\n",
    "summary(first(dtrn))"
   ]
  },
  {
   "cell_type": "code",
   "execution_count": 20,
   "metadata": {},
   "outputs": [],
   "source": [
    "#b = bimodalEncoder(5,32,5,32,4,64,3,64, 10, 10, length(wdict), 12, 10)"
   ]
  },
  {
   "cell_type": "code",
   "execution_count": 21,
   "metadata": {},
   "outputs": [
    {
     "ename": "InterruptException",
     "evalue": "InterruptException:",
     "output_type": "error",
     "traceback": [
      "InterruptException:",
      "",
      "Stacktrace:",
      " [1] Type at ./subarray.jl:16 [inlined]",
      " [2] Type at ./subarray.jl:32 [inlined]",
      " [3] Type at ./subarray.jl:22 [inlined]",
      " [4] unsafe_view at ./subarray.jl:163 [inlined]",
      " [5] view at ./subarray.jl:158 [inlined]",
      " [6] macro expansion at /Users/deniz/.julia/packages/TimerOutputs/7Id5J/src/TimerOutput.jl:228 [inlined]",
      " [7] macro expansion at /Users/deniz/.julia/packages/NNlib/mxWRT/src/impl/conv_im2col.jl:52 [inlined]",
      " [8] #conv_im2col!#231(::Array{Float32,2}, ::Float32, ::Float32, ::typeof(NNlib.conv_im2col!), ::Array{Float32,5}, ::Array{Float32,5}, ::Array{Float32,5}, ::NNlib.DenseConvDims{3,(5, 5, 1),64,64,(1, 1, 1),(0, 0, 0, 0, 0, 0),(1, 1, 1),false}) at /Users/deniz/.julia/packages/TimerOutputs/7Id5J/src/TimerOutput.jl:190",
      " [9] conv_im2col! at /Users/deniz/.julia/packages/TimerOutputs/7Id5J/src/TimerOutput.jl:197 [inlined]",
      " [10] macro expansion at /Users/deniz/.julia/packages/NNlib/mxWRT/src/conv.jl:51 [inlined]",
      " [11] #conv!#37 at /Users/deniz/.julia/packages/TimerOutputs/7Id5J/src/TimerOutput.jl:190 [inlined]",
      " [12] conv!(::Array{Float32,5}, ::Array{Float32,5}, ::Array{Float32,5}, ::NNlib.DenseConvDims{3,(5, 5, 1),64,64,(1, 1, 1),(0, 0, 0, 0, 0, 0),(1, 1, 1),false}) at /Users/deniz/.julia/packages/TimerOutputs/7Id5J/src/TimerOutput.jl:197",
      " [13] #conv!#56(::Base.Iterators.Pairs{Union{},Union{},Tuple{},NamedTuple{(),Tuple{}}}, ::typeof(NNlib.conv!), ::Array{Float32,4}, ::Array{Float32,4}, ::Array{Float32,4}, ::NNlib.DenseConvDims{2,(5, 5),64,64,(1, 1),(0, 0, 0, 0),(1, 1),false}) at /Users/deniz/.julia/packages/NNlib/mxWRT/src/conv.jl:68",
      " [14] conv!(::Array{Float32,4}, ::Array{Float32,4}, ::Array{Float32,4}, ::NNlib.DenseConvDims{2,(5, 5),64,64,(1, 1),(0, 0, 0, 0),(1, 1),false}) at /Users/deniz/.julia/packages/NNlib/mxWRT/src/conv.jl:68",
      " [15] macro expansion at /Users/deniz/.julia/packages/NNlib/mxWRT/src/conv.jl:114 [inlined]",
      " [16] #conv#97(::Base.Iterators.Pairs{Union{},Union{},Tuple{},NamedTuple{(),Tuple{}}}, ::typeof(NNlib.conv), ::Array{Float32,4}, ::Array{Float32,4}, ::NNlib.DenseConvDims{2,(5, 5),64,64,(1, 1),(0, 0, 0, 0),(1, 1),false}) at /Users/deniz/.julia/packages/TimerOutputs/7Id5J/src/TimerOutput.jl:190",
      " [17] conv(::Array{Float32,4}, ::Array{Float32,4}, ::NNlib.DenseConvDims{2,(5, 5),64,64,(1, 1),(0, 0, 0, 0),(1, 1),false}) at /Users/deniz/.julia/packages/TimerOutputs/7Id5J/src/TimerOutput.jl:197",
      " [18] #conv4#353(::Int64, ::Int64, ::Int64, ::Int64, ::Int64, ::typeof(conv4), ::Array{Float32,4}, ::Array{Float32,4}) at /Users/deniz/.julia/packages/Knet/LjPts/src/conv.jl:161",
      " [19] conv4(::Array{Float32,4}, ::Array{Float32,4}) at /Users/deniz/.julia/packages/Knet/LjPts/src/conv.jl:157",
      " [20] #forw#1(::Base.Iterators.Pairs{Union{},Union{},Tuple{},NamedTuple{(),Tuple{}}}, ::typeof(AutoGrad.forw), ::Function, ::Param{Array{Float32,4}}, ::Vararg{Any,N} where N) at /Users/deniz/.julia/packages/AutoGrad/pTNVv/src/core.jl:66",
      " [21] forw at /Users/deniz/.julia/packages/AutoGrad/pTNVv/src/core.jl:65 [inlined]",
      " [22] #conv4#276 at ./none:0 [inlined]",
      " [23] conv4(::Param{Array{Float32,4}}, ::Array{Float32,4}) at ./none:0",
      " [24] (::Conv)(::Array{Float32,4}) at ./In[7]:8",
      " [25] (::frame_head)(::Array{Float32,4}) at ./In[11]:22",
      " [26] cosine_similarity(::bimodalEncoder, ::Array{Float32,4}, ::Array{Int32,2}) at ./In[16]:2",
      " [27] (::bimodalEncoder)(::Array{Tuple{Array{Float32,3},Array{Int32,1}},1}) at ./In[14]:37",
      " [28] (::bimodalEncoder)(::Array{Tuple{Array{Float32,3},Array{Int32,1}},1}, ::Array{Int32,1}) at ./In[14]:43",
      " [29] (::getfield(Main, Symbol(\"##5#6\")){bimodalEncoder})(::Tuple{Array{Tuple{Array{Float32,3},Array{Int32,1}},1},Array{Int32,1}}) at ./none:0",
      " [30] mean(::typeof(identity), ::Base.Generator{Knet.Data{Tuple{Array{Tuple{Array{Float32,3},Array{Int32,1}},1},Array{Int32,1}}},getfield(Main, Symbol(\"##5#6\")){bimodalEncoder}}) at ./generator.jl:47",
      " [31] mean(::Base.Generator{Knet.Data{Tuple{Array{Tuple{Array{Float32,3},Array{Int32,1}},1},Array{Int32,1}}},getfield(Main, Symbol(\"##5#6\")){bimodalEncoder}}) at /Users/sabae/buildbot/worker/package_macos64/build/usr/share/julia/stdlib/v1.2/Statistics/src/Statistics.jl:42",
      " [32] (::bimodalEncoder)(::Knet.Data{Tuple{Array{Tuple{Array{Float32,3},Array{Int32,1}},1},Array{Int32,1}}}) at ./In[14]:47",
      " [33] top-level scope at In[21]:2"
     ]
    }
   ],
   "source": [
    "b = Knet.load(\"bimodal2.jld2\", \"model\")\n",
    "#println(\"Train error before training is: \", b(dtrn))\n",
    "#println(\"Test error before training is: \", b(dtst))"
   ]
  },
  {
   "cell_type": "code",
   "execution_count": 22,
   "metadata": {},
   "outputs": [
    {
     "name": "stdout",
     "output_type": "stream",
     "text": [
      "\n",
      "Stacktrace:\n",
      " [1] \u001b[1mType\u001b[22m at \u001b[1m./subarray.jl:16\u001b[22m [inlined]\n",
      " [2] \u001b[1mType\u001b[22m at \u001b[1m./subarray.jl:32\u001b[22m [inlined]\n",
      " [3] \u001b[1mType\u001b[22m at \u001b[1m./subarray.jl:22\u001b[22m [inlined]\n",
      " [4] \u001b[1munsafe_view\u001b[22m at \u001b[1m./subarray.jl:163\u001b[22m [inlined]\n",
      " [5] \u001b[1mview\u001b[22m at \u001b[1m./subarray.jl:158\u001b[22m [inlined]\n",
      " [6] \u001b[1mmacro expansion\u001b[22m at \u001b[1m/Users/deniz/.julia/packages/TimerOutputs/7Id5J/src/TimerOutput.jl:228\u001b[22m [inlined]\n",
      " [7] \u001b[1mmacro expansion\u001b[22m at \u001b[1m/Users/deniz/.julia/packages/NNlib/mxWRT/src/impl/conv_im2col.jl:52\u001b[22m [inlined]\n",
      " [8] \u001b[1m#conv_im2col!#231\u001b[22m\u001b[1m(\u001b[22m::Array{Float32,2}, ::Float32, ::Float32, ::typeof(NNlib.conv_im2col!), ::Array{Float32,5}, ::Array{Float32,5}, ::Array{Float32,5}, ::NNlib.DenseConvDims{3,(5, 5, 1),64,64,(1, 1, 1),(0, 0, 0, 0, 0, 0),(1, 1, 1),false}\u001b[1m)\u001b[22m at \u001b[1m/Users/deniz/.julia/packages/TimerOutputs/7Id5J/src/TimerOutput.jl:190\u001b[22m\n",
      " [9] \u001b[1mconv_im2col!\u001b[22m at \u001b[1m/Users/deniz/.julia/packages/TimerOutputs/7Id5J/src/TimerOutput.jl:197\u001b[22m [inlined]\n",
      " [10] \u001b[1mmacro expansion\u001b[22m at \u001b[1m/Users/deniz/.julia/packages/NNlib/mxWRT/src/conv.jl:51\u001b[22m [inlined]\n",
      " [11] \u001b[1m#conv!#37\u001b[22m at \u001b[1m/Users/deniz/.julia/packages/TimerOutputs/7Id5J/src/TimerOutput.jl:190\u001b[22m [inlined]\n",
      " [12] \u001b[1mconv!\u001b[22m\u001b[1m(\u001b[22m::Array{Float32,5}, ::Array{Float32,5}, ::Array{Float32,5}, ::NNlib.DenseConvDims{3,(5, 5, 1),64,64,(1, 1, 1),(0, 0, 0, 0, 0, 0),(1, 1, 1),false}\u001b[1m)\u001b[22m at \u001b[1m/Users/deniz/.julia/packages/TimerOutputs/7Id5J/src/TimerOutput.jl:197\u001b[22m\n",
      " [13] \u001b[1m#conv!#56\u001b[22m\u001b[1m(\u001b[22m::Base.Iterators.Pairs{Union{},Union{},Tuple{},NamedTuple{(),Tuple{}}}, ::typeof(NNlib.conv!), ::Array{Float32,4}, ::Array{Float32,4}, ::Array{Float32,4}, ::NNlib.DenseConvDims{2,(5, 5),64,64,(1, 1),(0, 0, 0, 0),(1, 1),false}\u001b[1m)\u001b[22m at \u001b[1m/Users/deniz/.julia/packages/NNlib/mxWRT/src/conv.jl:68\u001b[22m\n",
      " [14] \u001b[1mconv!\u001b[22m\u001b[1m(\u001b[22m::Array{Float32,4}, ::Array{Float32,4}, ::Array{Float32,4}, ::NNlib.DenseConvDims{2,(5, 5),64,64,(1, 1),(0, 0, 0, 0),(1, 1),false}\u001b[1m)\u001b[22m at \u001b[1m/Users/deniz/.julia/packages/NNlib/mxWRT/src/conv.jl:68\u001b[22m\n",
      " [15] \u001b[1mmacro expansion\u001b[22m at \u001b[1m/Users/deniz/.julia/packages/NNlib/mxWRT/src/conv.jl:114\u001b[22m [inlined]\n",
      " [16] \u001b[1m#conv#97\u001b[22m\u001b[1m(\u001b[22m::Base.Iterators.Pairs{Union{},Union{},Tuple{},NamedTuple{(),Tuple{}}}, ::typeof(NNlib.conv), ::Array{Float32,4}, ::Array{Float32,4}, ::NNlib.DenseConvDims{2,(5, 5),64,64,(1, 1),(0, 0, 0, 0),(1, 1),false}\u001b[1m)\u001b[22m at \u001b[1m/Users/deniz/.julia/packages/TimerOutputs/7Id5J/src/TimerOutput.jl:190\u001b[22m\n",
      " [17] \u001b[1mconv\u001b[22m\u001b[1m(\u001b[22m::Array{Float32,4}, ::Array{Float32,4}, ::NNlib.DenseConvDims{2,(5, 5),64,64,(1, 1),(0, 0, 0, 0),(1, 1),false}\u001b[1m)\u001b[22m at \u001b[1m/Users/deniz/.julia/packages/TimerOutputs/7Id5J/src/TimerOutput.jl:197\u001b[22m\n",
      " [18] \u001b[1m#conv4#353\u001b[22m\u001b[1m(\u001b[22m::Int64, ::Int64, ::Int64, ::Int64, ::Int64, ::typeof(conv4), ::Array{Float32,4}, ::Array{Float32,4}\u001b[1m)\u001b[22m at \u001b[1m/Users/deniz/.julia/packages/Knet/LjPts/src/conv.jl:161\u001b[22m\n",
      " [19] \u001b[1mconv4\u001b[22m\u001b[1m(\u001b[22m::Array{Float32,4}, ::Array{Float32,4}\u001b[1m)\u001b[22m at \u001b[1m/Users/deniz/.julia/packages/Knet/LjPts/src/conv.jl:157\u001b[22m\n",
      " [20] \u001b[1m#forw#1\u001b[22m\u001b[1m(\u001b[22m::Base.Iterators.Pairs{Union{},Union{},Tuple{},NamedTuple{(),Tuple{}}}, ::typeof(AutoGrad.forw), ::Function, ::Param{Array{Float32,4}}, ::Vararg{Any,N} where N\u001b[1m)\u001b[22m at \u001b[1m/Users/deniz/.julia/packages/AutoGrad/pTNVv/src/core.jl:66\u001b[22m\n",
      " [21] \u001b[1mforw\u001b[22m at \u001b[1m/Users/deniz/.julia/packages/AutoGrad/pTNVv/src/core.jl:65\u001b[22m [inlined]\n",
      " [22] \u001b[1m#conv4#264\u001b[22m at \u001b[1m./none:0\u001b[22m [inlined]\n",
      " [23] \u001b[1mconv4\u001b[22m\u001b[1m(\u001b[22m::Param{Array{Float32,4}}, ::AutoGrad.Result{Array{Float32,4}}\u001b[1m)\u001b[22m at \u001b[1m./none:0\u001b[22m\n",
      " [24] \u001b[1m(::Conv)\u001b[22m\u001b[1m(\u001b[22m::AutoGrad.Result{Array{Float32,4}}\u001b[1m)\u001b[22m at \u001b[1m./In[7]:8\u001b[22m\n",
      " [25] \u001b[1m(::frame_head)\u001b[22m\u001b[1m(\u001b[22m::Array{Float32,4}\u001b[1m)\u001b[22m at \u001b[1m./In[11]:22\u001b[22m\n",
      " [26] \u001b[1mcosine_similarity\u001b[22m\u001b[1m(\u001b[22m::bimodalEncoder, ::Array{Float32,4}, ::Array{Int32,2}\u001b[1m)\u001b[22m at \u001b[1m./In[16]:2\u001b[22m\n",
      " [27] \u001b[1m(::bimodalEncoder)\u001b[22m\u001b[1m(\u001b[22m::Array{Tuple{Array{Float32,3},Array{Int32,1}},1}\u001b[1m)\u001b[22m at \u001b[1m./In[14]:37\u001b[22m\n",
      " [28] \u001b[1m(::bimodalEncoder)\u001b[22m\u001b[1m(\u001b[22m::Array{Tuple{Array{Float32,3},Array{Int32,1}},1}, ::Array{Int32,1}\u001b[1m)\u001b[22m at \u001b[1m./In[14]:43\u001b[22m\n",
      " [29] \u001b[1m(::getfield(Knet, Symbol(\"##695#696\")){Knet.Minimize{Base.Iterators.Take{Base.Iterators.Cycle{Knet.Data{Tuple{Array{Tuple{Array{Float32,3},Array{Int32,1}},1},Array{Int32,1}}}}}},Tuple{Array{Tuple{Array{Float32,3},Array{Int32,1}},1},Array{Int32,1}}})\u001b[22m\u001b[1m(\u001b[22m\u001b[1m)\u001b[22m at \u001b[1m/Users/deniz/.julia/packages/AutoGrad/pTNVv/src/core.jl:205\u001b[22m\n",
      " [30] \u001b[1m#differentiate#3\u001b[22m\u001b[1m(\u001b[22m::Base.Iterators.Pairs{Union{},Union{},Tuple{},NamedTuple{(),Tuple{}}}, ::typeof(AutoGrad.differentiate), ::Function\u001b[1m)\u001b[22m at \u001b[1m/Users/deniz/.julia/packages/AutoGrad/pTNVv/src/core.jl:144\u001b[22m\n",
      " [31] \u001b[1mdifferentiate\u001b[22m at \u001b[1m/Users/deniz/.julia/packages/AutoGrad/pTNVv/src/core.jl:135\u001b[22m [inlined]\n",
      " [32] \u001b[1miterate\u001b[22m at \u001b[1m/Users/deniz/.julia/packages/Knet/LjPts/src/train.jl:23\u001b[22m [inlined]\n",
      " [33] \u001b[1miterate\u001b[22m at \u001b[1m/Users/deniz/.julia/packages/Knet/LjPts/src/progress.jl:69\u001b[22m [inlined]\n",
      " [34] \u001b[1m#progress!#692\u001b[22m\u001b[1m(\u001b[22m::Base.Iterators.Pairs{Union{},Union{},Tuple{},NamedTuple{(),Tuple{}}}, ::typeof(progress!), ::Knet.Minimize{Base.Iterators.Take{Base.Iterators.Cycle{Knet.Data{Tuple{Array{Tuple{Array{Float32,3},Array{Int32,1}},1},Array{Int32,1}}}}}}\u001b[1m)\u001b[22m at \u001b[1m/Users/deniz/.julia/packages/Knet/LjPts/src/progress.jl:58\u001b[22m\n",
      " [35] \u001b[1mprogress!\u001b[22m\u001b[1m(\u001b[22m::Knet.Minimize{Base.Iterators.Take{Base.Iterators.Cycle{Knet.Data{Tuple{Array{Tuple{Array{Float32,3},Array{Int32,1}},1},Array{Int32,1}}}}}}\u001b[1m)\u001b[22m at \u001b[1m/Users/deniz/.julia/packages/Knet/LjPts/src/progress.jl:58\u001b[22m\n",
      " [36] top-level scope at \u001b[1mIn[22]:2\u001b[22m\n",
      " [37] \u001b[1meval\u001b[22m at \u001b[1m./boot.jl:330\u001b[22m [inlined]\n",
      " [38] \u001b[1msoftscope_include_string\u001b[22m\u001b[1m(\u001b[22m::Module, ::String, ::String\u001b[1m)\u001b[22m at \u001b[1m/Users/deniz/.julia/packages/SoftGlobalScope/cSbw5/src/SoftGlobalScope.jl:218\u001b[22m\n",
      " [39] \u001b[1mexecute_request\u001b[22m\u001b[1m(\u001b[22m::ZMQ.Socket, ::IJulia.Msg\u001b[1m)\u001b[22m at \u001b[1m/Users/deniz/.julia/packages/IJulia/F1GUo/src/execute_request.jl:67\u001b[22m\n",
      " [40] \u001b[1m#invokelatest#1\u001b[22m at \u001b[1m./essentials.jl:790\u001b[22m [inlined]\n",
      " [41] \u001b[1minvokelatest\u001b[22m at \u001b[1m./essentials.jl:789\u001b[22m [inlined]\n",
      " [42] \u001b[1meventloop\u001b[22m\u001b[1m(\u001b[22m::ZMQ.Socket\u001b[1m)\u001b[22m at \u001b[1m/Users/deniz/.julia/packages/IJulia/F1GUo/src/eventloop.jl:8\u001b[22m\n",
      " [43] \u001b[1m(::getfield(IJulia, Symbol(\"##15#18\")))\u001b[22m\u001b[1m(\u001b[22m\u001b[1m)\u001b[22m at \u001b[1m./task.jl:268\u001b[22m\n"
     ]
    },
    {
     "ename": "InterruptException",
     "evalue": "InterruptException:",
     "output_type": "error",
     "traceback": [
      "InterruptException:",
      "",
      "Stacktrace:",
      " [1] #differentiate#3(::Base.Iterators.Pairs{Union{},Union{},Tuple{},NamedTuple{(),Tuple{}}}, ::typeof(AutoGrad.differentiate), ::Function) at /Users/deniz/.julia/packages/AutoGrad/pTNVv/src/core.jl:148",
      " [2] differentiate at /Users/deniz/.julia/packages/AutoGrad/pTNVv/src/core.jl:135 [inlined]",
      " [3] iterate at /Users/deniz/.julia/packages/Knet/LjPts/src/train.jl:23 [inlined]",
      " [4] iterate at /Users/deniz/.julia/packages/Knet/LjPts/src/progress.jl:69 [inlined]",
      " [5] #progress!#692(::Base.Iterators.Pairs{Union{},Union{},Tuple{},NamedTuple{(),Tuple{}}}, ::typeof(progress!), ::Knet.Minimize{Base.Iterators.Take{Base.Iterators.Cycle{Knet.Data{Tuple{Array{Tuple{Array{Float32,3},Array{Int32,1}},1},Array{Int32,1}}}}}}) at /Users/deniz/.julia/packages/Knet/LjPts/src/progress.jl:58",
      " [6] progress!(::Knet.Minimize{Base.Iterators.Take{Base.Iterators.Cycle{Knet.Data{Tuple{Array{Tuple{Array{Float32,3},Array{Int32,1}},1},Array{Int32,1}}}}}}) at /Users/deniz/.julia/packages/Knet/LjPts/src/progress.jl:58",
      " [7] top-level scope at In[22]:2"
     ]
    }
   ],
   "source": [
    "#a = adam(b, take(cycle(dtrn),550); gclip=0.5, lr=0.0002)\n",
    "#progress!(a)"
   ]
  },
  {
   "cell_type": "code",
   "execution_count": null,
   "metadata": {},
   "outputs": [],
   "source": [
    "#println(\"Train error after training is: \", b(dtrn))\n",
    "#println(\"Test error after training is: \", b(dtst))"
   ]
  },
  {
   "cell_type": "code",
   "execution_count": null,
   "metadata": {},
   "outputs": [],
   "source": [
    "function accuracy(dataset, model)\n",
    "    total_count = 0\n",
    "    total_correct = 0\n",
    "    for batch in dataset\n",
    "        probdist = convertsimilaritytoprobdist(model(batch[1]))\n",
    "        preds = vec(map(x->x[1], argmax(probdist, dims=1)))\n",
    "        ground_truth = batch[2]\n",
    "        total_count += length(ground_truth)\n",
    "        total_correct += sum(ground_truth .== preds) \n",
    "    end\n",
    "    return total_correct/total_count\n",
    "end"
   ]
  },
  {
   "cell_type": "code",
   "execution_count": null,
   "metadata": {},
   "outputs": [],
   "source": [
    "#Knet.save(\"bimodal2.jld2\", \"model\", b)"
   ]
  },
  {
   "cell_type": "code",
   "execution_count": null,
   "metadata": {},
   "outputs": [],
   "source": [
    "#b = Knet.load(\"bimodalv6.jld2\", \"model\")"
   ]
  },
  {
   "cell_type": "code",
   "execution_count": null,
   "metadata": {},
   "outputs": [],
   "source": [
    "#println(firstbatch[2])"
   ]
  },
  {
   "cell_type": "code",
   "execution_count": null,
   "metadata": {},
   "outputs": [],
   "source": [
    "#Knet.save(\"dtrnbackup.jld2\", \"model\", dtrn)\n",
    "#Knet.save(\"dtstbackup.jld2\", \"model\", dtst)"
   ]
  },
  {
   "cell_type": "code",
   "execution_count": null,
   "metadata": {},
   "outputs": [],
   "source": [
    "#dtrn = Knet.load(\"dtrnbackup.jld2\", \"model\")\n",
    "#dtst = Knet.load(\"dtstbackup.jld2\", \"model\")\n",
    "#summary(dtst)"
   ]
  },
  {
   "cell_type": "code",
   "execution_count": null,
   "metadata": {},
   "outputs": [],
   "source": [
    "println(\"train accuracy is: \", accuracy(dtrn,b))"
   ]
  },
  {
   "cell_type": "code",
   "execution_count": null,
   "metadata": {},
   "outputs": [],
   "source": [
    "println(\"test accuracy is: \", accuracy(dtst, b))"
   ]
  },
  {
   "cell_type": "code",
   "execution_count": null,
   "metadata": {},
   "outputs": [],
   "source": [
    "#=\n",
    "sample = rand(1:1:40)\n",
    "f1,f2 = first(dtst)[1][sample][1]\n",
    "both_frames = hcat(f1,f2)\n",
    "img = permutedims(Float32.(both_frames./255), (3,1,2))\n",
    "\n",
    "colorview(RGB, img)\n",
    "\n",
    "=#"
   ]
  },
  {
   "cell_type": "code",
   "execution_count": null,
   "metadata": {},
   "outputs": [],
   "source": [
    "#first(dtst)[1][sample][2]"
   ]
  },
  {
   "cell_type": "code",
   "execution_count": null,
   "metadata": {},
   "outputs": [],
   "source": [
    "#first(dtst)[2][sample] \n",
    "#1 true\n",
    "#2 false"
   ]
  },
  {
   "cell_type": "code",
   "execution_count": null,
   "metadata": {},
   "outputs": [],
   "source": [
    "#argmax(convertsimilaritytoprobdist(b(first(dtst)[1]))[:,sample])"
   ]
  },
  {
   "cell_type": "code",
   "execution_count": null,
   "metadata": {},
   "outputs": [],
   "source": []
  }
 ],
 "metadata": {
  "kernelspec": {
   "display_name": "Julia 1.2.0",
   "language": "julia",
   "name": "julia-1.2"
  },
  "language_info": {
   "file_extension": ".jl",
   "mimetype": "application/julia",
   "name": "julia",
   "version": "1.2.0"
  }
 },
 "nbformat": 4,
 "nbformat_minor": 4
}
