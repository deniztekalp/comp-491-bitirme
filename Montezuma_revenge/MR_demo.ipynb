{
 "cells": [
  {
   "cell_type": "code",
   "execution_count": 37,
   "metadata": {},
   "outputs": [],
   "source": [
    "using Knet, Gym, Random"
   ]
  },
  {
   "cell_type": "code",
   "execution_count": 85,
   "metadata": {},
   "outputs": [
    {
     "data": {
      "text/plain": [
       "\"10-element Array{Array{Float32,N} where N,1}\""
      ]
     },
     "execution_count": 85,
     "metadata": {},
     "output_type": "execute_result"
    }
   ],
   "source": [
    "w = Knet.load(\"w_montezuma_vdiff.jld2\",\"model\")\n",
    "summary(w)"
   ]
  },
  {
   "cell_type": "code",
   "execution_count": 39,
   "metadata": {},
   "outputs": [
    {
     "data": {
      "text/plain": [
       "preprocess (generic function with 1 method)"
      ]
     },
     "execution_count": 39,
     "metadata": {},
     "output_type": "execute_result"
    }
   ],
   "source": [
    "function preprocess(I)\n",
    "    I = I[36:195,:,:]\n",
    "    I = I[1:2:end, 1:2:end, 1]\n",
    "    I[I .== 144] .= 0\n",
    "    I[I .== 109] .= 0\n",
    "    #I[I .!= 0] .= 1\n",
    "    return vec(I)\n",
    "end"
   ]
  },
  {
   "cell_type": "code",
   "execution_count": 40,
   "metadata": {},
   "outputs": [
    {
     "data": {
      "text/plain": [
       "sample_action (generic function with 1 method)"
      ]
     },
     "execution_count": 40,
     "metadata": {},
     "output_type": "execute_result"
    }
   ],
   "source": [
    "function predict(w, x)\n",
    "    x = Float32.(x)\n",
    "    x = reshape(x, 80, 80, 1, :)\n",
    "    x = relu.(conv4(w[1], x, stride=4, padding=2) .+ w[2])\n",
    "    x = relu.(conv4(w[3], x, stride=2) .+ w[4])\n",
    "    x = mat(x)\n",
    "    x = relu.(w[5]*x .+ w[6])\n",
    "    prob_act = w[7] * x .+ w[8]\n",
    "    value = w[9] * x .+ w[10]\n",
    "    return prob_act, value\n",
    "end\n",
    "\n",
    "function sample_action(probs)\n",
    "    probs = Array(probs)\n",
    "    #probs[1] = 0\n",
    "    \n",
    "    cprobs = cumsum(probs, dims=1)\n",
    "    sampled = cprobs .> rand() \n",
    "    actions = mapslices(argmax, sampled, dims=1)\n",
    "    return actions[1]\n",
    "end"
   ]
  },
  {
   "cell_type": "code",
   "execution_count": 86,
   "metadata": {},
   "outputs": [
    {
     "ename": "InterruptException",
     "evalue": "InterruptException:",
     "output_type": "error",
     "traceback": [
      "InterruptException:",
      "",
      "Stacktrace:",
      " [1] poptaskref(::Base.InvasiveLinkedListSynchronized{Task}) at ./task.jl:564",
      " [2] wait() at ./task.jl:591",
      " [3] wait(::Base.GenericCondition{Base.Threads.SpinLock}) at ./condition.jl:104",
      " [4] stream_wait(::Timer, ::Base.GenericCondition{Base.Threads.SpinLock}) at ./stream.jl:47",
      " [5] wait(::Timer) at ./asyncevent.jl:116",
      " [6] sleep at ./asyncevent.jl:188 [inlined]",
      " [7] top-level scope at ./In[86]:27"
     ]
    }
   ],
   "source": [
    "env = Gym.GymEnv(\"MontezumaRevenge-v0\")\n",
    "xsize = (80, 80, 1) # input dimensions of the policy network\n",
    "amap = Dict(1=>0, 2=>1, 3=>2, 4=>3, 5=>4, 6=>5, 7=>11, 8=>12) #0:NOP, 1:JUMP, 2:UP, 3:RIGHT, 4:LEFT, 5:DOWN, 11:RIGHT JUMP, 12:LEFT JUMP     \n",
    "seed = 27\n",
    "\n",
    "\n",
    "\n",
    "seed > 0 && (Random.seed!(seed); Gym.seed!(env, seed))\n",
    "\n",
    "for episode=1:15\n",
    "    state = Gym.reset!(env)\n",
    "    render(env)\n",
    "    episode_reward = 0\n",
    "\n",
    "    prev_s = zeros(prod(xsize))\n",
    "    while true\n",
    "        curr_s = preprocess(state)\n",
    "        s = curr_s .- prev_s\n",
    "        prev_s = curr_s\n",
    "\n",
    "        p, V = predict(w, s)\n",
    "        p = softmax(p, dims=1)\n",
    "        action = sample_action(p)\n",
    "        state, reward, done, info = Gym.step!(env, amap[action]) \n",
    "        \n",
    "        render(env)\n",
    "        sleep(0.05)    \n",
    "        episode_reward += reward\n",
    "        done && break\n",
    "    end\n",
    "      \n",
    "    println(\"Episode:$episode, Reward:$episode_reward\")\n",
    "end\n",
    "Gym.close!(env)\n",
    " \n",
    "    "
   ]
  },
  {
   "cell_type": "code",
   "execution_count": null,
   "metadata": {},
   "outputs": [],
   "source": []
  }
 ],
 "metadata": {
  "kernelspec": {
   "display_name": "Julia 1.2.0",
   "language": "julia",
   "name": "julia-1.2"
  },
  "language_info": {
   "file_extension": ".jl",
   "mimetype": "application/julia",
   "name": "julia",
   "version": "1.2.0"
  }
 },
 "nbformat": 4,
 "nbformat_minor": 4
}
